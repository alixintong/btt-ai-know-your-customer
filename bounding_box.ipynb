{
  "nbformat": 4,
  "nbformat_minor": 0,
  "metadata": {
    "colab": {
      "provenance": [],
      "include_colab_link": true
    },
    "kernelspec": {
      "name": "python3",
      "display_name": "Python 3"
    },
    "language_info": {
      "name": "python"
    }
  },
  "cells": [
    {
      "cell_type": "markdown",
      "metadata": {
        "id": "view-in-github",
        "colab_type": "text"
      },
      "source": [
        "<a href=\"https://colab.research.google.com/github/alixintong/btt-ai-know-your-customer/blob/jess/bounding_box.ipynb\" target=\"_parent\"><img src=\"https://colab.research.google.com/assets/colab-badge.svg\" alt=\"Open In Colab\"/></a>"
      ]
    },
    {
      "cell_type": "code",
      "execution_count": null,
      "metadata": {
        "colab": {
          "base_uri": "https://localhost:8080/"
        },
        "id": "nfTK0SJKP453",
        "outputId": "3d427943-3ee5-4e85-8803-34fe2d86ae22"
      },
      "outputs": [
        {
          "output_type": "stream",
          "name": "stdout",
          "text": [
            "Mounted at /content/drive\n"
          ]
        }
      ],
      "source": [
        "# this cell allows access to our folder\n",
        "\n",
        "from google.colab import drive\n",
        "drive.mount('/content/drive', force_remount=True)\n",
        "root_path = '/content/gdrive/MyDrive/BTTAI_AmericanExpress1'"
      ]
    },
    {
      "cell_type": "code",
      "source": [
        "# cell for imports - add as needed\n",
        "import torch \n",
        "import cv2\n",
        "import numpy as np \n",
        "import pandas as pd\n",
        "import os, os.path\n",
        "import re\n",
        "from fastai.vision.all import *"
      ],
      "metadata": {
        "id": "rzhF26QIP-1N"
      },
      "execution_count": null,
      "outputs": []
    },
    {
      "cell_type": "code",
      "source": [
        "# for reference\n",
        "#   - fastai segmentation: https://walkwithfastai.com/Segmentation\n",
        "#   - fastai object detection: https://walkwithfastai.com/Object_Detection"
      ],
      "metadata": {
        "id": "Z5SW5aXtQIdT"
      },
      "execution_count": null,
      "outputs": []
    },
    {
      "cell_type": "code",
      "source": [
        "path = '/content/drive/MyDrive/BTTAI_AmericanExpress1/datasets/sampleDataset/frames'\n",
        "\n",
        "files = get_image_files(path + \"/datasheet001_frames\")\n",
        "len(files)"
      ],
      "metadata": {
        "id": "EmndRe_0Rrs5",
        "outputId": "d5625b98-2c41-4479-ad9f-b5d9cf1c71d2",
        "colab": {
          "base_uri": "https://localhost:8080/"
        }
      },
      "execution_count": null,
      "outputs": [
        {
          "output_type": "execute_result",
          "data": {
            "text/plain": [
              "214"
            ]
          },
          "metadata": {},
          "execution_count": 4
        }
      ]
    },
    {
      "cell_type": "code",
      "source": [],
      "metadata": {
        "id": "RC-dWi8ORszo"
      },
      "execution_count": null,
      "outputs": []
    }
  ]
}