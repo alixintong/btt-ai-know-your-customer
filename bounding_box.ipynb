{
  "nbformat": 4,
  "nbformat_minor": 0,
  "metadata": {
    "colab": {
      "provenance": [],
      "collapsed_sections": [],
      "include_colab_link": true
    },
    "kernelspec": {
      "name": "python3",
      "display_name": "Python 3"
    },
    "language_info": {
      "name": "python"
    },
    "accelerator": "GPU"
  },
  "cells": [
    {
      "cell_type": "markdown",
      "metadata": {
        "id": "view-in-github",
        "colab_type": "text"
      },
      "source": [
        "<a href=\"https://colab.research.google.com/github/alixintong/btt-ai-know-your-customer/blob/jess/bounding_box.ipynb\" target=\"_parent\"><img src=\"https://colab.research.google.com/assets/colab-badge.svg\" alt=\"Open In Colab\"/></a>"
      ]
    },
    {
      "cell_type": "code",
      "execution_count": 1,
      "metadata": {
        "colab": {
          "base_uri": "https://localhost:8080/"
        },
        "id": "nfTK0SJKP453",
        "outputId": "8b59f557-79c0-4982-9695-7b490569af30"
      },
      "outputs": [
        {
          "output_type": "stream",
          "name": "stdout",
          "text": [
            "Mounted at /content/drive\n"
          ]
        }
      ],
      "source": [
        "# this cell allows access to our folder\n",
        "\n",
        "from google.colab import drive\n",
        "drive.mount('/content/drive', force_remount=True)\n",
        "root_path = '/content/gdrive/MyDrive/BTTAI_AmericanExpress1'"
      ]
    },
    {
      "cell_type": "markdown",
      "source": [
        "## For datasheet frames"
      ],
      "metadata": {
        "id": "6JE7hMdNjQZE"
      }
    },
    {
      "cell_type": "code",
      "source": [
        "# cell for imports - add as needed\n",
        "import torch \n",
        "import cv2\n",
        "import numpy as np \n",
        "import pandas as pd\n",
        "import os, os.path\n",
        "import re\n",
        "from fastai.vision.all import *"
      ],
      "metadata": {
        "id": "rzhF26QIP-1N"
      },
      "execution_count": 2,
      "outputs": []
    },
    {
      "cell_type": "code",
      "source": [
        "X = np.random.rand(3,2)"
      ],
      "metadata": {
        "id": "k51XNpzeeTcO"
      },
      "execution_count": 3,
      "outputs": []
    },
    {
      "cell_type": "code",
      "source": [
        "X.reshape(-1,1)"
      ],
      "metadata": {
        "colab": {
          "base_uri": "https://localhost:8080/"
        },
        "id": "tkvk8Lg_g0b_",
        "outputId": "a633a919-4e71-4e62-ebda-2d2f7c35daa6"
      },
      "execution_count": 4,
      "outputs": [
        {
          "output_type": "execute_result",
          "data": {
            "text/plain": [
              "array([[0.93364955],\n",
              "       [0.28946146],\n",
              "       [0.32261527],\n",
              "       [0.46534641],\n",
              "       [0.71861629],\n",
              "       [0.87055824]])"
            ]
          },
          "metadata": {},
          "execution_count": 4
        }
      ]
    },
    {
      "cell_type": "code",
      "source": [
        "# for reference\n",
        "#   - fastai segmentation: https://walkwithfastai.com/Segmentation\n",
        "#   - fastai object detection: https://walkwithfastai.com/Object_Detection"
      ],
      "metadata": {
        "id": "Z5SW5aXtQIdT"
      },
      "execution_count": 5,
      "outputs": []
    },
    {
      "cell_type": "markdown",
      "source": [
        "### Data"
      ],
      "metadata": {
        "id": "uO9VBxweRpoV"
      }
    },
    {
      "cell_type": "code",
      "source": [
        "path = '/content/drive/MyDrive/BTTAI_AmericanExpress1/datasets/sampleDataset/frames'\n",
        "\n",
        "files = get_image_files(path + \"/datasheet001_frames\")\n",
        "len(files)"
      ],
      "metadata": {
        "id": "EmndRe_0Rrs5",
        "outputId": "2aab8717-5009-48db-9b50-5f93c2f13eb1",
        "colab": {
          "base_uri": "https://localhost:8080/"
        }
      },
      "execution_count": 6,
      "outputs": [
        {
          "output_type": "execute_result",
          "data": {
            "text/plain": [
              "214"
            ]
          },
          "metadata": {},
          "execution_count": 6
        }
      ]
    },
    {
      "cell_type": "code",
      "source": [
        "# import bounding box datasheet csv\n",
        "# use datasheet001 as csv instead of xml\n",
        "url='https://drive.google.com/file/d/1lUoBf1rwPXPlI9Zg2lDzwV4ODtsGJ4u2/view?usp=sharing'\n",
        "url='https://drive.google.com/uc?id=' + url.split('/')[-2]\n",
        "df = pd.read_csv(url)\n",
        "df.head()"
      ],
      "metadata": {
        "id": "RC-dWi8ORszo",
        "colab": {
          "base_uri": "https://localhost:8080/",
          "height": 270
        },
        "outputId": "5c1d5b54-129c-4dd2-cdb8-1031448a73d0"
      },
      "execution_count": 7,
      "outputs": [
        {
          "output_type": "execute_result",
          "data": {
            "text/plain": [
              "  point/0/_name  point/0/_x  point/0/_y point/1/_name  point/1/_x  point/1/_y  \\\n",
              "0            bl     716.625     805.609            tl     737.377     201.383   \n",
              "1            bl     714.326     806.309            tl     736.330     202.300   \n",
              "2            bl     713.031     804.811            tl     734.431     201.449   \n",
              "3            bl     713.845     802.659            tl     734.423     198.474   \n",
              "4            bl     713.088     802.830            tl     734.675     195.678   \n",
              "\n",
              "  point/2/_name  point/2/_x  point/2/_y point/3/_name  point/3/_x  point/3/_y  \\\n",
              "0            tr     1180.71     199.127            br     1259.02     791.942   \n",
              "1            tr     1179.74     200.028            br     1257.21     792.161   \n",
              "2            tr     1177.81     199.795            br     1255.42     791.291   \n",
              "3            tr     1177.79     196.852            br     1256.72     789.631   \n",
              "4            tr     1179.99     194.057            br     1259.35     790.289   \n",
              "\n",
              "   _index  _rejected  \n",
              "0       1      False  \n",
              "1       2      False  \n",
              "2       3      False  \n",
              "3       4      False  \n",
              "4       5      False  "
            ],
            "text/html": [
              "\n",
              "  <div id=\"df-84a48bb5-0db9-4d64-98cb-3415db484c84\">\n",
              "    <div class=\"colab-df-container\">\n",
              "      <div>\n",
              "<style scoped>\n",
              "    .dataframe tbody tr th:only-of-type {\n",
              "        vertical-align: middle;\n",
              "    }\n",
              "\n",
              "    .dataframe tbody tr th {\n",
              "        vertical-align: top;\n",
              "    }\n",
              "\n",
              "    .dataframe thead th {\n",
              "        text-align: right;\n",
              "    }\n",
              "</style>\n",
              "<table border=\"1\" class=\"dataframe\">\n",
              "  <thead>\n",
              "    <tr style=\"text-align: right;\">\n",
              "      <th></th>\n",
              "      <th>point/0/_name</th>\n",
              "      <th>point/0/_x</th>\n",
              "      <th>point/0/_y</th>\n",
              "      <th>point/1/_name</th>\n",
              "      <th>point/1/_x</th>\n",
              "      <th>point/1/_y</th>\n",
              "      <th>point/2/_name</th>\n",
              "      <th>point/2/_x</th>\n",
              "      <th>point/2/_y</th>\n",
              "      <th>point/3/_name</th>\n",
              "      <th>point/3/_x</th>\n",
              "      <th>point/3/_y</th>\n",
              "      <th>_index</th>\n",
              "      <th>_rejected</th>\n",
              "    </tr>\n",
              "  </thead>\n",
              "  <tbody>\n",
              "    <tr>\n",
              "      <th>0</th>\n",
              "      <td>bl</td>\n",
              "      <td>716.625</td>\n",
              "      <td>805.609</td>\n",
              "      <td>tl</td>\n",
              "      <td>737.377</td>\n",
              "      <td>201.383</td>\n",
              "      <td>tr</td>\n",
              "      <td>1180.71</td>\n",
              "      <td>199.127</td>\n",
              "      <td>br</td>\n",
              "      <td>1259.02</td>\n",
              "      <td>791.942</td>\n",
              "      <td>1</td>\n",
              "      <td>False</td>\n",
              "    </tr>\n",
              "    <tr>\n",
              "      <th>1</th>\n",
              "      <td>bl</td>\n",
              "      <td>714.326</td>\n",
              "      <td>806.309</td>\n",
              "      <td>tl</td>\n",
              "      <td>736.330</td>\n",
              "      <td>202.300</td>\n",
              "      <td>tr</td>\n",
              "      <td>1179.74</td>\n",
              "      <td>200.028</td>\n",
              "      <td>br</td>\n",
              "      <td>1257.21</td>\n",
              "      <td>792.161</td>\n",
              "      <td>2</td>\n",
              "      <td>False</td>\n",
              "    </tr>\n",
              "    <tr>\n",
              "      <th>2</th>\n",
              "      <td>bl</td>\n",
              "      <td>713.031</td>\n",
              "      <td>804.811</td>\n",
              "      <td>tl</td>\n",
              "      <td>734.431</td>\n",
              "      <td>201.449</td>\n",
              "      <td>tr</td>\n",
              "      <td>1177.81</td>\n",
              "      <td>199.795</td>\n",
              "      <td>br</td>\n",
              "      <td>1255.42</td>\n",
              "      <td>791.291</td>\n",
              "      <td>3</td>\n",
              "      <td>False</td>\n",
              "    </tr>\n",
              "    <tr>\n",
              "      <th>3</th>\n",
              "      <td>bl</td>\n",
              "      <td>713.845</td>\n",
              "      <td>802.659</td>\n",
              "      <td>tl</td>\n",
              "      <td>734.423</td>\n",
              "      <td>198.474</td>\n",
              "      <td>tr</td>\n",
              "      <td>1177.79</td>\n",
              "      <td>196.852</td>\n",
              "      <td>br</td>\n",
              "      <td>1256.72</td>\n",
              "      <td>789.631</td>\n",
              "      <td>4</td>\n",
              "      <td>False</td>\n",
              "    </tr>\n",
              "    <tr>\n",
              "      <th>4</th>\n",
              "      <td>bl</td>\n",
              "      <td>713.088</td>\n",
              "      <td>802.830</td>\n",
              "      <td>tl</td>\n",
              "      <td>734.675</td>\n",
              "      <td>195.678</td>\n",
              "      <td>tr</td>\n",
              "      <td>1179.99</td>\n",
              "      <td>194.057</td>\n",
              "      <td>br</td>\n",
              "      <td>1259.35</td>\n",
              "      <td>790.289</td>\n",
              "      <td>5</td>\n",
              "      <td>False</td>\n",
              "    </tr>\n",
              "  </tbody>\n",
              "</table>\n",
              "</div>\n",
              "      <button class=\"colab-df-convert\" onclick=\"convertToInteractive('df-84a48bb5-0db9-4d64-98cb-3415db484c84')\"\n",
              "              title=\"Convert this dataframe to an interactive table.\"\n",
              "              style=\"display:none;\">\n",
              "        \n",
              "  <svg xmlns=\"http://www.w3.org/2000/svg\" height=\"24px\"viewBox=\"0 0 24 24\"\n",
              "       width=\"24px\">\n",
              "    <path d=\"M0 0h24v24H0V0z\" fill=\"none\"/>\n",
              "    <path d=\"M18.56 5.44l.94 2.06.94-2.06 2.06-.94-2.06-.94-.94-2.06-.94 2.06-2.06.94zm-11 1L8.5 8.5l.94-2.06 2.06-.94-2.06-.94L8.5 2.5l-.94 2.06-2.06.94zm10 10l.94 2.06.94-2.06 2.06-.94-2.06-.94-.94-2.06-.94 2.06-2.06.94z\"/><path d=\"M17.41 7.96l-1.37-1.37c-.4-.4-.92-.59-1.43-.59-.52 0-1.04.2-1.43.59L10.3 9.45l-7.72 7.72c-.78.78-.78 2.05 0 2.83L4 21.41c.39.39.9.59 1.41.59.51 0 1.02-.2 1.41-.59l7.78-7.78 2.81-2.81c.8-.78.8-2.07 0-2.86zM5.41 20L4 18.59l7.72-7.72 1.47 1.35L5.41 20z\"/>\n",
              "  </svg>\n",
              "      </button>\n",
              "      \n",
              "  <style>\n",
              "    .colab-df-container {\n",
              "      display:flex;\n",
              "      flex-wrap:wrap;\n",
              "      gap: 12px;\n",
              "    }\n",
              "\n",
              "    .colab-df-convert {\n",
              "      background-color: #E8F0FE;\n",
              "      border: none;\n",
              "      border-radius: 50%;\n",
              "      cursor: pointer;\n",
              "      display: none;\n",
              "      fill: #1967D2;\n",
              "      height: 32px;\n",
              "      padding: 0 0 0 0;\n",
              "      width: 32px;\n",
              "    }\n",
              "\n",
              "    .colab-df-convert:hover {\n",
              "      background-color: #E2EBFA;\n",
              "      box-shadow: 0px 1px 2px rgba(60, 64, 67, 0.3), 0px 1px 3px 1px rgba(60, 64, 67, 0.15);\n",
              "      fill: #174EA6;\n",
              "    }\n",
              "\n",
              "    [theme=dark] .colab-df-convert {\n",
              "      background-color: #3B4455;\n",
              "      fill: #D2E3FC;\n",
              "    }\n",
              "\n",
              "    [theme=dark] .colab-df-convert:hover {\n",
              "      background-color: #434B5C;\n",
              "      box-shadow: 0px 1px 3px 1px rgba(0, 0, 0, 0.15);\n",
              "      filter: drop-shadow(0px 1px 2px rgba(0, 0, 0, 0.3));\n",
              "      fill: #FFFFFF;\n",
              "    }\n",
              "  </style>\n",
              "\n",
              "      <script>\n",
              "        const buttonEl =\n",
              "          document.querySelector('#df-84a48bb5-0db9-4d64-98cb-3415db484c84 button.colab-df-convert');\n",
              "        buttonEl.style.display =\n",
              "          google.colab.kernel.accessAllowed ? 'block' : 'none';\n",
              "\n",
              "        async function convertToInteractive(key) {\n",
              "          const element = document.querySelector('#df-84a48bb5-0db9-4d64-98cb-3415db484c84');\n",
              "          const dataTable =\n",
              "            await google.colab.kernel.invokeFunction('convertToInteractive',\n",
              "                                                     [key], {});\n",
              "          if (!dataTable) return;\n",
              "\n",
              "          const docLinkHtml = 'Like what you see? Visit the ' +\n",
              "            '<a target=\"_blank\" href=https://colab.research.google.com/notebooks/data_table.ipynb>data table notebook</a>'\n",
              "            + ' to learn more about interactive tables.';\n",
              "          element.innerHTML = '';\n",
              "          dataTable['output_type'] = 'display_data';\n",
              "          await google.colab.output.renderOutput(dataTable, element);\n",
              "          const docLink = document.createElement('div');\n",
              "          docLink.innerHTML = docLinkHtml;\n",
              "          element.appendChild(docLink);\n",
              "        }\n",
              "      </script>\n",
              "    </div>\n",
              "  </div>\n",
              "  "
            ]
          },
          "metadata": {},
          "execution_count": 7
        }
      ]
    },
    {
      "cell_type": "code",
      "source": [
        "df[\"document\"] = df[\"_rejected\"].apply(lambda x: not x)"
      ],
      "metadata": {
        "id": "5ZL4apx1TQwQ"
      },
      "execution_count": 8,
      "outputs": []
    },
    {
      "cell_type": "code",
      "source": [
        "df = df.drop('_rejected', axis = 1)\n",
        "df.head()"
      ],
      "metadata": {
        "colab": {
          "base_uri": "https://localhost:8080/",
          "height": 270
        },
        "id": "pPrF2VDIiPK_",
        "outputId": "5cf4b38f-adb1-4f93-b923-68d310fe67c4"
      },
      "execution_count": 9,
      "outputs": [
        {
          "output_type": "execute_result",
          "data": {
            "text/plain": [
              "  point/0/_name  point/0/_x  point/0/_y point/1/_name  point/1/_x  point/1/_y  \\\n",
              "0            bl     716.625     805.609            tl     737.377     201.383   \n",
              "1            bl     714.326     806.309            tl     736.330     202.300   \n",
              "2            bl     713.031     804.811            tl     734.431     201.449   \n",
              "3            bl     713.845     802.659            tl     734.423     198.474   \n",
              "4            bl     713.088     802.830            tl     734.675     195.678   \n",
              "\n",
              "  point/2/_name  point/2/_x  point/2/_y point/3/_name  point/3/_x  point/3/_y  \\\n",
              "0            tr     1180.71     199.127            br     1259.02     791.942   \n",
              "1            tr     1179.74     200.028            br     1257.21     792.161   \n",
              "2            tr     1177.81     199.795            br     1255.42     791.291   \n",
              "3            tr     1177.79     196.852            br     1256.72     789.631   \n",
              "4            tr     1179.99     194.057            br     1259.35     790.289   \n",
              "\n",
              "   _index  document  \n",
              "0       1      True  \n",
              "1       2      True  \n",
              "2       3      True  \n",
              "3       4      True  \n",
              "4       5      True  "
            ],
            "text/html": [
              "\n",
              "  <div id=\"df-d49aab07-6728-4c07-8132-d15693683f23\">\n",
              "    <div class=\"colab-df-container\">\n",
              "      <div>\n",
              "<style scoped>\n",
              "    .dataframe tbody tr th:only-of-type {\n",
              "        vertical-align: middle;\n",
              "    }\n",
              "\n",
              "    .dataframe tbody tr th {\n",
              "        vertical-align: top;\n",
              "    }\n",
              "\n",
              "    .dataframe thead th {\n",
              "        text-align: right;\n",
              "    }\n",
              "</style>\n",
              "<table border=\"1\" class=\"dataframe\">\n",
              "  <thead>\n",
              "    <tr style=\"text-align: right;\">\n",
              "      <th></th>\n",
              "      <th>point/0/_name</th>\n",
              "      <th>point/0/_x</th>\n",
              "      <th>point/0/_y</th>\n",
              "      <th>point/1/_name</th>\n",
              "      <th>point/1/_x</th>\n",
              "      <th>point/1/_y</th>\n",
              "      <th>point/2/_name</th>\n",
              "      <th>point/2/_x</th>\n",
              "      <th>point/2/_y</th>\n",
              "      <th>point/3/_name</th>\n",
              "      <th>point/3/_x</th>\n",
              "      <th>point/3/_y</th>\n",
              "      <th>_index</th>\n",
              "      <th>document</th>\n",
              "    </tr>\n",
              "  </thead>\n",
              "  <tbody>\n",
              "    <tr>\n",
              "      <th>0</th>\n",
              "      <td>bl</td>\n",
              "      <td>716.625</td>\n",
              "      <td>805.609</td>\n",
              "      <td>tl</td>\n",
              "      <td>737.377</td>\n",
              "      <td>201.383</td>\n",
              "      <td>tr</td>\n",
              "      <td>1180.71</td>\n",
              "      <td>199.127</td>\n",
              "      <td>br</td>\n",
              "      <td>1259.02</td>\n",
              "      <td>791.942</td>\n",
              "      <td>1</td>\n",
              "      <td>True</td>\n",
              "    </tr>\n",
              "    <tr>\n",
              "      <th>1</th>\n",
              "      <td>bl</td>\n",
              "      <td>714.326</td>\n",
              "      <td>806.309</td>\n",
              "      <td>tl</td>\n",
              "      <td>736.330</td>\n",
              "      <td>202.300</td>\n",
              "      <td>tr</td>\n",
              "      <td>1179.74</td>\n",
              "      <td>200.028</td>\n",
              "      <td>br</td>\n",
              "      <td>1257.21</td>\n",
              "      <td>792.161</td>\n",
              "      <td>2</td>\n",
              "      <td>True</td>\n",
              "    </tr>\n",
              "    <tr>\n",
              "      <th>2</th>\n",
              "      <td>bl</td>\n",
              "      <td>713.031</td>\n",
              "      <td>804.811</td>\n",
              "      <td>tl</td>\n",
              "      <td>734.431</td>\n",
              "      <td>201.449</td>\n",
              "      <td>tr</td>\n",
              "      <td>1177.81</td>\n",
              "      <td>199.795</td>\n",
              "      <td>br</td>\n",
              "      <td>1255.42</td>\n",
              "      <td>791.291</td>\n",
              "      <td>3</td>\n",
              "      <td>True</td>\n",
              "    </tr>\n",
              "    <tr>\n",
              "      <th>3</th>\n",
              "      <td>bl</td>\n",
              "      <td>713.845</td>\n",
              "      <td>802.659</td>\n",
              "      <td>tl</td>\n",
              "      <td>734.423</td>\n",
              "      <td>198.474</td>\n",
              "      <td>tr</td>\n",
              "      <td>1177.79</td>\n",
              "      <td>196.852</td>\n",
              "      <td>br</td>\n",
              "      <td>1256.72</td>\n",
              "      <td>789.631</td>\n",
              "      <td>4</td>\n",
              "      <td>True</td>\n",
              "    </tr>\n",
              "    <tr>\n",
              "      <th>4</th>\n",
              "      <td>bl</td>\n",
              "      <td>713.088</td>\n",
              "      <td>802.830</td>\n",
              "      <td>tl</td>\n",
              "      <td>734.675</td>\n",
              "      <td>195.678</td>\n",
              "      <td>tr</td>\n",
              "      <td>1179.99</td>\n",
              "      <td>194.057</td>\n",
              "      <td>br</td>\n",
              "      <td>1259.35</td>\n",
              "      <td>790.289</td>\n",
              "      <td>5</td>\n",
              "      <td>True</td>\n",
              "    </tr>\n",
              "  </tbody>\n",
              "</table>\n",
              "</div>\n",
              "      <button class=\"colab-df-convert\" onclick=\"convertToInteractive('df-d49aab07-6728-4c07-8132-d15693683f23')\"\n",
              "              title=\"Convert this dataframe to an interactive table.\"\n",
              "              style=\"display:none;\">\n",
              "        \n",
              "  <svg xmlns=\"http://www.w3.org/2000/svg\" height=\"24px\"viewBox=\"0 0 24 24\"\n",
              "       width=\"24px\">\n",
              "    <path d=\"M0 0h24v24H0V0z\" fill=\"none\"/>\n",
              "    <path d=\"M18.56 5.44l.94 2.06.94-2.06 2.06-.94-2.06-.94-.94-2.06-.94 2.06-2.06.94zm-11 1L8.5 8.5l.94-2.06 2.06-.94-2.06-.94L8.5 2.5l-.94 2.06-2.06.94zm10 10l.94 2.06.94-2.06 2.06-.94-2.06-.94-.94-2.06-.94 2.06-2.06.94z\"/><path d=\"M17.41 7.96l-1.37-1.37c-.4-.4-.92-.59-1.43-.59-.52 0-1.04.2-1.43.59L10.3 9.45l-7.72 7.72c-.78.78-.78 2.05 0 2.83L4 21.41c.39.39.9.59 1.41.59.51 0 1.02-.2 1.41-.59l7.78-7.78 2.81-2.81c.8-.78.8-2.07 0-2.86zM5.41 20L4 18.59l7.72-7.72 1.47 1.35L5.41 20z\"/>\n",
              "  </svg>\n",
              "      </button>\n",
              "      \n",
              "  <style>\n",
              "    .colab-df-container {\n",
              "      display:flex;\n",
              "      flex-wrap:wrap;\n",
              "      gap: 12px;\n",
              "    }\n",
              "\n",
              "    .colab-df-convert {\n",
              "      background-color: #E8F0FE;\n",
              "      border: none;\n",
              "      border-radius: 50%;\n",
              "      cursor: pointer;\n",
              "      display: none;\n",
              "      fill: #1967D2;\n",
              "      height: 32px;\n",
              "      padding: 0 0 0 0;\n",
              "      width: 32px;\n",
              "    }\n",
              "\n",
              "    .colab-df-convert:hover {\n",
              "      background-color: #E2EBFA;\n",
              "      box-shadow: 0px 1px 2px rgba(60, 64, 67, 0.3), 0px 1px 3px 1px rgba(60, 64, 67, 0.15);\n",
              "      fill: #174EA6;\n",
              "    }\n",
              "\n",
              "    [theme=dark] .colab-df-convert {\n",
              "      background-color: #3B4455;\n",
              "      fill: #D2E3FC;\n",
              "    }\n",
              "\n",
              "    [theme=dark] .colab-df-convert:hover {\n",
              "      background-color: #434B5C;\n",
              "      box-shadow: 0px 1px 3px 1px rgba(0, 0, 0, 0.15);\n",
              "      filter: drop-shadow(0px 1px 2px rgba(0, 0, 0, 0.3));\n",
              "      fill: #FFFFFF;\n",
              "    }\n",
              "  </style>\n",
              "\n",
              "      <script>\n",
              "        const buttonEl =\n",
              "          document.querySelector('#df-d49aab07-6728-4c07-8132-d15693683f23 button.colab-df-convert');\n",
              "        buttonEl.style.display =\n",
              "          google.colab.kernel.accessAllowed ? 'block' : 'none';\n",
              "\n",
              "        async function convertToInteractive(key) {\n",
              "          const element = document.querySelector('#df-d49aab07-6728-4c07-8132-d15693683f23');\n",
              "          const dataTable =\n",
              "            await google.colab.kernel.invokeFunction('convertToInteractive',\n",
              "                                                     [key], {});\n",
              "          if (!dataTable) return;\n",
              "\n",
              "          const docLinkHtml = 'Like what you see? Visit the ' +\n",
              "            '<a target=\"_blank\" href=https://colab.research.google.com/notebooks/data_table.ipynb>data table notebook</a>'\n",
              "            + ' to learn more about interactive tables.';\n",
              "          element.innerHTML = '';\n",
              "          dataTable['output_type'] = 'display_data';\n",
              "          await google.colab.output.renderOutput(dataTable, element);\n",
              "          const docLink = document.createElement('div');\n",
              "          docLink.innerHTML = docLinkHtml;\n",
              "          element.appendChild(docLink);\n",
              "        }\n",
              "      </script>\n",
              "    </div>\n",
              "  </div>\n",
              "  "
            ]
          },
          "metadata": {},
          "execution_count": 9
        }
      ]
    },
    {
      "cell_type": "code",
      "source": [
        "def get_coordinates(row_data):\n",
        "  x1 = min(row_data[1], row_data[4], row_data[7], row_data[10])\n",
        "  y1 = min(row_data[2], row_data[5], row_data[8], row_data[11])\n",
        "  x2 = max(row_data[1], row_data[4], row_data[7], row_data[10])\n",
        "  y2 = max(row_data[2], row_data[5], row_data[8], row_data[11])\n",
        "  bb_cd = [x1, y1, x2, y2] \n",
        "  return bb_cd"
      ],
      "metadata": {
        "id": "xq2jptDl0Owc"
      },
      "execution_count": 10,
      "outputs": []
    },
    {
      "cell_type": "code",
      "source": [
        "bb = []\n",
        "bb.append(df.apply(lambda row: get_coordinates(row), axis = 1))"
      ],
      "metadata": {
        "id": "Xf38ntObkKcN"
      },
      "execution_count": 11,
      "outputs": []
    },
    {
      "cell_type": "code",
      "source": [
        "bb = np.array(bb)\n",
        "bb = bb.flatten()"
      ],
      "metadata": {
        "id": "eJ-uEjD1msQg"
      },
      "execution_count": 12,
      "outputs": []
    },
    {
      "cell_type": "code",
      "source": [
        "bb = list(bb)"
      ],
      "metadata": {
        "id": "WAzWHUQ_luWn"
      },
      "execution_count": 13,
      "outputs": []
    },
    {
      "cell_type": "code",
      "source": [
        "df_bb = pd.DataFrame(data=bb, columns=['x1', 'y1', 'x2', 'y2'])"
      ],
      "metadata": {
        "id": "VVWs6EHTSw2d"
      },
      "execution_count": 14,
      "outputs": []
    },
    {
      "cell_type": "code",
      "source": [
        "df_bb.head()"
      ],
      "metadata": {
        "colab": {
          "base_uri": "https://localhost:8080/",
          "height": 206
        },
        "id": "CN_6vNr8l7aE",
        "outputId": "4bdd388b-646e-4bbd-8da0-14785bb84400"
      },
      "execution_count": 15,
      "outputs": [
        {
          "output_type": "execute_result",
          "data": {
            "text/plain": [
              "        x1       y1       x2       y2\n",
              "0  716.625  199.127  1259.02  805.609\n",
              "1  714.326  200.028  1257.21  806.309\n",
              "2  713.031  199.795  1255.42  804.811\n",
              "3  713.845  196.852  1256.72  802.659\n",
              "4  713.088  194.057  1259.35  802.830"
            ],
            "text/html": [
              "\n",
              "  <div id=\"df-e3284672-e99b-46c3-8088-9617c203be46\">\n",
              "    <div class=\"colab-df-container\">\n",
              "      <div>\n",
              "<style scoped>\n",
              "    .dataframe tbody tr th:only-of-type {\n",
              "        vertical-align: middle;\n",
              "    }\n",
              "\n",
              "    .dataframe tbody tr th {\n",
              "        vertical-align: top;\n",
              "    }\n",
              "\n",
              "    .dataframe thead th {\n",
              "        text-align: right;\n",
              "    }\n",
              "</style>\n",
              "<table border=\"1\" class=\"dataframe\">\n",
              "  <thead>\n",
              "    <tr style=\"text-align: right;\">\n",
              "      <th></th>\n",
              "      <th>x1</th>\n",
              "      <th>y1</th>\n",
              "      <th>x2</th>\n",
              "      <th>y2</th>\n",
              "    </tr>\n",
              "  </thead>\n",
              "  <tbody>\n",
              "    <tr>\n",
              "      <th>0</th>\n",
              "      <td>716.625</td>\n",
              "      <td>199.127</td>\n",
              "      <td>1259.02</td>\n",
              "      <td>805.609</td>\n",
              "    </tr>\n",
              "    <tr>\n",
              "      <th>1</th>\n",
              "      <td>714.326</td>\n",
              "      <td>200.028</td>\n",
              "      <td>1257.21</td>\n",
              "      <td>806.309</td>\n",
              "    </tr>\n",
              "    <tr>\n",
              "      <th>2</th>\n",
              "      <td>713.031</td>\n",
              "      <td>199.795</td>\n",
              "      <td>1255.42</td>\n",
              "      <td>804.811</td>\n",
              "    </tr>\n",
              "    <tr>\n",
              "      <th>3</th>\n",
              "      <td>713.845</td>\n",
              "      <td>196.852</td>\n",
              "      <td>1256.72</td>\n",
              "      <td>802.659</td>\n",
              "    </tr>\n",
              "    <tr>\n",
              "      <th>4</th>\n",
              "      <td>713.088</td>\n",
              "      <td>194.057</td>\n",
              "      <td>1259.35</td>\n",
              "      <td>802.830</td>\n",
              "    </tr>\n",
              "  </tbody>\n",
              "</table>\n",
              "</div>\n",
              "      <button class=\"colab-df-convert\" onclick=\"convertToInteractive('df-e3284672-e99b-46c3-8088-9617c203be46')\"\n",
              "              title=\"Convert this dataframe to an interactive table.\"\n",
              "              style=\"display:none;\">\n",
              "        \n",
              "  <svg xmlns=\"http://www.w3.org/2000/svg\" height=\"24px\"viewBox=\"0 0 24 24\"\n",
              "       width=\"24px\">\n",
              "    <path d=\"M0 0h24v24H0V0z\" fill=\"none\"/>\n",
              "    <path d=\"M18.56 5.44l.94 2.06.94-2.06 2.06-.94-2.06-.94-.94-2.06-.94 2.06-2.06.94zm-11 1L8.5 8.5l.94-2.06 2.06-.94-2.06-.94L8.5 2.5l-.94 2.06-2.06.94zm10 10l.94 2.06.94-2.06 2.06-.94-2.06-.94-.94-2.06-.94 2.06-2.06.94z\"/><path d=\"M17.41 7.96l-1.37-1.37c-.4-.4-.92-.59-1.43-.59-.52 0-1.04.2-1.43.59L10.3 9.45l-7.72 7.72c-.78.78-.78 2.05 0 2.83L4 21.41c.39.39.9.59 1.41.59.51 0 1.02-.2 1.41-.59l7.78-7.78 2.81-2.81c.8-.78.8-2.07 0-2.86zM5.41 20L4 18.59l7.72-7.72 1.47 1.35L5.41 20z\"/>\n",
              "  </svg>\n",
              "      </button>\n",
              "      \n",
              "  <style>\n",
              "    .colab-df-container {\n",
              "      display:flex;\n",
              "      flex-wrap:wrap;\n",
              "      gap: 12px;\n",
              "    }\n",
              "\n",
              "    .colab-df-convert {\n",
              "      background-color: #E8F0FE;\n",
              "      border: none;\n",
              "      border-radius: 50%;\n",
              "      cursor: pointer;\n",
              "      display: none;\n",
              "      fill: #1967D2;\n",
              "      height: 32px;\n",
              "      padding: 0 0 0 0;\n",
              "      width: 32px;\n",
              "    }\n",
              "\n",
              "    .colab-df-convert:hover {\n",
              "      background-color: #E2EBFA;\n",
              "      box-shadow: 0px 1px 2px rgba(60, 64, 67, 0.3), 0px 1px 3px 1px rgba(60, 64, 67, 0.15);\n",
              "      fill: #174EA6;\n",
              "    }\n",
              "\n",
              "    [theme=dark] .colab-df-convert {\n",
              "      background-color: #3B4455;\n",
              "      fill: #D2E3FC;\n",
              "    }\n",
              "\n",
              "    [theme=dark] .colab-df-convert:hover {\n",
              "      background-color: #434B5C;\n",
              "      box-shadow: 0px 1px 3px 1px rgba(0, 0, 0, 0.15);\n",
              "      filter: drop-shadow(0px 1px 2px rgba(0, 0, 0, 0.3));\n",
              "      fill: #FFFFFF;\n",
              "    }\n",
              "  </style>\n",
              "\n",
              "      <script>\n",
              "        const buttonEl =\n",
              "          document.querySelector('#df-e3284672-e99b-46c3-8088-9617c203be46 button.colab-df-convert');\n",
              "        buttonEl.style.display =\n",
              "          google.colab.kernel.accessAllowed ? 'block' : 'none';\n",
              "\n",
              "        async function convertToInteractive(key) {\n",
              "          const element = document.querySelector('#df-e3284672-e99b-46c3-8088-9617c203be46');\n",
              "          const dataTable =\n",
              "            await google.colab.kernel.invokeFunction('convertToInteractive',\n",
              "                                                     [key], {});\n",
              "          if (!dataTable) return;\n",
              "\n",
              "          const docLinkHtml = 'Like what you see? Visit the ' +\n",
              "            '<a target=\"_blank\" href=https://colab.research.google.com/notebooks/data_table.ipynb>data table notebook</a>'\n",
              "            + ' to learn more about interactive tables.';\n",
              "          element.innerHTML = '';\n",
              "          dataTable['output_type'] = 'display_data';\n",
              "          await google.colab.output.renderOutput(dataTable, element);\n",
              "          const docLink = document.createElement('div');\n",
              "          docLink.innerHTML = docLinkHtml;\n",
              "          element.appendChild(docLink);\n",
              "        }\n",
              "      </script>\n",
              "    </div>\n",
              "  </div>\n",
              "  "
            ]
          },
          "metadata": {},
          "execution_count": 15
        }
      ]
    },
    {
      "cell_type": "code",
      "source": [
        "df_bb['document'] = df['document']\n",
        "df_bb.head() # df_bb would be the labels of bounding boxes"
      ],
      "metadata": {
        "colab": {
          "base_uri": "https://localhost:8080/",
          "height": 206
        },
        "id": "ijEyvdRVmMvo",
        "outputId": "c0595743-505d-4065-dcb9-8453ef74e367"
      },
      "execution_count": 16,
      "outputs": [
        {
          "output_type": "execute_result",
          "data": {
            "text/plain": [
              "        x1       y1       x2       y2  document\n",
              "0  716.625  199.127  1259.02  805.609      True\n",
              "1  714.326  200.028  1257.21  806.309      True\n",
              "2  713.031  199.795  1255.42  804.811      True\n",
              "3  713.845  196.852  1256.72  802.659      True\n",
              "4  713.088  194.057  1259.35  802.830      True"
            ],
            "text/html": [
              "\n",
              "  <div id=\"df-08d335c3-ad42-419f-8205-325899489f6c\">\n",
              "    <div class=\"colab-df-container\">\n",
              "      <div>\n",
              "<style scoped>\n",
              "    .dataframe tbody tr th:only-of-type {\n",
              "        vertical-align: middle;\n",
              "    }\n",
              "\n",
              "    .dataframe tbody tr th {\n",
              "        vertical-align: top;\n",
              "    }\n",
              "\n",
              "    .dataframe thead th {\n",
              "        text-align: right;\n",
              "    }\n",
              "</style>\n",
              "<table border=\"1\" class=\"dataframe\">\n",
              "  <thead>\n",
              "    <tr style=\"text-align: right;\">\n",
              "      <th></th>\n",
              "      <th>x1</th>\n",
              "      <th>y1</th>\n",
              "      <th>x2</th>\n",
              "      <th>y2</th>\n",
              "      <th>document</th>\n",
              "    </tr>\n",
              "  </thead>\n",
              "  <tbody>\n",
              "    <tr>\n",
              "      <th>0</th>\n",
              "      <td>716.625</td>\n",
              "      <td>199.127</td>\n",
              "      <td>1259.02</td>\n",
              "      <td>805.609</td>\n",
              "      <td>True</td>\n",
              "    </tr>\n",
              "    <tr>\n",
              "      <th>1</th>\n",
              "      <td>714.326</td>\n",
              "      <td>200.028</td>\n",
              "      <td>1257.21</td>\n",
              "      <td>806.309</td>\n",
              "      <td>True</td>\n",
              "    </tr>\n",
              "    <tr>\n",
              "      <th>2</th>\n",
              "      <td>713.031</td>\n",
              "      <td>199.795</td>\n",
              "      <td>1255.42</td>\n",
              "      <td>804.811</td>\n",
              "      <td>True</td>\n",
              "    </tr>\n",
              "    <tr>\n",
              "      <th>3</th>\n",
              "      <td>713.845</td>\n",
              "      <td>196.852</td>\n",
              "      <td>1256.72</td>\n",
              "      <td>802.659</td>\n",
              "      <td>True</td>\n",
              "    </tr>\n",
              "    <tr>\n",
              "      <th>4</th>\n",
              "      <td>713.088</td>\n",
              "      <td>194.057</td>\n",
              "      <td>1259.35</td>\n",
              "      <td>802.830</td>\n",
              "      <td>True</td>\n",
              "    </tr>\n",
              "  </tbody>\n",
              "</table>\n",
              "</div>\n",
              "      <button class=\"colab-df-convert\" onclick=\"convertToInteractive('df-08d335c3-ad42-419f-8205-325899489f6c')\"\n",
              "              title=\"Convert this dataframe to an interactive table.\"\n",
              "              style=\"display:none;\">\n",
              "        \n",
              "  <svg xmlns=\"http://www.w3.org/2000/svg\" height=\"24px\"viewBox=\"0 0 24 24\"\n",
              "       width=\"24px\">\n",
              "    <path d=\"M0 0h24v24H0V0z\" fill=\"none\"/>\n",
              "    <path d=\"M18.56 5.44l.94 2.06.94-2.06 2.06-.94-2.06-.94-.94-2.06-.94 2.06-2.06.94zm-11 1L8.5 8.5l.94-2.06 2.06-.94-2.06-.94L8.5 2.5l-.94 2.06-2.06.94zm10 10l.94 2.06.94-2.06 2.06-.94-2.06-.94-.94-2.06-.94 2.06-2.06.94z\"/><path d=\"M17.41 7.96l-1.37-1.37c-.4-.4-.92-.59-1.43-.59-.52 0-1.04.2-1.43.59L10.3 9.45l-7.72 7.72c-.78.78-.78 2.05 0 2.83L4 21.41c.39.39.9.59 1.41.59.51 0 1.02-.2 1.41-.59l7.78-7.78 2.81-2.81c.8-.78.8-2.07 0-2.86zM5.41 20L4 18.59l7.72-7.72 1.47 1.35L5.41 20z\"/>\n",
              "  </svg>\n",
              "      </button>\n",
              "      \n",
              "  <style>\n",
              "    .colab-df-container {\n",
              "      display:flex;\n",
              "      flex-wrap:wrap;\n",
              "      gap: 12px;\n",
              "    }\n",
              "\n",
              "    .colab-df-convert {\n",
              "      background-color: #E8F0FE;\n",
              "      border: none;\n",
              "      border-radius: 50%;\n",
              "      cursor: pointer;\n",
              "      display: none;\n",
              "      fill: #1967D2;\n",
              "      height: 32px;\n",
              "      padding: 0 0 0 0;\n",
              "      width: 32px;\n",
              "    }\n",
              "\n",
              "    .colab-df-convert:hover {\n",
              "      background-color: #E2EBFA;\n",
              "      box-shadow: 0px 1px 2px rgba(60, 64, 67, 0.3), 0px 1px 3px 1px rgba(60, 64, 67, 0.15);\n",
              "      fill: #174EA6;\n",
              "    }\n",
              "\n",
              "    [theme=dark] .colab-df-convert {\n",
              "      background-color: #3B4455;\n",
              "      fill: #D2E3FC;\n",
              "    }\n",
              "\n",
              "    [theme=dark] .colab-df-convert:hover {\n",
              "      background-color: #434B5C;\n",
              "      box-shadow: 0px 1px 3px 1px rgba(0, 0, 0, 0.15);\n",
              "      filter: drop-shadow(0px 1px 2px rgba(0, 0, 0, 0.3));\n",
              "      fill: #FFFFFF;\n",
              "    }\n",
              "  </style>\n",
              "\n",
              "      <script>\n",
              "        const buttonEl =\n",
              "          document.querySelector('#df-08d335c3-ad42-419f-8205-325899489f6c button.colab-df-convert');\n",
              "        buttonEl.style.display =\n",
              "          google.colab.kernel.accessAllowed ? 'block' : 'none';\n",
              "\n",
              "        async function convertToInteractive(key) {\n",
              "          const element = document.querySelector('#df-08d335c3-ad42-419f-8205-325899489f6c');\n",
              "          const dataTable =\n",
              "            await google.colab.kernel.invokeFunction('convertToInteractive',\n",
              "                                                     [key], {});\n",
              "          if (!dataTable) return;\n",
              "\n",
              "          const docLinkHtml = 'Like what you see? Visit the ' +\n",
              "            '<a target=\"_blank\" href=https://colab.research.google.com/notebooks/data_table.ipynb>data table notebook</a>'\n",
              "            + ' to learn more about interactive tables.';\n",
              "          element.innerHTML = '';\n",
              "          dataTable['output_type'] = 'display_data';\n",
              "          await google.colab.output.renderOutput(dataTable, element);\n",
              "          const docLink = document.createElement('div');\n",
              "          docLink.innerHTML = docLinkHtml;\n",
              "          element.appendChild(docLink);\n",
              "        }\n",
              "      </script>\n",
              "    </div>\n",
              "  </div>\n",
              "  "
            ]
          },
          "metadata": {},
          "execution_count": 16
        }
      ]
    },
    {
      "cell_type": "code",
      "source": [
        "# get image names\n",
        "os.chdir('/content/drive/MyDrive/BTTAI_AmericanExpress1/datasets/sampleDataset/frames/datasheet001_frames')\n",
        "imgs = os.listdir()"
      ],
      "metadata": {
        "id": "dKi4S9XYi6Xt"
      },
      "execution_count": 17,
      "outputs": []
    },
    {
      "cell_type": "code",
      "source": [
        "bbox = []\n",
        "for i in range(0,214):\n",
        "  e = [list(df_bb.iloc[i,0:4]), [df_bb.iloc[i,4]]]\n",
        "  bbox.append(e)"
      ],
      "metadata": {
        "id": "YREJ5NBMnDZK"
      },
      "execution_count": 18,
      "outputs": []
    },
    {
      "cell_type": "code",
      "source": [
        "# use a dictionary to quickly look up a corresponding image to it's label\n",
        "img2bbox = dict(zip(imgs, bbox))"
      ],
      "metadata": {
        "id": "ZB92tyaAp5sF"
      },
      "execution_count": 19,
      "outputs": []
    },
    {
      "cell_type": "code",
      "source": [
        "# a getter function\n",
        "getters = [lambda o: o, lambda o: img2bbox[o][0], lambda o: img2bbox[o][1]] # o is the input image name"
      ],
      "metadata": {
        "id": "qo45gzT8ZvPq"
      },
      "execution_count": 20,
      "outputs": []
    },
    {
      "cell_type": "code",
      "source": [
        "# for transforms later\n",
        "item_tfms = [Resize(128, method='pad')] \n",
        "batch_tfms = [Rotate(), Flip(), Dihedral(), Normalize.from_stats(*imagenet_stats)]"
      ],
      "metadata": {
        "id": "JMDnY1bRqhDO"
      },
      "execution_count": 21,
      "outputs": []
    },
    {
      "cell_type": "code",
      "source": [
        "def get_train_imgs(noop): return imgs # simply return the images"
      ],
      "metadata": {
        "id": "rgHk-m96qmmq"
      },
      "execution_count": 22,
      "outputs": []
    },
    {
      "cell_type": "code",
      "source": [
        "frames = DataBlock(blocks=(ImageBlock, BBoxBlock, BBoxLblBlock), # define pre-defined problem domains: images, bb, label bb\n",
        "                 splitter=RandomSplitter(), \n",
        "                 get_items=get_train_imgs, \n",
        "                 getters=getters, # getters applied to results of get_items\n",
        "                 item_tfms=item_tfms,\n",
        "                 batch_tfms=batch_tfms,\n",
        "                 n_inp=1)"
      ],
      "metadata": {
        "id": "IrWe2E8SqpZN"
      },
      "execution_count": 23,
      "outputs": []
    },
    {
      "cell_type": "code",
      "source": [
        "frames.summary(os.getcwd())"
      ],
      "metadata": {
        "id": "Ugw2-mACHRME",
        "colab": {
          "base_uri": "https://localhost:8080/"
        },
        "outputId": "943c9a7c-fa85-4354-a9b2-b50eb6bd47fd"
      },
      "execution_count": 24,
      "outputs": [
        {
          "output_type": "stream",
          "name": "stdout",
          "text": [
            "Setting-up type transforms pipelines\n",
            "Collecting items from /content/drive/.shortcut-targets-by-id/17C-FeV89lWfoxThc1mu8REz8adMDfNfP/BTTAI_AmericanExpress1/datasets/sampleDataset/frames/datasheet001_frames\n",
            "Found 214 items\n",
            "2 datasets of sizes 172,42\n",
            "Setting up Pipeline: <lambda> -> PILBase.create\n",
            "Setting up Pipeline: <lambda> -> TensorBBox.create\n",
            "Setting up Pipeline: <lambda> -> MultiCategorize -- {'vocab': None, 'sort': True, 'add_na': True}\n",
            "\n",
            "Building one sample\n",
            "  Pipeline: <lambda> -> PILBase.create\n",
            "    starting from\n",
            "      datasheet001_frames_00010.jpg\n",
            "    applying <lambda> gives\n",
            "      datasheet001_frames_00010.jpg\n",
            "    applying PILBase.create gives\n",
            "      PILImage mode=RGB size=1920x1080\n",
            "  Pipeline: <lambda> -> TensorBBox.create\n",
            "    starting from\n",
            "      datasheet001_frames_00010.jpg\n",
            "    applying <lambda> gives\n",
            "      [704.386, 182.308, 1266.23, 806.904]\n",
            "    applying TensorBBox.create gives\n",
            "      TensorBBox of size 1x4\n",
            "  Pipeline: <lambda> -> MultiCategorize -- {'vocab': None, 'sort': True, 'add_na': True}\n",
            "    starting from\n",
            "      datasheet001_frames_00010.jpg\n",
            "    applying <lambda> gives\n",
            "      [True]\n",
            "    applying MultiCategorize -- {'vocab': None, 'sort': True, 'add_na': True} gives\n",
            "      TensorMultiCategory([1])\n",
            "\n",
            "Final sample: (PILImage mode=RGB size=1920x1080, TensorBBox([[ 704.3860,  182.3080, 1266.2300,  806.9040]]), TensorMultiCategory([1]))\n",
            "\n",
            "\n",
            "Collecting items from /content/drive/.shortcut-targets-by-id/17C-FeV89lWfoxThc1mu8REz8adMDfNfP/BTTAI_AmericanExpress1/datasets/sampleDataset/frames/datasheet001_frames\n",
            "Found 214 items\n",
            "2 datasets of sizes 172,42\n",
            "Setting up Pipeline: <lambda> -> PILBase.create\n",
            "Setting up Pipeline: <lambda> -> TensorBBox.create\n",
            "Setting up Pipeline: <lambda> -> MultiCategorize -- {'vocab': None, 'sort': True, 'add_na': True}\n",
            "Setting up after_item: Pipeline: BBoxLabeler -> PointScaler -> Resize -- {'size': (128, 128), 'method': 'pad', 'pad_mode': 'reflection', 'resamples': (2, 0), 'p': 1.0} -> ToTensor\n",
            "Setting up before_batch: Pipeline: bb_pad\n",
            "Setting up after_batch: Pipeline: IntToFloatTensor -- {'div': 255.0, 'div_mask': 1} -> Rotate -- {'size': None, 'mode': 'bilinear', 'pad_mode': 'reflection', 'mode_mask': 'nearest', 'align_corners': True, 'p': 1.0} -> Flip -- {'size': None, 'mode': 'bilinear', 'pad_mode': 'reflection', 'mode_mask': 'nearest', 'align_corners': True, 'p': 0.5} -> Dihedral -- {'size': None, 'mode': 'bilinear', 'pad_mode': 'reflection', 'mode_mask': 'nearest', 'align_corners': True, 'p': 1.0} -> Normalize -- {'mean': tensor([[[[0.4850]],\n",
            "\n",
            "         [[0.4560]],\n",
            "\n",
            "         [[0.4060]]]], device='cuda:0'), 'std': tensor([[[[0.2290]],\n",
            "\n",
            "         [[0.2240]],\n",
            "\n",
            "         [[0.2250]]]], device='cuda:0'), 'axes': (0, 2, 3)}\n",
            "\n",
            "Building one batch\n",
            "Applying item_tfms to the first sample:\n",
            "  Pipeline: BBoxLabeler -> PointScaler -> Resize -- {'size': (128, 128), 'method': 'pad', 'pad_mode': 'reflection', 'resamples': (2, 0), 'p': 1.0} -> ToTensor\n",
            "    starting from\n",
            "      (PILImage mode=RGB size=1920x1080, TensorBBox of size 1x4, TensorMultiCategory([1]))\n",
            "    applying BBoxLabeler gives\n",
            "      (PILImage mode=RGB size=1920x1080, TensorBBox of size 1x4, TensorMultiCategory([1]))\n",
            "    applying PointScaler gives\n",
            "      (PILImage mode=RGB size=1920x1080, TensorBBox of size 1x4, TensorMultiCategory([1]))\n",
            "    applying Resize -- {'size': (128, 128), 'method': 'pad', 'pad_mode': 'reflection', 'resamples': (2, 0), 'p': 1.0} gives\n",
            "      (PILImage mode=RGB size=128x128, TensorBBox of size 1x4, TensorMultiCategory([1]))\n",
            "    applying ToTensor gives\n",
            "      (TensorImage of size 3x128x128, TensorBBox of size 1x4, TensorMultiCategory([1]))\n",
            "\n",
            "Adding the next 3 samples\n",
            "\n",
            "Applying before_batch to the list of samples\n",
            "  Pipeline: bb_pad\n",
            "    starting from\n",
            "      [(TensorImage of size 3x128x128, TensorBBox of size 1x4, TensorMultiCategory([1])), (TensorImage of size 3x128x128, TensorBBox of size 1x4, TensorMultiCategory([1])), (TensorImage of size 3x128x128, TensorBBox of size 1x4, TensorMultiCategory([1])), (TensorImage of size 3x128x128, TensorBBox of size 1x4, TensorMultiCategory([1]))]\n",
            "    applying bb_pad gives\n",
            "      [(TensorImage of size 3x128x128, TensorBBox of size 1x4, TensorMultiCategory([1])), (TensorImage of size 3x128x128, TensorBBox of size 1x4, TensorMultiCategory([1])), (TensorImage of size 3x128x128, TensorBBox of size 1x4, TensorMultiCategory([1])), (TensorImage of size 3x128x128, TensorBBox of size 1x4, TensorMultiCategory([1]))]\n",
            "\n",
            "Collating items in a batch\n",
            "\n",
            "Applying batch_tfms to the batch built\n",
            "  Pipeline: IntToFloatTensor -- {'div': 255.0, 'div_mask': 1} -> Rotate -- {'size': None, 'mode': 'bilinear', 'pad_mode': 'reflection', 'mode_mask': 'nearest', 'align_corners': True, 'p': 1.0} -> Flip -- {'size': None, 'mode': 'bilinear', 'pad_mode': 'reflection', 'mode_mask': 'nearest', 'align_corners': True, 'p': 0.5} -> Dihedral -- {'size': None, 'mode': 'bilinear', 'pad_mode': 'reflection', 'mode_mask': 'nearest', 'align_corners': True, 'p': 1.0} -> Normalize -- {'mean': tensor([[[[0.4850]],\n",
            "\n",
            "         [[0.4560]],\n",
            "\n",
            "         [[0.4060]]]], device='cuda:0'), 'std': tensor([[[[0.2290]],\n",
            "\n",
            "         [[0.2240]],\n",
            "\n",
            "         [[0.2250]]]], device='cuda:0'), 'axes': (0, 2, 3)}\n",
            "    starting from\n",
            "      (TensorImage of size 4x3x128x128, TensorBBox of size 4x1x4, TensorMultiCategory of size 4x1)\n",
            "    applying IntToFloatTensor -- {'div': 255.0, 'div_mask': 1} gives\n",
            "      (TensorImage of size 4x3x128x128, TensorBBox of size 4x1x4, TensorMultiCategory of size 4x1)\n",
            "    applying Rotate -- {'size': None, 'mode': 'bilinear', 'pad_mode': 'reflection', 'mode_mask': 'nearest', 'align_corners': True, 'p': 1.0} gives\n",
            "      (TensorImage of size 4x3x128x128, TensorBBox of size 4x1x4, TensorMultiCategory of size 4x1)\n",
            "    applying Flip -- {'size': None, 'mode': 'bilinear', 'pad_mode': 'reflection', 'mode_mask': 'nearest', 'align_corners': True, 'p': 0.5} gives\n",
            "      (TensorImage of size 4x3x128x128, TensorBBox of size 4x1x4, TensorMultiCategory of size 4x1)\n",
            "    applying Dihedral -- {'size': None, 'mode': 'bilinear', 'pad_mode': 'reflection', 'mode_mask': 'nearest', 'align_corners': True, 'p': 1.0} gives\n",
            "      (TensorImage of size 4x3x128x128, TensorBBox of size 4x1x4, TensorMultiCategory of size 4x1)\n",
            "    applying Normalize -- {'mean': tensor([[[[0.4850]],\n",
            "\n",
            "         [[0.4560]],\n",
            "\n",
            "         [[0.4060]]]], device='cuda:0'), 'std': tensor([[[[0.2290]],\n",
            "\n",
            "         [[0.2240]],\n",
            "\n",
            "         [[0.2250]]]], device='cuda:0'), 'axes': (0, 2, 3)} gives\n",
            "      (TensorImage of size 4x3x128x128, TensorBBox of size 4x1x4, TensorMultiCategory of size 4x1)\n"
          ]
        }
      ]
    },
    {
      "cell_type": "code",
      "source": [
        "files = get_image_files(os.getcwd())"
      ],
      "metadata": {
        "id": "2AdW8b2pqz1R"
      },
      "execution_count": 25,
      "outputs": []
    },
    {
      "cell_type": "code",
      "source": [
        "files[:5]"
      ],
      "metadata": {
        "colab": {
          "base_uri": "https://localhost:8080/"
        },
        "id": "qsbW5fqQ8Vuf",
        "outputId": "6af5bfd4-5f13-4050-9bc9-b644d1b8f974"
      },
      "execution_count": 26,
      "outputs": [
        {
          "output_type": "execute_result",
          "data": {
            "text/plain": [
              "(#5) [Path('/content/drive/.shortcut-targets-by-id/17C-FeV89lWfoxThc1mu8REz8adMDfNfP/BTTAI_AmericanExpress1/datasets/sampleDataset/frames/datasheet001_frames/datasheet001_frames_00001.jpg'),Path('/content/drive/.shortcut-targets-by-id/17C-FeV89lWfoxThc1mu8REz8adMDfNfP/BTTAI_AmericanExpress1/datasets/sampleDataset/frames/datasheet001_frames/datasheet001_frames_00002.jpg'),Path('/content/drive/.shortcut-targets-by-id/17C-FeV89lWfoxThc1mu8REz8adMDfNfP/BTTAI_AmericanExpress1/datasets/sampleDataset/frames/datasheet001_frames/datasheet001_frames_00003.jpg'),Path('/content/drive/.shortcut-targets-by-id/17C-FeV89lWfoxThc1mu8REz8adMDfNfP/BTTAI_AmericanExpress1/datasets/sampleDataset/frames/datasheet001_frames/datasheet001_frames_00004.jpg'),Path('/content/drive/.shortcut-targets-by-id/17C-FeV89lWfoxThc1mu8REz8adMDfNfP/BTTAI_AmericanExpress1/datasets/sampleDataset/frames/datasheet001_frames/datasheet001_frames_00005.jpg')]"
            ]
          },
          "metadata": {},
          "execution_count": 26
        }
      ]
    },
    {
      "cell_type": "code",
      "source": [
        "dls = frames.dataloaders(files)"
      ],
      "metadata": {
        "id": "oW51TbJlrlPv"
      },
      "execution_count": 27,
      "outputs": []
    },
    {
      "cell_type": "code",
      "source": [
        "dls.c = 1"
      ],
      "metadata": {
        "id": "JW5hmugTPc5U"
      },
      "execution_count": 28,
      "outputs": []
    },
    {
      "cell_type": "code",
      "source": [
        "dls.show_batch()"
      ],
      "metadata": {
        "colab": {
          "base_uri": "https://localhost:8080/",
          "height": 520
        },
        "id": "eoeTDRZzPeVA",
        "outputId": "3591e4bc-7cd7-4668-a96f-ba07bcae4f71"
      },
      "execution_count": 29,
      "outputs": [
        {
          "output_type": "display_data",
          "data": {
            "text/plain": [
              "<Figure size 648x648 with 9 Axes>"
            ],
            "image/png": "[encoded data removed]"
          },
          "metadata": {
            "needs_background": "light"
          }
        }
      ]
    },
    {
      "cell_type": "markdown",
      "source": [
        "### Model"
      ],
      "metadata": {
        "id": "4X_Mt_QORuHW"
      }
    },
    {
      "cell_type": "code",
      "source": [
        "!pip install wwf"
      ],
      "metadata": {
        "id": "1mYOQrFIVaWy",
        "colab": {
          "base_uri": "https://localhost:8080/"
        },
        "outputId": "35cbaaf4-e9e3-465b-f4ef-67cc85a45be3"
      },
      "execution_count": 32,
      "outputs": [
        {
          "output_type": "stream",
          "name": "stdout",
          "text": [
            "Looking in indexes: https://pypi.org/simple, https://us-python.pkg.dev/colab-wheels/public/simple/\n",
            "Collecting wwf\n",
            "  Downloading wwf-0.0.16-py3-none-any.whl (20 kB)\n",
            "Collecting timm>=0.3.4\n",
            "  Downloading timm-0.6.7-py3-none-any.whl (509 kB)\n",
            "\u001b[K     |████████████████████████████████| 509 kB 44.4 MB/s \n",
            "\u001b[?25hRequirement already satisfied: fastai>=2.0.0 in /usr/local/lib/python3.7/dist-packages (from wwf) (2.7.9)\n",
            "Requirement already satisfied: fastcore>=1.0.0 in /usr/local/lib/python3.7/dist-packages (from wwf) (1.5.25)\n",
            "Requirement already satisfied: torchvision>=0.8.2 in /usr/local/lib/python3.7/dist-packages (from fastai>=2.0.0->wwf) (0.13.1+cu113)\n",
            "Requirement already satisfied: pandas in /usr/local/lib/python3.7/dist-packages (from fastai>=2.0.0->wwf) (1.3.5)\n",
            "Requirement already satisfied: packaging in /usr/local/lib/python3.7/dist-packages (from fastai>=2.0.0->wwf) (21.3)\n",
            "Requirement already satisfied: pyyaml in /usr/local/lib/python3.7/dist-packages (from fastai>=2.0.0->wwf) (6.0)\n",
            "Requirement already satisfied: fastdownload<2,>=0.0.5 in /usr/local/lib/python3.7/dist-packages (from fastai>=2.0.0->wwf) (0.0.7)\n",
            "Requirement already satisfied: matplotlib in /usr/local/lib/python3.7/dist-packages (from fastai>=2.0.0->wwf) (3.2.2)\n",
            "Requirement already satisfied: spacy<4 in /usr/local/lib/python3.7/dist-packages (from fastai>=2.0.0->wwf) (3.4.1)\n",
            "Requirement already satisfied: fastprogress>=0.2.4 in /usr/local/lib/python3.7/dist-packages (from fastai>=2.0.0->wwf) (1.0.3)\n",
            "Requirement already satisfied: scipy in /usr/local/lib/python3.7/dist-packages (from fastai>=2.0.0->wwf) (1.7.3)\n",
            "Requirement already satisfied: scikit-learn in /usr/local/lib/python3.7/dist-packages (from fastai>=2.0.0->wwf) (1.0.2)\n",
            "Requirement already satisfied: torch<1.14,>=1.7 in /usr/local/lib/python3.7/dist-packages (from fastai>=2.0.0->wwf) (1.12.1+cu113)\n",
            "Requirement already satisfied: pillow>6.0.0 in /usr/local/lib/python3.7/dist-packages (from fastai>=2.0.0->wwf) (7.1.2)\n",
            "Requirement already satisfied: pip in /usr/local/lib/python3.7/dist-packages (from fastai>=2.0.0->wwf) (21.1.3)\n",
            "Requirement already satisfied: requests in /usr/local/lib/python3.7/dist-packages (from fastai>=2.0.0->wwf) (2.23.0)\n",
            "Requirement already satisfied: pathy>=0.3.5 in /usr/local/lib/python3.7/dist-packages (from spacy<4->fastai>=2.0.0->wwf) (0.6.2)\n",
            "Requirement already satisfied: srsly<3.0.0,>=2.4.3 in /usr/local/lib/python3.7/dist-packages (from spacy<4->fastai>=2.0.0->wwf) (2.4.4)\n",
            "Requirement already satisfied: langcodes<4.0.0,>=3.2.0 in /usr/local/lib/python3.7/dist-packages (from spacy<4->fastai>=2.0.0->wwf) (3.3.0)\n",
            "Requirement already satisfied: wasabi<1.1.0,>=0.9.1 in /usr/local/lib/python3.7/dist-packages (from spacy<4->fastai>=2.0.0->wwf) (0.10.1)\n",
            "Requirement already satisfied: jinja2 in /usr/local/lib/python3.7/dist-packages (from spacy<4->fastai>=2.0.0->wwf) (2.11.3)\n",
            "Requirement already satisfied: numpy>=1.15.0 in /usr/local/lib/python3.7/dist-packages (from spacy<4->fastai>=2.0.0->wwf) (1.21.6)\n",
            "Requirement already satisfied: thinc<8.2.0,>=8.1.0 in /usr/local/lib/python3.7/dist-packages (from spacy<4->fastai>=2.0.0->wwf) (8.1.0)\n",
            "Requirement already satisfied: setuptools in /usr/local/lib/python3.7/dist-packages (from spacy<4->fastai>=2.0.0->wwf) (57.4.0)\n",
            "Requirement already satisfied: murmurhash<1.1.0,>=0.28.0 in /usr/local/lib/python3.7/dist-packages (from spacy<4->fastai>=2.0.0->wwf) (1.0.8)\n",
            "Requirement already satisfied: pydantic!=1.8,!=1.8.1,<1.10.0,>=1.7.4 in /usr/local/lib/python3.7/dist-packages (from spacy<4->fastai>=2.0.0->wwf) (1.9.2)\n",
            "Requirement already satisfied: typing-extensions<4.2.0,>=3.7.4 in /usr/local/lib/python3.7/dist-packages (from spacy<4->fastai>=2.0.0->wwf) (4.1.1)\n",
            "Requirement already satisfied: catalogue<2.1.0,>=2.0.6 in /usr/local/lib/python3.7/dist-packages (from spacy<4->fastai>=2.0.0->wwf) (2.0.8)\n",
            "Requirement already satisfied: cymem<2.1.0,>=2.0.2 in /usr/local/lib/python3.7/dist-packages (from spacy<4->fastai>=2.0.0->wwf) (2.0.6)\n",
            "Requirement already satisfied: preshed<3.1.0,>=3.0.2 in /usr/local/lib/python3.7/dist-packages (from spacy<4->fastai>=2.0.0->wwf) (3.0.7)\n",
            "Requirement already satisfied: typer<0.5.0,>=0.3.0 in /usr/local/lib/python3.7/dist-packages (from spacy<4->fastai>=2.0.0->wwf) (0.4.2)\n",
            "Requirement already satisfied: tqdm<5.0.0,>=4.38.0 in /usr/local/lib/python3.7/dist-packages (from spacy<4->fastai>=2.0.0->wwf) (4.64.1)\n",
            "Requirement already satisfied: spacy-loggers<2.0.0,>=1.0.0 in /usr/local/lib/python3.7/dist-packages (from spacy<4->fastai>=2.0.0->wwf) (1.0.3)\n",
            "Requirement already satisfied: spacy-legacy<3.1.0,>=3.0.9 in /usr/local/lib/python3.7/dist-packages (from spacy<4->fastai>=2.0.0->wwf) (3.0.10)\n",
            "Requirement already satisfied: zipp>=0.5 in /usr/local/lib/python3.7/dist-packages (from catalogue<2.1.0,>=2.0.6->spacy<4->fastai>=2.0.0->wwf) (3.8.1)\n",
            "Requirement already satisfied: pyparsing!=3.0.5,>=2.0.2 in /usr/local/lib/python3.7/dist-packages (from packaging->fastai>=2.0.0->wwf) (3.0.9)\n",
            "Requirement already satisfied: smart-open<6.0.0,>=5.2.1 in /usr/local/lib/python3.7/dist-packages (from pathy>=0.3.5->spacy<4->fastai>=2.0.0->wwf) (5.2.1)\n",
            "Requirement already satisfied: certifi>=2017.4.17 in /usr/local/lib/python3.7/dist-packages (from requests->fastai>=2.0.0->wwf) (2022.6.15)\n",
            "Requirement already satisfied: idna<3,>=2.5 in /usr/local/lib/python3.7/dist-packages (from requests->fastai>=2.0.0->wwf) (2.10)\n",
            "Requirement already satisfied: chardet<4,>=3.0.2 in /usr/local/lib/python3.7/dist-packages (from requests->fastai>=2.0.0->wwf) (3.0.4)\n",
            "Requirement already satisfied: urllib3!=1.25.0,!=1.25.1,<1.26,>=1.21.1 in /usr/local/lib/python3.7/dist-packages (from requests->fastai>=2.0.0->wwf) (1.24.3)\n",
            "Requirement already satisfied: blis<0.8.0,>=0.7.8 in /usr/local/lib/python3.7/dist-packages (from thinc<8.2.0,>=8.1.0->spacy<4->fastai>=2.0.0->wwf) (0.7.8)\n",
            "Requirement already satisfied: click<9.0.0,>=7.1.1 in /usr/local/lib/python3.7/dist-packages (from typer<0.5.0,>=0.3.0->spacy<4->fastai>=2.0.0->wwf) (7.1.2)\n",
            "Requirement already satisfied: MarkupSafe>=0.23 in /usr/local/lib/python3.7/dist-packages (from jinja2->spacy<4->fastai>=2.0.0->wwf) (2.0.1)\n",
            "Requirement already satisfied: cycler>=0.10 in /usr/local/lib/python3.7/dist-packages (from matplotlib->fastai>=2.0.0->wwf) (0.11.0)\n",
            "Requirement already satisfied: python-dateutil>=2.1 in /usr/local/lib/python3.7/dist-packages (from matplotlib->fastai>=2.0.0->wwf) (2.8.2)\n",
            "Requirement already satisfied: kiwisolver>=1.0.1 in /usr/local/lib/python3.7/dist-packages (from matplotlib->fastai>=2.0.0->wwf) (1.4.4)\n",
            "Requirement already satisfied: six>=1.5 in /usr/local/lib/python3.7/dist-packages (from python-dateutil>=2.1->matplotlib->fastai>=2.0.0->wwf) (1.15.0)\n",
            "Requirement already satisfied: pytz>=2017.3 in /usr/local/lib/python3.7/dist-packages (from pandas->fastai>=2.0.0->wwf) (2022.2.1)\n",
            "Requirement already satisfied: threadpoolctl>=2.0.0 in /usr/local/lib/python3.7/dist-packages (from scikit-learn->fastai>=2.0.0->wwf) (3.1.0)\n",
            "Requirement already satisfied: joblib>=0.11 in /usr/local/lib/python3.7/dist-packages (from scikit-learn->fastai>=2.0.0->wwf) (1.1.0)\n",
            "Installing collected packages: timm, wwf\n",
            "Successfully installed timm-0.6.7 wwf-0.0.16\n"
          ]
        }
      ]
    },
    {
      "cell_type": "code",
      "source": [
        "from wwf.vision.object_detection import * # use RetinaNet"
      ],
      "metadata": {
        "id": "EJrlMJupRvUD"
      },
      "execution_count": 33,
      "outputs": []
    },
    {
      "cell_type": "code",
      "source": [
        "encoder = create_body(resnet34(), pretrained=True) # use transfer learning here by creating an encoder (body) of our model and a head"
      ],
      "metadata": {
        "id": "4UshOeN4R7Xk"
      },
      "execution_count": 34,
      "outputs": []
    },
    {
      "cell_type": "code",
      "source": [
        "get_c(dls)"
      ],
      "metadata": {
        "colab": {
          "base_uri": "https://localhost:8080/"
        },
        "id": "6Xy5JixwUT8_",
        "outputId": "3c04eb9c-5339-4c38-c6c9-6711ebaf8086"
      },
      "execution_count": 35,
      "outputs": [
        {
          "output_type": "execute_result",
          "data": {
            "text/plain": [
              "1"
            ]
          },
          "metadata": {},
          "execution_count": 35
        }
      ]
    },
    {
      "cell_type": "code",
      "source": [
        "arch = RetinaNet(encoder, get_c(dls), final_bias=-4)"
      ],
      "metadata": {
        "id": "mCQFcECPUWgY"
      },
      "execution_count": 36,
      "outputs": []
    },
    {
      "cell_type": "code",
      "source": [
        "create_head(124, 4)"
      ],
      "metadata": {
        "colab": {
          "base_uri": "https://localhost:8080/"
        },
        "id": "6Z6htqOZUZ1m",
        "outputId": "50f0ab41-549f-470c-8465-40ac7b4a1f5a"
      },
      "execution_count": 37,
      "outputs": [
        {
          "output_type": "execute_result",
          "data": {
            "text/plain": [
              "Sequential(\n",
              "  (0): AdaptiveConcatPool2d(\n",
              "    (ap): AdaptiveAvgPool2d(output_size=1)\n",
              "    (mp): AdaptiveMaxPool2d(output_size=1)\n",
              "  )\n",
              "  (1): fastai.layers.Flatten(full=False)\n",
              "  (2): BatchNorm1d(248, eps=1e-05, momentum=0.1, affine=True, track_running_stats=True)\n",
              "  (3): Dropout(p=0.25, inplace=False)\n",
              "  (4): Linear(in_features=248, out_features=512, bias=False)\n",
              "  (5): ReLU(inplace=True)\n",
              "  (6): BatchNorm1d(512, eps=1e-05, momentum=0.1, affine=True, track_running_stats=True)\n",
              "  (7): Dropout(p=0.5, inplace=False)\n",
              "  (8): Linear(in_features=512, out_features=4, bias=False)\n",
              ")"
            ]
          },
          "metadata": {},
          "execution_count": 37
        }
      ]
    },
    {
      "cell_type": "markdown",
      "source": [
        "We have one with a smoother, a classifer, and a box_regressor (to get our points)\n"
      ],
      "metadata": {
        "id": "pKFwd6EqUyss"
      }
    },
    {
      "cell_type": "code",
      "source": [
        "arch.smoothers"
      ],
      "metadata": {
        "colab": {
          "base_uri": "https://localhost:8080/"
        },
        "id": "rS_T4kLOUeDo",
        "outputId": "de7b24b9-cae7-4836-9355-36c6a7fdc00d"
      },
      "execution_count": 38,
      "outputs": [
        {
          "output_type": "execute_result",
          "data": {
            "text/plain": [
              "ModuleList(\n",
              "  (0): Conv2d(256, 256, kernel_size=(3, 3), stride=(1, 1), padding=(1, 1))\n",
              "  (1): Conv2d(256, 256, kernel_size=(3, 3), stride=(1, 1), padding=(1, 1))\n",
              "  (2): Conv2d(256, 256, kernel_size=(3, 3), stride=(1, 1), padding=(1, 1))\n",
              ")"
            ]
          },
          "metadata": {},
          "execution_count": 38
        }
      ]
    },
    {
      "cell_type": "code",
      "source": [
        "arch.classifier"
      ],
      "metadata": {
        "colab": {
          "base_uri": "https://localhost:8080/"
        },
        "id": "H_au8GWYUv7c",
        "outputId": "83b16aa5-0a23-4b5c-c837-1b5e61c197b3"
      },
      "execution_count": 42,
      "outputs": [
        {
          "output_type": "execute_result",
          "data": {
            "text/plain": [
              "Sequential(\n",
              "  (0): ConvLayer(\n",
              "    (0): Conv2d(256, 256, kernel_size=(3, 3), stride=(1, 1), padding=(1, 1))\n",
              "    (1): ReLU()\n",
              "  )\n",
              "  (1): ConvLayer(\n",
              "    (0): Conv2d(256, 256, kernel_size=(3, 3), stride=(1, 1), padding=(1, 1))\n",
              "    (1): ReLU()\n",
              "  )\n",
              "  (2): ConvLayer(\n",
              "    (0): Conv2d(256, 256, kernel_size=(3, 3), stride=(1, 1), padding=(1, 1))\n",
              "    (1): ReLU()\n",
              "  )\n",
              "  (3): ConvLayer(\n",
              "    (0): Conv2d(256, 256, kernel_size=(3, 3), stride=(1, 1), padding=(1, 1))\n",
              "    (1): ReLU()\n",
              "  )\n",
              "  (4): Conv2d(256, 9, kernel_size=(3, 3), stride=(1, 1), padding=(1, 1))\n",
              ")"
            ]
          },
          "metadata": {},
          "execution_count": 42
        }
      ]
    },
    {
      "cell_type": "code",
      "source": [
        "arch.box_regressor"
      ],
      "metadata": {
        "colab": {
          "base_uri": "https://localhost:8080/"
        },
        "id": "gRpoh-mNUkrk",
        "outputId": "0116ff44-1a85-4a20-b40c-0aeadf113b68"
      },
      "execution_count": 40,
      "outputs": [
        {
          "output_type": "execute_result",
          "data": {
            "text/plain": [
              "Sequential(\n",
              "  (0): ConvLayer(\n",
              "    (0): Conv2d(256, 256, kernel_size=(3, 3), stride=(1, 1), padding=(1, 1))\n",
              "    (1): ReLU()\n",
              "  )\n",
              "  (1): ConvLayer(\n",
              "    (0): Conv2d(256, 256, kernel_size=(3, 3), stride=(1, 1), padding=(1, 1))\n",
              "    (1): ReLU()\n",
              "  )\n",
              "  (2): ConvLayer(\n",
              "    (0): Conv2d(256, 256, kernel_size=(3, 3), stride=(1, 1), padding=(1, 1))\n",
              "    (1): ReLU()\n",
              "  )\n",
              "  (3): ConvLayer(\n",
              "    (0): Conv2d(256, 256, kernel_size=(3, 3), stride=(1, 1), padding=(1, 1))\n",
              "    (1): ReLU()\n",
              "  )\n",
              "  (4): Conv2d(256, 36, kernel_size=(3, 3), stride=(1, 1), padding=(1, 1))\n",
              ")"
            ]
          },
          "metadata": {},
          "execution_count": 40
        }
      ]
    },
    {
      "cell_type": "markdown",
      "source": [
        "For RetinaNet to work, we need to define what the aspect ratio's and scales of our image should be."
      ],
      "metadata": {
        "id": "90Lx1iO7WUua"
      }
    },
    {
      "cell_type": "code",
      "source": [
        "ratios = [1/2,1,2]\n",
        "scales = [1,2**(-1/3), 2**(-2/3)]"
      ],
      "metadata": {
        "id": "bUtKi131WJN5"
      },
      "execution_count": 43,
      "outputs": []
    },
    {
      "cell_type": "markdown",
      "source": [
        "### Loss Function"
      ],
      "metadata": {
        "id": "pQmjCFW7WMPI"
      }
    },
    {
      "cell_type": "markdown",
      "source": [
        "Our loss function"
      ],
      "metadata": {
        "id": "Rw7xXJ7pWeXU"
      }
    },
    {
      "cell_type": "code",
      "source": [
        "crit = RetinaNetFocalLoss(scales=scales, ratios=ratios)"
      ],
      "metadata": {
        "id": "I00M6WaPWXFv"
      },
      "execution_count": 44,
      "outputs": []
    },
    {
      "cell_type": "markdown",
      "source": [
        "Our learner"
      ],
      "metadata": {
        "id": "OORQFiFNWfpW"
      }
    },
    {
      "cell_type": "code",
      "source": [
        "def _retinanet_split(m): return L(m.encoder,nn.Sequential(m.c5top6, m.p6top7, m.merges, m.smoothers, m.classifier, m.box_regressor)).map(params)"
      ],
      "metadata": {
        "id": "TLzOjBbKWcPA"
      },
      "execution_count": 45,
      "outputs": []
    },
    {
      "cell_type": "code",
      "source": [
        "learn = Learner(dls, arch, loss_func=crit, splitter=_retinanet_split)"
      ],
      "metadata": {
        "id": "P4EPwBnlWiVd"
      },
      "execution_count": 46,
      "outputs": []
    },
    {
      "cell_type": "code",
      "source": [
        "learn.freeze()"
      ],
      "metadata": {
        "id": "8JPk4JDUWj5w"
      },
      "execution_count": 47,
      "outputs": []
    },
    {
      "cell_type": "markdown",
      "source": [
        "Train"
      ],
      "metadata": {
        "id": "oq2pwzr_Wm2J"
      }
    },
    {
      "cell_type": "code",
      "source": [
        "learn.fit_one_cycle(10, slice(1e-5, 1e-4))"
      ],
      "metadata": {
        "id": "sBUyHZIAWlVd",
        "colab": {
          "base_uri": "https://localhost:8080/",
          "height": 363
        },
        "outputId": "9c1a34d8-557d-4a1a-93a9-058fc2135c53"
      },
      "execution_count": 48,
      "outputs": [
        {
          "output_type": "display_data",
          "data": {
            "text/plain": [
              "<IPython.core.display.HTML object>"
            ],
            "text/html": [
              "\n",
              "<style>\n",
              "    /* Turns off some styling */\n",
              "    progress {\n",
              "        /* gets rid of default border in Firefox and Opera. */\n",
              "        border: none;\n",
              "        /* Needs to be in here for Safari polyfill so background images work as expected. */\n",
              "        background-size: auto;\n",
              "    }\n",
              "    progress:not([value]), progress:not([value])::-webkit-progress-bar {\n",
              "        background: repeating-linear-gradient(45deg, #7e7e7e, #7e7e7e 10px, #5c5c5c 10px, #5c5c5c 20px);\n",
              "    }\n",
              "    .progress-bar-interrupted, .progress-bar-interrupted::-webkit-progress-bar {\n",
              "        background: #F44336;\n",
              "    }\n",
              "</style>\n"
            ]
          },
          "metadata": {}
        },
        {
          "output_type": "display_data",
          "data": {
            "text/plain": [
              "<IPython.core.display.HTML object>"
            ],
            "text/html": [
              "<table border=\"1\" class=\"dataframe\">\n",
              "  <thead>\n",
              "    <tr style=\"text-align: left;\">\n",
              "      <th>epoch</th>\n",
              "      <th>train_loss</th>\n",
              "      <th>valid_loss</th>\n",
              "      <th>time</th>\n",
              "    </tr>\n",
              "  </thead>\n",
              "  <tbody>\n",
              "    <tr>\n",
              "      <td>0</td>\n",
              "      <td>3.670211</td>\n",
              "      <td>3.441589</td>\n",
              "      <td>00:15</td>\n",
              "    </tr>\n",
              "    <tr>\n",
              "      <td>1</td>\n",
              "      <td>3.480963</td>\n",
              "      <td>3.147752</td>\n",
              "      <td>00:11</td>\n",
              "    </tr>\n",
              "    <tr>\n",
              "      <td>2</td>\n",
              "      <td>2.943281</td>\n",
              "      <td>2.192409</td>\n",
              "      <td>00:16</td>\n",
              "    </tr>\n",
              "    <tr>\n",
              "      <td>3</td>\n",
              "      <td>2.694649</td>\n",
              "      <td>2.863556</td>\n",
              "      <td>00:12</td>\n",
              "    </tr>\n",
              "    <tr>\n",
              "      <td>4</td>\n",
              "      <td>2.508749</td>\n",
              "      <td>2.896998</td>\n",
              "      <td>00:11</td>\n",
              "    </tr>\n",
              "    <tr>\n",
              "      <td>5</td>\n",
              "      <td>2.376828</td>\n",
              "      <td>2.642549</td>\n",
              "      <td>00:11</td>\n",
              "    </tr>\n",
              "    <tr>\n",
              "      <td>6</td>\n",
              "      <td>2.220703</td>\n",
              "      <td>2.297852</td>\n",
              "      <td>00:11</td>\n",
              "    </tr>\n",
              "    <tr>\n",
              "      <td>7</td>\n",
              "      <td>2.073781</td>\n",
              "      <td>1.993115</td>\n",
              "      <td>00:12</td>\n",
              "    </tr>\n",
              "    <tr>\n",
              "      <td>8</td>\n",
              "      <td>1.986817</td>\n",
              "      <td>1.861703</td>\n",
              "      <td>00:12</td>\n",
              "    </tr>\n",
              "    <tr>\n",
              "      <td>9</td>\n",
              "      <td>1.913177</td>\n",
              "      <td>1.788226</td>\n",
              "      <td>00:11</td>\n",
              "    </tr>\n",
              "  </tbody>\n",
              "</table>"
            ]
          },
          "metadata": {}
        }
      ]
    }
  ]
}