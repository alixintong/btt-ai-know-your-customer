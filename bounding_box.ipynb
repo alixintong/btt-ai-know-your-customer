{
  "nbformat": 4,
  "nbformat_minor": 0,
  "metadata": {
    "colab": {
      "provenance": [],
      "collapsed_sections": [
        "6JE7hMdNjQZE"
      ],
      "toc_visible": true,
      "include_colab_link": true
    },
    "kernelspec": {
      "name": "python3",
      "display_name": "Python 3"
    },
    "language_info": {
      "name": "python"
    },
    "accelerator": "GPU"
  },
  "cells": [
    {
      "cell_type": "markdown",
      "metadata": {
        "id": "view-in-github",
        "colab_type": "text"
      },
      "source": [
        "<a href=\"https://colab.research.google.com/github/alixintong/btt-ai-know-your-customer/blob/jess/bounding_box.ipynb\" target=\"_parent\"><img src=\"https://colab.research.google.com/assets/colab-badge.svg\" alt=\"Open In Colab\"/></a>"
      ]
    },
    {
      "cell_type": "code",
      "execution_count": 1,
      "metadata": {
        "colab": {
          "base_uri": "https://localhost:8080/"
        },
        "id": "nfTK0SJKP453",
        "outputId": "27df0799-13dd-4ea8-a185-afac78818a4b"
      },
      "outputs": [
        {
          "output_type": "stream",
          "name": "stdout",
          "text": [
            "Mounted at /content/drive\n"
          ]
        }
      ],
      "source": [
        "# this cell allows access to our folder\n",
        "\n",
        "from google.colab import drive\n",
        "drive.mount('/content/drive', force_remount=True)\n",
        "root_path = '/content/gdrive/MyDrive/BTTAI_AmericanExpress1'"
      ]
    },
    {
      "cell_type": "markdown",
      "source": [
        "## For datasheet frames"
      ],
      "metadata": {
        "id": "6JE7hMdNjQZE"
      }
    },
    {
      "cell_type": "code",
      "source": [
        "# cell for imports - add as needed\n",
        "import torch \n",
        "import cv2\n",
        "import numpy as np \n",
        "import pandas as pd\n",
        "import os, os.path\n",
        "import re\n",
        "from fastai.vision.all import *"
      ],
      "metadata": {
        "id": "rzhF26QIP-1N"
      },
      "execution_count": null,
      "outputs": []
    },
    {
      "cell_type": "code",
      "source": [
        "# for reference\n",
        "#   - fastai segmentation: https://walkwithfastai.com/Segmentation\n",
        "#   - fastai object detection: https://walkwithfastai.com/Object_Detection"
      ],
      "metadata": {
        "id": "Z5SW5aXtQIdT"
      },
      "execution_count": null,
      "outputs": []
    },
    {
      "cell_type": "markdown",
      "source": [
        "### Data"
      ],
      "metadata": {
        "id": "uO9VBxweRpoV"
      }
    },
    {
      "cell_type": "code",
      "source": [
        "path = '/content/drive/MyDrive/BTTAI_AmericanExpress1/datasets/sampleDataset/frames'\n",
        "\n",
        "files = get_image_files(path + \"/datasheet001_frames\")\n",
        "len(files)"
      ],
      "metadata": {
        "id": "EmndRe_0Rrs5",
        "outputId": "49a604c7-3592-4529-8b97-7f7cbf2afab1",
        "colab": {
          "base_uri": "https://localhost:8080/"
        }
      },
      "execution_count": null,
      "outputs": [
        {
          "output_type": "execute_result",
          "data": {
            "text/plain": [
              "0"
            ]
          },
          "metadata": {},
          "execution_count": 7
        }
      ]
    },
    {
      "cell_type": "code",
      "source": [
        "# import bounding box datasheet csv\n",
        "# use datasheet001 as csv instead of xml\n",
        "url='https://drive.google.com/file/d/1lUoBf1rwPXPlI9Zg2lDzwV4ODtsGJ4u2/view?usp=sharing'\n",
        "url='https://drive.google.com/uc?id=' + url.split('/')[-2]\n",
        "df = pd.read_csv(url)\n",
        "df.head()"
      ],
      "metadata": {
        "id": "RC-dWi8ORszo",
        "colab": {
          "base_uri": "https://localhost:8080/",
          "height": 270
        },
        "outputId": "5c1d5b54-129c-4dd2-cdb8-1031448a73d0"
      },
      "execution_count": null,
      "outputs": [
        {
          "output_type": "execute_result",
          "data": {
            "text/plain": [
              "  point/0/_name  point/0/_x  point/0/_y point/1/_name  point/1/_x  point/1/_y  \\\n",
              "0            bl     716.625     805.609            tl     737.377     201.383   \n",
              "1            bl     714.326     806.309            tl     736.330     202.300   \n",
              "2            bl     713.031     804.811            tl     734.431     201.449   \n",
              "3            bl     713.845     802.659            tl     734.423     198.474   \n",
              "4            bl     713.088     802.830            tl     734.675     195.678   \n",
              "\n",
              "  point/2/_name  point/2/_x  point/2/_y point/3/_name  point/3/_x  point/3/_y  \\\n",
              "0            tr     1180.71     199.127            br     1259.02     791.942   \n",
              "1            tr     1179.74     200.028            br     1257.21     792.161   \n",
              "2            tr     1177.81     199.795            br     1255.42     791.291   \n",
              "3            tr     1177.79     196.852            br     1256.72     789.631   \n",
              "4            tr     1179.99     194.057            br     1259.35     790.289   \n",
              "\n",
              "   _index  _rejected  \n",
              "0       1      False  \n",
              "1       2      False  \n",
              "2       3      False  \n",
              "3       4      False  \n",
              "4       5      False  "
            ],
            "text/html": [
              "\n",
              "  <div id=\"df-84a48bb5-0db9-4d64-98cb-3415db484c84\">\n",
              "    <div class=\"colab-df-container\">\n",
              "      <div>\n",
              "<style scoped>\n",
              "    .dataframe tbody tr th:only-of-type {\n",
              "        vertical-align: middle;\n",
              "    }\n",
              "\n",
              "    .dataframe tbody tr th {\n",
              "        vertical-align: top;\n",
              "    }\n",
              "\n",
              "    .dataframe thead th {\n",
              "        text-align: right;\n",
              "    }\n",
              "</style>\n",
              "<table border=\"1\" class=\"dataframe\">\n",
              "  <thead>\n",
              "    <tr style=\"text-align: right;\">\n",
              "      <th></th>\n",
              "      <th>point/0/_name</th>\n",
              "      <th>point/0/_x</th>\n",
              "      <th>point/0/_y</th>\n",
              "      <th>point/1/_name</th>\n",
              "      <th>point/1/_x</th>\n",
              "      <th>point/1/_y</th>\n",
              "      <th>point/2/_name</th>\n",
              "      <th>point/2/_x</th>\n",
              "      <th>point/2/_y</th>\n",
              "      <th>point/3/_name</th>\n",
              "      <th>point/3/_x</th>\n",
              "      <th>point/3/_y</th>\n",
              "      <th>_index</th>\n",
              "      <th>_rejected</th>\n",
              "    </tr>\n",
              "  </thead>\n",
              "  <tbody>\n",
              "    <tr>\n",
              "      <th>0</th>\n",
              "      <td>bl</td>\n",
              "      <td>716.625</td>\n",
              "      <td>805.609</td>\n",
              "      <td>tl</td>\n",
              "      <td>737.377</td>\n",
              "      <td>201.383</td>\n",
              "      <td>tr</td>\n",
              "      <td>1180.71</td>\n",
              "      <td>199.127</td>\n",
              "      <td>br</td>\n",
              "      <td>1259.02</td>\n",
              "      <td>791.942</td>\n",
              "      <td>1</td>\n",
              "      <td>False</td>\n",
              "    </tr>\n",
              "    <tr>\n",
              "      <th>1</th>\n",
              "      <td>bl</td>\n",
              "      <td>714.326</td>\n",
              "      <td>806.309</td>\n",
              "      <td>tl</td>\n",
              "      <td>736.330</td>\n",
              "      <td>202.300</td>\n",
              "      <td>tr</td>\n",
              "      <td>1179.74</td>\n",
              "      <td>200.028</td>\n",
              "      <td>br</td>\n",
              "      <td>1257.21</td>\n",
              "      <td>792.161</td>\n",
              "      <td>2</td>\n",
              "      <td>False</td>\n",
              "    </tr>\n",
              "    <tr>\n",
              "      <th>2</th>\n",
              "      <td>bl</td>\n",
              "      <td>713.031</td>\n",
              "      <td>804.811</td>\n",
              "      <td>tl</td>\n",
              "      <td>734.431</td>\n",
              "      <td>201.449</td>\n",
              "      <td>tr</td>\n",
              "      <td>1177.81</td>\n",
              "      <td>199.795</td>\n",
              "      <td>br</td>\n",
              "      <td>1255.42</td>\n",
              "      <td>791.291</td>\n",
              "      <td>3</td>\n",
              "      <td>False</td>\n",
              "    </tr>\n",
              "    <tr>\n",
              "      <th>3</th>\n",
              "      <td>bl</td>\n",
              "      <td>713.845</td>\n",
              "      <td>802.659</td>\n",
              "      <td>tl</td>\n",
              "      <td>734.423</td>\n",
              "      <td>198.474</td>\n",
              "      <td>tr</td>\n",
              "      <td>1177.79</td>\n",
              "      <td>196.852</td>\n",
              "      <td>br</td>\n",
              "      <td>1256.72</td>\n",
              "      <td>789.631</td>\n",
              "      <td>4</td>\n",
              "      <td>False</td>\n",
              "    </tr>\n",
              "    <tr>\n",
              "      <th>4</th>\n",
              "      <td>bl</td>\n",
              "      <td>713.088</td>\n",
              "      <td>802.830</td>\n",
              "      <td>tl</td>\n",
              "      <td>734.675</td>\n",
              "      <td>195.678</td>\n",
              "      <td>tr</td>\n",
              "      <td>1179.99</td>\n",
              "      <td>194.057</td>\n",
              "      <td>br</td>\n",
              "      <td>1259.35</td>\n",
              "      <td>790.289</td>\n",
              "      <td>5</td>\n",
              "      <td>False</td>\n",
              "    </tr>\n",
              "  </tbody>\n",
              "</table>\n",
              "</div>\n",
              "      <button class=\"colab-df-convert\" onclick=\"convertToInteractive('df-84a48bb5-0db9-4d64-98cb-3415db484c84')\"\n",
              "              title=\"Convert this dataframe to an interactive table.\"\n",
              "              style=\"display:none;\">\n",
              "        \n",
              "  <svg xmlns=\"http://www.w3.org/2000/svg\" height=\"24px\"viewBox=\"0 0 24 24\"\n",
              "       width=\"24px\">\n",
              "    <path d=\"M0 0h24v24H0V0z\" fill=\"none\"/>\n",
              "    <path d=\"M18.56 5.44l.94 2.06.94-2.06 2.06-.94-2.06-.94-.94-2.06-.94 2.06-2.06.94zm-11 1L8.5 8.5l.94-2.06 2.06-.94-2.06-.94L8.5 2.5l-.94 2.06-2.06.94zm10 10l.94 2.06.94-2.06 2.06-.94-2.06-.94-.94-2.06-.94 2.06-2.06.94z\"/><path d=\"M17.41 7.96l-1.37-1.37c-.4-.4-.92-.59-1.43-.59-.52 0-1.04.2-1.43.59L10.3 9.45l-7.72 7.72c-.78.78-.78 2.05 0 2.83L4 21.41c.39.39.9.59 1.41.59.51 0 1.02-.2 1.41-.59l7.78-7.78 2.81-2.81c.8-.78.8-2.07 0-2.86zM5.41 20L4 18.59l7.72-7.72 1.47 1.35L5.41 20z\"/>\n",
              "  </svg>\n",
              "      </button>\n",
              "      \n",
              "  <style>\n",
              "    .colab-df-container {\n",
              "      display:flex;\n",
              "      flex-wrap:wrap;\n",
              "      gap: 12px;\n",
              "    }\n",
              "\n",
              "    .colab-df-convert {\n",
              "      background-color: #E8F0FE;\n",
              "      border: none;\n",
              "      border-radius: 50%;\n",
              "      cursor: pointer;\n",
              "      display: none;\n",
              "      fill: #1967D2;\n",
              "      height: 32px;\n",
              "      padding: 0 0 0 0;\n",
              "      width: 32px;\n",
              "    }\n",
              "\n",
              "    .colab-df-convert:hover {\n",
              "      background-color: #E2EBFA;\n",
              "      box-shadow: 0px 1px 2px rgba(60, 64, 67, 0.3), 0px 1px 3px 1px rgba(60, 64, 67, 0.15);\n",
              "      fill: #174EA6;\n",
              "    }\n",
              "\n",
              "    [theme=dark] .colab-df-convert {\n",
              "      background-color: #3B4455;\n",
              "      fill: #D2E3FC;\n",
              "    }\n",
              "\n",
              "    [theme=dark] .colab-df-convert:hover {\n",
              "      background-color: #434B5C;\n",
              "      box-shadow: 0px 1px 3px 1px rgba(0, 0, 0, 0.15);\n",
              "      filter: drop-shadow(0px 1px 2px rgba(0, 0, 0, 0.3));\n",
              "      fill: #FFFFFF;\n",
              "    }\n",
              "  </style>\n",
              "\n",
              "      <script>\n",
              "        const buttonEl =\n",
              "          document.querySelector('#df-84a48bb5-0db9-4d64-98cb-3415db484c84 button.colab-df-convert');\n",
              "        buttonEl.style.display =\n",
              "          google.colab.kernel.accessAllowed ? 'block' : 'none';\n",
              "\n",
              "        async function convertToInteractive(key) {\n",
              "          const element = document.querySelector('#df-84a48bb5-0db9-4d64-98cb-3415db484c84');\n",
              "          const dataTable =\n",
              "            await google.colab.kernel.invokeFunction('convertToInteractive',\n",
              "                                                     [key], {});\n",
              "          if (!dataTable) return;\n",
              "\n",
              "          const docLinkHtml = 'Like what you see? Visit the ' +\n",
              "            '<a target=\"_blank\" href=https://colab.research.google.com/notebooks/data_table.ipynb>data table notebook</a>'\n",
              "            + ' to learn more about interactive tables.';\n",
              "          element.innerHTML = '';\n",
              "          dataTable['output_type'] = 'display_data';\n",
              "          await google.colab.output.renderOutput(dataTable, element);\n",
              "          const docLink = document.createElement('div');\n",
              "          docLink.innerHTML = docLinkHtml;\n",
              "          element.appendChild(docLink);\n",
              "        }\n",
              "      </script>\n",
              "    </div>\n",
              "  </div>\n",
              "  "
            ]
          },
          "metadata": {},
          "execution_count": 7
        }
      ]
    },
    {
      "cell_type": "code",
      "source": [
        "df[\"document\"] = df[\"_rejected\"].apply(lambda x: not x)"
      ],
      "metadata": {
        "id": "5ZL4apx1TQwQ"
      },
      "execution_count": null,
      "outputs": []
    },
    {
      "cell_type": "code",
      "source": [
        "df = df.drop('_rejected', axis = 1)\n",
        "df.head()"
      ],
      "metadata": {
        "colab": {
          "base_uri": "https://localhost:8080/",
          "height": 270
        },
        "id": "pPrF2VDIiPK_",
        "outputId": "5cf4b38f-adb1-4f93-b923-68d310fe67c4"
      },
      "execution_count": null,
      "outputs": [
        {
          "output_type": "execute_result",
          "data": {
            "text/plain": [
              "  point/0/_name  point/0/_x  point/0/_y point/1/_name  point/1/_x  point/1/_y  \\\n",
              "0            bl     716.625     805.609            tl     737.377     201.383   \n",
              "1            bl     714.326     806.309            tl     736.330     202.300   \n",
              "2            bl     713.031     804.811            tl     734.431     201.449   \n",
              "3            bl     713.845     802.659            tl     734.423     198.474   \n",
              "4            bl     713.088     802.830            tl     734.675     195.678   \n",
              "\n",
              "  point/2/_name  point/2/_x  point/2/_y point/3/_name  point/3/_x  point/3/_y  \\\n",
              "0            tr     1180.71     199.127            br     1259.02     791.942   \n",
              "1            tr     1179.74     200.028            br     1257.21     792.161   \n",
              "2            tr     1177.81     199.795            br     1255.42     791.291   \n",
              "3            tr     1177.79     196.852            br     1256.72     789.631   \n",
              "4            tr     1179.99     194.057            br     1259.35     790.289   \n",
              "\n",
              "   _index  document  \n",
              "0       1      True  \n",
              "1       2      True  \n",
              "2       3      True  \n",
              "3       4      True  \n",
              "4       5      True  "
            ],
            "text/html": [
              "\n",
              "  <div id=\"df-d49aab07-6728-4c07-8132-d15693683f23\">\n",
              "    <div class=\"colab-df-container\">\n",
              "      <div>\n",
              "<style scoped>\n",
              "    .dataframe tbody tr th:only-of-type {\n",
              "        vertical-align: middle;\n",
              "    }\n",
              "\n",
              "    .dataframe tbody tr th {\n",
              "        vertical-align: top;\n",
              "    }\n",
              "\n",
              "    .dataframe thead th {\n",
              "        text-align: right;\n",
              "    }\n",
              "</style>\n",
              "<table border=\"1\" class=\"dataframe\">\n",
              "  <thead>\n",
              "    <tr style=\"text-align: right;\">\n",
              "      <th></th>\n",
              "      <th>point/0/_name</th>\n",
              "      <th>point/0/_x</th>\n",
              "      <th>point/0/_y</th>\n",
              "      <th>point/1/_name</th>\n",
              "      <th>point/1/_x</th>\n",
              "      <th>point/1/_y</th>\n",
              "      <th>point/2/_name</th>\n",
              "      <th>point/2/_x</th>\n",
              "      <th>point/2/_y</th>\n",
              "      <th>point/3/_name</th>\n",
              "      <th>point/3/_x</th>\n",
              "      <th>point/3/_y</th>\n",
              "      <th>_index</th>\n",
              "      <th>document</th>\n",
              "    </tr>\n",
              "  </thead>\n",
              "  <tbody>\n",
              "    <tr>\n",
              "      <th>0</th>\n",
              "      <td>bl</td>\n",
              "      <td>716.625</td>\n",
              "      <td>805.609</td>\n",
              "      <td>tl</td>\n",
              "      <td>737.377</td>\n",
              "      <td>201.383</td>\n",
              "      <td>tr</td>\n",
              "      <td>1180.71</td>\n",
              "      <td>199.127</td>\n",
              "      <td>br</td>\n",
              "      <td>1259.02</td>\n",
              "      <td>791.942</td>\n",
              "      <td>1</td>\n",
              "      <td>True</td>\n",
              "    </tr>\n",
              "    <tr>\n",
              "      <th>1</th>\n",
              "      <td>bl</td>\n",
              "      <td>714.326</td>\n",
              "      <td>806.309</td>\n",
              "      <td>tl</td>\n",
              "      <td>736.330</td>\n",
              "      <td>202.300</td>\n",
              "      <td>tr</td>\n",
              "      <td>1179.74</td>\n",
              "      <td>200.028</td>\n",
              "      <td>br</td>\n",
              "      <td>1257.21</td>\n",
              "      <td>792.161</td>\n",
              "      <td>2</td>\n",
              "      <td>True</td>\n",
              "    </tr>\n",
              "    <tr>\n",
              "      <th>2</th>\n",
              "      <td>bl</td>\n",
              "      <td>713.031</td>\n",
              "      <td>804.811</td>\n",
              "      <td>tl</td>\n",
              "      <td>734.431</td>\n",
              "      <td>201.449</td>\n",
              "      <td>tr</td>\n",
              "      <td>1177.81</td>\n",
              "      <td>199.795</td>\n",
              "      <td>br</td>\n",
              "      <td>1255.42</td>\n",
              "      <td>791.291</td>\n",
              "      <td>3</td>\n",
              "      <td>True</td>\n",
              "    </tr>\n",
              "    <tr>\n",
              "      <th>3</th>\n",
              "      <td>bl</td>\n",
              "      <td>713.845</td>\n",
              "      <td>802.659</td>\n",
              "      <td>tl</td>\n",
              "      <td>734.423</td>\n",
              "      <td>198.474</td>\n",
              "      <td>tr</td>\n",
              "      <td>1177.79</td>\n",
              "      <td>196.852</td>\n",
              "      <td>br</td>\n",
              "      <td>1256.72</td>\n",
              "      <td>789.631</td>\n",
              "      <td>4</td>\n",
              "      <td>True</td>\n",
              "    </tr>\n",
              "    <tr>\n",
              "      <th>4</th>\n",
              "      <td>bl</td>\n",
              "      <td>713.088</td>\n",
              "      <td>802.830</td>\n",
              "      <td>tl</td>\n",
              "      <td>734.675</td>\n",
              "      <td>195.678</td>\n",
              "      <td>tr</td>\n",
              "      <td>1179.99</td>\n",
              "      <td>194.057</td>\n",
              "      <td>br</td>\n",
              "      <td>1259.35</td>\n",
              "      <td>790.289</td>\n",
              "      <td>5</td>\n",
              "      <td>True</td>\n",
              "    </tr>\n",
              "  </tbody>\n",
              "</table>\n",
              "</div>\n",
              "      <button class=\"colab-df-convert\" onclick=\"convertToInteractive('df-d49aab07-6728-4c07-8132-d15693683f23')\"\n",
              "              title=\"Convert this dataframe to an interactive table.\"\n",
              "              style=\"display:none;\">\n",
              "        \n",
              "  <svg xmlns=\"http://www.w3.org/2000/svg\" height=\"24px\"viewBox=\"0 0 24 24\"\n",
              "       width=\"24px\">\n",
              "    <path d=\"M0 0h24v24H0V0z\" fill=\"none\"/>\n",
              "    <path d=\"M18.56 5.44l.94 2.06.94-2.06 2.06-.94-2.06-.94-.94-2.06-.94 2.06-2.06.94zm-11 1L8.5 8.5l.94-2.06 2.06-.94-2.06-.94L8.5 2.5l-.94 2.06-2.06.94zm10 10l.94 2.06.94-2.06 2.06-.94-2.06-.94-.94-2.06-.94 2.06-2.06.94z\"/><path d=\"M17.41 7.96l-1.37-1.37c-.4-.4-.92-.59-1.43-.59-.52 0-1.04.2-1.43.59L10.3 9.45l-7.72 7.72c-.78.78-.78 2.05 0 2.83L4 21.41c.39.39.9.59 1.41.59.51 0 1.02-.2 1.41-.59l7.78-7.78 2.81-2.81c.8-.78.8-2.07 0-2.86zM5.41 20L4 18.59l7.72-7.72 1.47 1.35L5.41 20z\"/>\n",
              "  </svg>\n",
              "      </button>\n",
              "      \n",
              "  <style>\n",
              "    .colab-df-container {\n",
              "      display:flex;\n",
              "      flex-wrap:wrap;\n",
              "      gap: 12px;\n",
              "    }\n",
              "\n",
              "    .colab-df-convert {\n",
              "      background-color: #E8F0FE;\n",
              "      border: none;\n",
              "      border-radius: 50%;\n",
              "      cursor: pointer;\n",
              "      display: none;\n",
              "      fill: #1967D2;\n",
              "      height: 32px;\n",
              "      padding: 0 0 0 0;\n",
              "      width: 32px;\n",
              "    }\n",
              "\n",
              "    .colab-df-convert:hover {\n",
              "      background-color: #E2EBFA;\n",
              "      box-shadow: 0px 1px 2px rgba(60, 64, 67, 0.3), 0px 1px 3px 1px rgba(60, 64, 67, 0.15);\n",
              "      fill: #174EA6;\n",
              "    }\n",
              "\n",
              "    [theme=dark] .colab-df-convert {\n",
              "      background-color: #3B4455;\n",
              "      fill: #D2E3FC;\n",
              "    }\n",
              "\n",
              "    [theme=dark] .colab-df-convert:hover {\n",
              "      background-color: #434B5C;\n",
              "      box-shadow: 0px 1px 3px 1px rgba(0, 0, 0, 0.15);\n",
              "      filter: drop-shadow(0px 1px 2px rgba(0, 0, 0, 0.3));\n",
              "      fill: #FFFFFF;\n",
              "    }\n",
              "  </style>\n",
              "\n",
              "      <script>\n",
              "        const buttonEl =\n",
              "          document.querySelector('#df-d49aab07-6728-4c07-8132-d15693683f23 button.colab-df-convert');\n",
              "        buttonEl.style.display =\n",
              "          google.colab.kernel.accessAllowed ? 'block' : 'none';\n",
              "\n",
              "        async function convertToInteractive(key) {\n",
              "          const element = document.querySelector('#df-d49aab07-6728-4c07-8132-d15693683f23');\n",
              "          const dataTable =\n",
              "            await google.colab.kernel.invokeFunction('convertToInteractive',\n",
              "                                                     [key], {});\n",
              "          if (!dataTable) return;\n",
              "\n",
              "          const docLinkHtml = 'Like what you see? Visit the ' +\n",
              "            '<a target=\"_blank\" href=https://colab.research.google.com/notebooks/data_table.ipynb>data table notebook</a>'\n",
              "            + ' to learn more about interactive tables.';\n",
              "          element.innerHTML = '';\n",
              "          dataTable['output_type'] = 'display_data';\n",
              "          await google.colab.output.renderOutput(dataTable, element);\n",
              "          const docLink = document.createElement('div');\n",
              "          docLink.innerHTML = docLinkHtml;\n",
              "          element.appendChild(docLink);\n",
              "        }\n",
              "      </script>\n",
              "    </div>\n",
              "  </div>\n",
              "  "
            ]
          },
          "metadata": {},
          "execution_count": 9
        }
      ]
    },
    {
      "cell_type": "code",
      "source": [
        "def get_coordinates(row_data):\n",
        "  x1 = min(row_data[1], row_data[4], row_data[7], row_data[10])\n",
        "  y1 = min(row_data[2], row_data[5], row_data[8], row_data[11])\n",
        "  x2 = max(row_data[1], row_data[4], row_data[7], row_data[10])\n",
        "  y2 = max(row_data[2], row_data[5], row_data[8], row_data[11])\n",
        "  bb_cd = [x1, y1, x2, y2] \n",
        "  return bb_cd"
      ],
      "metadata": {
        "id": "xq2jptDl0Owc"
      },
      "execution_count": null,
      "outputs": []
    },
    {
      "cell_type": "code",
      "source": [
        "bb = []\n",
        "bb.append(df.apply(lambda row: get_coordinates(row), axis = 1))"
      ],
      "metadata": {
        "id": "Xf38ntObkKcN"
      },
      "execution_count": null,
      "outputs": []
    },
    {
      "cell_type": "code",
      "source": [
        "bb = np.array(bb)\n",
        "bb = bb.flatten()"
      ],
      "metadata": {
        "id": "eJ-uEjD1msQg"
      },
      "execution_count": null,
      "outputs": []
    },
    {
      "cell_type": "code",
      "source": [
        "bb = list(bb)"
      ],
      "metadata": {
        "id": "WAzWHUQ_luWn"
      },
      "execution_count": null,
      "outputs": []
    },
    {
      "cell_type": "code",
      "source": [
        "df_bb = pd.DataFrame(data=bb, columns=['x1', 'y1', 'x2', 'y2'])"
      ],
      "metadata": {
        "id": "VVWs6EHTSw2d"
      },
      "execution_count": null,
      "outputs": []
    },
    {
      "cell_type": "code",
      "source": [
        "df_bb.head()"
      ],
      "metadata": {
        "colab": {
          "base_uri": "https://localhost:8080/",
          "height": 206
        },
        "id": "CN_6vNr8l7aE",
        "outputId": "4bdd388b-646e-4bbd-8da0-14785bb84400"
      },
      "execution_count": null,
      "outputs": [
        {
          "output_type": "execute_result",
          "data": {
            "text/plain": [
              "        x1       y1       x2       y2\n",
              "0  716.625  199.127  1259.02  805.609\n",
              "1  714.326  200.028  1257.21  806.309\n",
              "2  713.031  199.795  1255.42  804.811\n",
              "3  713.845  196.852  1256.72  802.659\n",
              "4  713.088  194.057  1259.35  802.830"
            ],
            "text/html": [
              "\n",
              "  <div id=\"df-e3284672-e99b-46c3-8088-9617c203be46\">\n",
              "    <div class=\"colab-df-container\">\n",
              "      <div>\n",
              "<style scoped>\n",
              "    .dataframe tbody tr th:only-of-type {\n",
              "        vertical-align: middle;\n",
              "    }\n",
              "\n",
              "    .dataframe tbody tr th {\n",
              "        vertical-align: top;\n",
              "    }\n",
              "\n",
              "    .dataframe thead th {\n",
              "        text-align: right;\n",
              "    }\n",
              "</style>\n",
              "<table border=\"1\" class=\"dataframe\">\n",
              "  <thead>\n",
              "    <tr style=\"text-align: right;\">\n",
              "      <th></th>\n",
              "      <th>x1</th>\n",
              "      <th>y1</th>\n",
              "      <th>x2</th>\n",
              "      <th>y2</th>\n",
              "    </tr>\n",
              "  </thead>\n",
              "  <tbody>\n",
              "    <tr>\n",
              "      <th>0</th>\n",
              "      <td>716.625</td>\n",
              "      <td>199.127</td>\n",
              "      <td>1259.02</td>\n",
              "      <td>805.609</td>\n",
              "    </tr>\n",
              "    <tr>\n",
              "      <th>1</th>\n",
              "      <td>714.326</td>\n",
              "      <td>200.028</td>\n",
              "      <td>1257.21</td>\n",
              "      <td>806.309</td>\n",
              "    </tr>\n",
              "    <tr>\n",
              "      <th>2</th>\n",
              "      <td>713.031</td>\n",
              "      <td>199.795</td>\n",
              "      <td>1255.42</td>\n",
              "      <td>804.811</td>\n",
              "    </tr>\n",
              "    <tr>\n",
              "      <th>3</th>\n",
              "      <td>713.845</td>\n",
              "      <td>196.852</td>\n",
              "      <td>1256.72</td>\n",
              "      <td>802.659</td>\n",
              "    </tr>\n",
              "    <tr>\n",
              "      <th>4</th>\n",
              "      <td>713.088</td>\n",
              "      <td>194.057</td>\n",
              "      <td>1259.35</td>\n",
              "      <td>802.830</td>\n",
              "    </tr>\n",
              "  </tbody>\n",
              "</table>\n",
              "</div>\n",
              "      <button class=\"colab-df-convert\" onclick=\"convertToInteractive('df-e3284672-e99b-46c3-8088-9617c203be46')\"\n",
              "              title=\"Convert this dataframe to an interactive table.\"\n",
              "              style=\"display:none;\">\n",
              "        \n",
              "  <svg xmlns=\"http://www.w3.org/2000/svg\" height=\"24px\"viewBox=\"0 0 24 24\"\n",
              "       width=\"24px\">\n",
              "    <path d=\"M0 0h24v24H0V0z\" fill=\"none\"/>\n",
              "    <path d=\"M18.56 5.44l.94 2.06.94-2.06 2.06-.94-2.06-.94-.94-2.06-.94 2.06-2.06.94zm-11 1L8.5 8.5l.94-2.06 2.06-.94-2.06-.94L8.5 2.5l-.94 2.06-2.06.94zm10 10l.94 2.06.94-2.06 2.06-.94-2.06-.94-.94-2.06-.94 2.06-2.06.94z\"/><path d=\"M17.41 7.96l-1.37-1.37c-.4-.4-.92-.59-1.43-.59-.52 0-1.04.2-1.43.59L10.3 9.45l-7.72 7.72c-.78.78-.78 2.05 0 2.83L4 21.41c.39.39.9.59 1.41.59.51 0 1.02-.2 1.41-.59l7.78-7.78 2.81-2.81c.8-.78.8-2.07 0-2.86zM5.41 20L4 18.59l7.72-7.72 1.47 1.35L5.41 20z\"/>\n",
              "  </svg>\n",
              "      </button>\n",
              "      \n",
              "  <style>\n",
              "    .colab-df-container {\n",
              "      display:flex;\n",
              "      flex-wrap:wrap;\n",
              "      gap: 12px;\n",
              "    }\n",
              "\n",
              "    .colab-df-convert {\n",
              "      background-color: #E8F0FE;\n",
              "      border: none;\n",
              "      border-radius: 50%;\n",
              "      cursor: pointer;\n",
              "      display: none;\n",
              "      fill: #1967D2;\n",
              "      height: 32px;\n",
              "      padding: 0 0 0 0;\n",
              "      width: 32px;\n",
              "    }\n",
              "\n",
              "    .colab-df-convert:hover {\n",
              "      background-color: #E2EBFA;\n",
              "      box-shadow: 0px 1px 2px rgba(60, 64, 67, 0.3), 0px 1px 3px 1px rgba(60, 64, 67, 0.15);\n",
              "      fill: #174EA6;\n",
              "    }\n",
              "\n",
              "    [theme=dark] .colab-df-convert {\n",
              "      background-color: #3B4455;\n",
              "      fill: #D2E3FC;\n",
              "    }\n",
              "\n",
              "    [theme=dark] .colab-df-convert:hover {\n",
              "      background-color: #434B5C;\n",
              "      box-shadow: 0px 1px 3px 1px rgba(0, 0, 0, 0.15);\n",
              "      filter: drop-shadow(0px 1px 2px rgba(0, 0, 0, 0.3));\n",
              "      fill: #FFFFFF;\n",
              "    }\n",
              "  </style>\n",
              "\n",
              "      <script>\n",
              "        const buttonEl =\n",
              "          document.querySelector('#df-e3284672-e99b-46c3-8088-9617c203be46 button.colab-df-convert');\n",
              "        buttonEl.style.display =\n",
              "          google.colab.kernel.accessAllowed ? 'block' : 'none';\n",
              "\n",
              "        async function convertToInteractive(key) {\n",
              "          const element = document.querySelector('#df-e3284672-e99b-46c3-8088-9617c203be46');\n",
              "          const dataTable =\n",
              "            await google.colab.kernel.invokeFunction('convertToInteractive',\n",
              "                                                     [key], {});\n",
              "          if (!dataTable) return;\n",
              "\n",
              "          const docLinkHtml = 'Like what you see? Visit the ' +\n",
              "            '<a target=\"_blank\" href=https://colab.research.google.com/notebooks/data_table.ipynb>data table notebook</a>'\n",
              "            + ' to learn more about interactive tables.';\n",
              "          element.innerHTML = '';\n",
              "          dataTable['output_type'] = 'display_data';\n",
              "          await google.colab.output.renderOutput(dataTable, element);\n",
              "          const docLink = document.createElement('div');\n",
              "          docLink.innerHTML = docLinkHtml;\n",
              "          element.appendChild(docLink);\n",
              "        }\n",
              "      </script>\n",
              "    </div>\n",
              "  </div>\n",
              "  "
            ]
          },
          "metadata": {},
          "execution_count": 15
        }
      ]
    },
    {
      "cell_type": "code",
      "source": [
        "df_bb['document'] = df['document']\n",
        "df_bb.head() # df_bb would be the labels of bounding boxes"
      ],
      "metadata": {
        "colab": {
          "base_uri": "https://localhost:8080/",
          "height": 206
        },
        "id": "ijEyvdRVmMvo",
        "outputId": "c0595743-505d-4065-dcb9-8453ef74e367"
      },
      "execution_count": null,
      "outputs": [
        {
          "output_type": "execute_result",
          "data": {
            "text/plain": [
              "        x1       y1       x2       y2  document\n",
              "0  716.625  199.127  1259.02  805.609      True\n",
              "1  714.326  200.028  1257.21  806.309      True\n",
              "2  713.031  199.795  1255.42  804.811      True\n",
              "3  713.845  196.852  1256.72  802.659      True\n",
              "4  713.088  194.057  1259.35  802.830      True"
            ],
            "text/html": [
              "\n",
              "  <div id=\"df-08d335c3-ad42-419f-8205-325899489f6c\">\n",
              "    <div class=\"colab-df-container\">\n",
              "      <div>\n",
              "<style scoped>\n",
              "    .dataframe tbody tr th:only-of-type {\n",
              "        vertical-align: middle;\n",
              "    }\n",
              "\n",
              "    .dataframe tbody tr th {\n",
              "        vertical-align: top;\n",
              "    }\n",
              "\n",
              "    .dataframe thead th {\n",
              "        text-align: right;\n",
              "    }\n",
              "</style>\n",
              "<table border=\"1\" class=\"dataframe\">\n",
              "  <thead>\n",
              "    <tr style=\"text-align: right;\">\n",
              "      <th></th>\n",
              "      <th>x1</th>\n",
              "      <th>y1</th>\n",
              "      <th>x2</th>\n",
              "      <th>y2</th>\n",
              "      <th>document</th>\n",
              "    </tr>\n",
              "  </thead>\n",
              "  <tbody>\n",
              "    <tr>\n",
              "      <th>0</th>\n",
              "      <td>716.625</td>\n",
              "      <td>199.127</td>\n",
              "      <td>1259.02</td>\n",
              "      <td>805.609</td>\n",
              "      <td>True</td>\n",
              "    </tr>\n",
              "    <tr>\n",
              "      <th>1</th>\n",
              "      <td>714.326</td>\n",
              "      <td>200.028</td>\n",
              "      <td>1257.21</td>\n",
              "      <td>806.309</td>\n",
              "      <td>True</td>\n",
              "    </tr>\n",
              "    <tr>\n",
              "      <th>2</th>\n",
              "      <td>713.031</td>\n",
              "      <td>199.795</td>\n",
              "      <td>1255.42</td>\n",
              "      <td>804.811</td>\n",
              "      <td>True</td>\n",
              "    </tr>\n",
              "    <tr>\n",
              "      <th>3</th>\n",
              "      <td>713.845</td>\n",
              "      <td>196.852</td>\n",
              "      <td>1256.72</td>\n",
              "      <td>802.659</td>\n",
              "      <td>True</td>\n",
              "    </tr>\n",
              "    <tr>\n",
              "      <th>4</th>\n",
              "      <td>713.088</td>\n",
              "      <td>194.057</td>\n",
              "      <td>1259.35</td>\n",
              "      <td>802.830</td>\n",
              "      <td>True</td>\n",
              "    </tr>\n",
              "  </tbody>\n",
              "</table>\n",
              "</div>\n",
              "      <button class=\"colab-df-convert\" onclick=\"convertToInteractive('df-08d335c3-ad42-419f-8205-325899489f6c')\"\n",
              "              title=\"Convert this dataframe to an interactive table.\"\n",
              "              style=\"display:none;\">\n",
              "        \n",
              "  <svg xmlns=\"http://www.w3.org/2000/svg\" height=\"24px\"viewBox=\"0 0 24 24\"\n",
              "       width=\"24px\">\n",
              "    <path d=\"M0 0h24v24H0V0z\" fill=\"none\"/>\n",
              "    <path d=\"M18.56 5.44l.94 2.06.94-2.06 2.06-.94-2.06-.94-.94-2.06-.94 2.06-2.06.94zm-11 1L8.5 8.5l.94-2.06 2.06-.94-2.06-.94L8.5 2.5l-.94 2.06-2.06.94zm10 10l.94 2.06.94-2.06 2.06-.94-2.06-.94-.94-2.06-.94 2.06-2.06.94z\"/><path d=\"M17.41 7.96l-1.37-1.37c-.4-.4-.92-.59-1.43-.59-.52 0-1.04.2-1.43.59L10.3 9.45l-7.72 7.72c-.78.78-.78 2.05 0 2.83L4 21.41c.39.39.9.59 1.41.59.51 0 1.02-.2 1.41-.59l7.78-7.78 2.81-2.81c.8-.78.8-2.07 0-2.86zM5.41 20L4 18.59l7.72-7.72 1.47 1.35L5.41 20z\"/>\n",
              "  </svg>\n",
              "      </button>\n",
              "      \n",
              "  <style>\n",
              "    .colab-df-container {\n",
              "      display:flex;\n",
              "      flex-wrap:wrap;\n",
              "      gap: 12px;\n",
              "    }\n",
              "\n",
              "    .colab-df-convert {\n",
              "      background-color: #E8F0FE;\n",
              "      border: none;\n",
              "      border-radius: 50%;\n",
              "      cursor: pointer;\n",
              "      display: none;\n",
              "      fill: #1967D2;\n",
              "      height: 32px;\n",
              "      padding: 0 0 0 0;\n",
              "      width: 32px;\n",
              "    }\n",
              "\n",
              "    .colab-df-convert:hover {\n",
              "      background-color: #E2EBFA;\n",
              "      box-shadow: 0px 1px 2px rgba(60, 64, 67, 0.3), 0px 1px 3px 1px rgba(60, 64, 67, 0.15);\n",
              "      fill: #174EA6;\n",
              "    }\n",
              "\n",
              "    [theme=dark] .colab-df-convert {\n",
              "      background-color: #3B4455;\n",
              "      fill: #D2E3FC;\n",
              "    }\n",
              "\n",
              "    [theme=dark] .colab-df-convert:hover {\n",
              "      background-color: #434B5C;\n",
              "      box-shadow: 0px 1px 3px 1px rgba(0, 0, 0, 0.15);\n",
              "      filter: drop-shadow(0px 1px 2px rgba(0, 0, 0, 0.3));\n",
              "      fill: #FFFFFF;\n",
              "    }\n",
              "  </style>\n",
              "\n",
              "      <script>\n",
              "        const buttonEl =\n",
              "          document.querySelector('#df-08d335c3-ad42-419f-8205-325899489f6c button.colab-df-convert');\n",
              "        buttonEl.style.display =\n",
              "          google.colab.kernel.accessAllowed ? 'block' : 'none';\n",
              "\n",
              "        async function convertToInteractive(key) {\n",
              "          const element = document.querySelector('#df-08d335c3-ad42-419f-8205-325899489f6c');\n",
              "          const dataTable =\n",
              "            await google.colab.kernel.invokeFunction('convertToInteractive',\n",
              "                                                     [key], {});\n",
              "          if (!dataTable) return;\n",
              "\n",
              "          const docLinkHtml = 'Like what you see? Visit the ' +\n",
              "            '<a target=\"_blank\" href=https://colab.research.google.com/notebooks/data_table.ipynb>data table notebook</a>'\n",
              "            + ' to learn more about interactive tables.';\n",
              "          element.innerHTML = '';\n",
              "          dataTable['output_type'] = 'display_data';\n",
              "          await google.colab.output.renderOutput(dataTable, element);\n",
              "          const docLink = document.createElement('div');\n",
              "          docLink.innerHTML = docLinkHtml;\n",
              "          element.appendChild(docLink);\n",
              "        }\n",
              "      </script>\n",
              "    </div>\n",
              "  </div>\n",
              "  "
            ]
          },
          "metadata": {},
          "execution_count": 16
        }
      ]
    },
    {
      "cell_type": "code",
      "source": [
        "# get image names\n",
        "os.chdir('/content/drive/MyDrive/BTTAI_AmericanExpress1/datasets/sampleDataset/frames/datasheet001_frames')\n",
        "imgs = os.listdir()"
      ],
      "metadata": {
        "id": "dKi4S9XYi6Xt"
      },
      "execution_count": null,
      "outputs": []
    },
    {
      "cell_type": "code",
      "source": [
        "bbox = []\n",
        "for i in range(0,214):\n",
        "  e = [list(df_bb.iloc[i,0:4]), [df_bb.iloc[i,4]]]\n",
        "  bbox.append(e)"
      ],
      "metadata": {
        "id": "YREJ5NBMnDZK"
      },
      "execution_count": null,
      "outputs": []
    },
    {
      "cell_type": "code",
      "source": [
        "# use a dictionary to quickly look up a corresponding image to it's label\n",
        "img2bbox = dict(zip(imgs, bbox))"
      ],
      "metadata": {
        "id": "ZB92tyaAp5sF"
      },
      "execution_count": null,
      "outputs": []
    },
    {
      "cell_type": "code",
      "source": [
        "# a getter function\n",
        "getters = [lambda o: o, lambda o: img2bbox[o][0], lambda o: img2bbox[o][1]] # o is the input image name"
      ],
      "metadata": {
        "id": "qo45gzT8ZvPq"
      },
      "execution_count": null,
      "outputs": []
    },
    {
      "cell_type": "code",
      "source": [
        "# for transforms later\n",
        "item_tfms = [Resize(128, method='pad')] \n",
        "batch_tfms = [Rotate(), Flip(), Dihedral(), Normalize.from_stats(*imagenet_stats)]"
      ],
      "metadata": {
        "id": "JMDnY1bRqhDO"
      },
      "execution_count": null,
      "outputs": []
    },
    {
      "cell_type": "code",
      "source": [
        "def get_train_imgs(noop): return imgs # simply return the images"
      ],
      "metadata": {
        "id": "rgHk-m96qmmq"
      },
      "execution_count": null,
      "outputs": []
    },
    {
      "cell_type": "code",
      "source": [
        "frames = DataBlock(blocks=(ImageBlock, BBoxBlock, BBoxLblBlock), # define pre-defined problem domains: images, bb, label bb\n",
        "                 splitter=RandomSplitter(), \n",
        "                 get_items=get_train_imgs, \n",
        "                 getters=getters, # getters applied to results of get_items\n",
        "                 item_tfms=item_tfms,\n",
        "                 batch_tfms=batch_tfms,\n",
        "                 n_inp=1)"
      ],
      "metadata": {
        "id": "IrWe2E8SqpZN"
      },
      "execution_count": null,
      "outputs": []
    },
    {
      "cell_type": "code",
      "source": [
        "frames.summary(os.getcwd())"
      ],
      "metadata": {
        "id": "Ugw2-mACHRME"
      },
      "execution_count": null,
      "outputs": []
    },
    {
      "cell_type": "code",
      "source": [
        "files = get_image_files(os.getcwd())"
      ],
      "metadata": {
        "id": "2AdW8b2pqz1R"
      },
      "execution_count": null,
      "outputs": []
    },
    {
      "cell_type": "code",
      "source": [
        "files[:5]"
      ],
      "metadata": {
        "colab": {
          "base_uri": "https://localhost:8080/"
        },
        "id": "qsbW5fqQ8Vuf",
        "outputId": "6af5bfd4-5f13-4050-9bc9-b644d1b8f974"
      },
      "execution_count": null,
      "outputs": [
        {
          "output_type": "execute_result",
          "data": {
            "text/plain": [
              "(#5) [Path('/content/drive/.shortcut-targets-by-id/17C-FeV89lWfoxThc1mu8REz8adMDfNfP/BTTAI_AmericanExpress1/datasets/sampleDataset/frames/datasheet001_frames/datasheet001_frames_00001.jpg'),Path('/content/drive/.shortcut-targets-by-id/17C-FeV89lWfoxThc1mu8REz8adMDfNfP/BTTAI_AmericanExpress1/datasets/sampleDataset/frames/datasheet001_frames/datasheet001_frames_00002.jpg'),Path('/content/drive/.shortcut-targets-by-id/17C-FeV89lWfoxThc1mu8REz8adMDfNfP/BTTAI_AmericanExpress1/datasets/sampleDataset/frames/datasheet001_frames/datasheet001_frames_00003.jpg'),Path('/content/drive/.shortcut-targets-by-id/17C-FeV89lWfoxThc1mu8REz8adMDfNfP/BTTAI_AmericanExpress1/datasets/sampleDataset/frames/datasheet001_frames/datasheet001_frames_00004.jpg'),Path('/content/drive/.shortcut-targets-by-id/17C-FeV89lWfoxThc1mu8REz8adMDfNfP/BTTAI_AmericanExpress1/datasets/sampleDataset/frames/datasheet001_frames/datasheet001_frames_00005.jpg')]"
            ]
          },
          "metadata": {},
          "execution_count": 26
        }
      ]
    },
    {
      "cell_type": "code",
      "source": [
        "dls = frames.dataloaders(files)"
      ],
      "metadata": {
        "id": "oW51TbJlrlPv"
      },
      "execution_count": null,
      "outputs": []
    },
    {
      "cell_type": "code",
      "source": [
        "dls.c = 1"
      ],
      "metadata": {
        "id": "JW5hmugTPc5U"
      },
      "execution_count": null,
      "outputs": []
    },
    {
      "cell_type": "code",
      "source": [
        "dls.show_batch()"
      ],
      "metadata": {
        "colab": {
          "base_uri": "https://localhost:8080/",
          "height": 520
        },
        "id": "eoeTDRZzPeVA",
        "outputId": "3591e4bc-7cd7-4668-a96f-ba07bcae4f71"
      },
      "execution_count": null,
      "outputs": [
        {
          "output_type": "display_data",
          "data": {
            "text/plain": [
              "<Figure size 648x648 with 9 Axes>"
            ],
            "image/png": "[encoded data removed]"
          },
          "metadata": {
            "needs_background": "light"
          }
        }
      ]
    },
    {
      "cell_type": "markdown",
      "source": [
        "### Model"
      ],
      "metadata": {
        "id": "4X_Mt_QORuHW"
      }
    },
    {
      "cell_type": "code",
      "source": [
        "!pip install wwf"
      ],
      "metadata": {
        "id": "1mYOQrFIVaWy"
      },
      "execution_count": null,
      "outputs": []
    },
    {
      "cell_type": "code",
      "source": [
        "from wwf.vision.object_detection import * # use RetinaNet"
      ],
      "metadata": {
        "id": "EJrlMJupRvUD"
      },
      "execution_count": null,
      "outputs": []
    },
    {
      "cell_type": "code",
      "source": [
        "encoder = create_body(resnet34(), pretrained=True) # use transfer learning here by creating an encoder (body) of our model and a head"
      ],
      "metadata": {
        "id": "4UshOeN4R7Xk"
      },
      "execution_count": null,
      "outputs": []
    },
    {
      "cell_type": "code",
      "source": [
        "get_c(dls)"
      ],
      "metadata": {
        "colab": {
          "base_uri": "https://localhost:8080/"
        },
        "id": "6Xy5JixwUT8_",
        "outputId": "3c04eb9c-5339-4c38-c6c9-6711ebaf8086"
      },
      "execution_count": null,
      "outputs": [
        {
          "output_type": "execute_result",
          "data": {
            "text/plain": [
              "1"
            ]
          },
          "metadata": {},
          "execution_count": 35
        }
      ]
    },
    {
      "cell_type": "code",
      "source": [
        "arch = RetinaNet(encoder, get_c(dls), final_bias=-4)"
      ],
      "metadata": {
        "id": "mCQFcECPUWgY"
      },
      "execution_count": null,
      "outputs": []
    },
    {
      "cell_type": "code",
      "source": [
        "create_head(124, 4)"
      ],
      "metadata": {
        "colab": {
          "base_uri": "https://localhost:8080/"
        },
        "id": "6Z6htqOZUZ1m",
        "outputId": "50f0ab41-549f-470c-8465-40ac7b4a1f5a"
      },
      "execution_count": null,
      "outputs": [
        {
          "output_type": "execute_result",
          "data": {
            "text/plain": [
              "Sequential(\n",
              "  (0): AdaptiveConcatPool2d(\n",
              "    (ap): AdaptiveAvgPool2d(output_size=1)\n",
              "    (mp): AdaptiveMaxPool2d(output_size=1)\n",
              "  )\n",
              "  (1): fastai.layers.Flatten(full=False)\n",
              "  (2): BatchNorm1d(248, eps=1e-05, momentum=0.1, affine=True, track_running_stats=True)\n",
              "  (3): Dropout(p=0.25, inplace=False)\n",
              "  (4): Linear(in_features=248, out_features=512, bias=False)\n",
              "  (5): ReLU(inplace=True)\n",
              "  (6): BatchNorm1d(512, eps=1e-05, momentum=0.1, affine=True, track_running_stats=True)\n",
              "  (7): Dropout(p=0.5, inplace=False)\n",
              "  (8): Linear(in_features=512, out_features=4, bias=False)\n",
              ")"
            ]
          },
          "metadata": {},
          "execution_count": 37
        }
      ]
    },
    {
      "cell_type": "markdown",
      "source": [
        "We have one with a smoother, a classifer, and a box_regressor (to get our points)\n"
      ],
      "metadata": {
        "id": "pKFwd6EqUyss"
      }
    },
    {
      "cell_type": "code",
      "source": [
        "arch.smoothers"
      ],
      "metadata": {
        "colab": {
          "base_uri": "https://localhost:8080/"
        },
        "id": "rS_T4kLOUeDo",
        "outputId": "de7b24b9-cae7-4836-9355-36c6a7fdc00d"
      },
      "execution_count": null,
      "outputs": [
        {
          "output_type": "execute_result",
          "data": {
            "text/plain": [
              "ModuleList(\n",
              "  (0): Conv2d(256, 256, kernel_size=(3, 3), stride=(1, 1), padding=(1, 1))\n",
              "  (1): Conv2d(256, 256, kernel_size=(3, 3), stride=(1, 1), padding=(1, 1))\n",
              "  (2): Conv2d(256, 256, kernel_size=(3, 3), stride=(1, 1), padding=(1, 1))\n",
              ")"
            ]
          },
          "metadata": {},
          "execution_count": 38
        }
      ]
    },
    {
      "cell_type": "code",
      "source": [
        "arch.classifier"
      ],
      "metadata": {
        "colab": {
          "base_uri": "https://localhost:8080/"
        },
        "id": "H_au8GWYUv7c",
        "outputId": "83b16aa5-0a23-4b5c-c837-1b5e61c197b3"
      },
      "execution_count": null,
      "outputs": [
        {
          "output_type": "execute_result",
          "data": {
            "text/plain": [
              "Sequential(\n",
              "  (0): ConvLayer(\n",
              "    (0): Conv2d(256, 256, kernel_size=(3, 3), stride=(1, 1), padding=(1, 1))\n",
              "    (1): ReLU()\n",
              "  )\n",
              "  (1): ConvLayer(\n",
              "    (0): Conv2d(256, 256, kernel_size=(3, 3), stride=(1, 1), padding=(1, 1))\n",
              "    (1): ReLU()\n",
              "  )\n",
              "  (2): ConvLayer(\n",
              "    (0): Conv2d(256, 256, kernel_size=(3, 3), stride=(1, 1), padding=(1, 1))\n",
              "    (1): ReLU()\n",
              "  )\n",
              "  (3): ConvLayer(\n",
              "    (0): Conv2d(256, 256, kernel_size=(3, 3), stride=(1, 1), padding=(1, 1))\n",
              "    (1): ReLU()\n",
              "  )\n",
              "  (4): Conv2d(256, 9, kernel_size=(3, 3), stride=(1, 1), padding=(1, 1))\n",
              ")"
            ]
          },
          "metadata": {},
          "execution_count": 42
        }
      ]
    },
    {
      "cell_type": "code",
      "source": [
        "arch.box_regressor"
      ],
      "metadata": {
        "colab": {
          "base_uri": "https://localhost:8080/"
        },
        "id": "gRpoh-mNUkrk",
        "outputId": "0116ff44-1a85-4a20-b40c-0aeadf113b68"
      },
      "execution_count": null,
      "outputs": [
        {
          "output_type": "execute_result",
          "data": {
            "text/plain": [
              "Sequential(\n",
              "  (0): ConvLayer(\n",
              "    (0): Conv2d(256, 256, kernel_size=(3, 3), stride=(1, 1), padding=(1, 1))\n",
              "    (1): ReLU()\n",
              "  )\n",
              "  (1): ConvLayer(\n",
              "    (0): Conv2d(256, 256, kernel_size=(3, 3), stride=(1, 1), padding=(1, 1))\n",
              "    (1): ReLU()\n",
              "  )\n",
              "  (2): ConvLayer(\n",
              "    (0): Conv2d(256, 256, kernel_size=(3, 3), stride=(1, 1), padding=(1, 1))\n",
              "    (1): ReLU()\n",
              "  )\n",
              "  (3): ConvLayer(\n",
              "    (0): Conv2d(256, 256, kernel_size=(3, 3), stride=(1, 1), padding=(1, 1))\n",
              "    (1): ReLU()\n",
              "  )\n",
              "  (4): Conv2d(256, 36, kernel_size=(3, 3), stride=(1, 1), padding=(1, 1))\n",
              ")"
            ]
          },
          "metadata": {},
          "execution_count": 40
        }
      ]
    },
    {
      "cell_type": "markdown",
      "source": [
        "For RetinaNet to work, we need to define what the aspect ratio's and scales of our image should be."
      ],
      "metadata": {
        "id": "90Lx1iO7WUua"
      }
    },
    {
      "cell_type": "code",
      "source": [
        "ratios = [1/2,1,2]\n",
        "scales = [1,2**(-1/3), 2**(-2/3)]"
      ],
      "metadata": {
        "id": "bUtKi131WJN5"
      },
      "execution_count": null,
      "outputs": []
    },
    {
      "cell_type": "markdown",
      "source": [
        "### Loss Function"
      ],
      "metadata": {
        "id": "pQmjCFW7WMPI"
      }
    },
    {
      "cell_type": "markdown",
      "source": [
        "Our loss function"
      ],
      "metadata": {
        "id": "Rw7xXJ7pWeXU"
      }
    },
    {
      "cell_type": "code",
      "source": [
        "crit = RetinaNetFocalLoss(scales=scales, ratios=ratios)"
      ],
      "metadata": {
        "id": "I00M6WaPWXFv"
      },
      "execution_count": null,
      "outputs": []
    },
    {
      "cell_type": "markdown",
      "source": [
        "Our learner"
      ],
      "metadata": {
        "id": "OORQFiFNWfpW"
      }
    },
    {
      "cell_type": "code",
      "source": [
        "def _retinanet_split(m): return L(m.encoder,nn.Sequential(m.c5top6, m.p6top7, m.merges, m.smoothers, m.classifier, m.box_regressor)).map(params)"
      ],
      "metadata": {
        "id": "TLzOjBbKWcPA"
      },
      "execution_count": null,
      "outputs": []
    },
    {
      "cell_type": "code",
      "source": [
        "learn = Learner(dls, arch, loss_func=crit, splitter=_retinanet_split)"
      ],
      "metadata": {
        "id": "P4EPwBnlWiVd"
      },
      "execution_count": null,
      "outputs": []
    },
    {
      "cell_type": "code",
      "source": [
        "learn.freeze()"
      ],
      "metadata": {
        "id": "8JPk4JDUWj5w"
      },
      "execution_count": null,
      "outputs": []
    },
    {
      "cell_type": "markdown",
      "source": [
        "Train"
      ],
      "metadata": {
        "id": "oq2pwzr_Wm2J"
      }
    },
    {
      "cell_type": "code",
      "source": [
        "learn.fit_one_cycle(10, slice(1e-5, 1e-4))"
      ],
      "metadata": {
        "id": "sBUyHZIAWlVd",
        "colab": {
          "base_uri": "https://localhost:8080/",
          "height": 363
        },
        "outputId": "9c1a34d8-557d-4a1a-93a9-058fc2135c53"
      },
      "execution_count": null,
      "outputs": [
        {
          "output_type": "display_data",
          "data": {
            "text/plain": [
              "<IPython.core.display.HTML object>"
            ],
            "text/html": [
              "\n",
              "<style>\n",
              "    /* Turns off some styling */\n",
              "    progress {\n",
              "        /* gets rid of default border in Firefox and Opera. */\n",
              "        border: none;\n",
              "        /* Needs to be in here for Safari polyfill so background images work as expected. */\n",
              "        background-size: auto;\n",
              "    }\n",
              "    progress:not([value]), progress:not([value])::-webkit-progress-bar {\n",
              "        background: repeating-linear-gradient(45deg, #7e7e7e, #7e7e7e 10px, #5c5c5c 10px, #5c5c5c 20px);\n",
              "    }\n",
              "    .progress-bar-interrupted, .progress-bar-interrupted::-webkit-progress-bar {\n",
              "        background: #F44336;\n",
              "    }\n",
              "</style>\n"
            ]
          },
          "metadata": {}
        },
        {
          "output_type": "display_data",
          "data": {
            "text/plain": [
              "<IPython.core.display.HTML object>"
            ],
            "text/html": [
              "<table border=\"1\" class=\"dataframe\">\n",
              "  <thead>\n",
              "    <tr style=\"text-align: left;\">\n",
              "      <th>epoch</th>\n",
              "      <th>train_loss</th>\n",
              "      <th>valid_loss</th>\n",
              "      <th>time</th>\n",
              "    </tr>\n",
              "  </thead>\n",
              "  <tbody>\n",
              "    <tr>\n",
              "      <td>0</td>\n",
              "      <td>3.670211</td>\n",
              "      <td>3.441589</td>\n",
              "      <td>00:15</td>\n",
              "    </tr>\n",
              "    <tr>\n",
              "      <td>1</td>\n",
              "      <td>3.480963</td>\n",
              "      <td>3.147752</td>\n",
              "      <td>00:11</td>\n",
              "    </tr>\n",
              "    <tr>\n",
              "      <td>2</td>\n",
              "      <td>2.943281</td>\n",
              "      <td>2.192409</td>\n",
              "      <td>00:16</td>\n",
              "    </tr>\n",
              "    <tr>\n",
              "      <td>3</td>\n",
              "      <td>2.694649</td>\n",
              "      <td>2.863556</td>\n",
              "      <td>00:12</td>\n",
              "    </tr>\n",
              "    <tr>\n",
              "      <td>4</td>\n",
              "      <td>2.508749</td>\n",
              "      <td>2.896998</td>\n",
              "      <td>00:11</td>\n",
              "    </tr>\n",
              "    <tr>\n",
              "      <td>5</td>\n",
              "      <td>2.376828</td>\n",
              "      <td>2.642549</td>\n",
              "      <td>00:11</td>\n",
              "    </tr>\n",
              "    <tr>\n",
              "      <td>6</td>\n",
              "      <td>2.220703</td>\n",
              "      <td>2.297852</td>\n",
              "      <td>00:11</td>\n",
              "    </tr>\n",
              "    <tr>\n",
              "      <td>7</td>\n",
              "      <td>2.073781</td>\n",
              "      <td>1.993115</td>\n",
              "      <td>00:12</td>\n",
              "    </tr>\n",
              "    <tr>\n",
              "      <td>8</td>\n",
              "      <td>1.986817</td>\n",
              "      <td>1.861703</td>\n",
              "      <td>00:12</td>\n",
              "    </tr>\n",
              "    <tr>\n",
              "      <td>9</td>\n",
              "      <td>1.913177</td>\n",
              "      <td>1.788226</td>\n",
              "      <td>00:11</td>\n",
              "    </tr>\n",
              "  </tbody>\n",
              "</table>"
            ]
          },
          "metadata": {}
        }
      ]
    },
    {
      "cell_type": "markdown",
      "source": [
        "## For the whole sample dataset"
      ],
      "metadata": {
        "id": "IpA8vfTAxCdG"
      }
    },
    {
      "cell_type": "code",
      "source": [
        "# cell for imports - add as needed\n",
        "import torch \n",
        "import cv2\n",
        "import numpy as np \n",
        "import pandas as pd\n",
        "import os, os.path\n",
        "import re\n",
        "from fastai.vision.all import *"
      ],
      "metadata": {
        "id": "3C9CUIqpxF1W"
      },
      "execution_count": 2,
      "outputs": []
    },
    {
      "cell_type": "markdown",
      "source": [
        "### Data"
      ],
      "metadata": {
        "id": "Hd9Gf13RxfYa"
      }
    },
    {
      "cell_type": "code",
      "source": [
        "# get all frames with documents\n",
        "files = get_image_files('/content/drive/MyDrive/BTTAI_AmericanExpress1/datasets/sampleDataset/frames_bb/datasheet001_frames') \n",
        "files += get_image_files('/content/drive/MyDrive/BTTAI_AmericanExpress1/datasets/sampleDataset/frames_bb/letter001_frames') \n",
        "files += get_image_files('/content/drive/MyDrive/BTTAI_AmericanExpress1/datasets/sampleDataset/frames_bb/magazine001_frames') \n",
        "len(files)"
      ],
      "metadata": {
        "outputId": "fd0a5aee-2241-4688-9db5-3ba32751d03a",
        "colab": {
          "base_uri": "https://localhost:8080/"
        },
        "id": "ZtvLA5LzxfYa"
      },
      "execution_count": 71,
      "outputs": [
        {
          "output_type": "execute_result",
          "data": {
            "text/plain": [
              "588"
            ]
          },
          "metadata": {},
          "execution_count": 71
        }
      ]
    },
    {
      "cell_type": "code",
      "source": [
        "# import bounding box datasheet csv\n",
        "# use datasheet001 as csv instead of xml\n",
        "url_ds ='https://drive.google.com/file/d/1lUoBf1rwPXPlI9Zg2lDzwV4ODtsGJ4u2/view?usp=sharing'\n",
        "url_ds ='https://drive.google.com/uc?id=' + url_ds.split('/')[-2]\n",
        "df_ds = pd.read_csv(url_ds)\n",
        "print(df_ds.shape)\n",
        "df_ds.head()"
      ],
      "metadata": {
        "colab": {
          "base_uri": "https://localhost:8080/",
          "height": 288
        },
        "outputId": "b92fea82-1c9f-4ee6-9580-822b7487e9ff",
        "id": "ximtlbFJxfYa"
      },
      "execution_count": 6,
      "outputs": [
        {
          "output_type": "stream",
          "name": "stdout",
          "text": [
            "(214, 14)\n"
          ]
        },
        {
          "output_type": "execute_result",
          "data": {
            "text/plain": [
              "  point/0/_name  point/0/_x  point/0/_y point/1/_name  point/1/_x  point/1/_y  \\\n",
              "0            bl     716.625     805.609            tl     737.377     201.383   \n",
              "1            bl     714.326     806.309            tl     736.330     202.300   \n",
              "2            bl     713.031     804.811            tl     734.431     201.449   \n",
              "3            bl     713.845     802.659            tl     734.423     198.474   \n",
              "4            bl     713.088     802.830            tl     734.675     195.678   \n",
              "\n",
              "  point/2/_name  point/2/_x  point/2/_y point/3/_name  point/3/_x  point/3/_y  \\\n",
              "0            tr     1180.71     199.127            br     1259.02     791.942   \n",
              "1            tr     1179.74     200.028            br     1257.21     792.161   \n",
              "2            tr     1177.81     199.795            br     1255.42     791.291   \n",
              "3            tr     1177.79     196.852            br     1256.72     789.631   \n",
              "4            tr     1179.99     194.057            br     1259.35     790.289   \n",
              "\n",
              "   _index  _rejected  \n",
              "0       1      False  \n",
              "1       2      False  \n",
              "2       3      False  \n",
              "3       4      False  \n",
              "4       5      False  "
            ],
            "text/html": [
              "\n",
              "  <div id=\"df-491d71bc-c1db-4802-8837-aa3879029056\">\n",
              "    <div class=\"colab-df-container\">\n",
              "      <div>\n",
              "<style scoped>\n",
              "    .dataframe tbody tr th:only-of-type {\n",
              "        vertical-align: middle;\n",
              "    }\n",
              "\n",
              "    .dataframe tbody tr th {\n",
              "        vertical-align: top;\n",
              "    }\n",
              "\n",
              "    .dataframe thead th {\n",
              "        text-align: right;\n",
              "    }\n",
              "</style>\n",
              "<table border=\"1\" class=\"dataframe\">\n",
              "  <thead>\n",
              "    <tr style=\"text-align: right;\">\n",
              "      <th></th>\n",
              "      <th>point/0/_name</th>\n",
              "      <th>point/0/_x</th>\n",
              "      <th>point/0/_y</th>\n",
              "      <th>point/1/_name</th>\n",
              "      <th>point/1/_x</th>\n",
              "      <th>point/1/_y</th>\n",
              "      <th>point/2/_name</th>\n",
              "      <th>point/2/_x</th>\n",
              "      <th>point/2/_y</th>\n",
              "      <th>point/3/_name</th>\n",
              "      <th>point/3/_x</th>\n",
              "      <th>point/3/_y</th>\n",
              "      <th>_index</th>\n",
              "      <th>_rejected</th>\n",
              "    </tr>\n",
              "  </thead>\n",
              "  <tbody>\n",
              "    <tr>\n",
              "      <th>0</th>\n",
              "      <td>bl</td>\n",
              "      <td>716.625</td>\n",
              "      <td>805.609</td>\n",
              "      <td>tl</td>\n",
              "      <td>737.377</td>\n",
              "      <td>201.383</td>\n",
              "      <td>tr</td>\n",
              "      <td>1180.71</td>\n",
              "      <td>199.127</td>\n",
              "      <td>br</td>\n",
              "      <td>1259.02</td>\n",
              "      <td>791.942</td>\n",
              "      <td>1</td>\n",
              "      <td>False</td>\n",
              "    </tr>\n",
              "    <tr>\n",
              "      <th>1</th>\n",
              "      <td>bl</td>\n",
              "      <td>714.326</td>\n",
              "      <td>806.309</td>\n",
              "      <td>tl</td>\n",
              "      <td>736.330</td>\n",
              "      <td>202.300</td>\n",
              "      <td>tr</td>\n",
              "      <td>1179.74</td>\n",
              "      <td>200.028</td>\n",
              "      <td>br</td>\n",
              "      <td>1257.21</td>\n",
              "      <td>792.161</td>\n",
              "      <td>2</td>\n",
              "      <td>False</td>\n",
              "    </tr>\n",
              "    <tr>\n",
              "      <th>2</th>\n",
              "      <td>bl</td>\n",
              "      <td>713.031</td>\n",
              "      <td>804.811</td>\n",
              "      <td>tl</td>\n",
              "      <td>734.431</td>\n",
              "      <td>201.449</td>\n",
              "      <td>tr</td>\n",
              "      <td>1177.81</td>\n",
              "      <td>199.795</td>\n",
              "      <td>br</td>\n",
              "      <td>1255.42</td>\n",
              "      <td>791.291</td>\n",
              "      <td>3</td>\n",
              "      <td>False</td>\n",
              "    </tr>\n",
              "    <tr>\n",
              "      <th>3</th>\n",
              "      <td>bl</td>\n",
              "      <td>713.845</td>\n",
              "      <td>802.659</td>\n",
              "      <td>tl</td>\n",
              "      <td>734.423</td>\n",
              "      <td>198.474</td>\n",
              "      <td>tr</td>\n",
              "      <td>1177.79</td>\n",
              "      <td>196.852</td>\n",
              "      <td>br</td>\n",
              "      <td>1256.72</td>\n",
              "      <td>789.631</td>\n",
              "      <td>4</td>\n",
              "      <td>False</td>\n",
              "    </tr>\n",
              "    <tr>\n",
              "      <th>4</th>\n",
              "      <td>bl</td>\n",
              "      <td>713.088</td>\n",
              "      <td>802.830</td>\n",
              "      <td>tl</td>\n",
              "      <td>734.675</td>\n",
              "      <td>195.678</td>\n",
              "      <td>tr</td>\n",
              "      <td>1179.99</td>\n",
              "      <td>194.057</td>\n",
              "      <td>br</td>\n",
              "      <td>1259.35</td>\n",
              "      <td>790.289</td>\n",
              "      <td>5</td>\n",
              "      <td>False</td>\n",
              "    </tr>\n",
              "  </tbody>\n",
              "</table>\n",
              "</div>\n",
              "      <button class=\"colab-df-convert\" onclick=\"convertToInteractive('df-491d71bc-c1db-4802-8837-aa3879029056')\"\n",
              "              title=\"Convert this dataframe to an interactive table.\"\n",
              "              style=\"display:none;\">\n",
              "        \n",
              "  <svg xmlns=\"http://www.w3.org/2000/svg\" height=\"24px\"viewBox=\"0 0 24 24\"\n",
              "       width=\"24px\">\n",
              "    <path d=\"M0 0h24v24H0V0z\" fill=\"none\"/>\n",
              "    <path d=\"M18.56 5.44l.94 2.06.94-2.06 2.06-.94-2.06-.94-.94-2.06-.94 2.06-2.06.94zm-11 1L8.5 8.5l.94-2.06 2.06-.94-2.06-.94L8.5 2.5l-.94 2.06-2.06.94zm10 10l.94 2.06.94-2.06 2.06-.94-2.06-.94-.94-2.06-.94 2.06-2.06.94z\"/><path d=\"M17.41 7.96l-1.37-1.37c-.4-.4-.92-.59-1.43-.59-.52 0-1.04.2-1.43.59L10.3 9.45l-7.72 7.72c-.78.78-.78 2.05 0 2.83L4 21.41c.39.39.9.59 1.41.59.51 0 1.02-.2 1.41-.59l7.78-7.78 2.81-2.81c.8-.78.8-2.07 0-2.86zM5.41 20L4 18.59l7.72-7.72 1.47 1.35L5.41 20z\"/>\n",
              "  </svg>\n",
              "      </button>\n",
              "      \n",
              "  <style>\n",
              "    .colab-df-container {\n",
              "      display:flex;\n",
              "      flex-wrap:wrap;\n",
              "      gap: 12px;\n",
              "    }\n",
              "\n",
              "    .colab-df-convert {\n",
              "      background-color: #E8F0FE;\n",
              "      border: none;\n",
              "      border-radius: 50%;\n",
              "      cursor: pointer;\n",
              "      display: none;\n",
              "      fill: #1967D2;\n",
              "      height: 32px;\n",
              "      padding: 0 0 0 0;\n",
              "      width: 32px;\n",
              "    }\n",
              "\n",
              "    .colab-df-convert:hover {\n",
              "      background-color: #E2EBFA;\n",
              "      box-shadow: 0px 1px 2px rgba(60, 64, 67, 0.3), 0px 1px 3px 1px rgba(60, 64, 67, 0.15);\n",
              "      fill: #174EA6;\n",
              "    }\n",
              "\n",
              "    [theme=dark] .colab-df-convert {\n",
              "      background-color: #3B4455;\n",
              "      fill: #D2E3FC;\n",
              "    }\n",
              "\n",
              "    [theme=dark] .colab-df-convert:hover {\n",
              "      background-color: #434B5C;\n",
              "      box-shadow: 0px 1px 3px 1px rgba(0, 0, 0, 0.15);\n",
              "      filter: drop-shadow(0px 1px 2px rgba(0, 0, 0, 0.3));\n",
              "      fill: #FFFFFF;\n",
              "    }\n",
              "  </style>\n",
              "\n",
              "      <script>\n",
              "        const buttonEl =\n",
              "          document.querySelector('#df-491d71bc-c1db-4802-8837-aa3879029056 button.colab-df-convert');\n",
              "        buttonEl.style.display =\n",
              "          google.colab.kernel.accessAllowed ? 'block' : 'none';\n",
              "\n",
              "        async function convertToInteractive(key) {\n",
              "          const element = document.querySelector('#df-491d71bc-c1db-4802-8837-aa3879029056');\n",
              "          const dataTable =\n",
              "            await google.colab.kernel.invokeFunction('convertToInteractive',\n",
              "                                                     [key], {});\n",
              "          if (!dataTable) return;\n",
              "\n",
              "          const docLinkHtml = 'Like what you see? Visit the ' +\n",
              "            '<a target=\"_blank\" href=https://colab.research.google.com/notebooks/data_table.ipynb>data table notebook</a>'\n",
              "            + ' to learn more about interactive tables.';\n",
              "          element.innerHTML = '';\n",
              "          dataTable['output_type'] = 'display_data';\n",
              "          await google.colab.output.renderOutput(dataTable, element);\n",
              "          const docLink = document.createElement('div');\n",
              "          docLink.innerHTML = docLinkHtml;\n",
              "          element.appendChild(docLink);\n",
              "        }\n",
              "      </script>\n",
              "    </div>\n",
              "  </div>\n",
              "  "
            ]
          },
          "metadata": {},
          "execution_count": 6
        }
      ]
    },
    {
      "cell_type": "code",
      "source": [
        "# import bounding box letter csv\n",
        "url_letter ='https://raw.githubusercontent.com/alixintong/btt-ai-know-your-customer/jess/csv_files/letter001.gt.csv'\n",
        "df_letter = pd.read_csv(url_letter)\n",
        "print(df_letter.shape)\n",
        "df_letter.head()\n"
      ],
      "metadata": {
        "colab": {
          "base_uri": "https://localhost:8080/",
          "height": 288
        },
        "id": "ThBQ-xyE1o-k",
        "outputId": "0c2e1587-b7c7-403e-8cd8-02777e715cbe"
      },
      "execution_count": 7,
      "outputs": [
        {
          "output_type": "stream",
          "name": "stdout",
          "text": [
            "(176, 14)\n"
          ]
        },
        {
          "output_type": "execute_result",
          "data": {
            "text/plain": [
              "  point/0/_name  point/0/_x  point/0/_y point/1/_name  point/1/_x  point/1/_y  \\\n",
              "0            bl     703.838     821.867            tl     698.301     223.969   \n",
              "1            bl     702.118     822.136            tl     696.436     224.119   \n",
              "2            bl     701.706     823.286            tl     696.182     225.742   \n",
              "3            bl     702.937     823.223            tl     697.259     226.687   \n",
              "4            bl     703.555     821.741            tl     698.101     225.573   \n",
              "\n",
              "  point/2/_name  point/2/_x  point/2/_y point/3/_name  point/3/_x  point/3/_y  \\\n",
              "0            tr     1127.11     225.648            br     1216.89     799.264   \n",
              "1            tr     1125.88     226.403            br     1215.78     800.164   \n",
              "2            tr     1124.90     227.576            br     1215.36     801.663   \n",
              "3            tr     1125.50     229.178            br     1215.80     801.339   \n",
              "4            tr     1126.22     228.164            br     1216.56     800.871   \n",
              "\n",
              "   _index  _rejected  \n",
              "0       1      False  \n",
              "1       2      False  \n",
              "2       3      False  \n",
              "3       4      False  \n",
              "4       5      False  "
            ],
            "text/html": [
              "\n",
              "  <div id=\"df-71cf43df-87e5-4626-ba79-98127da8174e\">\n",
              "    <div class=\"colab-df-container\">\n",
              "      <div>\n",
              "<style scoped>\n",
              "    .dataframe tbody tr th:only-of-type {\n",
              "        vertical-align: middle;\n",
              "    }\n",
              "\n",
              "    .dataframe tbody tr th {\n",
              "        vertical-align: top;\n",
              "    }\n",
              "\n",
              "    .dataframe thead th {\n",
              "        text-align: right;\n",
              "    }\n",
              "</style>\n",
              "<table border=\"1\" class=\"dataframe\">\n",
              "  <thead>\n",
              "    <tr style=\"text-align: right;\">\n",
              "      <th></th>\n",
              "      <th>point/0/_name</th>\n",
              "      <th>point/0/_x</th>\n",
              "      <th>point/0/_y</th>\n",
              "      <th>point/1/_name</th>\n",
              "      <th>point/1/_x</th>\n",
              "      <th>point/1/_y</th>\n",
              "      <th>point/2/_name</th>\n",
              "      <th>point/2/_x</th>\n",
              "      <th>point/2/_y</th>\n",
              "      <th>point/3/_name</th>\n",
              "      <th>point/3/_x</th>\n",
              "      <th>point/3/_y</th>\n",
              "      <th>_index</th>\n",
              "      <th>_rejected</th>\n",
              "    </tr>\n",
              "  </thead>\n",
              "  <tbody>\n",
              "    <tr>\n",
              "      <th>0</th>\n",
              "      <td>bl</td>\n",
              "      <td>703.838</td>\n",
              "      <td>821.867</td>\n",
              "      <td>tl</td>\n",
              "      <td>698.301</td>\n",
              "      <td>223.969</td>\n",
              "      <td>tr</td>\n",
              "      <td>1127.11</td>\n",
              "      <td>225.648</td>\n",
              "      <td>br</td>\n",
              "      <td>1216.89</td>\n",
              "      <td>799.264</td>\n",
              "      <td>1</td>\n",
              "      <td>False</td>\n",
              "    </tr>\n",
              "    <tr>\n",
              "      <th>1</th>\n",
              "      <td>bl</td>\n",
              "      <td>702.118</td>\n",
              "      <td>822.136</td>\n",
              "      <td>tl</td>\n",
              "      <td>696.436</td>\n",
              "      <td>224.119</td>\n",
              "      <td>tr</td>\n",
              "      <td>1125.88</td>\n",
              "      <td>226.403</td>\n",
              "      <td>br</td>\n",
              "      <td>1215.78</td>\n",
              "      <td>800.164</td>\n",
              "      <td>2</td>\n",
              "      <td>False</td>\n",
              "    </tr>\n",
              "    <tr>\n",
              "      <th>2</th>\n",
              "      <td>bl</td>\n",
              "      <td>701.706</td>\n",
              "      <td>823.286</td>\n",
              "      <td>tl</td>\n",
              "      <td>696.182</td>\n",
              "      <td>225.742</td>\n",
              "      <td>tr</td>\n",
              "      <td>1124.90</td>\n",
              "      <td>227.576</td>\n",
              "      <td>br</td>\n",
              "      <td>1215.36</td>\n",
              "      <td>801.663</td>\n",
              "      <td>3</td>\n",
              "      <td>False</td>\n",
              "    </tr>\n",
              "    <tr>\n",
              "      <th>3</th>\n",
              "      <td>bl</td>\n",
              "      <td>702.937</td>\n",
              "      <td>823.223</td>\n",
              "      <td>tl</td>\n",
              "      <td>697.259</td>\n",
              "      <td>226.687</td>\n",
              "      <td>tr</td>\n",
              "      <td>1125.50</td>\n",
              "      <td>229.178</td>\n",
              "      <td>br</td>\n",
              "      <td>1215.80</td>\n",
              "      <td>801.339</td>\n",
              "      <td>4</td>\n",
              "      <td>False</td>\n",
              "    </tr>\n",
              "    <tr>\n",
              "      <th>4</th>\n",
              "      <td>bl</td>\n",
              "      <td>703.555</td>\n",
              "      <td>821.741</td>\n",
              "      <td>tl</td>\n",
              "      <td>698.101</td>\n",
              "      <td>225.573</td>\n",
              "      <td>tr</td>\n",
              "      <td>1126.22</td>\n",
              "      <td>228.164</td>\n",
              "      <td>br</td>\n",
              "      <td>1216.56</td>\n",
              "      <td>800.871</td>\n",
              "      <td>5</td>\n",
              "      <td>False</td>\n",
              "    </tr>\n",
              "  </tbody>\n",
              "</table>\n",
              "</div>\n",
              "      <button class=\"colab-df-convert\" onclick=\"convertToInteractive('df-71cf43df-87e5-4626-ba79-98127da8174e')\"\n",
              "              title=\"Convert this dataframe to an interactive table.\"\n",
              "              style=\"display:none;\">\n",
              "        \n",
              "  <svg xmlns=\"http://www.w3.org/2000/svg\" height=\"24px\"viewBox=\"0 0 24 24\"\n",
              "       width=\"24px\">\n",
              "    <path d=\"M0 0h24v24H0V0z\" fill=\"none\"/>\n",
              "    <path d=\"M18.56 5.44l.94 2.06.94-2.06 2.06-.94-2.06-.94-.94-2.06-.94 2.06-2.06.94zm-11 1L8.5 8.5l.94-2.06 2.06-.94-2.06-.94L8.5 2.5l-.94 2.06-2.06.94zm10 10l.94 2.06.94-2.06 2.06-.94-2.06-.94-.94-2.06-.94 2.06-2.06.94z\"/><path d=\"M17.41 7.96l-1.37-1.37c-.4-.4-.92-.59-1.43-.59-.52 0-1.04.2-1.43.59L10.3 9.45l-7.72 7.72c-.78.78-.78 2.05 0 2.83L4 21.41c.39.39.9.59 1.41.59.51 0 1.02-.2 1.41-.59l7.78-7.78 2.81-2.81c.8-.78.8-2.07 0-2.86zM5.41 20L4 18.59l7.72-7.72 1.47 1.35L5.41 20z\"/>\n",
              "  </svg>\n",
              "      </button>\n",
              "      \n",
              "  <style>\n",
              "    .colab-df-container {\n",
              "      display:flex;\n",
              "      flex-wrap:wrap;\n",
              "      gap: 12px;\n",
              "    }\n",
              "\n",
              "    .colab-df-convert {\n",
              "      background-color: #E8F0FE;\n",
              "      border: none;\n",
              "      border-radius: 50%;\n",
              "      cursor: pointer;\n",
              "      display: none;\n",
              "      fill: #1967D2;\n",
              "      height: 32px;\n",
              "      padding: 0 0 0 0;\n",
              "      width: 32px;\n",
              "    }\n",
              "\n",
              "    .colab-df-convert:hover {\n",
              "      background-color: #E2EBFA;\n",
              "      box-shadow: 0px 1px 2px rgba(60, 64, 67, 0.3), 0px 1px 3px 1px rgba(60, 64, 67, 0.15);\n",
              "      fill: #174EA6;\n",
              "    }\n",
              "\n",
              "    [theme=dark] .colab-df-convert {\n",
              "      background-color: #3B4455;\n",
              "      fill: #D2E3FC;\n",
              "    }\n",
              "\n",
              "    [theme=dark] .colab-df-convert:hover {\n",
              "      background-color: #434B5C;\n",
              "      box-shadow: 0px 1px 3px 1px rgba(0, 0, 0, 0.15);\n",
              "      filter: drop-shadow(0px 1px 2px rgba(0, 0, 0, 0.3));\n",
              "      fill: #FFFFFF;\n",
              "    }\n",
              "  </style>\n",
              "\n",
              "      <script>\n",
              "        const buttonEl =\n",
              "          document.querySelector('#df-71cf43df-87e5-4626-ba79-98127da8174e button.colab-df-convert');\n",
              "        buttonEl.style.display =\n",
              "          google.colab.kernel.accessAllowed ? 'block' : 'none';\n",
              "\n",
              "        async function convertToInteractive(key) {\n",
              "          const element = document.querySelector('#df-71cf43df-87e5-4626-ba79-98127da8174e');\n",
              "          const dataTable =\n",
              "            await google.colab.kernel.invokeFunction('convertToInteractive',\n",
              "                                                     [key], {});\n",
              "          if (!dataTable) return;\n",
              "\n",
              "          const docLinkHtml = 'Like what you see? Visit the ' +\n",
              "            '<a target=\"_blank\" href=https://colab.research.google.com/notebooks/data_table.ipynb>data table notebook</a>'\n",
              "            + ' to learn more about interactive tables.';\n",
              "          element.innerHTML = '';\n",
              "          dataTable['output_type'] = 'display_data';\n",
              "          await google.colab.output.renderOutput(dataTable, element);\n",
              "          const docLink = document.createElement('div');\n",
              "          docLink.innerHTML = docLinkHtml;\n",
              "          element.appendChild(docLink);\n",
              "        }\n",
              "      </script>\n",
              "    </div>\n",
              "  </div>\n",
              "  "
            ]
          },
          "metadata": {},
          "execution_count": 7
        }
      ]
    },
    {
      "cell_type": "code",
      "source": [
        "# import bounding box magazine csv\n",
        "url_mg ='https://raw.githubusercontent.com/alixintong/btt-ai-know-your-customer/jess/csv_files/magazine001.gt.csv'\n",
        "df_mg = pd.read_csv(url_mg)\n",
        "print(df_mg.shape)\n",
        "df_mg.head()"
      ],
      "metadata": {
        "colab": {
          "base_uri": "https://localhost:8080/",
          "height": 288
        },
        "id": "8dHbrEJ-3Xkx",
        "outputId": "6461cd85-55ac-4b5e-d183-df9fdf673dea"
      },
      "execution_count": 8,
      "outputs": [
        {
          "output_type": "stream",
          "name": "stdout",
          "text": [
            "(198, 14)\n"
          ]
        },
        {
          "output_type": "execute_result",
          "data": {
            "text/plain": [
              "  point/0/_name  point/0/_x  point/0/_y point/1/_name  point/1/_x  point/1/_y  \\\n",
              "0            bl     643.369     788.654            tl     725.440     286.566   \n",
              "1            bl     646.817     786.206            tl     727.790     283.995   \n",
              "2            bl     649.980     785.877            tl     731.489     283.129   \n",
              "3            bl     648.455     786.756            tl     731.316     284.050   \n",
              "4            bl     645.193     785.709            tl     727.231     283.242   \n",
              "\n",
              "  point/2/_name  point/2/_x  point/2/_y point/3/_name  point/3/_x  point/3/_y  \\\n",
              "0            tr     1111.97     248.837            br     1117.02     771.367   \n",
              "1            tr     1114.79     246.905            br     1119.57     769.517   \n",
              "2            tr     1117.30     246.603            br     1121.99     769.330   \n",
              "3            tr     1117.17     247.518            br     1120.94     770.220   \n",
              "4            tr     1114.96     247.235            br     1119.62     768.734   \n",
              "\n",
              "   _index  _rejected  \n",
              "0       1      False  \n",
              "1       2      False  \n",
              "2       3      False  \n",
              "3       4      False  \n",
              "4       5      False  "
            ],
            "text/html": [
              "\n",
              "  <div id=\"df-91759781-ce1d-47f9-8bb8-b579d197f32d\">\n",
              "    <div class=\"colab-df-container\">\n",
              "      <div>\n",
              "<style scoped>\n",
              "    .dataframe tbody tr th:only-of-type {\n",
              "        vertical-align: middle;\n",
              "    }\n",
              "\n",
              "    .dataframe tbody tr th {\n",
              "        vertical-align: top;\n",
              "    }\n",
              "\n",
              "    .dataframe thead th {\n",
              "        text-align: right;\n",
              "    }\n",
              "</style>\n",
              "<table border=\"1\" class=\"dataframe\">\n",
              "  <thead>\n",
              "    <tr style=\"text-align: right;\">\n",
              "      <th></th>\n",
              "      <th>point/0/_name</th>\n",
              "      <th>point/0/_x</th>\n",
              "      <th>point/0/_y</th>\n",
              "      <th>point/1/_name</th>\n",
              "      <th>point/1/_x</th>\n",
              "      <th>point/1/_y</th>\n",
              "      <th>point/2/_name</th>\n",
              "      <th>point/2/_x</th>\n",
              "      <th>point/2/_y</th>\n",
              "      <th>point/3/_name</th>\n",
              "      <th>point/3/_x</th>\n",
              "      <th>point/3/_y</th>\n",
              "      <th>_index</th>\n",
              "      <th>_rejected</th>\n",
              "    </tr>\n",
              "  </thead>\n",
              "  <tbody>\n",
              "    <tr>\n",
              "      <th>0</th>\n",
              "      <td>bl</td>\n",
              "      <td>643.369</td>\n",
              "      <td>788.654</td>\n",
              "      <td>tl</td>\n",
              "      <td>725.440</td>\n",
              "      <td>286.566</td>\n",
              "      <td>tr</td>\n",
              "      <td>1111.97</td>\n",
              "      <td>248.837</td>\n",
              "      <td>br</td>\n",
              "      <td>1117.02</td>\n",
              "      <td>771.367</td>\n",
              "      <td>1</td>\n",
              "      <td>False</td>\n",
              "    </tr>\n",
              "    <tr>\n",
              "      <th>1</th>\n",
              "      <td>bl</td>\n",
              "      <td>646.817</td>\n",
              "      <td>786.206</td>\n",
              "      <td>tl</td>\n",
              "      <td>727.790</td>\n",
              "      <td>283.995</td>\n",
              "      <td>tr</td>\n",
              "      <td>1114.79</td>\n",
              "      <td>246.905</td>\n",
              "      <td>br</td>\n",
              "      <td>1119.57</td>\n",
              "      <td>769.517</td>\n",
              "      <td>2</td>\n",
              "      <td>False</td>\n",
              "    </tr>\n",
              "    <tr>\n",
              "      <th>2</th>\n",
              "      <td>bl</td>\n",
              "      <td>649.980</td>\n",
              "      <td>785.877</td>\n",
              "      <td>tl</td>\n",
              "      <td>731.489</td>\n",
              "      <td>283.129</td>\n",
              "      <td>tr</td>\n",
              "      <td>1117.30</td>\n",
              "      <td>246.603</td>\n",
              "      <td>br</td>\n",
              "      <td>1121.99</td>\n",
              "      <td>769.330</td>\n",
              "      <td>3</td>\n",
              "      <td>False</td>\n",
              "    </tr>\n",
              "    <tr>\n",
              "      <th>3</th>\n",
              "      <td>bl</td>\n",
              "      <td>648.455</td>\n",
              "      <td>786.756</td>\n",
              "      <td>tl</td>\n",
              "      <td>731.316</td>\n",
              "      <td>284.050</td>\n",
              "      <td>tr</td>\n",
              "      <td>1117.17</td>\n",
              "      <td>247.518</td>\n",
              "      <td>br</td>\n",
              "      <td>1120.94</td>\n",
              "      <td>770.220</td>\n",
              "      <td>4</td>\n",
              "      <td>False</td>\n",
              "    </tr>\n",
              "    <tr>\n",
              "      <th>4</th>\n",
              "      <td>bl</td>\n",
              "      <td>645.193</td>\n",
              "      <td>785.709</td>\n",
              "      <td>tl</td>\n",
              "      <td>727.231</td>\n",
              "      <td>283.242</td>\n",
              "      <td>tr</td>\n",
              "      <td>1114.96</td>\n",
              "      <td>247.235</td>\n",
              "      <td>br</td>\n",
              "      <td>1119.62</td>\n",
              "      <td>768.734</td>\n",
              "      <td>5</td>\n",
              "      <td>False</td>\n",
              "    </tr>\n",
              "  </tbody>\n",
              "</table>\n",
              "</div>\n",
              "      <button class=\"colab-df-convert\" onclick=\"convertToInteractive('df-91759781-ce1d-47f9-8bb8-b579d197f32d')\"\n",
              "              title=\"Convert this dataframe to an interactive table.\"\n",
              "              style=\"display:none;\">\n",
              "        \n",
              "  <svg xmlns=\"http://www.w3.org/2000/svg\" height=\"24px\"viewBox=\"0 0 24 24\"\n",
              "       width=\"24px\">\n",
              "    <path d=\"M0 0h24v24H0V0z\" fill=\"none\"/>\n",
              "    <path d=\"M18.56 5.44l.94 2.06.94-2.06 2.06-.94-2.06-.94-.94-2.06-.94 2.06-2.06.94zm-11 1L8.5 8.5l.94-2.06 2.06-.94-2.06-.94L8.5 2.5l-.94 2.06-2.06.94zm10 10l.94 2.06.94-2.06 2.06-.94-2.06-.94-.94-2.06-.94 2.06-2.06.94z\"/><path d=\"M17.41 7.96l-1.37-1.37c-.4-.4-.92-.59-1.43-.59-.52 0-1.04.2-1.43.59L10.3 9.45l-7.72 7.72c-.78.78-.78 2.05 0 2.83L4 21.41c.39.39.9.59 1.41.59.51 0 1.02-.2 1.41-.59l7.78-7.78 2.81-2.81c.8-.78.8-2.07 0-2.86zM5.41 20L4 18.59l7.72-7.72 1.47 1.35L5.41 20z\"/>\n",
              "  </svg>\n",
              "      </button>\n",
              "      \n",
              "  <style>\n",
              "    .colab-df-container {\n",
              "      display:flex;\n",
              "      flex-wrap:wrap;\n",
              "      gap: 12px;\n",
              "    }\n",
              "\n",
              "    .colab-df-convert {\n",
              "      background-color: #E8F0FE;\n",
              "      border: none;\n",
              "      border-radius: 50%;\n",
              "      cursor: pointer;\n",
              "      display: none;\n",
              "      fill: #1967D2;\n",
              "      height: 32px;\n",
              "      padding: 0 0 0 0;\n",
              "      width: 32px;\n",
              "    }\n",
              "\n",
              "    .colab-df-convert:hover {\n",
              "      background-color: #E2EBFA;\n",
              "      box-shadow: 0px 1px 2px rgba(60, 64, 67, 0.3), 0px 1px 3px 1px rgba(60, 64, 67, 0.15);\n",
              "      fill: #174EA6;\n",
              "    }\n",
              "\n",
              "    [theme=dark] .colab-df-convert {\n",
              "      background-color: #3B4455;\n",
              "      fill: #D2E3FC;\n",
              "    }\n",
              "\n",
              "    [theme=dark] .colab-df-convert:hover {\n",
              "      background-color: #434B5C;\n",
              "      box-shadow: 0px 1px 3px 1px rgba(0, 0, 0, 0.15);\n",
              "      filter: drop-shadow(0px 1px 2px rgba(0, 0, 0, 0.3));\n",
              "      fill: #FFFFFF;\n",
              "    }\n",
              "  </style>\n",
              "\n",
              "      <script>\n",
              "        const buttonEl =\n",
              "          document.querySelector('#df-91759781-ce1d-47f9-8bb8-b579d197f32d button.colab-df-convert');\n",
              "        buttonEl.style.display =\n",
              "          google.colab.kernel.accessAllowed ? 'block' : 'none';\n",
              "\n",
              "        async function convertToInteractive(key) {\n",
              "          const element = document.querySelector('#df-91759781-ce1d-47f9-8bb8-b579d197f32d');\n",
              "          const dataTable =\n",
              "            await google.colab.kernel.invokeFunction('convertToInteractive',\n",
              "                                                     [key], {});\n",
              "          if (!dataTable) return;\n",
              "\n",
              "          const docLinkHtml = 'Like what you see? Visit the ' +\n",
              "            '<a target=\"_blank\" href=https://colab.research.google.com/notebooks/data_table.ipynb>data table notebook</a>'\n",
              "            + ' to learn more about interactive tables.';\n",
              "          element.innerHTML = '';\n",
              "          dataTable['output_type'] = 'display_data';\n",
              "          await google.colab.output.renderOutput(dataTable, element);\n",
              "          const docLink = document.createElement('div');\n",
              "          docLink.innerHTML = docLinkHtml;\n",
              "          element.appendChild(docLink);\n",
              "        }\n",
              "      </script>\n",
              "    </div>\n",
              "  </div>\n",
              "  "
            ]
          },
          "metadata": {},
          "execution_count": 8
        }
      ]
    },
    {
      "cell_type": "code",
      "source": [
        "# merge the three dataframes\n",
        "#   datasheet + letter + magazine\n",
        "df = pd.concat([df_ds, df_letter])\n",
        "df = pd.concat([df, df_mg])\n",
        "print(df.shape)\n",
        "df.head()"
      ],
      "metadata": {
        "colab": {
          "base_uri": "https://localhost:8080/",
          "height": 288
        },
        "id": "-A_Izjx33iJA",
        "outputId": "1c2df13e-765f-41ac-e755-13eb1802f051"
      },
      "execution_count": 9,
      "outputs": [
        {
          "output_type": "stream",
          "name": "stdout",
          "text": [
            "(588, 14)\n"
          ]
        },
        {
          "output_type": "execute_result",
          "data": {
            "text/plain": [
              "  point/0/_name  point/0/_x  point/0/_y point/1/_name  point/1/_x  point/1/_y  \\\n",
              "0            bl     716.625     805.609            tl     737.377     201.383   \n",
              "1            bl     714.326     806.309            tl     736.330     202.300   \n",
              "2            bl     713.031     804.811            tl     734.431     201.449   \n",
              "3            bl     713.845     802.659            tl     734.423     198.474   \n",
              "4            bl     713.088     802.830            tl     734.675     195.678   \n",
              "\n",
              "  point/2/_name  point/2/_x  point/2/_y point/3/_name  point/3/_x  point/3/_y  \\\n",
              "0            tr     1180.71     199.127            br     1259.02     791.942   \n",
              "1            tr     1179.74     200.028            br     1257.21     792.161   \n",
              "2            tr     1177.81     199.795            br     1255.42     791.291   \n",
              "3            tr     1177.79     196.852            br     1256.72     789.631   \n",
              "4            tr     1179.99     194.057            br     1259.35     790.289   \n",
              "\n",
              "   _index  _rejected  \n",
              "0       1      False  \n",
              "1       2      False  \n",
              "2       3      False  \n",
              "3       4      False  \n",
              "4       5      False  "
            ],
            "text/html": [
              "\n",
              "  <div id=\"df-f6eb1f6e-b716-4795-a6a4-50c5940a0ab6\">\n",
              "    <div class=\"colab-df-container\">\n",
              "      <div>\n",
              "<style scoped>\n",
              "    .dataframe tbody tr th:only-of-type {\n",
              "        vertical-align: middle;\n",
              "    }\n",
              "\n",
              "    .dataframe tbody tr th {\n",
              "        vertical-align: top;\n",
              "    }\n",
              "\n",
              "    .dataframe thead th {\n",
              "        text-align: right;\n",
              "    }\n",
              "</style>\n",
              "<table border=\"1\" class=\"dataframe\">\n",
              "  <thead>\n",
              "    <tr style=\"text-align: right;\">\n",
              "      <th></th>\n",
              "      <th>point/0/_name</th>\n",
              "      <th>point/0/_x</th>\n",
              "      <th>point/0/_y</th>\n",
              "      <th>point/1/_name</th>\n",
              "      <th>point/1/_x</th>\n",
              "      <th>point/1/_y</th>\n",
              "      <th>point/2/_name</th>\n",
              "      <th>point/2/_x</th>\n",
              "      <th>point/2/_y</th>\n",
              "      <th>point/3/_name</th>\n",
              "      <th>point/3/_x</th>\n",
              "      <th>point/3/_y</th>\n",
              "      <th>_index</th>\n",
              "      <th>_rejected</th>\n",
              "    </tr>\n",
              "  </thead>\n",
              "  <tbody>\n",
              "    <tr>\n",
              "      <th>0</th>\n",
              "      <td>bl</td>\n",
              "      <td>716.625</td>\n",
              "      <td>805.609</td>\n",
              "      <td>tl</td>\n",
              "      <td>737.377</td>\n",
              "      <td>201.383</td>\n",
              "      <td>tr</td>\n",
              "      <td>1180.71</td>\n",
              "      <td>199.127</td>\n",
              "      <td>br</td>\n",
              "      <td>1259.02</td>\n",
              "      <td>791.942</td>\n",
              "      <td>1</td>\n",
              "      <td>False</td>\n",
              "    </tr>\n",
              "    <tr>\n",
              "      <th>1</th>\n",
              "      <td>bl</td>\n",
              "      <td>714.326</td>\n",
              "      <td>806.309</td>\n",
              "      <td>tl</td>\n",
              "      <td>736.330</td>\n",
              "      <td>202.300</td>\n",
              "      <td>tr</td>\n",
              "      <td>1179.74</td>\n",
              "      <td>200.028</td>\n",
              "      <td>br</td>\n",
              "      <td>1257.21</td>\n",
              "      <td>792.161</td>\n",
              "      <td>2</td>\n",
              "      <td>False</td>\n",
              "    </tr>\n",
              "    <tr>\n",
              "      <th>2</th>\n",
              "      <td>bl</td>\n",
              "      <td>713.031</td>\n",
              "      <td>804.811</td>\n",
              "      <td>tl</td>\n",
              "      <td>734.431</td>\n",
              "      <td>201.449</td>\n",
              "      <td>tr</td>\n",
              "      <td>1177.81</td>\n",
              "      <td>199.795</td>\n",
              "      <td>br</td>\n",
              "      <td>1255.42</td>\n",
              "      <td>791.291</td>\n",
              "      <td>3</td>\n",
              "      <td>False</td>\n",
              "    </tr>\n",
              "    <tr>\n",
              "      <th>3</th>\n",
              "      <td>bl</td>\n",
              "      <td>713.845</td>\n",
              "      <td>802.659</td>\n",
              "      <td>tl</td>\n",
              "      <td>734.423</td>\n",
              "      <td>198.474</td>\n",
              "      <td>tr</td>\n",
              "      <td>1177.79</td>\n",
              "      <td>196.852</td>\n",
              "      <td>br</td>\n",
              "      <td>1256.72</td>\n",
              "      <td>789.631</td>\n",
              "      <td>4</td>\n",
              "      <td>False</td>\n",
              "    </tr>\n",
              "    <tr>\n",
              "      <th>4</th>\n",
              "      <td>bl</td>\n",
              "      <td>713.088</td>\n",
              "      <td>802.830</td>\n",
              "      <td>tl</td>\n",
              "      <td>734.675</td>\n",
              "      <td>195.678</td>\n",
              "      <td>tr</td>\n",
              "      <td>1179.99</td>\n",
              "      <td>194.057</td>\n",
              "      <td>br</td>\n",
              "      <td>1259.35</td>\n",
              "      <td>790.289</td>\n",
              "      <td>5</td>\n",
              "      <td>False</td>\n",
              "    </tr>\n",
              "  </tbody>\n",
              "</table>\n",
              "</div>\n",
              "      <button class=\"colab-df-convert\" onclick=\"convertToInteractive('df-f6eb1f6e-b716-4795-a6a4-50c5940a0ab6')\"\n",
              "              title=\"Convert this dataframe to an interactive table.\"\n",
              "              style=\"display:none;\">\n",
              "        \n",
              "  <svg xmlns=\"http://www.w3.org/2000/svg\" height=\"24px\"viewBox=\"0 0 24 24\"\n",
              "       width=\"24px\">\n",
              "    <path d=\"M0 0h24v24H0V0z\" fill=\"none\"/>\n",
              "    <path d=\"M18.56 5.44l.94 2.06.94-2.06 2.06-.94-2.06-.94-.94-2.06-.94 2.06-2.06.94zm-11 1L8.5 8.5l.94-2.06 2.06-.94-2.06-.94L8.5 2.5l-.94 2.06-2.06.94zm10 10l.94 2.06.94-2.06 2.06-.94-2.06-.94-.94-2.06-.94 2.06-2.06.94z\"/><path d=\"M17.41 7.96l-1.37-1.37c-.4-.4-.92-.59-1.43-.59-.52 0-1.04.2-1.43.59L10.3 9.45l-7.72 7.72c-.78.78-.78 2.05 0 2.83L4 21.41c.39.39.9.59 1.41.59.51 0 1.02-.2 1.41-.59l7.78-7.78 2.81-2.81c.8-.78.8-2.07 0-2.86zM5.41 20L4 18.59l7.72-7.72 1.47 1.35L5.41 20z\"/>\n",
              "  </svg>\n",
              "      </button>\n",
              "      \n",
              "  <style>\n",
              "    .colab-df-container {\n",
              "      display:flex;\n",
              "      flex-wrap:wrap;\n",
              "      gap: 12px;\n",
              "    }\n",
              "\n",
              "    .colab-df-convert {\n",
              "      background-color: #E8F0FE;\n",
              "      border: none;\n",
              "      border-radius: 50%;\n",
              "      cursor: pointer;\n",
              "      display: none;\n",
              "      fill: #1967D2;\n",
              "      height: 32px;\n",
              "      padding: 0 0 0 0;\n",
              "      width: 32px;\n",
              "    }\n",
              "\n",
              "    .colab-df-convert:hover {\n",
              "      background-color: #E2EBFA;\n",
              "      box-shadow: 0px 1px 2px rgba(60, 64, 67, 0.3), 0px 1px 3px 1px rgba(60, 64, 67, 0.15);\n",
              "      fill: #174EA6;\n",
              "    }\n",
              "\n",
              "    [theme=dark] .colab-df-convert {\n",
              "      background-color: #3B4455;\n",
              "      fill: #D2E3FC;\n",
              "    }\n",
              "\n",
              "    [theme=dark] .colab-df-convert:hover {\n",
              "      background-color: #434B5C;\n",
              "      box-shadow: 0px 1px 3px 1px rgba(0, 0, 0, 0.15);\n",
              "      filter: drop-shadow(0px 1px 2px rgba(0, 0, 0, 0.3));\n",
              "      fill: #FFFFFF;\n",
              "    }\n",
              "  </style>\n",
              "\n",
              "      <script>\n",
              "        const buttonEl =\n",
              "          document.querySelector('#df-f6eb1f6e-b716-4795-a6a4-50c5940a0ab6 button.colab-df-convert');\n",
              "        buttonEl.style.display =\n",
              "          google.colab.kernel.accessAllowed ? 'block' : 'none';\n",
              "\n",
              "        async function convertToInteractive(key) {\n",
              "          const element = document.querySelector('#df-f6eb1f6e-b716-4795-a6a4-50c5940a0ab6');\n",
              "          const dataTable =\n",
              "            await google.colab.kernel.invokeFunction('convertToInteractive',\n",
              "                                                     [key], {});\n",
              "          if (!dataTable) return;\n",
              "\n",
              "          const docLinkHtml = 'Like what you see? Visit the ' +\n",
              "            '<a target=\"_blank\" href=https://colab.research.google.com/notebooks/data_table.ipynb>data table notebook</a>'\n",
              "            + ' to learn more about interactive tables.';\n",
              "          element.innerHTML = '';\n",
              "          dataTable['output_type'] = 'display_data';\n",
              "          await google.colab.output.renderOutput(dataTable, element);\n",
              "          const docLink = document.createElement('div');\n",
              "          docLink.innerHTML = docLinkHtml;\n",
              "          element.appendChild(docLink);\n",
              "        }\n",
              "      </script>\n",
              "    </div>\n",
              "  </div>\n",
              "  "
            ]
          },
          "metadata": {},
          "execution_count": 9
        }
      ]
    },
    {
      "cell_type": "code",
      "source": [
        "df[\"document\"] = df[\"_rejected\"].apply(lambda x: not x)\n",
        "df = df.drop('_rejected', axis = 1)\n",
        "df.head()"
      ],
      "metadata": {
        "colab": {
          "base_uri": "https://localhost:8080/",
          "height": 270
        },
        "id": "nwDvOBoCxfYa",
        "outputId": "1e426f22-9767-49d2-9013-486b79045857"
      },
      "execution_count": 10,
      "outputs": [
        {
          "output_type": "execute_result",
          "data": {
            "text/plain": [
              "  point/0/_name  point/0/_x  point/0/_y point/1/_name  point/1/_x  point/1/_y  \\\n",
              "0            bl     716.625     805.609            tl     737.377     201.383   \n",
              "1            bl     714.326     806.309            tl     736.330     202.300   \n",
              "2            bl     713.031     804.811            tl     734.431     201.449   \n",
              "3            bl     713.845     802.659            tl     734.423     198.474   \n",
              "4            bl     713.088     802.830            tl     734.675     195.678   \n",
              "\n",
              "  point/2/_name  point/2/_x  point/2/_y point/3/_name  point/3/_x  point/3/_y  \\\n",
              "0            tr     1180.71     199.127            br     1259.02     791.942   \n",
              "1            tr     1179.74     200.028            br     1257.21     792.161   \n",
              "2            tr     1177.81     199.795            br     1255.42     791.291   \n",
              "3            tr     1177.79     196.852            br     1256.72     789.631   \n",
              "4            tr     1179.99     194.057            br     1259.35     790.289   \n",
              "\n",
              "   _index  document  \n",
              "0       1      True  \n",
              "1       2      True  \n",
              "2       3      True  \n",
              "3       4      True  \n",
              "4       5      True  "
            ],
            "text/html": [
              "\n",
              "  <div id=\"df-74edcff5-7341-4f9d-aae4-b8dcaf65befa\">\n",
              "    <div class=\"colab-df-container\">\n",
              "      <div>\n",
              "<style scoped>\n",
              "    .dataframe tbody tr th:only-of-type {\n",
              "        vertical-align: middle;\n",
              "    }\n",
              "\n",
              "    .dataframe tbody tr th {\n",
              "        vertical-align: top;\n",
              "    }\n",
              "\n",
              "    .dataframe thead th {\n",
              "        text-align: right;\n",
              "    }\n",
              "</style>\n",
              "<table border=\"1\" class=\"dataframe\">\n",
              "  <thead>\n",
              "    <tr style=\"text-align: right;\">\n",
              "      <th></th>\n",
              "      <th>point/0/_name</th>\n",
              "      <th>point/0/_x</th>\n",
              "      <th>point/0/_y</th>\n",
              "      <th>point/1/_name</th>\n",
              "      <th>point/1/_x</th>\n",
              "      <th>point/1/_y</th>\n",
              "      <th>point/2/_name</th>\n",
              "      <th>point/2/_x</th>\n",
              "      <th>point/2/_y</th>\n",
              "      <th>point/3/_name</th>\n",
              "      <th>point/3/_x</th>\n",
              "      <th>point/3/_y</th>\n",
              "      <th>_index</th>\n",
              "      <th>document</th>\n",
              "    </tr>\n",
              "  </thead>\n",
              "  <tbody>\n",
              "    <tr>\n",
              "      <th>0</th>\n",
              "      <td>bl</td>\n",
              "      <td>716.625</td>\n",
              "      <td>805.609</td>\n",
              "      <td>tl</td>\n",
              "      <td>737.377</td>\n",
              "      <td>201.383</td>\n",
              "      <td>tr</td>\n",
              "      <td>1180.71</td>\n",
              "      <td>199.127</td>\n",
              "      <td>br</td>\n",
              "      <td>1259.02</td>\n",
              "      <td>791.942</td>\n",
              "      <td>1</td>\n",
              "      <td>True</td>\n",
              "    </tr>\n",
              "    <tr>\n",
              "      <th>1</th>\n",
              "      <td>bl</td>\n",
              "      <td>714.326</td>\n",
              "      <td>806.309</td>\n",
              "      <td>tl</td>\n",
              "      <td>736.330</td>\n",
              "      <td>202.300</td>\n",
              "      <td>tr</td>\n",
              "      <td>1179.74</td>\n",
              "      <td>200.028</td>\n",
              "      <td>br</td>\n",
              "      <td>1257.21</td>\n",
              "      <td>792.161</td>\n",
              "      <td>2</td>\n",
              "      <td>True</td>\n",
              "    </tr>\n",
              "    <tr>\n",
              "      <th>2</th>\n",
              "      <td>bl</td>\n",
              "      <td>713.031</td>\n",
              "      <td>804.811</td>\n",
              "      <td>tl</td>\n",
              "      <td>734.431</td>\n",
              "      <td>201.449</td>\n",
              "      <td>tr</td>\n",
              "      <td>1177.81</td>\n",
              "      <td>199.795</td>\n",
              "      <td>br</td>\n",
              "      <td>1255.42</td>\n",
              "      <td>791.291</td>\n",
              "      <td>3</td>\n",
              "      <td>True</td>\n",
              "    </tr>\n",
              "    <tr>\n",
              "      <th>3</th>\n",
              "      <td>bl</td>\n",
              "      <td>713.845</td>\n",
              "      <td>802.659</td>\n",
              "      <td>tl</td>\n",
              "      <td>734.423</td>\n",
              "      <td>198.474</td>\n",
              "      <td>tr</td>\n",
              "      <td>1177.79</td>\n",
              "      <td>196.852</td>\n",
              "      <td>br</td>\n",
              "      <td>1256.72</td>\n",
              "      <td>789.631</td>\n",
              "      <td>4</td>\n",
              "      <td>True</td>\n",
              "    </tr>\n",
              "    <tr>\n",
              "      <th>4</th>\n",
              "      <td>bl</td>\n",
              "      <td>713.088</td>\n",
              "      <td>802.830</td>\n",
              "      <td>tl</td>\n",
              "      <td>734.675</td>\n",
              "      <td>195.678</td>\n",
              "      <td>tr</td>\n",
              "      <td>1179.99</td>\n",
              "      <td>194.057</td>\n",
              "      <td>br</td>\n",
              "      <td>1259.35</td>\n",
              "      <td>790.289</td>\n",
              "      <td>5</td>\n",
              "      <td>True</td>\n",
              "    </tr>\n",
              "  </tbody>\n",
              "</table>\n",
              "</div>\n",
              "      <button class=\"colab-df-convert\" onclick=\"convertToInteractive('df-74edcff5-7341-4f9d-aae4-b8dcaf65befa')\"\n",
              "              title=\"Convert this dataframe to an interactive table.\"\n",
              "              style=\"display:none;\">\n",
              "        \n",
              "  <svg xmlns=\"http://www.w3.org/2000/svg\" height=\"24px\"viewBox=\"0 0 24 24\"\n",
              "       width=\"24px\">\n",
              "    <path d=\"M0 0h24v24H0V0z\" fill=\"none\"/>\n",
              "    <path d=\"M18.56 5.44l.94 2.06.94-2.06 2.06-.94-2.06-.94-.94-2.06-.94 2.06-2.06.94zm-11 1L8.5 8.5l.94-2.06 2.06-.94-2.06-.94L8.5 2.5l-.94 2.06-2.06.94zm10 10l.94 2.06.94-2.06 2.06-.94-2.06-.94-.94-2.06-.94 2.06-2.06.94z\"/><path d=\"M17.41 7.96l-1.37-1.37c-.4-.4-.92-.59-1.43-.59-.52 0-1.04.2-1.43.59L10.3 9.45l-7.72 7.72c-.78.78-.78 2.05 0 2.83L4 21.41c.39.39.9.59 1.41.59.51 0 1.02-.2 1.41-.59l7.78-7.78 2.81-2.81c.8-.78.8-2.07 0-2.86zM5.41 20L4 18.59l7.72-7.72 1.47 1.35L5.41 20z\"/>\n",
              "  </svg>\n",
              "      </button>\n",
              "      \n",
              "  <style>\n",
              "    .colab-df-container {\n",
              "      display:flex;\n",
              "      flex-wrap:wrap;\n",
              "      gap: 12px;\n",
              "    }\n",
              "\n",
              "    .colab-df-convert {\n",
              "      background-color: #E8F0FE;\n",
              "      border: none;\n",
              "      border-radius: 50%;\n",
              "      cursor: pointer;\n",
              "      display: none;\n",
              "      fill: #1967D2;\n",
              "      height: 32px;\n",
              "      padding: 0 0 0 0;\n",
              "      width: 32px;\n",
              "    }\n",
              "\n",
              "    .colab-df-convert:hover {\n",
              "      background-color: #E2EBFA;\n",
              "      box-shadow: 0px 1px 2px rgba(60, 64, 67, 0.3), 0px 1px 3px 1px rgba(60, 64, 67, 0.15);\n",
              "      fill: #174EA6;\n",
              "    }\n",
              "\n",
              "    [theme=dark] .colab-df-convert {\n",
              "      background-color: #3B4455;\n",
              "      fill: #D2E3FC;\n",
              "    }\n",
              "\n",
              "    [theme=dark] .colab-df-convert:hover {\n",
              "      background-color: #434B5C;\n",
              "      box-shadow: 0px 1px 3px 1px rgba(0, 0, 0, 0.15);\n",
              "      filter: drop-shadow(0px 1px 2px rgba(0, 0, 0, 0.3));\n",
              "      fill: #FFFFFF;\n",
              "    }\n",
              "  </style>\n",
              "\n",
              "      <script>\n",
              "        const buttonEl =\n",
              "          document.querySelector('#df-74edcff5-7341-4f9d-aae4-b8dcaf65befa button.colab-df-convert');\n",
              "        buttonEl.style.display =\n",
              "          google.colab.kernel.accessAllowed ? 'block' : 'none';\n",
              "\n",
              "        async function convertToInteractive(key) {\n",
              "          const element = document.querySelector('#df-74edcff5-7341-4f9d-aae4-b8dcaf65befa');\n",
              "          const dataTable =\n",
              "            await google.colab.kernel.invokeFunction('convertToInteractive',\n",
              "                                                     [key], {});\n",
              "          if (!dataTable) return;\n",
              "\n",
              "          const docLinkHtml = 'Like what you see? Visit the ' +\n",
              "            '<a target=\"_blank\" href=https://colab.research.google.com/notebooks/data_table.ipynb>data table notebook</a>'\n",
              "            + ' to learn more about interactive tables.';\n",
              "          element.innerHTML = '';\n",
              "          dataTable['output_type'] = 'display_data';\n",
              "          await google.colab.output.renderOutput(dataTable, element);\n",
              "          const docLink = document.createElement('div');\n",
              "          docLink.innerHTML = docLinkHtml;\n",
              "          element.appendChild(docLink);\n",
              "        }\n",
              "      </script>\n",
              "    </div>\n",
              "  </div>\n",
              "  "
            ]
          },
          "metadata": {},
          "execution_count": 10
        }
      ]
    },
    {
      "cell_type": "code",
      "source": [
        "def get_coordinates(row_data):\n",
        "  x1 = min(row_data[1], row_data[4], row_data[7], row_data[10])\n",
        "  y1 = min(row_data[2], row_data[5], row_data[8], row_data[11])\n",
        "  x2 = max(row_data[1], row_data[4], row_data[7], row_data[10])\n",
        "  y2 = max(row_data[2], row_data[5], row_data[8], row_data[11])\n",
        "  bb_cd = [x1, y1, x2, y2] \n",
        "  return bb_cd"
      ],
      "metadata": {
        "id": "-5Kh0USixfYb"
      },
      "execution_count": 11,
      "outputs": []
    },
    {
      "cell_type": "code",
      "source": [
        "bb = []\n",
        "bb.append(df.apply(lambda row: get_coordinates(row), axis = 1))\n",
        "\n",
        "bb = np.array(bb)\n",
        "bb = bb.flatten()\n",
        "bb = list(bb)"
      ],
      "metadata": {
        "id": "DtjtFWeJxfYb"
      },
      "execution_count": 12,
      "outputs": []
    },
    {
      "cell_type": "code",
      "source": [
        "df_bb = pd.DataFrame(data=bb, columns=['x1', 'y1', 'x2', 'y2'])\n",
        "df_bb.head()"
      ],
      "metadata": {
        "colab": {
          "base_uri": "https://localhost:8080/",
          "height": 206
        },
        "id": "OBVXbl4xxfYb",
        "outputId": "c8bf53b3-0d70-4bd9-9d83-8a40bf25eb3a"
      },
      "execution_count": 13,
      "outputs": [
        {
          "output_type": "execute_result",
          "data": {
            "text/plain": [
              "        x1       y1       x2       y2\n",
              "0  716.625  199.127  1259.02  805.609\n",
              "1  714.326  200.028  1257.21  806.309\n",
              "2  713.031  199.795  1255.42  804.811\n",
              "3  713.845  196.852  1256.72  802.659\n",
              "4  713.088  194.057  1259.35  802.830"
            ],
            "text/html": [
              "\n",
              "  <div id=\"df-9722b3d3-8d5a-462c-acb9-98c289de05a5\">\n",
              "    <div class=\"colab-df-container\">\n",
              "      <div>\n",
              "<style scoped>\n",
              "    .dataframe tbody tr th:only-of-type {\n",
              "        vertical-align: middle;\n",
              "    }\n",
              "\n",
              "    .dataframe tbody tr th {\n",
              "        vertical-align: top;\n",
              "    }\n",
              "\n",
              "    .dataframe thead th {\n",
              "        text-align: right;\n",
              "    }\n",
              "</style>\n",
              "<table border=\"1\" class=\"dataframe\">\n",
              "  <thead>\n",
              "    <tr style=\"text-align: right;\">\n",
              "      <th></th>\n",
              "      <th>x1</th>\n",
              "      <th>y1</th>\n",
              "      <th>x2</th>\n",
              "      <th>y2</th>\n",
              "    </tr>\n",
              "  </thead>\n",
              "  <tbody>\n",
              "    <tr>\n",
              "      <th>0</th>\n",
              "      <td>716.625</td>\n",
              "      <td>199.127</td>\n",
              "      <td>1259.02</td>\n",
              "      <td>805.609</td>\n",
              "    </tr>\n",
              "    <tr>\n",
              "      <th>1</th>\n",
              "      <td>714.326</td>\n",
              "      <td>200.028</td>\n",
              "      <td>1257.21</td>\n",
              "      <td>806.309</td>\n",
              "    </tr>\n",
              "    <tr>\n",
              "      <th>2</th>\n",
              "      <td>713.031</td>\n",
              "      <td>199.795</td>\n",
              "      <td>1255.42</td>\n",
              "      <td>804.811</td>\n",
              "    </tr>\n",
              "    <tr>\n",
              "      <th>3</th>\n",
              "      <td>713.845</td>\n",
              "      <td>196.852</td>\n",
              "      <td>1256.72</td>\n",
              "      <td>802.659</td>\n",
              "    </tr>\n",
              "    <tr>\n",
              "      <th>4</th>\n",
              "      <td>713.088</td>\n",
              "      <td>194.057</td>\n",
              "      <td>1259.35</td>\n",
              "      <td>802.830</td>\n",
              "    </tr>\n",
              "  </tbody>\n",
              "</table>\n",
              "</div>\n",
              "      <button class=\"colab-df-convert\" onclick=\"convertToInteractive('df-9722b3d3-8d5a-462c-acb9-98c289de05a5')\"\n",
              "              title=\"Convert this dataframe to an interactive table.\"\n",
              "              style=\"display:none;\">\n",
              "        \n",
              "  <svg xmlns=\"http://www.w3.org/2000/svg\" height=\"24px\"viewBox=\"0 0 24 24\"\n",
              "       width=\"24px\">\n",
              "    <path d=\"M0 0h24v24H0V0z\" fill=\"none\"/>\n",
              "    <path d=\"M18.56 5.44l.94 2.06.94-2.06 2.06-.94-2.06-.94-.94-2.06-.94 2.06-2.06.94zm-11 1L8.5 8.5l.94-2.06 2.06-.94-2.06-.94L8.5 2.5l-.94 2.06-2.06.94zm10 10l.94 2.06.94-2.06 2.06-.94-2.06-.94-.94-2.06-.94 2.06-2.06.94z\"/><path d=\"M17.41 7.96l-1.37-1.37c-.4-.4-.92-.59-1.43-.59-.52 0-1.04.2-1.43.59L10.3 9.45l-7.72 7.72c-.78.78-.78 2.05 0 2.83L4 21.41c.39.39.9.59 1.41.59.51 0 1.02-.2 1.41-.59l7.78-7.78 2.81-2.81c.8-.78.8-2.07 0-2.86zM5.41 20L4 18.59l7.72-7.72 1.47 1.35L5.41 20z\"/>\n",
              "  </svg>\n",
              "      </button>\n",
              "      \n",
              "  <style>\n",
              "    .colab-df-container {\n",
              "      display:flex;\n",
              "      flex-wrap:wrap;\n",
              "      gap: 12px;\n",
              "    }\n",
              "\n",
              "    .colab-df-convert {\n",
              "      background-color: #E8F0FE;\n",
              "      border: none;\n",
              "      border-radius: 50%;\n",
              "      cursor: pointer;\n",
              "      display: none;\n",
              "      fill: #1967D2;\n",
              "      height: 32px;\n",
              "      padding: 0 0 0 0;\n",
              "      width: 32px;\n",
              "    }\n",
              "\n",
              "    .colab-df-convert:hover {\n",
              "      background-color: #E2EBFA;\n",
              "      box-shadow: 0px 1px 2px rgba(60, 64, 67, 0.3), 0px 1px 3px 1px rgba(60, 64, 67, 0.15);\n",
              "      fill: #174EA6;\n",
              "    }\n",
              "\n",
              "    [theme=dark] .colab-df-convert {\n",
              "      background-color: #3B4455;\n",
              "      fill: #D2E3FC;\n",
              "    }\n",
              "\n",
              "    [theme=dark] .colab-df-convert:hover {\n",
              "      background-color: #434B5C;\n",
              "      box-shadow: 0px 1px 3px 1px rgba(0, 0, 0, 0.15);\n",
              "      filter: drop-shadow(0px 1px 2px rgba(0, 0, 0, 0.3));\n",
              "      fill: #FFFFFF;\n",
              "    }\n",
              "  </style>\n",
              "\n",
              "      <script>\n",
              "        const buttonEl =\n",
              "          document.querySelector('#df-9722b3d3-8d5a-462c-acb9-98c289de05a5 button.colab-df-convert');\n",
              "        buttonEl.style.display =\n",
              "          google.colab.kernel.accessAllowed ? 'block' : 'none';\n",
              "\n",
              "        async function convertToInteractive(key) {\n",
              "          const element = document.querySelector('#df-9722b3d3-8d5a-462c-acb9-98c289de05a5');\n",
              "          const dataTable =\n",
              "            await google.colab.kernel.invokeFunction('convertToInteractive',\n",
              "                                                     [key], {});\n",
              "          if (!dataTable) return;\n",
              "\n",
              "          const docLinkHtml = 'Like what you see? Visit the ' +\n",
              "            '<a target=\"_blank\" href=https://colab.research.google.com/notebooks/data_table.ipynb>data table notebook</a>'\n",
              "            + ' to learn more about interactive tables.';\n",
              "          element.innerHTML = '';\n",
              "          dataTable['output_type'] = 'display_data';\n",
              "          await google.colab.output.renderOutput(dataTable, element);\n",
              "          const docLink = document.createElement('div');\n",
              "          docLink.innerHTML = docLinkHtml;\n",
              "          element.appendChild(docLink);\n",
              "        }\n",
              "      </script>\n",
              "    </div>\n",
              "  </div>\n",
              "  "
            ]
          },
          "metadata": {},
          "execution_count": 13
        }
      ]
    },
    {
      "cell_type": "code",
      "source": [
        "df_bb['document'] = list(df['document'])\n",
        "df_bb.head() # df_bb would be the labels of bounding boxes"
      ],
      "metadata": {
        "colab": {
          "base_uri": "https://localhost:8080/",
          "height": 206
        },
        "outputId": "1e95a0ed-8c95-4891-e5f2-dc9a4785b99e",
        "id": "mZ_TpaodxfYb"
      },
      "execution_count": 14,
      "outputs": [
        {
          "output_type": "execute_result",
          "data": {
            "text/plain": [
              "        x1       y1       x2       y2  document\n",
              "0  716.625  199.127  1259.02  805.609      True\n",
              "1  714.326  200.028  1257.21  806.309      True\n",
              "2  713.031  199.795  1255.42  804.811      True\n",
              "3  713.845  196.852  1256.72  802.659      True\n",
              "4  713.088  194.057  1259.35  802.830      True"
            ],
            "text/html": [
              "\n",
              "  <div id=\"df-dfe60db5-6bed-4726-8141-1600fc464a52\">\n",
              "    <div class=\"colab-df-container\">\n",
              "      <div>\n",
              "<style scoped>\n",
              "    .dataframe tbody tr th:only-of-type {\n",
              "        vertical-align: middle;\n",
              "    }\n",
              "\n",
              "    .dataframe tbody tr th {\n",
              "        vertical-align: top;\n",
              "    }\n",
              "\n",
              "    .dataframe thead th {\n",
              "        text-align: right;\n",
              "    }\n",
              "</style>\n",
              "<table border=\"1\" class=\"dataframe\">\n",
              "  <thead>\n",
              "    <tr style=\"text-align: right;\">\n",
              "      <th></th>\n",
              "      <th>x1</th>\n",
              "      <th>y1</th>\n",
              "      <th>x2</th>\n",
              "      <th>y2</th>\n",
              "      <th>document</th>\n",
              "    </tr>\n",
              "  </thead>\n",
              "  <tbody>\n",
              "    <tr>\n",
              "      <th>0</th>\n",
              "      <td>716.625</td>\n",
              "      <td>199.127</td>\n",
              "      <td>1259.02</td>\n",
              "      <td>805.609</td>\n",
              "      <td>True</td>\n",
              "    </tr>\n",
              "    <tr>\n",
              "      <th>1</th>\n",
              "      <td>714.326</td>\n",
              "      <td>200.028</td>\n",
              "      <td>1257.21</td>\n",
              "      <td>806.309</td>\n",
              "      <td>True</td>\n",
              "    </tr>\n",
              "    <tr>\n",
              "      <th>2</th>\n",
              "      <td>713.031</td>\n",
              "      <td>199.795</td>\n",
              "      <td>1255.42</td>\n",
              "      <td>804.811</td>\n",
              "      <td>True</td>\n",
              "    </tr>\n",
              "    <tr>\n",
              "      <th>3</th>\n",
              "      <td>713.845</td>\n",
              "      <td>196.852</td>\n",
              "      <td>1256.72</td>\n",
              "      <td>802.659</td>\n",
              "      <td>True</td>\n",
              "    </tr>\n",
              "    <tr>\n",
              "      <th>4</th>\n",
              "      <td>713.088</td>\n",
              "      <td>194.057</td>\n",
              "      <td>1259.35</td>\n",
              "      <td>802.830</td>\n",
              "      <td>True</td>\n",
              "    </tr>\n",
              "  </tbody>\n",
              "</table>\n",
              "</div>\n",
              "      <button class=\"colab-df-convert\" onclick=\"convertToInteractive('df-dfe60db5-6bed-4726-8141-1600fc464a52')\"\n",
              "              title=\"Convert this dataframe to an interactive table.\"\n",
              "              style=\"display:none;\">\n",
              "        \n",
              "  <svg xmlns=\"http://www.w3.org/2000/svg\" height=\"24px\"viewBox=\"0 0 24 24\"\n",
              "       width=\"24px\">\n",
              "    <path d=\"M0 0h24v24H0V0z\" fill=\"none\"/>\n",
              "    <path d=\"M18.56 5.44l.94 2.06.94-2.06 2.06-.94-2.06-.94-.94-2.06-.94 2.06-2.06.94zm-11 1L8.5 8.5l.94-2.06 2.06-.94-2.06-.94L8.5 2.5l-.94 2.06-2.06.94zm10 10l.94 2.06.94-2.06 2.06-.94-2.06-.94-.94-2.06-.94 2.06-2.06.94z\"/><path d=\"M17.41 7.96l-1.37-1.37c-.4-.4-.92-.59-1.43-.59-.52 0-1.04.2-1.43.59L10.3 9.45l-7.72 7.72c-.78.78-.78 2.05 0 2.83L4 21.41c.39.39.9.59 1.41.59.51 0 1.02-.2 1.41-.59l7.78-7.78 2.81-2.81c.8-.78.8-2.07 0-2.86zM5.41 20L4 18.59l7.72-7.72 1.47 1.35L5.41 20z\"/>\n",
              "  </svg>\n",
              "      </button>\n",
              "      \n",
              "  <style>\n",
              "    .colab-df-container {\n",
              "      display:flex;\n",
              "      flex-wrap:wrap;\n",
              "      gap: 12px;\n",
              "    }\n",
              "\n",
              "    .colab-df-convert {\n",
              "      background-color: #E8F0FE;\n",
              "      border: none;\n",
              "      border-radius: 50%;\n",
              "      cursor: pointer;\n",
              "      display: none;\n",
              "      fill: #1967D2;\n",
              "      height: 32px;\n",
              "      padding: 0 0 0 0;\n",
              "      width: 32px;\n",
              "    }\n",
              "\n",
              "    .colab-df-convert:hover {\n",
              "      background-color: #E2EBFA;\n",
              "      box-shadow: 0px 1px 2px rgba(60, 64, 67, 0.3), 0px 1px 3px 1px rgba(60, 64, 67, 0.15);\n",
              "      fill: #174EA6;\n",
              "    }\n",
              "\n",
              "    [theme=dark] .colab-df-convert {\n",
              "      background-color: #3B4455;\n",
              "      fill: #D2E3FC;\n",
              "    }\n",
              "\n",
              "    [theme=dark] .colab-df-convert:hover {\n",
              "      background-color: #434B5C;\n",
              "      box-shadow: 0px 1px 3px 1px rgba(0, 0, 0, 0.15);\n",
              "      filter: drop-shadow(0px 1px 2px rgba(0, 0, 0, 0.3));\n",
              "      fill: #FFFFFF;\n",
              "    }\n",
              "  </style>\n",
              "\n",
              "      <script>\n",
              "        const buttonEl =\n",
              "          document.querySelector('#df-dfe60db5-6bed-4726-8141-1600fc464a52 button.colab-df-convert');\n",
              "        buttonEl.style.display =\n",
              "          google.colab.kernel.accessAllowed ? 'block' : 'none';\n",
              "\n",
              "        async function convertToInteractive(key) {\n",
              "          const element = document.querySelector('#df-dfe60db5-6bed-4726-8141-1600fc464a52');\n",
              "          const dataTable =\n",
              "            await google.colab.kernel.invokeFunction('convertToInteractive',\n",
              "                                                     [key], {});\n",
              "          if (!dataTable) return;\n",
              "\n",
              "          const docLinkHtml = 'Like what you see? Visit the ' +\n",
              "            '<a target=\"_blank\" href=https://colab.research.google.com/notebooks/data_table.ipynb>data table notebook</a>'\n",
              "            + ' to learn more about interactive tables.';\n",
              "          element.innerHTML = '';\n",
              "          dataTable['output_type'] = 'display_data';\n",
              "          await google.colab.output.renderOutput(dataTable, element);\n",
              "          const docLink = document.createElement('div');\n",
              "          docLink.innerHTML = docLinkHtml;\n",
              "          element.appendChild(docLink);\n",
              "        }\n",
              "      </script>\n",
              "    </div>\n",
              "  </div>\n",
              "  "
            ]
          },
          "metadata": {},
          "execution_count": 14
        }
      ]
    },
    {
      "cell_type": "code",
      "source": [
        "# get image names\n",
        "#   datasheet + letter + magazine (need to be in this order!)\n",
        "os.chdir('/content/drive/MyDrive/BTTAI_AmericanExpress1/datasets/sampleDataset/frames_bb/datasheet001_frames')\n",
        "imgs = os.listdir()\n",
        "os.chdir('/content/drive/MyDrive/BTTAI_AmericanExpress1/datasets/sampleDataset/frames_bb/letter001_frames')\n",
        "imgs += os.listdir()\n",
        "os.chdir('/content/drive/MyDrive/BTTAI_AmericanExpress1/datasets/sampleDataset/frames_bb/magazine001_frames')\n",
        "imgs += os.listdir()"
      ],
      "metadata": {
        "id": "LIY0_xIRxfYc"
      },
      "execution_count": 15,
      "outputs": []
    },
    {
      "cell_type": "code",
      "source": [
        "imgs"
      ],
      "metadata": {
        "colab": {
          "base_uri": "https://localhost:8080/"
        },
        "id": "cSx-ThZozvVT",
        "outputId": "95ed8e60-ec2c-40a1-f632-3c6af6e89444"
      },
      "execution_count": 47,
      "outputs": [
        {
          "output_type": "execute_result",
          "data": {
            "text/plain": [
              "['datasheet001_frames_00001.jpg',\n",
              " 'datasheet001_frames_00002.jpg',\n",
              " 'datasheet001_frames_00003.jpg',\n",
              " 'datasheet001_frames_00004.jpg',\n",
              " 'datasheet001_frames_00005.jpg',\n",
              " 'datasheet001_frames_00006.jpg',\n",
              " 'datasheet001_frames_00007.jpg',\n",
              " 'datasheet001_frames_00008.jpg',\n",
              " 'datasheet001_frames_00009.jpg',\n",
              " 'datasheet001_frames_00010.jpg',\n",
              " 'datasheet001_frames_00011.jpg',\n",
              " 'datasheet001_frames_00012.jpg',\n",
              " 'datasheet001_frames_00013.jpg',\n",
              " 'datasheet001_frames_00014.jpg',\n",
              " 'datasheet001_frames_00015.jpg',\n",
              " 'datasheet001_frames_00016.jpg',\n",
              " 'datasheet001_frames_00017.jpg',\n",
              " 'datasheet001_frames_00018.jpg',\n",
              " 'datasheet001_frames_00019.jpg',\n",
              " 'datasheet001_frames_00020.jpg',\n",
              " 'datasheet001_frames_00021.jpg',\n",
              " 'datasheet001_frames_00022.jpg',\n",
              " 'datasheet001_frames_00023.jpg',\n",
              " 'datasheet001_frames_00024.jpg',\n",
              " 'datasheet001_frames_00025.jpg',\n",
              " 'datasheet001_frames_00026.jpg',\n",
              " 'datasheet001_frames_00027.jpg',\n",
              " 'datasheet001_frames_00028.jpg',\n",
              " 'datasheet001_frames_00029.jpg',\n",
              " 'datasheet001_frames_00030.jpg',\n",
              " 'datasheet001_frames_00031.jpg',\n",
              " 'datasheet001_frames_00032.jpg',\n",
              " 'datasheet001_frames_00033.jpg',\n",
              " 'datasheet001_frames_00034.jpg',\n",
              " 'datasheet001_frames_00035.jpg',\n",
              " 'datasheet001_frames_00036.jpg',\n",
              " 'datasheet001_frames_00037.jpg',\n",
              " 'datasheet001_frames_00038.jpg',\n",
              " 'datasheet001_frames_00039.jpg',\n",
              " 'datasheet001_frames_00040.jpg',\n",
              " 'datasheet001_frames_00041.jpg',\n",
              " 'datasheet001_frames_00042.jpg',\n",
              " 'datasheet001_frames_00043.jpg',\n",
              " 'datasheet001_frames_00044.jpg',\n",
              " 'datasheet001_frames_00045.jpg',\n",
              " 'datasheet001_frames_00046.jpg',\n",
              " 'datasheet001_frames_00047.jpg',\n",
              " 'datasheet001_frames_00048.jpg',\n",
              " 'datasheet001_frames_00049.jpg',\n",
              " 'datasheet001_frames_00050.jpg',\n",
              " 'datasheet001_frames_00051.jpg',\n",
              " 'datasheet001_frames_00052.jpg',\n",
              " 'datasheet001_frames_00053.jpg',\n",
              " 'datasheet001_frames_00054.jpg',\n",
              " 'datasheet001_frames_00055.jpg',\n",
              " 'datasheet001_frames_00056.jpg',\n",
              " 'datasheet001_frames_00057.jpg',\n",
              " 'datasheet001_frames_00058.jpg',\n",
              " 'datasheet001_frames_00059.jpg',\n",
              " 'datasheet001_frames_00060.jpg',\n",
              " 'datasheet001_frames_00061.jpg',\n",
              " 'datasheet001_frames_00062.jpg',\n",
              " 'datasheet001_frames_00063.jpg',\n",
              " 'datasheet001_frames_00064.jpg',\n",
              " 'datasheet001_frames_00065.jpg',\n",
              " 'datasheet001_frames_00066.jpg',\n",
              " 'datasheet001_frames_00067.jpg',\n",
              " 'datasheet001_frames_00068.jpg',\n",
              " 'datasheet001_frames_00069.jpg',\n",
              " 'datasheet001_frames_00070.jpg',\n",
              " 'datasheet001_frames_00071.jpg',\n",
              " 'datasheet001_frames_00072.jpg',\n",
              " 'datasheet001_frames_00073.jpg',\n",
              " 'datasheet001_frames_00074.jpg',\n",
              " 'datasheet001_frames_00075.jpg',\n",
              " 'datasheet001_frames_00076.jpg',\n",
              " 'datasheet001_frames_00077.jpg',\n",
              " 'datasheet001_frames_00078.jpg',\n",
              " 'datasheet001_frames_00079.jpg',\n",
              " 'datasheet001_frames_00080.jpg',\n",
              " 'datasheet001_frames_00081.jpg',\n",
              " 'datasheet001_frames_00082.jpg',\n",
              " 'datasheet001_frames_00083.jpg',\n",
              " 'datasheet001_frames_00084.jpg',\n",
              " 'datasheet001_frames_00085.jpg',\n",
              " 'datasheet001_frames_00086.jpg',\n",
              " 'datasheet001_frames_00087.jpg',\n",
              " 'datasheet001_frames_00088.jpg',\n",
              " 'datasheet001_frames_00089.jpg',\n",
              " 'datasheet001_frames_00090.jpg',\n",
              " 'datasheet001_frames_00091.jpg',\n",
              " 'datasheet001_frames_00092.jpg',\n",
              " 'datasheet001_frames_00093.jpg',\n",
              " 'datasheet001_frames_00094.jpg',\n",
              " 'datasheet001_frames_00095.jpg',\n",
              " 'datasheet001_frames_00096.jpg',\n",
              " 'datasheet001_frames_00097.jpg',\n",
              " 'datasheet001_frames_00098.jpg',\n",
              " 'datasheet001_frames_00099.jpg',\n",
              " 'datasheet001_frames_00100.jpg',\n",
              " 'datasheet001_frames_00101.jpg',\n",
              " 'datasheet001_frames_00102.jpg',\n",
              " 'datasheet001_frames_00103.jpg',\n",
              " 'datasheet001_frames_00104.jpg',\n",
              " 'datasheet001_frames_00105.jpg',\n",
              " 'datasheet001_frames_00106.jpg',\n",
              " 'datasheet001_frames_00107.jpg',\n",
              " 'datasheet001_frames_00108.jpg',\n",
              " 'datasheet001_frames_00109.jpg',\n",
              " 'datasheet001_frames_00110.jpg',\n",
              " 'datasheet001_frames_00111.jpg',\n",
              " 'datasheet001_frames_00112.jpg',\n",
              " 'datasheet001_frames_00113.jpg',\n",
              " 'datasheet001_frames_00114.jpg',\n",
              " 'datasheet001_frames_00115.jpg',\n",
              " 'datasheet001_frames_00116.jpg',\n",
              " 'datasheet001_frames_00117.jpg',\n",
              " 'datasheet001_frames_00118.jpg',\n",
              " 'datasheet001_frames_00119.jpg',\n",
              " 'datasheet001_frames_00120.jpg',\n",
              " 'datasheet001_frames_00121.jpg',\n",
              " 'datasheet001_frames_00122.jpg',\n",
              " 'datasheet001_frames_00123.jpg',\n",
              " 'datasheet001_frames_00124.jpg',\n",
              " 'datasheet001_frames_00125.jpg',\n",
              " 'datasheet001_frames_00126.jpg',\n",
              " 'datasheet001_frames_00127.jpg',\n",
              " 'datasheet001_frames_00128.jpg',\n",
              " 'datasheet001_frames_00129.jpg',\n",
              " 'datasheet001_frames_00130.jpg',\n",
              " 'datasheet001_frames_00131.jpg',\n",
              " 'datasheet001_frames_00132.jpg',\n",
              " 'datasheet001_frames_00133.jpg',\n",
              " 'datasheet001_frames_00134.jpg',\n",
              " 'datasheet001_frames_00135.jpg',\n",
              " 'datasheet001_frames_00136.jpg',\n",
              " 'datasheet001_frames_00137.jpg',\n",
              " 'datasheet001_frames_00138.jpg',\n",
              " 'datasheet001_frames_00139.jpg',\n",
              " 'datasheet001_frames_00140.jpg',\n",
              " 'datasheet001_frames_00141.jpg',\n",
              " 'datasheet001_frames_00142.jpg',\n",
              " 'datasheet001_frames_00143.jpg',\n",
              " 'datasheet001_frames_00144.jpg',\n",
              " 'datasheet001_frames_00145.jpg',\n",
              " 'datasheet001_frames_00146.jpg',\n",
              " 'datasheet001_frames_00147.jpg',\n",
              " 'datasheet001_frames_00148.jpg',\n",
              " 'datasheet001_frames_00149.jpg',\n",
              " 'datasheet001_frames_00150.jpg',\n",
              " 'datasheet001_frames_00151.jpg',\n",
              " 'datasheet001_frames_00152.jpg',\n",
              " 'datasheet001_frames_00153.jpg',\n",
              " 'datasheet001_frames_00154.jpg',\n",
              " 'datasheet001_frames_00155.jpg',\n",
              " 'datasheet001_frames_00156.jpg',\n",
              " 'datasheet001_frames_00157.jpg',\n",
              " 'datasheet001_frames_00158.jpg',\n",
              " 'datasheet001_frames_00159.jpg',\n",
              " 'datasheet001_frames_00160.jpg',\n",
              " 'datasheet001_frames_00161.jpg',\n",
              " 'datasheet001_frames_00162.jpg',\n",
              " 'datasheet001_frames_00163.jpg',\n",
              " 'datasheet001_frames_00164.jpg',\n",
              " 'datasheet001_frames_00165.jpg',\n",
              " 'datasheet001_frames_00166.jpg',\n",
              " 'datasheet001_frames_00167.jpg',\n",
              " 'datasheet001_frames_00168.jpg',\n",
              " 'datasheet001_frames_00169.jpg',\n",
              " 'datasheet001_frames_00170.jpg',\n",
              " 'datasheet001_frames_00171.jpg',\n",
              " 'datasheet001_frames_00172.jpg',\n",
              " 'datasheet001_frames_00173.jpg',\n",
              " 'datasheet001_frames_00174.jpg',\n",
              " 'datasheet001_frames_00175.jpg',\n",
              " 'datasheet001_frames_00176.jpg',\n",
              " 'datasheet001_frames_00177.jpg',\n",
              " 'datasheet001_frames_00178.jpg',\n",
              " 'datasheet001_frames_00179.jpg',\n",
              " 'datasheet001_frames_00180.jpg',\n",
              " 'datasheet001_frames_00181.jpg',\n",
              " 'datasheet001_frames_00182.jpg',\n",
              " 'datasheet001_frames_00183.jpg',\n",
              " 'datasheet001_frames_00184.jpg',\n",
              " 'datasheet001_frames_00185.jpg',\n",
              " 'datasheet001_frames_00186.jpg',\n",
              " 'datasheet001_frames_00187.jpg',\n",
              " 'datasheet001_frames_00188.jpg',\n",
              " 'datasheet001_frames_00189.jpg',\n",
              " 'datasheet001_frames_00190.jpg',\n",
              " 'datasheet001_frames_00191.jpg',\n",
              " 'datasheet001_frames_00192.jpg',\n",
              " 'datasheet001_frames_00193.jpg',\n",
              " 'datasheet001_frames_00194.jpg',\n",
              " 'datasheet001_frames_00195.jpg',\n",
              " 'datasheet001_frames_00196.jpg',\n",
              " 'datasheet001_frames_00197.jpg',\n",
              " 'datasheet001_frames_00198.jpg',\n",
              " 'datasheet001_frames_00199.jpg',\n",
              " 'datasheet001_frames_00200.jpg',\n",
              " 'datasheet001_frames_00201.jpg',\n",
              " 'datasheet001_frames_00202.jpg',\n",
              " 'datasheet001_frames_00203.jpg',\n",
              " 'datasheet001_frames_00204.jpg',\n",
              " 'datasheet001_frames_00205.jpg',\n",
              " 'datasheet001_frames_00206.jpg',\n",
              " 'datasheet001_frames_00207.jpg',\n",
              " 'datasheet001_frames_00208.jpg',\n",
              " 'datasheet001_frames_00209.jpg',\n",
              " 'datasheet001_frames_00210.jpg',\n",
              " 'datasheet001_frames_00211.jpg',\n",
              " 'datasheet001_frames_00212.jpg',\n",
              " 'datasheet001_frames_00213.jpg',\n",
              " 'datasheet001_frames_00214.jpg',\n",
              " 'letter001_frames_00138.jpg',\n",
              " 'letter001_frames_00142.jpg',\n",
              " 'letter001_frames_00139.jpg',\n",
              " 'letter001_frames_00137.jpg',\n",
              " 'letter001_frames_00164.jpg',\n",
              " 'letter001_frames_00163.jpg',\n",
              " 'letter001_frames_00162.jpg',\n",
              " 'letter001_frames_00161.jpg',\n",
              " 'letter001_frames_00158.jpg',\n",
              " 'letter001_frames_00159.jpg',\n",
              " 'letter001_frames_00154.jpg',\n",
              " 'letter001_frames_00155.jpg',\n",
              " 'letter001_frames_00152.jpg',\n",
              " 'letter001_frames_00156.jpg',\n",
              " 'letter001_frames_00160.jpg',\n",
              " 'letter001_frames_00153.jpg',\n",
              " 'letter001_frames_00157.jpg',\n",
              " 'letter001_frames_00151.jpg',\n",
              " 'letter001_frames_00173.jpg',\n",
              " 'letter001_frames_00174.jpg',\n",
              " 'letter001_frames_00171.jpg',\n",
              " 'letter001_frames_00170.jpg',\n",
              " 'letter001_frames_00168.jpg',\n",
              " 'letter001_frames_00167.jpg',\n",
              " 'letter001_frames_00176.jpg',\n",
              " 'letter001_frames_00172.jpg',\n",
              " 'letter001_frames_00175.jpg',\n",
              " 'letter001_frames_00169.jpg',\n",
              " 'letter001_frames_00166.jpg',\n",
              " 'letter001_frames_00149.jpg',\n",
              " 'letter001_frames_00140.jpg',\n",
              " 'letter001_frames_00144.jpg',\n",
              " 'letter001_frames_00148.jpg',\n",
              " 'letter001_frames_00143.jpg',\n",
              " 'letter001_frames_00147.jpg',\n",
              " 'letter001_frames_00141.jpg',\n",
              " 'letter001_frames_00145.jpg',\n",
              " 'letter001_frames_00146.jpg',\n",
              " 'letter001_frames_00136.jpg',\n",
              " 'letter001_frames_00128.jpg',\n",
              " 'letter001_frames_00127.jpg',\n",
              " 'letter001_frames_00132.jpg',\n",
              " 'letter001_frames_00125.jpg',\n",
              " 'letter001_frames_00122.jpg',\n",
              " 'letter001_frames_00130.jpg',\n",
              " 'letter001_frames_00119.jpg',\n",
              " 'letter001_frames_00118.jpg',\n",
              " 'letter001_frames_00115.jpg',\n",
              " 'letter001_frames_00116.jpg',\n",
              " 'letter001_frames_00112.jpg',\n",
              " 'letter001_frames_00111.jpg',\n",
              " 'letter001_frames_00108.jpg',\n",
              " 'letter001_frames_00109.jpg',\n",
              " 'letter001_frames_00110.jpg',\n",
              " 'letter001_frames_00117.jpg',\n",
              " 'letter001_frames_00107.jpg',\n",
              " 'letter001_frames_00114.jpg',\n",
              " 'letter001_frames_00113.jpg',\n",
              " 'letter001_frames_00106.jpg',\n",
              " 'letter001_frames_00134.jpg',\n",
              " 'letter001_frames_00133.jpg',\n",
              " 'letter001_frames_00131.jpg',\n",
              " 'letter001_frames_00129.jpg',\n",
              " 'letter001_frames_00124.jpg',\n",
              " 'letter001_frames_00126.jpg',\n",
              " 'letter001_frames_00123.jpg',\n",
              " 'letter001_frames_00121.jpg',\n",
              " 'letter001_frames_00165.jpg',\n",
              " 'letter001_frames_00150.jpg',\n",
              " 'letter001_frames_00094.jpg',\n",
              " 'letter001_frames_00100.jpg',\n",
              " 'letter001_frames_00089.jpg',\n",
              " 'letter001_frames_00034.jpg',\n",
              " 'letter001_frames_00057.jpg',\n",
              " 'letter001_frames_00074.jpg',\n",
              " 'letter001_frames_00075.jpg',\n",
              " 'letter001_frames_00073.jpg',\n",
              " 'letter001_frames_00071.jpg',\n",
              " 'letter001_frames_00072.jpg',\n",
              " 'letter001_frames_00069.jpg',\n",
              " 'letter001_frames_00067.jpg',\n",
              " 'letter001_frames_00065.jpg',\n",
              " 'letter001_frames_00064.jpg',\n",
              " 'letter001_frames_00070.jpg',\n",
              " 'letter001_frames_00066.jpg',\n",
              " 'letter001_frames_00068.jpg',\n",
              " 'letter001_frames_00063.jpg',\n",
              " 'letter001_frames_00062.jpg',\n",
              " 'letter001_frames_00135.jpg',\n",
              " 'letter001_frames_00090.jpg',\n",
              " 'letter001_frames_00084.jpg',\n",
              " 'letter001_frames_00085.jpg',\n",
              " 'letter001_frames_00081.jpg',\n",
              " 'letter001_frames_00079.jpg',\n",
              " 'letter001_frames_00087.jpg',\n",
              " 'letter001_frames_00083.jpg',\n",
              " 'letter001_frames_00082.jpg',\n",
              " 'letter001_frames_00078.jpg',\n",
              " 'letter001_frames_00080.jpg',\n",
              " 'letter001_frames_00086.jpg',\n",
              " 'letter001_frames_00088.jpg',\n",
              " 'letter001_frames_00077.jpg',\n",
              " 'letter001_frames_00060.jpg',\n",
              " 'letter001_frames_00049.jpg',\n",
              " 'letter001_frames_00058.jpg',\n",
              " 'letter001_frames_00050.jpg',\n",
              " 'letter001_frames_00045.jpg',\n",
              " 'letter001_frames_00044.jpg',\n",
              " 'letter001_frames_00036.jpg',\n",
              " 'letter001_frames_00038.jpg',\n",
              " 'letter001_frames_00041.jpg',\n",
              " 'letter001_frames_00039.jpg',\n",
              " 'letter001_frames_00043.jpg',\n",
              " 'letter001_frames_00040.jpg',\n",
              " 'letter001_frames_00037.jpg',\n",
              " 'letter001_frames_00035.jpg',\n",
              " 'letter001_frames_00042.jpg',\n",
              " 'letter001_frames_00033.jpg',\n",
              " 'letter001_frames_00032.jpg',\n",
              " 'letter001_frames_00102.jpg',\n",
              " 'letter001_frames_00030.jpg',\n",
              " 'letter001_frames_00029.jpg',\n",
              " 'letter001_frames_00048.jpg',\n",
              " 'letter001_frames_00059.jpg',\n",
              " 'letter001_frames_00054.jpg',\n",
              " 'letter001_frames_00053.jpg',\n",
              " 'letter001_frames_00052.jpg',\n",
              " 'letter001_frames_00051.jpg',\n",
              " 'letter001_frames_00056.jpg',\n",
              " 'letter001_frames_00055.jpg',\n",
              " 'letter001_frames_00047.jpg',\n",
              " 'letter001_frames_00105.jpg',\n",
              " 'letter001_frames_00120.jpg',\n",
              " 'letter001_frames_00103.jpg',\n",
              " 'letter001_frames_00098.jpg',\n",
              " 'letter001_frames_00099.jpg',\n",
              " 'letter001_frames_00101.jpg',\n",
              " 'letter001_frames_00104.jpg',\n",
              " 'letter001_frames_00097.jpg',\n",
              " 'letter001_frames_00093.jpg',\n",
              " 'letter001_frames_00096.jpg',\n",
              " 'letter001_frames_00095.jpg',\n",
              " 'letter001_frames_00092.jpg',\n",
              " 'letter001_frames_00024.jpg',\n",
              " 'letter001_frames_00008.jpg',\n",
              " 'letter001_frames_00013.jpg',\n",
              " 'letter001_frames_00009.jpg',\n",
              " 'letter001_frames_00005.jpg',\n",
              " 'letter001_frames_00010.jpg',\n",
              " 'letter001_frames_00006.jpg',\n",
              " 'letter001_frames_00014.jpg',\n",
              " 'letter001_frames_00015.jpg',\n",
              " 'letter001_frames_00012.jpg',\n",
              " 'letter001_frames_00011.jpg',\n",
              " 'letter001_frames_00007.jpg',\n",
              " 'letter001_frames_00004.jpg',\n",
              " 'letter001_frames_00021.jpg',\n",
              " 'letter001_frames_00018.jpg',\n",
              " 'letter001_frames_00027.jpg',\n",
              " 'letter001_frames_00026.jpg',\n",
              " 'letter001_frames_00023.jpg',\n",
              " 'letter001_frames_00028.jpg',\n",
              " 'letter001_frames_00020.jpg',\n",
              " 'letter001_frames_00025.jpg',\n",
              " 'letter001_frames_00019.jpg',\n",
              " 'letter001_frames_00022.jpg',\n",
              " 'letter001_frames_00017.jpg',\n",
              " 'letter001_frames_00061.jpg',\n",
              " 'letter001_frames_00003.jpg',\n",
              " 'letter001_frames_00002.jpg',\n",
              " 'letter001_frames_00091.jpg',\n",
              " 'letter001_frames_00031.jpg',\n",
              " 'letter001_frames_00046.jpg',\n",
              " 'letter001_frames_00076.jpg',\n",
              " 'letter001_frames_00016.jpg',\n",
              " 'letter001_frames_00001.jpg',\n",
              " 'magazine001_frames_00001.jpg',\n",
              " 'magazine001_frames_00002.jpg',\n",
              " 'magazine001_frames_00003.jpg',\n",
              " 'magazine001_frames_00004.jpg',\n",
              " 'magazine001_frames_00005.jpg',\n",
              " 'magazine001_frames_00006.jpg',\n",
              " 'magazine001_frames_00007.jpg',\n",
              " 'magazine001_frames_00008.jpg',\n",
              " 'magazine001_frames_00009.jpg',\n",
              " 'magazine001_frames_00010.jpg',\n",
              " 'magazine001_frames_00011.jpg',\n",
              " 'magazine001_frames_00012.jpg',\n",
              " 'magazine001_frames_00013.jpg',\n",
              " 'magazine001_frames_00014.jpg',\n",
              " 'magazine001_frames_00015.jpg',\n",
              " 'magazine001_frames_00016.jpg',\n",
              " 'magazine001_frames_00017.jpg',\n",
              " 'magazine001_frames_00018.jpg',\n",
              " 'magazine001_frames_00019.jpg',\n",
              " 'magazine001_frames_00020.jpg',\n",
              " 'magazine001_frames_00021.jpg',\n",
              " 'magazine001_frames_00022.jpg',\n",
              " 'magazine001_frames_00023.jpg',\n",
              " 'magazine001_frames_00024.jpg',\n",
              " 'magazine001_frames_00025.jpg',\n",
              " 'magazine001_frames_00026.jpg',\n",
              " 'magazine001_frames_00027.jpg',\n",
              " 'magazine001_frames_00028.jpg',\n",
              " 'magazine001_frames_00029.jpg',\n",
              " 'magazine001_frames_00030.jpg',\n",
              " 'magazine001_frames_00031.jpg',\n",
              " 'magazine001_frames_00032.jpg',\n",
              " 'magazine001_frames_00033.jpg',\n",
              " 'magazine001_frames_00034.jpg',\n",
              " 'magazine001_frames_00035.jpg',\n",
              " 'magazine001_frames_00036.jpg',\n",
              " 'magazine001_frames_00037.jpg',\n",
              " 'magazine001_frames_00038.jpg',\n",
              " 'magazine001_frames_00039.jpg',\n",
              " 'magazine001_frames_00040.jpg',\n",
              " 'magazine001_frames_00041.jpg',\n",
              " 'magazine001_frames_00042.jpg',\n",
              " 'magazine001_frames_00043.jpg',\n",
              " 'magazine001_frames_00044.jpg',\n",
              " 'magazine001_frames_00045.jpg',\n",
              " 'magazine001_frames_00046.jpg',\n",
              " 'magazine001_frames_00047.jpg',\n",
              " 'magazine001_frames_00048.jpg',\n",
              " 'magazine001_frames_00049.jpg',\n",
              " 'magazine001_frames_00050.jpg',\n",
              " 'magazine001_frames_00051.jpg',\n",
              " 'magazine001_frames_00052.jpg',\n",
              " 'magazine001_frames_00053.jpg',\n",
              " 'magazine001_frames_00054.jpg',\n",
              " 'magazine001_frames_00055.jpg',\n",
              " 'magazine001_frames_00056.jpg',\n",
              " 'magazine001_frames_00057.jpg',\n",
              " 'magazine001_frames_00058.jpg',\n",
              " 'magazine001_frames_00059.jpg',\n",
              " 'magazine001_frames_00060.jpg',\n",
              " 'magazine001_frames_00061.jpg',\n",
              " 'magazine001_frames_00062.jpg',\n",
              " 'magazine001_frames_00063.jpg',\n",
              " 'magazine001_frames_00064.jpg',\n",
              " 'magazine001_frames_00065.jpg',\n",
              " 'magazine001_frames_00066.jpg',\n",
              " 'magazine001_frames_00067.jpg',\n",
              " 'magazine001_frames_00068.jpg',\n",
              " 'magazine001_frames_00069.jpg',\n",
              " 'magazine001_frames_00070.jpg',\n",
              " 'magazine001_frames_00071.jpg',\n",
              " 'magazine001_frames_00072.jpg',\n",
              " 'magazine001_frames_00073.jpg',\n",
              " 'magazine001_frames_00074.jpg',\n",
              " 'magazine001_frames_00075.jpg',\n",
              " 'magazine001_frames_00076.jpg',\n",
              " 'magazine001_frames_00077.jpg',\n",
              " 'magazine001_frames_00078.jpg',\n",
              " 'magazine001_frames_00079.jpg',\n",
              " 'magazine001_frames_00080.jpg',\n",
              " 'magazine001_frames_00081.jpg',\n",
              " 'magazine001_frames_00082.jpg',\n",
              " 'magazine001_frames_00083.jpg',\n",
              " 'magazine001_frames_00084.jpg',\n",
              " 'magazine001_frames_00085.jpg',\n",
              " 'magazine001_frames_00086.jpg',\n",
              " 'magazine001_frames_00087.jpg',\n",
              " 'magazine001_frames_00088.jpg',\n",
              " 'magazine001_frames_00089.jpg',\n",
              " 'magazine001_frames_00090.jpg',\n",
              " 'magazine001_frames_00091.jpg',\n",
              " 'magazine001_frames_00092.jpg',\n",
              " 'magazine001_frames_00093.jpg',\n",
              " 'magazine001_frames_00094.jpg',\n",
              " 'magazine001_frames_00095.jpg',\n",
              " 'magazine001_frames_00096.jpg',\n",
              " 'magazine001_frames_00097.jpg',\n",
              " 'magazine001_frames_00098.jpg',\n",
              " 'magazine001_frames_00099.jpg',\n",
              " 'magazine001_frames_00100.jpg',\n",
              " 'magazine001_frames_00101.jpg',\n",
              " 'magazine001_frames_00102.jpg',\n",
              " 'magazine001_frames_00103.jpg',\n",
              " 'magazine001_frames_00104.jpg',\n",
              " 'magazine001_frames_00105.jpg',\n",
              " 'magazine001_frames_00106.jpg',\n",
              " 'magazine001_frames_00107.jpg',\n",
              " 'magazine001_frames_00108.jpg',\n",
              " 'magazine001_frames_00109.jpg',\n",
              " 'magazine001_frames_00110.jpg',\n",
              " 'magazine001_frames_00111.jpg',\n",
              " 'magazine001_frames_00112.jpg',\n",
              " 'magazine001_frames_00113.jpg',\n",
              " 'magazine001_frames_00114.jpg',\n",
              " 'magazine001_frames_00115.jpg',\n",
              " 'magazine001_frames_00116.jpg',\n",
              " 'magazine001_frames_00117.jpg',\n",
              " 'magazine001_frames_00118.jpg',\n",
              " 'magazine001_frames_00119.jpg',\n",
              " 'magazine001_frames_00120.jpg',\n",
              " 'magazine001_frames_00121.jpg',\n",
              " 'magazine001_frames_00122.jpg',\n",
              " 'magazine001_frames_00123.jpg',\n",
              " 'magazine001_frames_00124.jpg',\n",
              " 'magazine001_frames_00125.jpg',\n",
              " 'magazine001_frames_00126.jpg',\n",
              " 'magazine001_frames_00127.jpg',\n",
              " 'magazine001_frames_00128.jpg',\n",
              " 'magazine001_frames_00129.jpg',\n",
              " 'magazine001_frames_00130.jpg',\n",
              " 'magazine001_frames_00131.jpg',\n",
              " 'magazine001_frames_00132.jpg',\n",
              " 'magazine001_frames_00133.jpg',\n",
              " 'magazine001_frames_00134.jpg',\n",
              " 'magazine001_frames_00135.jpg',\n",
              " 'magazine001_frames_00136.jpg',\n",
              " 'magazine001_frames_00137.jpg',\n",
              " 'magazine001_frames_00138.jpg',\n",
              " 'magazine001_frames_00139.jpg',\n",
              " 'magazine001_frames_00140.jpg',\n",
              " 'magazine001_frames_00141.jpg',\n",
              " 'magazine001_frames_00142.jpg',\n",
              " 'magazine001_frames_00143.jpg',\n",
              " 'magazine001_frames_00144.jpg',\n",
              " 'magazine001_frames_00145.jpg',\n",
              " 'magazine001_frames_00146.jpg',\n",
              " 'magazine001_frames_00147.jpg',\n",
              " 'magazine001_frames_00148.jpg',\n",
              " 'magazine001_frames_00149.jpg',\n",
              " 'magazine001_frames_00150.jpg',\n",
              " 'magazine001_frames_00151.jpg',\n",
              " 'magazine001_frames_00152.jpg',\n",
              " 'magazine001_frames_00153.jpg',\n",
              " 'magazine001_frames_00154.jpg',\n",
              " 'magazine001_frames_00155.jpg',\n",
              " 'magazine001_frames_00156.jpg',\n",
              " 'magazine001_frames_00157.jpg',\n",
              " 'magazine001_frames_00158.jpg',\n",
              " 'magazine001_frames_00159.jpg',\n",
              " 'magazine001_frames_00160.jpg',\n",
              " 'magazine001_frames_00161.jpg',\n",
              " 'magazine001_frames_00162.jpg',\n",
              " 'magazine001_frames_00163.jpg',\n",
              " 'magazine001_frames_00164.jpg',\n",
              " 'magazine001_frames_00165.jpg',\n",
              " 'magazine001_frames_00166.jpg',\n",
              " 'magazine001_frames_00167.jpg',\n",
              " 'magazine001_frames_00168.jpg',\n",
              " 'magazine001_frames_00169.jpg',\n",
              " 'magazine001_frames_00170.jpg',\n",
              " 'magazine001_frames_00171.jpg',\n",
              " 'magazine001_frames_00172.jpg',\n",
              " 'magazine001_frames_00173.jpg',\n",
              " 'magazine001_frames_00174.jpg',\n",
              " 'magazine001_frames_00175.jpg',\n",
              " 'magazine001_frames_00176.jpg',\n",
              " 'magazine001_frames_00177.jpg',\n",
              " 'magazine001_frames_00178.jpg',\n",
              " 'magazine001_frames_00179.jpg',\n",
              " 'magazine001_frames_00180.jpg',\n",
              " 'magazine001_frames_00181.jpg',\n",
              " 'magazine001_frames_00182.jpg',\n",
              " 'magazine001_frames_00183.jpg',\n",
              " 'magazine001_frames_00184.jpg',\n",
              " 'magazine001_frames_00185.jpg',\n",
              " 'magazine001_frames_00186.jpg',\n",
              " 'magazine001_frames_00187.jpg',\n",
              " 'magazine001_frames_00188.jpg',\n",
              " 'magazine001_frames_00189.jpg',\n",
              " 'magazine001_frames_00190.jpg',\n",
              " 'magazine001_frames_00191.jpg',\n",
              " 'magazine001_frames_00192.jpg',\n",
              " 'magazine001_frames_00193.jpg',\n",
              " 'magazine001_frames_00194.jpg',\n",
              " 'magazine001_frames_00195.jpg',\n",
              " 'magazine001_frames_00196.jpg',\n",
              " 'magazine001_frames_00197.jpg',\n",
              " 'magazine001_frames_00198.jpg']"
            ]
          },
          "metadata": {},
          "execution_count": 47
        }
      ]
    },
    {
      "cell_type": "code",
      "source": [
        "len(imgs)"
      ],
      "metadata": {
        "colab": {
          "base_uri": "https://localhost:8080/"
        },
        "id": "Otv5mW0761wg",
        "outputId": "45ba72b4-1d85-4f52-d80d-81f2250a8b80"
      },
      "execution_count": 18,
      "outputs": [
        {
          "output_type": "execute_result",
          "data": {
            "text/plain": [
              "588"
            ]
          },
          "metadata": {},
          "execution_count": 18
        }
      ]
    },
    {
      "cell_type": "code",
      "source": [
        "bbox = []\n",
        "for i in range(0,len(imgs)):\n",
        "  e = [list(df_bb.iloc[i,0:4]), [df_bb.iloc[i,4]]]\n",
        "  bbox.append(e)"
      ],
      "metadata": {
        "id": "3xN_CH47xfYc"
      },
      "execution_count": 61,
      "outputs": []
    },
    {
      "cell_type": "code",
      "source": [
        "# use a dictionary to quickly look up a corresponding image to it's label\n",
        "img2bbox = dict(zip(imgs, bbox))\n",
        "#img2bbox"
      ],
      "metadata": {
        "id": "1a8h5VnMxfYc"
      },
      "execution_count": 62,
      "outputs": []
    },
    {
      "cell_type": "code",
      "source": [
        "# check the first item\n",
        "first = {k: img2bbox[k] for k in list(img2bbox)[:1]}; first"
      ],
      "metadata": {
        "colab": {
          "base_uri": "https://localhost:8080/"
        },
        "id": "s1aC4vCD6su1",
        "outputId": "3acca042-a841-4e50-d5ac-6b98c6bd56ba"
      },
      "execution_count": 63,
      "outputs": [
        {
          "output_type": "execute_result",
          "data": {
            "text/plain": [
              "{'datasheet001_frames_00001.jpg': [[716.625, 199.127, 1259.02, 805.609],\n",
              "  [True]]}"
            ]
          },
          "metadata": {},
          "execution_count": 63
        }
      ]
    },
    {
      "cell_type": "code",
      "source": [
        "# a getter function\n",
        "#   o is the input image name\n",
        "#   img2bbox[o][0]: the coordinates\n",
        "#   img2bbox[o][1]: the label 'True' / 'False'\n",
        "getters = [lambda o: o, lambda o: img2bbox[o][0], lambda o: img2bbox[o][1]] "
      ],
      "metadata": {
        "id": "DmCG5xbsxfYc"
      },
      "execution_count": 64,
      "outputs": []
    },
    {
      "cell_type": "code",
      "source": [
        "# for transforms later\n",
        "item_tfms = [Resize(128, method='pad')] \n",
        "batch_tfms = [Rotate(), Flip(), Dihedral(), Normalize.from_stats(*imagenet_stats)]"
      ],
      "metadata": {
        "id": "NcjGfgjwxfYc"
      },
      "execution_count": 65,
      "outputs": []
    },
    {
      "cell_type": "code",
      "source": [
        "def get_train_imgs(noop): return imgs # simply return the images"
      ],
      "metadata": {
        "id": "ic6O4eJPxfYc"
      },
      "execution_count": 66,
      "outputs": []
    },
    {
      "cell_type": "code",
      "source": [
        "frames = DataBlock(blocks=(ImageBlock, BBoxBlock, BBoxLblBlock), # define pre-defined problem domains: images, bb, label bb\n",
        "                 splitter=RandomSplitter(), \n",
        "                 get_items=get_train_imgs, \n",
        "                 getters=getters, # getters applied to results of get_items\n",
        "                 item_tfms=item_tfms,\n",
        "                 batch_tfms=batch_tfms,\n",
        "                 n_inp=1)"
      ],
      "metadata": {
        "id": "yN8VcwNUxfYc"
      },
      "execution_count": 67,
      "outputs": []
    },
    {
      "cell_type": "code",
      "source": [
        "os.chdir('/content/drive/MyDrive/BTTAI_AmericanExpress1/datasets/sampleDataset/frames_bb')"
      ],
      "metadata": {
        "id": "8ehcXKKu7l9G"
      },
      "execution_count": 68,
      "outputs": []
    },
    {
      "cell_type": "code",
      "source": [
        "frames.summary(os.getcwd()) "
      ],
      "metadata": {
        "colab": {
          "base_uri": "https://localhost:8080/"
        },
        "id": "5cy9BnF47aeH",
        "outputId": "55e6b3d5-b924-41d9-e298-985b2b5f140d"
      },
      "execution_count": 69,
      "outputs": [
        {
          "output_type": "stream",
          "name": "stdout",
          "text": [
            "Setting-up type transforms pipelines\n",
            "Collecting items from /content/drive/.shortcut-targets-by-id/17C-FeV89lWfoxThc1mu8REz8adMDfNfP/BTTAI_AmericanExpress1/datasets/sampleDataset/frames_bb\n",
            "Found 588 items\n",
            "2 datasets of sizes 471,117\n",
            "Setting up Pipeline: <lambda> -> PILBase.create\n",
            "Setting up Pipeline: <lambda> -> TensorBBox.create\n",
            "Setting up Pipeline: <lambda> -> MultiCategorize -- {'vocab': None, 'sort': True, 'add_na': True}\n",
            "\n",
            "Building one sample\n",
            "  Pipeline: <lambda> -> PILBase.create\n",
            "    starting from\n",
            "      magazine001_frames_00188.jpg\n",
            "    applying <lambda> gives\n",
            "      magazine001_frames_00188.jpg\n",
            "    applying PILBase.create gives\n",
            "      PILImage mode=RGB size=1920x1080\n",
            "  Pipeline: <lambda> -> TensorBBox.create\n",
            "    starting from\n",
            "      magazine001_frames_00188.jpg\n",
            "    applying <lambda> gives\n",
            "      [873.797, 281.266, 1325.25, 791.247]\n",
            "    applying TensorBBox.create gives\n",
            "      TensorBBox of size 1x4\n",
            "  Pipeline: <lambda> -> MultiCategorize -- {'vocab': None, 'sort': True, 'add_na': True}\n",
            "    starting from\n",
            "      magazine001_frames_00188.jpg\n",
            "    applying <lambda> gives\n",
            "      [True]\n",
            "    applying MultiCategorize -- {'vocab': None, 'sort': True, 'add_na': True} gives\n",
            "      TensorMultiCategory([1])\n",
            "\n",
            "Final sample: (PILImage mode=RGB size=1920x1080, TensorBBox([[ 873.7970,  281.2660, 1325.2500,  791.2470]]), TensorMultiCategory([1]))\n",
            "\n",
            "\n",
            "Collecting items from /content/drive/.shortcut-targets-by-id/17C-FeV89lWfoxThc1mu8REz8adMDfNfP/BTTAI_AmericanExpress1/datasets/sampleDataset/frames_bb\n",
            "Found 588 items\n",
            "2 datasets of sizes 471,117\n",
            "Setting up Pipeline: <lambda> -> PILBase.create\n",
            "Setting up Pipeline: <lambda> -> TensorBBox.create\n",
            "Setting up Pipeline: <lambda> -> MultiCategorize -- {'vocab': None, 'sort': True, 'add_na': True}\n",
            "Setting up after_item: Pipeline: BBoxLabeler -> PointScaler -> Resize -- {'size': (128, 128), 'method': 'pad', 'pad_mode': 'reflection', 'resamples': (2, 0), 'p': 1.0} -> ToTensor\n",
            "Setting up before_batch: Pipeline: bb_pad\n",
            "Setting up after_batch: Pipeline: IntToFloatTensor -- {'div': 255.0, 'div_mask': 1} -> Rotate -- {'size': None, 'mode': 'bilinear', 'pad_mode': 'reflection', 'mode_mask': 'nearest', 'align_corners': True, 'p': 1.0} -> Flip -- {'size': None, 'mode': 'bilinear', 'pad_mode': 'reflection', 'mode_mask': 'nearest', 'align_corners': True, 'p': 0.5} -> Dihedral -- {'size': None, 'mode': 'bilinear', 'pad_mode': 'reflection', 'mode_mask': 'nearest', 'align_corners': True, 'p': 1.0} -> Normalize -- {'mean': tensor([[[[0.4850]],\n",
            "\n",
            "         [[0.4560]],\n",
            "\n",
            "         [[0.4060]]]], device='cuda:0'), 'std': tensor([[[[0.2290]],\n",
            "\n",
            "         [[0.2240]],\n",
            "\n",
            "         [[0.2250]]]], device='cuda:0'), 'axes': (0, 2, 3)}\n",
            "\n",
            "Building one batch\n",
            "Applying item_tfms to the first sample:\n",
            "  Pipeline: BBoxLabeler -> PointScaler -> Resize -- {'size': (128, 128), 'method': 'pad', 'pad_mode': 'reflection', 'resamples': (2, 0), 'p': 1.0} -> ToTensor\n",
            "    starting from\n",
            "      (PILImage mode=RGB size=1920x1080, TensorBBox of size 1x4, TensorMultiCategory([1]))\n",
            "    applying BBoxLabeler gives\n",
            "      (PILImage mode=RGB size=1920x1080, TensorBBox of size 1x4, TensorMultiCategory([1]))\n",
            "    applying PointScaler gives\n",
            "      (PILImage mode=RGB size=1920x1080, TensorBBox of size 1x4, TensorMultiCategory([1]))\n",
            "    applying Resize -- {'size': (128, 128), 'method': 'pad', 'pad_mode': 'reflection', 'resamples': (2, 0), 'p': 1.0} gives\n",
            "      (PILImage mode=RGB size=128x128, TensorBBox of size 1x4, TensorMultiCategory([1]))\n",
            "    applying ToTensor gives\n",
            "      (TensorImage of size 3x128x128, TensorBBox of size 1x4, TensorMultiCategory([1]))\n",
            "\n",
            "Adding the next 3 samples\n",
            "\n",
            "Applying before_batch to the list of samples\n",
            "  Pipeline: bb_pad\n",
            "    starting from\n",
            "      [(TensorImage of size 3x128x128, TensorBBox of size 1x4, TensorMultiCategory([1])), (TensorImage of size 3x128x128, TensorBBox of size 1x4, TensorMultiCategory([1])), (TensorImage of size 3x128x128, TensorBBox of size 1x4, TensorMultiCategory([1])), (TensorImage of size 3x128x128, TensorBBox of size 1x4, TensorMultiCategory([1]))]\n",
            "    applying bb_pad gives\n",
            "      [(TensorImage of size 3x128x128, TensorBBox of size 1x4, TensorMultiCategory([1])), (TensorImage of size 3x128x128, TensorBBox of size 1x4, TensorMultiCategory([1])), (TensorImage of size 3x128x128, TensorBBox of size 1x4, TensorMultiCategory([1])), (TensorImage of size 3x128x128, TensorBBox of size 1x4, TensorMultiCategory([1]))]\n",
            "\n",
            "Collating items in a batch\n",
            "\n",
            "Applying batch_tfms to the batch built\n",
            "  Pipeline: IntToFloatTensor -- {'div': 255.0, 'div_mask': 1} -> Rotate -- {'size': None, 'mode': 'bilinear', 'pad_mode': 'reflection', 'mode_mask': 'nearest', 'align_corners': True, 'p': 1.0} -> Flip -- {'size': None, 'mode': 'bilinear', 'pad_mode': 'reflection', 'mode_mask': 'nearest', 'align_corners': True, 'p': 0.5} -> Dihedral -- {'size': None, 'mode': 'bilinear', 'pad_mode': 'reflection', 'mode_mask': 'nearest', 'align_corners': True, 'p': 1.0} -> Normalize -- {'mean': tensor([[[[0.4850]],\n",
            "\n",
            "         [[0.4560]],\n",
            "\n",
            "         [[0.4060]]]], device='cuda:0'), 'std': tensor([[[[0.2290]],\n",
            "\n",
            "         [[0.2240]],\n",
            "\n",
            "         [[0.2250]]]], device='cuda:0'), 'axes': (0, 2, 3)}\n",
            "    starting from\n",
            "      (TensorImage of size 4x3x128x128, TensorBBox of size 4x1x4, TensorMultiCategory of size 4x1)\n",
            "    applying IntToFloatTensor -- {'div': 255.0, 'div_mask': 1} gives\n",
            "      (TensorImage of size 4x3x128x128, TensorBBox of size 4x1x4, TensorMultiCategory of size 4x1)\n",
            "    applying Rotate -- {'size': None, 'mode': 'bilinear', 'pad_mode': 'reflection', 'mode_mask': 'nearest', 'align_corners': True, 'p': 1.0} gives\n",
            "      (TensorImage of size 4x3x128x128, TensorBBox of size 4x1x4, TensorMultiCategory of size 4x1)\n",
            "    applying Flip -- {'size': None, 'mode': 'bilinear', 'pad_mode': 'reflection', 'mode_mask': 'nearest', 'align_corners': True, 'p': 0.5} gives\n",
            "      (TensorImage of size 4x3x128x128, TensorBBox of size 4x1x4, TensorMultiCategory of size 4x1)\n",
            "    applying Dihedral -- {'size': None, 'mode': 'bilinear', 'pad_mode': 'reflection', 'mode_mask': 'nearest', 'align_corners': True, 'p': 1.0} gives\n",
            "      (TensorImage of size 4x3x128x128, TensorBBox of size 4x1x4, TensorMultiCategory of size 4x1)\n",
            "    applying Normalize -- {'mean': tensor([[[[0.4850]],\n",
            "\n",
            "         [[0.4560]],\n",
            "\n",
            "         [[0.4060]]]], device='cuda:0'), 'std': tensor([[[[0.2290]],\n",
            "\n",
            "         [[0.2240]],\n",
            "\n",
            "         [[0.2250]]]], device='cuda:0'), 'axes': (0, 2, 3)} gives\n",
            "      (TensorImage of size 4x3x128x128, TensorBBox of size 4x1x4, TensorMultiCategory of size 4x1)\n"
          ]
        }
      ]
    },
    {
      "cell_type": "code",
      "source": [
        "files[:5]"
      ],
      "metadata": {
        "colab": {
          "base_uri": "https://localhost:8080/"
        },
        "outputId": "bfc13e9b-88b3-4995-e5a9-578b489e8efd",
        "id": "Luy5eFtGxfYd"
      },
      "execution_count": 72,
      "outputs": [
        {
          "output_type": "execute_result",
          "data": {
            "text/plain": [
              "(#5) [Path('/content/drive/MyDrive/BTTAI_AmericanExpress1/datasets/sampleDataset/frames_bb/datasheet001_frames/datasheet001_frames_00001.jpg'),Path('/content/drive/MyDrive/BTTAI_AmericanExpress1/datasets/sampleDataset/frames_bb/datasheet001_frames/datasheet001_frames_00002.jpg'),Path('/content/drive/MyDrive/BTTAI_AmericanExpress1/datasets/sampleDataset/frames_bb/datasheet001_frames/datasheet001_frames_00003.jpg'),Path('/content/drive/MyDrive/BTTAI_AmericanExpress1/datasets/sampleDataset/frames_bb/datasheet001_frames/datasheet001_frames_00004.jpg'),Path('/content/drive/MyDrive/BTTAI_AmericanExpress1/datasets/sampleDataset/frames_bb/datasheet001_frames/datasheet001_frames_00005.jpg')]"
            ]
          },
          "metadata": {},
          "execution_count": 72
        }
      ]
    },
    {
      "cell_type": "code",
      "source": [
        "dls = frames.dataloaders(files)"
      ],
      "metadata": {
        "id": "Wgp-JpOtxfYd"
      },
      "execution_count": 73,
      "outputs": []
    },
    {
      "cell_type": "code",
      "source": [
        "dls.c = 1"
      ],
      "metadata": {
        "id": "_bC7O0jgxfYd"
      },
      "execution_count": 74,
      "outputs": []
    },
    {
      "cell_type": "code",
      "source": [
        "dls.show_batch()"
      ],
      "metadata": {
        "colab": {
          "base_uri": "https://localhost:8080/",
          "height": 520
        },
        "outputId": "73cdb124-bf19-460b-ca2e-4fb6a807f9e1",
        "id": "eQh_GOpGxfYd"
      },
      "execution_count": 75,
      "outputs": [
        {
          "output_type": "display_data",
          "data": {
            "text/plain": [
              "<Figure size 648x648 with 9 Axes>"
            ],
            "image/png": "[encoded data removed]"
          },
          "metadata": {
            "needs_background": "light"
          }
        }
      ]
    },
    {
      "cell_type": "markdown",
      "source": [
        "### Model"
      ],
      "metadata": {
        "id": "vXcaDH3M754b"
      }
    },
    {
      "cell_type": "code",
      "source": [
        "!pip install wwf"
      ],
      "metadata": {
        "id": "1_6A2LIn754c"
      },
      "execution_count": null,
      "outputs": []
    },
    {
      "cell_type": "code",
      "source": [
        "from wwf.vision.object_detection import * # use RetinaNet"
      ],
      "metadata": {
        "id": "GIQobzH-754c"
      },
      "execution_count": 77,
      "outputs": []
    },
    {
      "cell_type": "code",
      "source": [
        "encoder = create_body(resnet34(), pretrained=True) # use transfer learning here by creating an encoder (body) of our model and a head"
      ],
      "metadata": {
        "id": "XV5wALmX754c"
      },
      "execution_count": 78,
      "outputs": []
    },
    {
      "cell_type": "code",
      "source": [
        "get_c(dls)"
      ],
      "metadata": {
        "colab": {
          "base_uri": "https://localhost:8080/"
        },
        "outputId": "38d1df56-9306-4a45-f3ab-b276f7985fdb",
        "id": "k1XxvsUO754c"
      },
      "execution_count": 79,
      "outputs": [
        {
          "output_type": "execute_result",
          "data": {
            "text/plain": [
              "1"
            ]
          },
          "metadata": {},
          "execution_count": 79
        }
      ]
    },
    {
      "cell_type": "code",
      "source": [
        "arch = RetinaNet(encoder, get_c(dls), final_bias=-4)"
      ],
      "metadata": {
        "id": "UU9OR0o5754c"
      },
      "execution_count": 80,
      "outputs": []
    },
    {
      "cell_type": "code",
      "source": [
        "create_head(124, 4)"
      ],
      "metadata": {
        "colab": {
          "base_uri": "https://localhost:8080/"
        },
        "outputId": "f953f31b-0159-4346-bf8c-4cd7a88f1695",
        "id": "6Qbr0m_I754d"
      },
      "execution_count": 81,
      "outputs": [
        {
          "output_type": "execute_result",
          "data": {
            "text/plain": [
              "Sequential(\n",
              "  (0): AdaptiveConcatPool2d(\n",
              "    (ap): AdaptiveAvgPool2d(output_size=1)\n",
              "    (mp): AdaptiveMaxPool2d(output_size=1)\n",
              "  )\n",
              "  (1): fastai.layers.Flatten(full=False)\n",
              "  (2): BatchNorm1d(248, eps=1e-05, momentum=0.1, affine=True, track_running_stats=True)\n",
              "  (3): Dropout(p=0.25, inplace=False)\n",
              "  (4): Linear(in_features=248, out_features=512, bias=False)\n",
              "  (5): ReLU(inplace=True)\n",
              "  (6): BatchNorm1d(512, eps=1e-05, momentum=0.1, affine=True, track_running_stats=True)\n",
              "  (7): Dropout(p=0.5, inplace=False)\n",
              "  (8): Linear(in_features=512, out_features=4, bias=False)\n",
              ")"
            ]
          },
          "metadata": {},
          "execution_count": 81
        }
      ]
    },
    {
      "cell_type": "markdown",
      "source": [
        "We have one with a smoother, a classifer, and a box_regressor (to get our points)\n"
      ],
      "metadata": {
        "id": "KxVqeUh6754d"
      }
    },
    {
      "cell_type": "code",
      "source": [
        "arch.smoothers"
      ],
      "metadata": {
        "colab": {
          "base_uri": "https://localhost:8080/"
        },
        "outputId": "62af968a-6154-42eb-dbc7-7ef3aaec99c6",
        "id": "KCgFf71K754d"
      },
      "execution_count": 82,
      "outputs": [
        {
          "output_type": "execute_result",
          "data": {
            "text/plain": [
              "ModuleList(\n",
              "  (0): Conv2d(256, 256, kernel_size=(3, 3), stride=(1, 1), padding=(1, 1))\n",
              "  (1): Conv2d(256, 256, kernel_size=(3, 3), stride=(1, 1), padding=(1, 1))\n",
              "  (2): Conv2d(256, 256, kernel_size=(3, 3), stride=(1, 1), padding=(1, 1))\n",
              ")"
            ]
          },
          "metadata": {},
          "execution_count": 82
        }
      ]
    },
    {
      "cell_type": "code",
      "source": [
        "arch.classifier"
      ],
      "metadata": {
        "colab": {
          "base_uri": "https://localhost:8080/"
        },
        "outputId": "90eff132-3c08-4af5-8217-0586bdee1c3e",
        "id": "SEiiT88X754d"
      },
      "execution_count": 83,
      "outputs": [
        {
          "output_type": "execute_result",
          "data": {
            "text/plain": [
              "Sequential(\n",
              "  (0): ConvLayer(\n",
              "    (0): Conv2d(256, 256, kernel_size=(3, 3), stride=(1, 1), padding=(1, 1))\n",
              "    (1): ReLU()\n",
              "  )\n",
              "  (1): ConvLayer(\n",
              "    (0): Conv2d(256, 256, kernel_size=(3, 3), stride=(1, 1), padding=(1, 1))\n",
              "    (1): ReLU()\n",
              "  )\n",
              "  (2): ConvLayer(\n",
              "    (0): Conv2d(256, 256, kernel_size=(3, 3), stride=(1, 1), padding=(1, 1))\n",
              "    (1): ReLU()\n",
              "  )\n",
              "  (3): ConvLayer(\n",
              "    (0): Conv2d(256, 256, kernel_size=(3, 3), stride=(1, 1), padding=(1, 1))\n",
              "    (1): ReLU()\n",
              "  )\n",
              "  (4): Conv2d(256, 9, kernel_size=(3, 3), stride=(1, 1), padding=(1, 1))\n",
              ")"
            ]
          },
          "metadata": {},
          "execution_count": 83
        }
      ]
    },
    {
      "cell_type": "code",
      "source": [
        "arch.box_regressor"
      ],
      "metadata": {
        "colab": {
          "base_uri": "https://localhost:8080/"
        },
        "outputId": "d7fa8c36-3338-4688-cc42-dedb8141ceab",
        "id": "7eXVzbUN754d"
      },
      "execution_count": 84,
      "outputs": [
        {
          "output_type": "execute_result",
          "data": {
            "text/plain": [
              "Sequential(\n",
              "  (0): ConvLayer(\n",
              "    (0): Conv2d(256, 256, kernel_size=(3, 3), stride=(1, 1), padding=(1, 1))\n",
              "    (1): ReLU()\n",
              "  )\n",
              "  (1): ConvLayer(\n",
              "    (0): Conv2d(256, 256, kernel_size=(3, 3), stride=(1, 1), padding=(1, 1))\n",
              "    (1): ReLU()\n",
              "  )\n",
              "  (2): ConvLayer(\n",
              "    (0): Conv2d(256, 256, kernel_size=(3, 3), stride=(1, 1), padding=(1, 1))\n",
              "    (1): ReLU()\n",
              "  )\n",
              "  (3): ConvLayer(\n",
              "    (0): Conv2d(256, 256, kernel_size=(3, 3), stride=(1, 1), padding=(1, 1))\n",
              "    (1): ReLU()\n",
              "  )\n",
              "  (4): Conv2d(256, 36, kernel_size=(3, 3), stride=(1, 1), padding=(1, 1))\n",
              ")"
            ]
          },
          "metadata": {},
          "execution_count": 84
        }
      ]
    },
    {
      "cell_type": "markdown",
      "source": [
        "For RetinaNet to work, we need to define what the aspect ratio's and scales of our image should be."
      ],
      "metadata": {
        "id": "s9wLF2zk754d"
      }
    },
    {
      "cell_type": "code",
      "source": [
        "ratios = [1/2,1,2]\n",
        "scales = [1,2**(-1/3), 2**(-2/3)]"
      ],
      "metadata": {
        "id": "-FarekwM754d"
      },
      "execution_count": 85,
      "outputs": []
    },
    {
      "cell_type": "markdown",
      "source": [
        "### Loss Function"
      ],
      "metadata": {
        "id": "hKNwkG23754e"
      }
    },
    {
      "cell_type": "markdown",
      "source": [
        "Our loss function"
      ],
      "metadata": {
        "id": "XFo0q-OI754e"
      }
    },
    {
      "cell_type": "code",
      "source": [
        "crit = RetinaNetFocalLoss(scales=scales, ratios=ratios)"
      ],
      "metadata": {
        "id": "PksYNOGa754e"
      },
      "execution_count": 86,
      "outputs": []
    },
    {
      "cell_type": "markdown",
      "source": [
        "Our learner"
      ],
      "metadata": {
        "id": "5EBSkNtD754e"
      }
    },
    {
      "cell_type": "code",
      "source": [
        "def _retinanet_split(m): return L(m.encoder,nn.Sequential(m.c5top6, m.p6top7, m.merges, m.smoothers, m.classifier, m.box_regressor)).map(params)"
      ],
      "metadata": {
        "id": "YyScB0Nl754e"
      },
      "execution_count": 87,
      "outputs": []
    },
    {
      "cell_type": "code",
      "source": [
        "learn = Learner(dls, arch, loss_func=crit, splitter=_retinanet_split)"
      ],
      "metadata": {
        "id": "GiSJA8g4754e"
      },
      "execution_count": 88,
      "outputs": []
    },
    {
      "cell_type": "code",
      "source": [
        "learn.freeze()"
      ],
      "metadata": {
        "id": "ulMes7AO754e"
      },
      "execution_count": 89,
      "outputs": []
    },
    {
      "cell_type": "markdown",
      "source": [
        "Train"
      ],
      "metadata": {
        "id": "Fl7ao_J4754e"
      }
    },
    {
      "cell_type": "code",
      "source": [
        "learn.fit_one_cycle(10, slice(1e-5, 1e-4))"
      ],
      "metadata": {
        "colab": {
          "base_uri": "https://localhost:8080/",
          "height": 363
        },
        "outputId": "2e1a151f-a509-4225-c66b-e02fe39dccf8",
        "id": "fBY6dsvH754e"
      },
      "execution_count": 90,
      "outputs": [
        {
          "output_type": "display_data",
          "data": {
            "text/plain": [
              "<IPython.core.display.HTML object>"
            ],
            "text/html": [
              "\n",
              "<style>\n",
              "    /* Turns off some styling */\n",
              "    progress {\n",
              "        /* gets rid of default border in Firefox and Opera. */\n",
              "        border: none;\n",
              "        /* Needs to be in here for Safari polyfill so background images work as expected. */\n",
              "        background-size: auto;\n",
              "    }\n",
              "    progress:not([value]), progress:not([value])::-webkit-progress-bar {\n",
              "        background: repeating-linear-gradient(45deg, #7e7e7e, #7e7e7e 10px, #5c5c5c 10px, #5c5c5c 20px);\n",
              "    }\n",
              "    .progress-bar-interrupted, .progress-bar-interrupted::-webkit-progress-bar {\n",
              "        background: #F44336;\n",
              "    }\n",
              "</style>\n"
            ]
          },
          "metadata": {}
        },
        {
          "output_type": "display_data",
          "data": {
            "text/plain": [
              "<IPython.core.display.HTML object>"
            ],
            "text/html": [
              "<table border=\"1\" class=\"dataframe\">\n",
              "  <thead>\n",
              "    <tr style=\"text-align: left;\">\n",
              "      <th>epoch</th>\n",
              "      <th>train_loss</th>\n",
              "      <th>valid_loss</th>\n",
              "      <th>time</th>\n",
              "    </tr>\n",
              "  </thead>\n",
              "  <tbody>\n",
              "    <tr>\n",
              "      <td>0</td>\n",
              "      <td>3.454025</td>\n",
              "      <td>3.301009</td>\n",
              "      <td>00:32</td>\n",
              "    </tr>\n",
              "    <tr>\n",
              "      <td>1</td>\n",
              "      <td>2.830742</td>\n",
              "      <td>2.703547</td>\n",
              "      <td>00:29</td>\n",
              "    </tr>\n",
              "    <tr>\n",
              "      <td>2</td>\n",
              "      <td>2.350417</td>\n",
              "      <td>1.737624</td>\n",
              "      <td>00:29</td>\n",
              "    </tr>\n",
              "    <tr>\n",
              "      <td>3</td>\n",
              "      <td>1.990814</td>\n",
              "      <td>1.056583</td>\n",
              "      <td>00:29</td>\n",
              "    </tr>\n",
              "    <tr>\n",
              "      <td>4</td>\n",
              "      <td>1.737839</td>\n",
              "      <td>0.890901</td>\n",
              "      <td>00:31</td>\n",
              "    </tr>\n",
              "    <tr>\n",
              "      <td>5</td>\n",
              "      <td>1.543903</td>\n",
              "      <td>0.797465</td>\n",
              "      <td>00:29</td>\n",
              "    </tr>\n",
              "    <tr>\n",
              "      <td>6</td>\n",
              "      <td>1.394089</td>\n",
              "      <td>0.724146</td>\n",
              "      <td>00:29</td>\n",
              "    </tr>\n",
              "    <tr>\n",
              "      <td>7</td>\n",
              "      <td>1.280798</td>\n",
              "      <td>0.684034</td>\n",
              "      <td>00:29</td>\n",
              "    </tr>\n",
              "    <tr>\n",
              "      <td>8</td>\n",
              "      <td>1.195544</td>\n",
              "      <td>0.678414</td>\n",
              "      <td>00:29</td>\n",
              "    </tr>\n",
              "    <tr>\n",
              "      <td>9</td>\n",
              "      <td>1.124046</td>\n",
              "      <td>0.685245</td>\n",
              "      <td>00:31</td>\n",
              "    </tr>\n",
              "  </tbody>\n",
              "</table>"
            ]
          },
          "metadata": {}
        }
      ]
    }
  ]
}