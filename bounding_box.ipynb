{
  "nbformat": 4,
  "nbformat_minor": 0,
  "metadata": {
    "colab": {
      "provenance": [],
      "collapsed_sections": [
        "uO9VBxweRpoV"
      ],
      "include_colab_link": true
    },
    "kernelspec": {
      "name": "python3",
      "display_name": "Python 3"
    },
    "language_info": {
      "name": "python"
    },
    "accelerator": "GPU"
  },
  "cells": [
    {
      "cell_type": "markdown",
      "metadata": {
        "id": "view-in-github",
        "colab_type": "text"
      },
      "source": [
        "<a href=\"https://colab.research.google.com/github/alixintong/btt-ai-know-your-customer/blob/jess/bounding_box.ipynb\" target=\"_parent\"><img src=\"https://colab.research.google.com/assets/colab-badge.svg\" alt=\"Open In Colab\"/></a>"
      ]
    },
    {
      "cell_type": "code",
      "execution_count": 1,
      "metadata": {
        "colab": {
          "base_uri": "https://localhost:8080/"
        },
        "id": "nfTK0SJKP453",
        "outputId": "bf40b929-c44e-4b48-877a-89ecd2936da2"
      },
      "outputs": [
        {
          "output_type": "stream",
          "name": "stdout",
          "text": [
            "Mounted at /content/drive\n"
          ]
        }
      ],
      "source": [
        "# this cell allows access to our folder\n",
        "\n",
        "from google.colab import drive\n",
        "drive.mount('/content/drive', force_remount=True)\n",
        "root_path = '/content/gdrive/MyDrive/BTTAI_AmericanExpress1'"
      ]
    },
    {
      "cell_type": "markdown",
      "source": [
        "## For datasheet frames"
      ],
      "metadata": {
        "id": "6JE7hMdNjQZE"
      }
    },
    {
      "cell_type": "code",
      "source": [
        "# cell for imports - add as needed\n",
        "import torch \n",
        "import cv2\n",
        "import numpy as np \n",
        "import pandas as pd\n",
        "import os, os.path\n",
        "import re\n",
        "from fastai.vision.all import *"
      ],
      "metadata": {
        "id": "rzhF26QIP-1N"
      },
      "execution_count": 2,
      "outputs": []
    },
    {
      "cell_type": "code",
      "source": [
        "# for reference\n",
        "#   - fastai segmentation: https://walkwithfastai.com/Segmentation\n",
        "#   - fastai object detection: https://walkwithfastai.com/Object_Detection"
      ],
      "metadata": {
        "id": "Z5SW5aXtQIdT"
      },
      "execution_count": 3,
      "outputs": []
    },
    {
      "cell_type": "markdown",
      "source": [
        "### Data"
      ],
      "metadata": {
        "id": "uO9VBxweRpoV"
      }
    },
    {
      "cell_type": "code",
      "source": [
        "path = '/content/drive/MyDrive/BTTAI_AmericanExpress1/datasets/sampleDataset/frames'\n",
        "\n",
        "files = get_image_files(path + \"/datasheet001_frames\")\n",
        "len(files)"
      ],
      "metadata": {
        "id": "EmndRe_0Rrs5",
        "outputId": "b9a758a4-accc-4ebc-d53a-bda2037b09b0",
        "colab": {
          "base_uri": "https://localhost:8080/"
        }
      },
      "execution_count": 4,
      "outputs": [
        {
          "output_type": "execute_result",
          "data": {
            "text/plain": [
              "214"
            ]
          },
          "metadata": {},
          "execution_count": 4
        }
      ]
    },
    {
      "cell_type": "code",
      "source": [
        "# import bounding box datasheet csv\n",
        "# use datasheet001 as csv instead of xml\n",
        "url='https://drive.google.com/file/d/1lUoBf1rwPXPlI9Zg2lDzwV4ODtsGJ4u2/view?usp=sharing'\n",
        "url='https://drive.google.com/uc?id=' + url.split('/')[-2]\n",
        "df = pd.read_csv(url)\n",
        "df.head()"
      ],
      "metadata": {
        "id": "RC-dWi8ORszo",
        "colab": {
          "base_uri": "https://localhost:8080/",
          "height": 270
        },
        "outputId": "dcf8259b-4370-4ed7-fadf-d125c71fb950"
      },
      "execution_count": 5,
      "outputs": [
        {
          "output_type": "execute_result",
          "data": {
            "text/plain": [
              "  point/0/_name  point/0/_x  point/0/_y point/1/_name  point/1/_x  point/1/_y  \\\n",
              "0            bl     716.625     805.609            tl     737.377     201.383   \n",
              "1            bl     714.326     806.309            tl     736.330     202.300   \n",
              "2            bl     713.031     804.811            tl     734.431     201.449   \n",
              "3            bl     713.845     802.659            tl     734.423     198.474   \n",
              "4            bl     713.088     802.830            tl     734.675     195.678   \n",
              "\n",
              "  point/2/_name  point/2/_x  point/2/_y point/3/_name  point/3/_x  point/3/_y  \\\n",
              "0            tr     1180.71     199.127            br     1259.02     791.942   \n",
              "1            tr     1179.74     200.028            br     1257.21     792.161   \n",
              "2            tr     1177.81     199.795            br     1255.42     791.291   \n",
              "3            tr     1177.79     196.852            br     1256.72     789.631   \n",
              "4            tr     1179.99     194.057            br     1259.35     790.289   \n",
              "\n",
              "   _index  _rejected  \n",
              "0       1      False  \n",
              "1       2      False  \n",
              "2       3      False  \n",
              "3       4      False  \n",
              "4       5      False  "
            ],
            "text/html": [
              "\n",
              "  <div id=\"df-d9b87282-38ad-44f0-9eab-7f6eba064c46\">\n",
              "    <div class=\"colab-df-container\">\n",
              "      <div>\n",
              "<style scoped>\n",
              "    .dataframe tbody tr th:only-of-type {\n",
              "        vertical-align: middle;\n",
              "    }\n",
              "\n",
              "    .dataframe tbody tr th {\n",
              "        vertical-align: top;\n",
              "    }\n",
              "\n",
              "    .dataframe thead th {\n",
              "        text-align: right;\n",
              "    }\n",
              "</style>\n",
              "<table border=\"1\" class=\"dataframe\">\n",
              "  <thead>\n",
              "    <tr style=\"text-align: right;\">\n",
              "      <th></th>\n",
              "      <th>point/0/_name</th>\n",
              "      <th>point/0/_x</th>\n",
              "      <th>point/0/_y</th>\n",
              "      <th>point/1/_name</th>\n",
              "      <th>point/1/_x</th>\n",
              "      <th>point/1/_y</th>\n",
              "      <th>point/2/_name</th>\n",
              "      <th>point/2/_x</th>\n",
              "      <th>point/2/_y</th>\n",
              "      <th>point/3/_name</th>\n",
              "      <th>point/3/_x</th>\n",
              "      <th>point/3/_y</th>\n",
              "      <th>_index</th>\n",
              "      <th>_rejected</th>\n",
              "    </tr>\n",
              "  </thead>\n",
              "  <tbody>\n",
              "    <tr>\n",
              "      <th>0</th>\n",
              "      <td>bl</td>\n",
              "      <td>716.625</td>\n",
              "      <td>805.609</td>\n",
              "      <td>tl</td>\n",
              "      <td>737.377</td>\n",
              "      <td>201.383</td>\n",
              "      <td>tr</td>\n",
              "      <td>1180.71</td>\n",
              "      <td>199.127</td>\n",
              "      <td>br</td>\n",
              "      <td>1259.02</td>\n",
              "      <td>791.942</td>\n",
              "      <td>1</td>\n",
              "      <td>False</td>\n",
              "    </tr>\n",
              "    <tr>\n",
              "      <th>1</th>\n",
              "      <td>bl</td>\n",
              "      <td>714.326</td>\n",
              "      <td>806.309</td>\n",
              "      <td>tl</td>\n",
              "      <td>736.330</td>\n",
              "      <td>202.300</td>\n",
              "      <td>tr</td>\n",
              "      <td>1179.74</td>\n",
              "      <td>200.028</td>\n",
              "      <td>br</td>\n",
              "      <td>1257.21</td>\n",
              "      <td>792.161</td>\n",
              "      <td>2</td>\n",
              "      <td>False</td>\n",
              "    </tr>\n",
              "    <tr>\n",
              "      <th>2</th>\n",
              "      <td>bl</td>\n",
              "      <td>713.031</td>\n",
              "      <td>804.811</td>\n",
              "      <td>tl</td>\n",
              "      <td>734.431</td>\n",
              "      <td>201.449</td>\n",
              "      <td>tr</td>\n",
              "      <td>1177.81</td>\n",
              "      <td>199.795</td>\n",
              "      <td>br</td>\n",
              "      <td>1255.42</td>\n",
              "      <td>791.291</td>\n",
              "      <td>3</td>\n",
              "      <td>False</td>\n",
              "    </tr>\n",
              "    <tr>\n",
              "      <th>3</th>\n",
              "      <td>bl</td>\n",
              "      <td>713.845</td>\n",
              "      <td>802.659</td>\n",
              "      <td>tl</td>\n",
              "      <td>734.423</td>\n",
              "      <td>198.474</td>\n",
              "      <td>tr</td>\n",
              "      <td>1177.79</td>\n",
              "      <td>196.852</td>\n",
              "      <td>br</td>\n",
              "      <td>1256.72</td>\n",
              "      <td>789.631</td>\n",
              "      <td>4</td>\n",
              "      <td>False</td>\n",
              "    </tr>\n",
              "    <tr>\n",
              "      <th>4</th>\n",
              "      <td>bl</td>\n",
              "      <td>713.088</td>\n",
              "      <td>802.830</td>\n",
              "      <td>tl</td>\n",
              "      <td>734.675</td>\n",
              "      <td>195.678</td>\n",
              "      <td>tr</td>\n",
              "      <td>1179.99</td>\n",
              "      <td>194.057</td>\n",
              "      <td>br</td>\n",
              "      <td>1259.35</td>\n",
              "      <td>790.289</td>\n",
              "      <td>5</td>\n",
              "      <td>False</td>\n",
              "    </tr>\n",
              "  </tbody>\n",
              "</table>\n",
              "</div>\n",
              "      <button class=\"colab-df-convert\" onclick=\"convertToInteractive('df-d9b87282-38ad-44f0-9eab-7f6eba064c46')\"\n",
              "              title=\"Convert this dataframe to an interactive table.\"\n",
              "              style=\"display:none;\">\n",
              "        \n",
              "  <svg xmlns=\"http://www.w3.org/2000/svg\" height=\"24px\"viewBox=\"0 0 24 24\"\n",
              "       width=\"24px\">\n",
              "    <path d=\"M0 0h24v24H0V0z\" fill=\"none\"/>\n",
              "    <path d=\"M18.56 5.44l.94 2.06.94-2.06 2.06-.94-2.06-.94-.94-2.06-.94 2.06-2.06.94zm-11 1L8.5 8.5l.94-2.06 2.06-.94-2.06-.94L8.5 2.5l-.94 2.06-2.06.94zm10 10l.94 2.06.94-2.06 2.06-.94-2.06-.94-.94-2.06-.94 2.06-2.06.94z\"/><path d=\"M17.41 7.96l-1.37-1.37c-.4-.4-.92-.59-1.43-.59-.52 0-1.04.2-1.43.59L10.3 9.45l-7.72 7.72c-.78.78-.78 2.05 0 2.83L4 21.41c.39.39.9.59 1.41.59.51 0 1.02-.2 1.41-.59l7.78-7.78 2.81-2.81c.8-.78.8-2.07 0-2.86zM5.41 20L4 18.59l7.72-7.72 1.47 1.35L5.41 20z\"/>\n",
              "  </svg>\n",
              "      </button>\n",
              "      \n",
              "  <style>\n",
              "    .colab-df-container {\n",
              "      display:flex;\n",
              "      flex-wrap:wrap;\n",
              "      gap: 12px;\n",
              "    }\n",
              "\n",
              "    .colab-df-convert {\n",
              "      background-color: #E8F0FE;\n",
              "      border: none;\n",
              "      border-radius: 50%;\n",
              "      cursor: pointer;\n",
              "      display: none;\n",
              "      fill: #1967D2;\n",
              "      height: 32px;\n",
              "      padding: 0 0 0 0;\n",
              "      width: 32px;\n",
              "    }\n",
              "\n",
              "    .colab-df-convert:hover {\n",
              "      background-color: #E2EBFA;\n",
              "      box-shadow: 0px 1px 2px rgba(60, 64, 67, 0.3), 0px 1px 3px 1px rgba(60, 64, 67, 0.15);\n",
              "      fill: #174EA6;\n",
              "    }\n",
              "\n",
              "    [theme=dark] .colab-df-convert {\n",
              "      background-color: #3B4455;\n",
              "      fill: #D2E3FC;\n",
              "    }\n",
              "\n",
              "    [theme=dark] .colab-df-convert:hover {\n",
              "      background-color: #434B5C;\n",
              "      box-shadow: 0px 1px 3px 1px rgba(0, 0, 0, 0.15);\n",
              "      filter: drop-shadow(0px 1px 2px rgba(0, 0, 0, 0.3));\n",
              "      fill: #FFFFFF;\n",
              "    }\n",
              "  </style>\n",
              "\n",
              "      <script>\n",
              "        const buttonEl =\n",
              "          document.querySelector('#df-d9b87282-38ad-44f0-9eab-7f6eba064c46 button.colab-df-convert');\n",
              "        buttonEl.style.display =\n",
              "          google.colab.kernel.accessAllowed ? 'block' : 'none';\n",
              "\n",
              "        async function convertToInteractive(key) {\n",
              "          const element = document.querySelector('#df-d9b87282-38ad-44f0-9eab-7f6eba064c46');\n",
              "          const dataTable =\n",
              "            await google.colab.kernel.invokeFunction('convertToInteractive',\n",
              "                                                     [key], {});\n",
              "          if (!dataTable) return;\n",
              "\n",
              "          const docLinkHtml = 'Like what you see? Visit the ' +\n",
              "            '<a target=\"_blank\" href=https://colab.research.google.com/notebooks/data_table.ipynb>data table notebook</a>'\n",
              "            + ' to learn more about interactive tables.';\n",
              "          element.innerHTML = '';\n",
              "          dataTable['output_type'] = 'display_data';\n",
              "          await google.colab.output.renderOutput(dataTable, element);\n",
              "          const docLink = document.createElement('div');\n",
              "          docLink.innerHTML = docLinkHtml;\n",
              "          element.appendChild(docLink);\n",
              "        }\n",
              "      </script>\n",
              "    </div>\n",
              "  </div>\n",
              "  "
            ]
          },
          "metadata": {},
          "execution_count": 5
        }
      ]
    },
    {
      "cell_type": "code",
      "source": [
        "df[\"document\"] = df[\"_rejected\"].apply(lambda x: not x)"
      ],
      "metadata": {
        "id": "5ZL4apx1TQwQ"
      },
      "execution_count": 6,
      "outputs": []
    },
    {
      "cell_type": "code",
      "source": [
        "df = df.drop('_rejected', axis = 1)\n",
        "df.head()"
      ],
      "metadata": {
        "colab": {
          "base_uri": "https://localhost:8080/",
          "height": 270
        },
        "id": "pPrF2VDIiPK_",
        "outputId": "8f0b608c-c3f9-4edb-b657-890f90d99572"
      },
      "execution_count": 7,
      "outputs": [
        {
          "output_type": "execute_result",
          "data": {
            "text/plain": [
              "  point/0/_name  point/0/_x  point/0/_y point/1/_name  point/1/_x  point/1/_y  \\\n",
              "0            bl     716.625     805.609            tl     737.377     201.383   \n",
              "1            bl     714.326     806.309            tl     736.330     202.300   \n",
              "2            bl     713.031     804.811            tl     734.431     201.449   \n",
              "3            bl     713.845     802.659            tl     734.423     198.474   \n",
              "4            bl     713.088     802.830            tl     734.675     195.678   \n",
              "\n",
              "  point/2/_name  point/2/_x  point/2/_y point/3/_name  point/3/_x  point/3/_y  \\\n",
              "0            tr     1180.71     199.127            br     1259.02     791.942   \n",
              "1            tr     1179.74     200.028            br     1257.21     792.161   \n",
              "2            tr     1177.81     199.795            br     1255.42     791.291   \n",
              "3            tr     1177.79     196.852            br     1256.72     789.631   \n",
              "4            tr     1179.99     194.057            br     1259.35     790.289   \n",
              "\n",
              "   _index  document  \n",
              "0       1      True  \n",
              "1       2      True  \n",
              "2       3      True  \n",
              "3       4      True  \n",
              "4       5      True  "
            ],
            "text/html": [
              "\n",
              "  <div id=\"df-0694dcc4-0781-49c4-8024-cf1c6001bc6b\">\n",
              "    <div class=\"colab-df-container\">\n",
              "      <div>\n",
              "<style scoped>\n",
              "    .dataframe tbody tr th:only-of-type {\n",
              "        vertical-align: middle;\n",
              "    }\n",
              "\n",
              "    .dataframe tbody tr th {\n",
              "        vertical-align: top;\n",
              "    }\n",
              "\n",
              "    .dataframe thead th {\n",
              "        text-align: right;\n",
              "    }\n",
              "</style>\n",
              "<table border=\"1\" class=\"dataframe\">\n",
              "  <thead>\n",
              "    <tr style=\"text-align: right;\">\n",
              "      <th></th>\n",
              "      <th>point/0/_name</th>\n",
              "      <th>point/0/_x</th>\n",
              "      <th>point/0/_y</th>\n",
              "      <th>point/1/_name</th>\n",
              "      <th>point/1/_x</th>\n",
              "      <th>point/1/_y</th>\n",
              "      <th>point/2/_name</th>\n",
              "      <th>point/2/_x</th>\n",
              "      <th>point/2/_y</th>\n",
              "      <th>point/3/_name</th>\n",
              "      <th>point/3/_x</th>\n",
              "      <th>point/3/_y</th>\n",
              "      <th>_index</th>\n",
              "      <th>document</th>\n",
              "    </tr>\n",
              "  </thead>\n",
              "  <tbody>\n",
              "    <tr>\n",
              "      <th>0</th>\n",
              "      <td>bl</td>\n",
              "      <td>716.625</td>\n",
              "      <td>805.609</td>\n",
              "      <td>tl</td>\n",
              "      <td>737.377</td>\n",
              "      <td>201.383</td>\n",
              "      <td>tr</td>\n",
              "      <td>1180.71</td>\n",
              "      <td>199.127</td>\n",
              "      <td>br</td>\n",
              "      <td>1259.02</td>\n",
              "      <td>791.942</td>\n",
              "      <td>1</td>\n",
              "      <td>True</td>\n",
              "    </tr>\n",
              "    <tr>\n",
              "      <th>1</th>\n",
              "      <td>bl</td>\n",
              "      <td>714.326</td>\n",
              "      <td>806.309</td>\n",
              "      <td>tl</td>\n",
              "      <td>736.330</td>\n",
              "      <td>202.300</td>\n",
              "      <td>tr</td>\n",
              "      <td>1179.74</td>\n",
              "      <td>200.028</td>\n",
              "      <td>br</td>\n",
              "      <td>1257.21</td>\n",
              "      <td>792.161</td>\n",
              "      <td>2</td>\n",
              "      <td>True</td>\n",
              "    </tr>\n",
              "    <tr>\n",
              "      <th>2</th>\n",
              "      <td>bl</td>\n",
              "      <td>713.031</td>\n",
              "      <td>804.811</td>\n",
              "      <td>tl</td>\n",
              "      <td>734.431</td>\n",
              "      <td>201.449</td>\n",
              "      <td>tr</td>\n",
              "      <td>1177.81</td>\n",
              "      <td>199.795</td>\n",
              "      <td>br</td>\n",
              "      <td>1255.42</td>\n",
              "      <td>791.291</td>\n",
              "      <td>3</td>\n",
              "      <td>True</td>\n",
              "    </tr>\n",
              "    <tr>\n",
              "      <th>3</th>\n",
              "      <td>bl</td>\n",
              "      <td>713.845</td>\n",
              "      <td>802.659</td>\n",
              "      <td>tl</td>\n",
              "      <td>734.423</td>\n",
              "      <td>198.474</td>\n",
              "      <td>tr</td>\n",
              "      <td>1177.79</td>\n",
              "      <td>196.852</td>\n",
              "      <td>br</td>\n",
              "      <td>1256.72</td>\n",
              "      <td>789.631</td>\n",
              "      <td>4</td>\n",
              "      <td>True</td>\n",
              "    </tr>\n",
              "    <tr>\n",
              "      <th>4</th>\n",
              "      <td>bl</td>\n",
              "      <td>713.088</td>\n",
              "      <td>802.830</td>\n",
              "      <td>tl</td>\n",
              "      <td>734.675</td>\n",
              "      <td>195.678</td>\n",
              "      <td>tr</td>\n",
              "      <td>1179.99</td>\n",
              "      <td>194.057</td>\n",
              "      <td>br</td>\n",
              "      <td>1259.35</td>\n",
              "      <td>790.289</td>\n",
              "      <td>5</td>\n",
              "      <td>True</td>\n",
              "    </tr>\n",
              "  </tbody>\n",
              "</table>\n",
              "</div>\n",
              "      <button class=\"colab-df-convert\" onclick=\"convertToInteractive('df-0694dcc4-0781-49c4-8024-cf1c6001bc6b')\"\n",
              "              title=\"Convert this dataframe to an interactive table.\"\n",
              "              style=\"display:none;\">\n",
              "        \n",
              "  <svg xmlns=\"http://www.w3.org/2000/svg\" height=\"24px\"viewBox=\"0 0 24 24\"\n",
              "       width=\"24px\">\n",
              "    <path d=\"M0 0h24v24H0V0z\" fill=\"none\"/>\n",
              "    <path d=\"M18.56 5.44l.94 2.06.94-2.06 2.06-.94-2.06-.94-.94-2.06-.94 2.06-2.06.94zm-11 1L8.5 8.5l.94-2.06 2.06-.94-2.06-.94L8.5 2.5l-.94 2.06-2.06.94zm10 10l.94 2.06.94-2.06 2.06-.94-2.06-.94-.94-2.06-.94 2.06-2.06.94z\"/><path d=\"M17.41 7.96l-1.37-1.37c-.4-.4-.92-.59-1.43-.59-.52 0-1.04.2-1.43.59L10.3 9.45l-7.72 7.72c-.78.78-.78 2.05 0 2.83L4 21.41c.39.39.9.59 1.41.59.51 0 1.02-.2 1.41-.59l7.78-7.78 2.81-2.81c.8-.78.8-2.07 0-2.86zM5.41 20L4 18.59l7.72-7.72 1.47 1.35L5.41 20z\"/>\n",
              "  </svg>\n",
              "      </button>\n",
              "      \n",
              "  <style>\n",
              "    .colab-df-container {\n",
              "      display:flex;\n",
              "      flex-wrap:wrap;\n",
              "      gap: 12px;\n",
              "    }\n",
              "\n",
              "    .colab-df-convert {\n",
              "      background-color: #E8F0FE;\n",
              "      border: none;\n",
              "      border-radius: 50%;\n",
              "      cursor: pointer;\n",
              "      display: none;\n",
              "      fill: #1967D2;\n",
              "      height: 32px;\n",
              "      padding: 0 0 0 0;\n",
              "      width: 32px;\n",
              "    }\n",
              "\n",
              "    .colab-df-convert:hover {\n",
              "      background-color: #E2EBFA;\n",
              "      box-shadow: 0px 1px 2px rgba(60, 64, 67, 0.3), 0px 1px 3px 1px rgba(60, 64, 67, 0.15);\n",
              "      fill: #174EA6;\n",
              "    }\n",
              "\n",
              "    [theme=dark] .colab-df-convert {\n",
              "      background-color: #3B4455;\n",
              "      fill: #D2E3FC;\n",
              "    }\n",
              "\n",
              "    [theme=dark] .colab-df-convert:hover {\n",
              "      background-color: #434B5C;\n",
              "      box-shadow: 0px 1px 3px 1px rgba(0, 0, 0, 0.15);\n",
              "      filter: drop-shadow(0px 1px 2px rgba(0, 0, 0, 0.3));\n",
              "      fill: #FFFFFF;\n",
              "    }\n",
              "  </style>\n",
              "\n",
              "      <script>\n",
              "        const buttonEl =\n",
              "          document.querySelector('#df-0694dcc4-0781-49c4-8024-cf1c6001bc6b button.colab-df-convert');\n",
              "        buttonEl.style.display =\n",
              "          google.colab.kernel.accessAllowed ? 'block' : 'none';\n",
              "\n",
              "        async function convertToInteractive(key) {\n",
              "          const element = document.querySelector('#df-0694dcc4-0781-49c4-8024-cf1c6001bc6b');\n",
              "          const dataTable =\n",
              "            await google.colab.kernel.invokeFunction('convertToInteractive',\n",
              "                                                     [key], {});\n",
              "          if (!dataTable) return;\n",
              "\n",
              "          const docLinkHtml = 'Like what you see? Visit the ' +\n",
              "            '<a target=\"_blank\" href=https://colab.research.google.com/notebooks/data_table.ipynb>data table notebook</a>'\n",
              "            + ' to learn more about interactive tables.';\n",
              "          element.innerHTML = '';\n",
              "          dataTable['output_type'] = 'display_data';\n",
              "          await google.colab.output.renderOutput(dataTable, element);\n",
              "          const docLink = document.createElement('div');\n",
              "          docLink.innerHTML = docLinkHtml;\n",
              "          element.appendChild(docLink);\n",
              "        }\n",
              "      </script>\n",
              "    </div>\n",
              "  </div>\n",
              "  "
            ]
          },
          "metadata": {},
          "execution_count": 7
        }
      ]
    },
    {
      "cell_type": "code",
      "source": [
        "def get_coordinates(row_data):\n",
        "  x1 = min(row_data[1], row_data[4], row_data[7], row_data[10])\n",
        "  y1 = min(row_data[2], row_data[5], row_data[8], row_data[11])\n",
        "  x2 = max(row_data[1], row_data[4], row_data[7], row_data[10])\n",
        "  y2 = max(row_data[2], row_data[5], row_data[8], row_data[11])\n",
        "  bb_cd = [x1, y1, x2, y2] \n",
        "  return bb_cd"
      ],
      "metadata": {
        "id": "xq2jptDl0Owc"
      },
      "execution_count": 8,
      "outputs": []
    },
    {
      "cell_type": "code",
      "source": [
        "bb = []\n",
        "bb.append(df.apply(lambda row: get_coordinates(row), axis = 1))"
      ],
      "metadata": {
        "id": "Xf38ntObkKcN"
      },
      "execution_count": 9,
      "outputs": []
    },
    {
      "cell_type": "code",
      "source": [
        "bb = np.array(bb)\n",
        "bb = bb.flatten()"
      ],
      "metadata": {
        "id": "eJ-uEjD1msQg"
      },
      "execution_count": 10,
      "outputs": []
    },
    {
      "cell_type": "code",
      "source": [
        "bb = list(bb)"
      ],
      "metadata": {
        "id": "WAzWHUQ_luWn"
      },
      "execution_count": 11,
      "outputs": []
    },
    {
      "cell_type": "code",
      "source": [
        "df_bb = pd.DataFrame(data=bb, columns=['x1', 'y1', 'x2', 'y2'])"
      ],
      "metadata": {
        "id": "VVWs6EHTSw2d"
      },
      "execution_count": 12,
      "outputs": []
    },
    {
      "cell_type": "code",
      "source": [
        "df_bb.head()"
      ],
      "metadata": {
        "colab": {
          "base_uri": "https://localhost:8080/",
          "height": 206
        },
        "id": "CN_6vNr8l7aE",
        "outputId": "dbd4fd88-ff2b-4391-cc7d-ae3ed21b2476"
      },
      "execution_count": 13,
      "outputs": [
        {
          "output_type": "execute_result",
          "data": {
            "text/plain": [
              "        x1       y1       x2       y2\n",
              "0  716.625  199.127  1259.02  805.609\n",
              "1  714.326  200.028  1257.21  806.309\n",
              "2  713.031  199.795  1255.42  804.811\n",
              "3  713.845  196.852  1256.72  802.659\n",
              "4  713.088  194.057  1259.35  802.830"
            ],
            "text/html": [
              "\n",
              "  <div id=\"df-f883b7ad-e282-4680-a134-07659875a9a4\">\n",
              "    <div class=\"colab-df-container\">\n",
              "      <div>\n",
              "<style scoped>\n",
              "    .dataframe tbody tr th:only-of-type {\n",
              "        vertical-align: middle;\n",
              "    }\n",
              "\n",
              "    .dataframe tbody tr th {\n",
              "        vertical-align: top;\n",
              "    }\n",
              "\n",
              "    .dataframe thead th {\n",
              "        text-align: right;\n",
              "    }\n",
              "</style>\n",
              "<table border=\"1\" class=\"dataframe\">\n",
              "  <thead>\n",
              "    <tr style=\"text-align: right;\">\n",
              "      <th></th>\n",
              "      <th>x1</th>\n",
              "      <th>y1</th>\n",
              "      <th>x2</th>\n",
              "      <th>y2</th>\n",
              "    </tr>\n",
              "  </thead>\n",
              "  <tbody>\n",
              "    <tr>\n",
              "      <th>0</th>\n",
              "      <td>716.625</td>\n",
              "      <td>199.127</td>\n",
              "      <td>1259.02</td>\n",
              "      <td>805.609</td>\n",
              "    </tr>\n",
              "    <tr>\n",
              "      <th>1</th>\n",
              "      <td>714.326</td>\n",
              "      <td>200.028</td>\n",
              "      <td>1257.21</td>\n",
              "      <td>806.309</td>\n",
              "    </tr>\n",
              "    <tr>\n",
              "      <th>2</th>\n",
              "      <td>713.031</td>\n",
              "      <td>199.795</td>\n",
              "      <td>1255.42</td>\n",
              "      <td>804.811</td>\n",
              "    </tr>\n",
              "    <tr>\n",
              "      <th>3</th>\n",
              "      <td>713.845</td>\n",
              "      <td>196.852</td>\n",
              "      <td>1256.72</td>\n",
              "      <td>802.659</td>\n",
              "    </tr>\n",
              "    <tr>\n",
              "      <th>4</th>\n",
              "      <td>713.088</td>\n",
              "      <td>194.057</td>\n",
              "      <td>1259.35</td>\n",
              "      <td>802.830</td>\n",
              "    </tr>\n",
              "  </tbody>\n",
              "</table>\n",
              "</div>\n",
              "      <button class=\"colab-df-convert\" onclick=\"convertToInteractive('df-f883b7ad-e282-4680-a134-07659875a9a4')\"\n",
              "              title=\"Convert this dataframe to an interactive table.\"\n",
              "              style=\"display:none;\">\n",
              "        \n",
              "  <svg xmlns=\"http://www.w3.org/2000/svg\" height=\"24px\"viewBox=\"0 0 24 24\"\n",
              "       width=\"24px\">\n",
              "    <path d=\"M0 0h24v24H0V0z\" fill=\"none\"/>\n",
              "    <path d=\"M18.56 5.44l.94 2.06.94-2.06 2.06-.94-2.06-.94-.94-2.06-.94 2.06-2.06.94zm-11 1L8.5 8.5l.94-2.06 2.06-.94-2.06-.94L8.5 2.5l-.94 2.06-2.06.94zm10 10l.94 2.06.94-2.06 2.06-.94-2.06-.94-.94-2.06-.94 2.06-2.06.94z\"/><path d=\"M17.41 7.96l-1.37-1.37c-.4-.4-.92-.59-1.43-.59-.52 0-1.04.2-1.43.59L10.3 9.45l-7.72 7.72c-.78.78-.78 2.05 0 2.83L4 21.41c.39.39.9.59 1.41.59.51 0 1.02-.2 1.41-.59l7.78-7.78 2.81-2.81c.8-.78.8-2.07 0-2.86zM5.41 20L4 18.59l7.72-7.72 1.47 1.35L5.41 20z\"/>\n",
              "  </svg>\n",
              "      </button>\n",
              "      \n",
              "  <style>\n",
              "    .colab-df-container {\n",
              "      display:flex;\n",
              "      flex-wrap:wrap;\n",
              "      gap: 12px;\n",
              "    }\n",
              "\n",
              "    .colab-df-convert {\n",
              "      background-color: #E8F0FE;\n",
              "      border: none;\n",
              "      border-radius: 50%;\n",
              "      cursor: pointer;\n",
              "      display: none;\n",
              "      fill: #1967D2;\n",
              "      height: 32px;\n",
              "      padding: 0 0 0 0;\n",
              "      width: 32px;\n",
              "    }\n",
              "\n",
              "    .colab-df-convert:hover {\n",
              "      background-color: #E2EBFA;\n",
              "      box-shadow: 0px 1px 2px rgba(60, 64, 67, 0.3), 0px 1px 3px 1px rgba(60, 64, 67, 0.15);\n",
              "      fill: #174EA6;\n",
              "    }\n",
              "\n",
              "    [theme=dark] .colab-df-convert {\n",
              "      background-color: #3B4455;\n",
              "      fill: #D2E3FC;\n",
              "    }\n",
              "\n",
              "    [theme=dark] .colab-df-convert:hover {\n",
              "      background-color: #434B5C;\n",
              "      box-shadow: 0px 1px 3px 1px rgba(0, 0, 0, 0.15);\n",
              "      filter: drop-shadow(0px 1px 2px rgba(0, 0, 0, 0.3));\n",
              "      fill: #FFFFFF;\n",
              "    }\n",
              "  </style>\n",
              "\n",
              "      <script>\n",
              "        const buttonEl =\n",
              "          document.querySelector('#df-f883b7ad-e282-4680-a134-07659875a9a4 button.colab-df-convert');\n",
              "        buttonEl.style.display =\n",
              "          google.colab.kernel.accessAllowed ? 'block' : 'none';\n",
              "\n",
              "        async function convertToInteractive(key) {\n",
              "          const element = document.querySelector('#df-f883b7ad-e282-4680-a134-07659875a9a4');\n",
              "          const dataTable =\n",
              "            await google.colab.kernel.invokeFunction('convertToInteractive',\n",
              "                                                     [key], {});\n",
              "          if (!dataTable) return;\n",
              "\n",
              "          const docLinkHtml = 'Like what you see? Visit the ' +\n",
              "            '<a target=\"_blank\" href=https://colab.research.google.com/notebooks/data_table.ipynb>data table notebook</a>'\n",
              "            + ' to learn more about interactive tables.';\n",
              "          element.innerHTML = '';\n",
              "          dataTable['output_type'] = 'display_data';\n",
              "          await google.colab.output.renderOutput(dataTable, element);\n",
              "          const docLink = document.createElement('div');\n",
              "          docLink.innerHTML = docLinkHtml;\n",
              "          element.appendChild(docLink);\n",
              "        }\n",
              "      </script>\n",
              "    </div>\n",
              "  </div>\n",
              "  "
            ]
          },
          "metadata": {},
          "execution_count": 13
        }
      ]
    },
    {
      "cell_type": "code",
      "source": [
        "df_bb['document'] = df['document']\n",
        "df_bb.head() # df_bb would be the labels of bounding boxes"
      ],
      "metadata": {
        "colab": {
          "base_uri": "https://localhost:8080/",
          "height": 206
        },
        "id": "ijEyvdRVmMvo",
        "outputId": "eaf6edfb-061f-4e38-922b-e459b95eb55b"
      },
      "execution_count": 14,
      "outputs": [
        {
          "output_type": "execute_result",
          "data": {
            "text/plain": [
              "        x1       y1       x2       y2  document\n",
              "0  716.625  199.127  1259.02  805.609      True\n",
              "1  714.326  200.028  1257.21  806.309      True\n",
              "2  713.031  199.795  1255.42  804.811      True\n",
              "3  713.845  196.852  1256.72  802.659      True\n",
              "4  713.088  194.057  1259.35  802.830      True"
            ],
            "text/html": [
              "\n",
              "  <div id=\"df-15087b07-cca9-43bb-9c1e-8ab413385b19\">\n",
              "    <div class=\"colab-df-container\">\n",
              "      <div>\n",
              "<style scoped>\n",
              "    .dataframe tbody tr th:only-of-type {\n",
              "        vertical-align: middle;\n",
              "    }\n",
              "\n",
              "    .dataframe tbody tr th {\n",
              "        vertical-align: top;\n",
              "    }\n",
              "\n",
              "    .dataframe thead th {\n",
              "        text-align: right;\n",
              "    }\n",
              "</style>\n",
              "<table border=\"1\" class=\"dataframe\">\n",
              "  <thead>\n",
              "    <tr style=\"text-align: right;\">\n",
              "      <th></th>\n",
              "      <th>x1</th>\n",
              "      <th>y1</th>\n",
              "      <th>x2</th>\n",
              "      <th>y2</th>\n",
              "      <th>document</th>\n",
              "    </tr>\n",
              "  </thead>\n",
              "  <tbody>\n",
              "    <tr>\n",
              "      <th>0</th>\n",
              "      <td>716.625</td>\n",
              "      <td>199.127</td>\n",
              "      <td>1259.02</td>\n",
              "      <td>805.609</td>\n",
              "      <td>True</td>\n",
              "    </tr>\n",
              "    <tr>\n",
              "      <th>1</th>\n",
              "      <td>714.326</td>\n",
              "      <td>200.028</td>\n",
              "      <td>1257.21</td>\n",
              "      <td>806.309</td>\n",
              "      <td>True</td>\n",
              "    </tr>\n",
              "    <tr>\n",
              "      <th>2</th>\n",
              "      <td>713.031</td>\n",
              "      <td>199.795</td>\n",
              "      <td>1255.42</td>\n",
              "      <td>804.811</td>\n",
              "      <td>True</td>\n",
              "    </tr>\n",
              "    <tr>\n",
              "      <th>3</th>\n",
              "      <td>713.845</td>\n",
              "      <td>196.852</td>\n",
              "      <td>1256.72</td>\n",
              "      <td>802.659</td>\n",
              "      <td>True</td>\n",
              "    </tr>\n",
              "    <tr>\n",
              "      <th>4</th>\n",
              "      <td>713.088</td>\n",
              "      <td>194.057</td>\n",
              "      <td>1259.35</td>\n",
              "      <td>802.830</td>\n",
              "      <td>True</td>\n",
              "    </tr>\n",
              "  </tbody>\n",
              "</table>\n",
              "</div>\n",
              "      <button class=\"colab-df-convert\" onclick=\"convertToInteractive('df-15087b07-cca9-43bb-9c1e-8ab413385b19')\"\n",
              "              title=\"Convert this dataframe to an interactive table.\"\n",
              "              style=\"display:none;\">\n",
              "        \n",
              "  <svg xmlns=\"http://www.w3.org/2000/svg\" height=\"24px\"viewBox=\"0 0 24 24\"\n",
              "       width=\"24px\">\n",
              "    <path d=\"M0 0h24v24H0V0z\" fill=\"none\"/>\n",
              "    <path d=\"M18.56 5.44l.94 2.06.94-2.06 2.06-.94-2.06-.94-.94-2.06-.94 2.06-2.06.94zm-11 1L8.5 8.5l.94-2.06 2.06-.94-2.06-.94L8.5 2.5l-.94 2.06-2.06.94zm10 10l.94 2.06.94-2.06 2.06-.94-2.06-.94-.94-2.06-.94 2.06-2.06.94z\"/><path d=\"M17.41 7.96l-1.37-1.37c-.4-.4-.92-.59-1.43-.59-.52 0-1.04.2-1.43.59L10.3 9.45l-7.72 7.72c-.78.78-.78 2.05 0 2.83L4 21.41c.39.39.9.59 1.41.59.51 0 1.02-.2 1.41-.59l7.78-7.78 2.81-2.81c.8-.78.8-2.07 0-2.86zM5.41 20L4 18.59l7.72-7.72 1.47 1.35L5.41 20z\"/>\n",
              "  </svg>\n",
              "      </button>\n",
              "      \n",
              "  <style>\n",
              "    .colab-df-container {\n",
              "      display:flex;\n",
              "      flex-wrap:wrap;\n",
              "      gap: 12px;\n",
              "    }\n",
              "\n",
              "    .colab-df-convert {\n",
              "      background-color: #E8F0FE;\n",
              "      border: none;\n",
              "      border-radius: 50%;\n",
              "      cursor: pointer;\n",
              "      display: none;\n",
              "      fill: #1967D2;\n",
              "      height: 32px;\n",
              "      padding: 0 0 0 0;\n",
              "      width: 32px;\n",
              "    }\n",
              "\n",
              "    .colab-df-convert:hover {\n",
              "      background-color: #E2EBFA;\n",
              "      box-shadow: 0px 1px 2px rgba(60, 64, 67, 0.3), 0px 1px 3px 1px rgba(60, 64, 67, 0.15);\n",
              "      fill: #174EA6;\n",
              "    }\n",
              "\n",
              "    [theme=dark] .colab-df-convert {\n",
              "      background-color: #3B4455;\n",
              "      fill: #D2E3FC;\n",
              "    }\n",
              "\n",
              "    [theme=dark] .colab-df-convert:hover {\n",
              "      background-color: #434B5C;\n",
              "      box-shadow: 0px 1px 3px 1px rgba(0, 0, 0, 0.15);\n",
              "      filter: drop-shadow(0px 1px 2px rgba(0, 0, 0, 0.3));\n",
              "      fill: #FFFFFF;\n",
              "    }\n",
              "  </style>\n",
              "\n",
              "      <script>\n",
              "        const buttonEl =\n",
              "          document.querySelector('#df-15087b07-cca9-43bb-9c1e-8ab413385b19 button.colab-df-convert');\n",
              "        buttonEl.style.display =\n",
              "          google.colab.kernel.accessAllowed ? 'block' : 'none';\n",
              "\n",
              "        async function convertToInteractive(key) {\n",
              "          const element = document.querySelector('#df-15087b07-cca9-43bb-9c1e-8ab413385b19');\n",
              "          const dataTable =\n",
              "            await google.colab.kernel.invokeFunction('convertToInteractive',\n",
              "                                                     [key], {});\n",
              "          if (!dataTable) return;\n",
              "\n",
              "          const docLinkHtml = 'Like what you see? Visit the ' +\n",
              "            '<a target=\"_blank\" href=https://colab.research.google.com/notebooks/data_table.ipynb>data table notebook</a>'\n",
              "            + ' to learn more about interactive tables.';\n",
              "          element.innerHTML = '';\n",
              "          dataTable['output_type'] = 'display_data';\n",
              "          await google.colab.output.renderOutput(dataTable, element);\n",
              "          const docLink = document.createElement('div');\n",
              "          docLink.innerHTML = docLinkHtml;\n",
              "          element.appendChild(docLink);\n",
              "        }\n",
              "      </script>\n",
              "    </div>\n",
              "  </div>\n",
              "  "
            ]
          },
          "metadata": {},
          "execution_count": 14
        }
      ]
    },
    {
      "cell_type": "code",
      "source": [
        "# get image names\n",
        "os.chdir('/content/drive/MyDrive/BTTAI_AmericanExpress1/datasets/sampleDataset/frames/datasheet001_frames')\n",
        "imgs = os.listdir()"
      ],
      "metadata": {
        "id": "dKi4S9XYi6Xt"
      },
      "execution_count": 15,
      "outputs": []
    },
    {
      "cell_type": "code",
      "source": [
        "bbox = []\n",
        "for i in range(0,214):\n",
        "  e = [list(df_bb.iloc[i,0:4]), [df_bb.iloc[i,4]]]\n",
        "  bbox.append(e)"
      ],
      "metadata": {
        "id": "YREJ5NBMnDZK"
      },
      "execution_count": 16,
      "outputs": []
    },
    {
      "cell_type": "code",
      "source": [
        "# use a dictionary to quickly look up a corresponding image to it's label\n",
        "img2bbox = dict(zip(imgs, bbox))"
      ],
      "metadata": {
        "id": "ZB92tyaAp5sF"
      },
      "execution_count": 17,
      "outputs": []
    },
    {
      "cell_type": "code",
      "source": [
        "# a getter function\n",
        "getters = [lambda o: o, lambda o: img2bbox[o][0], lambda o: img2bbox[o][1]] # o is the input image name"
      ],
      "metadata": {
        "id": "qo45gzT8ZvPq"
      },
      "execution_count": 31,
      "outputs": []
    },
    {
      "cell_type": "code",
      "source": [
        "# for transforms later\n",
        "item_tfms = [Resize(128, method='pad'),] \n",
        "batch_tfms = [Rotate(), Flip(), Dihedral(), Normalize.from_stats(*imagenet_stats)]"
      ],
      "metadata": {
        "id": "JMDnY1bRqhDO"
      },
      "execution_count": 32,
      "outputs": []
    },
    {
      "cell_type": "code",
      "source": [
        "def get_train_imgs(noop): return imgs # simply return the images"
      ],
      "metadata": {
        "id": "rgHk-m96qmmq"
      },
      "execution_count": 33,
      "outputs": []
    },
    {
      "cell_type": "code",
      "source": [
        "frames = DataBlock(blocks=(ImageBlock, BBoxBlock, BBoxLblBlock), # define pre-defined problem domains: images, bb, label bb\n",
        "                 splitter=RandomSplitter(), \n",
        "                 get_items=get_train_imgs, \n",
        "                 getters=getters, # getters applied to results of get_items\n",
        "                 item_tfms=item_tfms,\n",
        "                 batch_tfms=batch_tfms,\n",
        "                 n_inp=1)"
      ],
      "metadata": {
        "id": "IrWe2E8SqpZN"
      },
      "execution_count": 34,
      "outputs": []
    },
    {
      "cell_type": "code",
      "source": [
        "frames.summary(os.getcwd())"
      ],
      "metadata": {
        "id": "Ugw2-mACHRME"
      },
      "execution_count": null,
      "outputs": []
    },
    {
      "cell_type": "code",
      "source": [
        "files = get_image_files(os.getcwd())"
      ],
      "metadata": {
        "id": "2AdW8b2pqz1R"
      },
      "execution_count": 36,
      "outputs": []
    },
    {
      "cell_type": "code",
      "source": [
        "files[:5]"
      ],
      "metadata": {
        "colab": {
          "base_uri": "https://localhost:8080/"
        },
        "id": "qsbW5fqQ8Vuf",
        "outputId": "46ad29c0-eb99-4c46-da75-74385bf03e9e"
      },
      "execution_count": 37,
      "outputs": [
        {
          "output_type": "execute_result",
          "data": {
            "text/plain": [
              "(#5) [Path('/content/drive/.shortcut-targets-by-id/17C-FeV89lWfoxThc1mu8REz8adMDfNfP/BTTAI_AmericanExpress1/datasets/sampleDataset/frames/datasheet001_frames/datasheet001_frames_00001.jpg'),Path('/content/drive/.shortcut-targets-by-id/17C-FeV89lWfoxThc1mu8REz8adMDfNfP/BTTAI_AmericanExpress1/datasets/sampleDataset/frames/datasheet001_frames/datasheet001_frames_00002.jpg'),Path('/content/drive/.shortcut-targets-by-id/17C-FeV89lWfoxThc1mu8REz8adMDfNfP/BTTAI_AmericanExpress1/datasets/sampleDataset/frames/datasheet001_frames/datasheet001_frames_00003.jpg'),Path('/content/drive/.shortcut-targets-by-id/17C-FeV89lWfoxThc1mu8REz8adMDfNfP/BTTAI_AmericanExpress1/datasets/sampleDataset/frames/datasheet001_frames/datasheet001_frames_00004.jpg'),Path('/content/drive/.shortcut-targets-by-id/17C-FeV89lWfoxThc1mu8REz8adMDfNfP/BTTAI_AmericanExpress1/datasets/sampleDataset/frames/datasheet001_frames/datasheet001_frames_00005.jpg')]"
            ]
          },
          "metadata": {},
          "execution_count": 37
        }
      ]
    },
    {
      "cell_type": "code",
      "source": [
        "dls = frames.dataloaders(files)"
      ],
      "metadata": {
        "id": "oW51TbJlrlPv"
      },
      "execution_count": 38,
      "outputs": []
    },
    {
      "cell_type": "code",
      "source": [
        "dls.c = 1"
      ],
      "metadata": {
        "id": "JW5hmugTPc5U"
      },
      "execution_count": 44,
      "outputs": []
    },
    {
      "cell_type": "code",
      "source": [
        "dls.show_batch()"
      ],
      "metadata": {
        "colab": {
          "base_uri": "https://localhost:8080/",
          "height": 520
        },
        "id": "eoeTDRZzPeVA",
        "outputId": "70d2ef1e-beab-48fd-fab2-fa285a950c08"
      },
      "execution_count": 45,
      "outputs": [
        {
          "output_type": "display_data",
          "data": {
            "text/plain": [
              "<Figure size 648x648 with 9 Axes>"
            ],
            "image/png": "[encoded data removed]"
          },
          "metadata": {
            "needs_background": "light"
          }
        }
      ]
    },
    {
      "cell_type": "markdown",
      "source": [
        "### Model"
      ],
      "metadata": {
        "id": "4X_Mt_QORuHW"
      }
    },
    {
      "cell_type": "code",
      "source": [
        "#!pip install wwf"
      ],
      "metadata": {
        "id": "1mYOQrFIVaWy"
      },
      "execution_count": null,
      "outputs": []
    },
    {
      "cell_type": "code",
      "source": [
        "from wwf.vision.object_detection import * # use RetinaNet"
      ],
      "metadata": {
        "id": "EJrlMJupRvUD"
      },
      "execution_count": 46,
      "outputs": []
    },
    {
      "cell_type": "code",
      "source": [
        "encoder = create_body(resnet34(), pretrained=True) # use transfer learning here by creating an encoder (body) of our model and a head"
      ],
      "metadata": {
        "id": "4UshOeN4R7Xk"
      },
      "execution_count": 48,
      "outputs": []
    },
    {
      "cell_type": "code",
      "source": [
        "get_c(dls)"
      ],
      "metadata": {
        "colab": {
          "base_uri": "https://localhost:8080/"
        },
        "id": "6Xy5JixwUT8_",
        "outputId": "b7a223c1-2079-43a5-9234-eaae7fe1bbe1"
      },
      "execution_count": 49,
      "outputs": [
        {
          "output_type": "execute_result",
          "data": {
            "text/plain": [
              "1"
            ]
          },
          "metadata": {},
          "execution_count": 49
        }
      ]
    },
    {
      "cell_type": "code",
      "source": [
        "arch = RetinaNet(encoder, get_c(dls), final_bias=-4)"
      ],
      "metadata": {
        "id": "mCQFcECPUWgY"
      },
      "execution_count": 50,
      "outputs": []
    },
    {
      "cell_type": "code",
      "source": [
        "create_head(124, 4)"
      ],
      "metadata": {
        "colab": {
          "base_uri": "https://localhost:8080/"
        },
        "id": "6Z6htqOZUZ1m",
        "outputId": "b1044b7b-8308-4ef6-9478-83dbe1393981"
      },
      "execution_count": 51,
      "outputs": [
        {
          "output_type": "execute_result",
          "data": {
            "text/plain": [
              "Sequential(\n",
              "  (0): AdaptiveConcatPool2d(\n",
              "    (ap): AdaptiveAvgPool2d(output_size=1)\n",
              "    (mp): AdaptiveMaxPool2d(output_size=1)\n",
              "  )\n",
              "  (1): fastai.layers.Flatten(full=False)\n",
              "  (2): BatchNorm1d(248, eps=1e-05, momentum=0.1, affine=True, track_running_stats=True)\n",
              "  (3): Dropout(p=0.25, inplace=False)\n",
              "  (4): Linear(in_features=248, out_features=512, bias=False)\n",
              "  (5): ReLU(inplace=True)\n",
              "  (6): BatchNorm1d(512, eps=1e-05, momentum=0.1, affine=True, track_running_stats=True)\n",
              "  (7): Dropout(p=0.5, inplace=False)\n",
              "  (8): Linear(in_features=512, out_features=4, bias=False)\n",
              ")"
            ]
          },
          "metadata": {},
          "execution_count": 51
        }
      ]
    },
    {
      "cell_type": "markdown",
      "source": [
        "We have one with a smoother, a classifer, and a box_regressor (to get our points)\n"
      ],
      "metadata": {
        "id": "pKFwd6EqUyss"
      }
    },
    {
      "cell_type": "code",
      "source": [
        "arch.smoothers"
      ],
      "metadata": {
        "colab": {
          "base_uri": "https://localhost:8080/"
        },
        "id": "rS_T4kLOUeDo",
        "outputId": "aa478803-c5c9-4459-e360-4e2bb8eb0933"
      },
      "execution_count": 52,
      "outputs": [
        {
          "output_type": "execute_result",
          "data": {
            "text/plain": [
              "ModuleList(\n",
              "  (0): Conv2d(256, 256, kernel_size=(3, 3), stride=(1, 1), padding=(1, 1))\n",
              "  (1): Conv2d(256, 256, kernel_size=(3, 3), stride=(1, 1), padding=(1, 1))\n",
              "  (2): Conv2d(256, 256, kernel_size=(3, 3), stride=(1, 1), padding=(1, 1))\n",
              ")"
            ]
          },
          "metadata": {},
          "execution_count": 52
        }
      ]
    },
    {
      "cell_type": "code",
      "source": [
        "arch.classifier"
      ],
      "metadata": {
        "colab": {
          "base_uri": "https://localhost:8080/"
        },
        "id": "H_au8GWYUv7c",
        "outputId": "43414f41-50f3-4505-ef25-57ebc43a26e5"
      },
      "execution_count": 53,
      "outputs": [
        {
          "output_type": "execute_result",
          "data": {
            "text/plain": [
              "Sequential(\n",
              "  (0): ConvLayer(\n",
              "    (0): Conv2d(256, 256, kernel_size=(3, 3), stride=(1, 1), padding=(1, 1))\n",
              "    (1): ReLU()\n",
              "  )\n",
              "  (1): ConvLayer(\n",
              "    (0): Conv2d(256, 256, kernel_size=(3, 3), stride=(1, 1), padding=(1, 1))\n",
              "    (1): ReLU()\n",
              "  )\n",
              "  (2): ConvLayer(\n",
              "    (0): Conv2d(256, 256, kernel_size=(3, 3), stride=(1, 1), padding=(1, 1))\n",
              "    (1): ReLU()\n",
              "  )\n",
              "  (3): ConvLayer(\n",
              "    (0): Conv2d(256, 256, kernel_size=(3, 3), stride=(1, 1), padding=(1, 1))\n",
              "    (1): ReLU()\n",
              "  )\n",
              "  (4): Conv2d(256, 9, kernel_size=(3, 3), stride=(1, 1), padding=(1, 1))\n",
              ")"
            ]
          },
          "metadata": {},
          "execution_count": 53
        }
      ]
    },
    {
      "cell_type": "code",
      "source": [
        "arch.box_regressor"
      ],
      "metadata": {
        "colab": {
          "base_uri": "https://localhost:8080/"
        },
        "id": "gRpoh-mNUkrk",
        "outputId": "3bce8b92-f1e8-48b5-972c-04907f44e181"
      },
      "execution_count": 54,
      "outputs": [
        {
          "output_type": "execute_result",
          "data": {
            "text/plain": [
              "Sequential(\n",
              "  (0): ConvLayer(\n",
              "    (0): Conv2d(256, 256, kernel_size=(3, 3), stride=(1, 1), padding=(1, 1))\n",
              "    (1): ReLU()\n",
              "  )\n",
              "  (1): ConvLayer(\n",
              "    (0): Conv2d(256, 256, kernel_size=(3, 3), stride=(1, 1), padding=(1, 1))\n",
              "    (1): ReLU()\n",
              "  )\n",
              "  (2): ConvLayer(\n",
              "    (0): Conv2d(256, 256, kernel_size=(3, 3), stride=(1, 1), padding=(1, 1))\n",
              "    (1): ReLU()\n",
              "  )\n",
              "  (3): ConvLayer(\n",
              "    (0): Conv2d(256, 256, kernel_size=(3, 3), stride=(1, 1), padding=(1, 1))\n",
              "    (1): ReLU()\n",
              "  )\n",
              "  (4): Conv2d(256, 36, kernel_size=(3, 3), stride=(1, 1), padding=(1, 1))\n",
              ")"
            ]
          },
          "metadata": {},
          "execution_count": 54
        }
      ]
    },
    {
      "cell_type": "markdown",
      "source": [
        "### Loss Function"
      ],
      "metadata": {
        "id": "pQmjCFW7WMPI"
      }
    },
    {
      "cell_type": "markdown",
      "source": [
        "For RetinaNet to work, we need to define what the aspect ratio's and scales of our image should be."
      ],
      "metadata": {
        "id": "90Lx1iO7WUua"
      }
    },
    {
      "cell_type": "code",
      "source": [
        "ratios = [1/2,1,2]\n",
        "scales = [1,2**(-1/3), 2**(-2/3)]"
      ],
      "metadata": {
        "id": "bUtKi131WJN5"
      },
      "execution_count": null,
      "outputs": []
    },
    {
      "cell_type": "markdown",
      "source": [
        "Our loss function"
      ],
      "metadata": {
        "id": "Rw7xXJ7pWeXU"
      }
    },
    {
      "cell_type": "code",
      "source": [
        "crit = RetinaNetFocalLoss(scales=scales, ratios=ratios)"
      ],
      "metadata": {
        "id": "I00M6WaPWXFv"
      },
      "execution_count": null,
      "outputs": []
    },
    {
      "cell_type": "markdown",
      "source": [
        "Our learner"
      ],
      "metadata": {
        "id": "OORQFiFNWfpW"
      }
    },
    {
      "cell_type": "code",
      "source": [
        "def _retinanet_split(m): return L(m.encoder,nn.Sequential(m.c5top6, m.p6top7, m.merges, m.smoothers, m.classifier, m.box_regressor)).map(params)"
      ],
      "metadata": {
        "id": "TLzOjBbKWcPA"
      },
      "execution_count": null,
      "outputs": []
    },
    {
      "cell_type": "code",
      "source": [
        "learn = Learner(dls, arch, loss_func=crit, splitter=_retinanet_split)"
      ],
      "metadata": {
        "id": "P4EPwBnlWiVd"
      },
      "execution_count": null,
      "outputs": []
    },
    {
      "cell_type": "code",
      "source": [
        "learn.freeze()"
      ],
      "metadata": {
        "id": "8JPk4JDUWj5w"
      },
      "execution_count": null,
      "outputs": []
    },
    {
      "cell_type": "markdown",
      "source": [
        "Train"
      ],
      "metadata": {
        "id": "oq2pwzr_Wm2J"
      }
    },
    {
      "cell_type": "code",
      "source": [
        "learn.fit_one_cycle(10, slice(1e-5, 1e-4))"
      ],
      "metadata": {
        "id": "sBUyHZIAWlVd"
      },
      "execution_count": null,
      "outputs": []
    }
  ]
}