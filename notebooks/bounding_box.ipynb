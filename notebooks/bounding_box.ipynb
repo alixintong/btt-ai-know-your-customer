{
  "nbformat": 4,
  "nbformat_minor": 0,
  "metadata": {
    "colab": {
      "provenance": [],
      "authorship_tag": "ABX9TyOJnlBylFRVmT31LZ/2ZgSD",
      "include_colab_link": true
    },
    "kernelspec": {
      "name": "python3",
      "display_name": "Python 3"
    },
    "language_info": {
      "name": "python"
    }
  },
  "cells": [
    {
      "cell_type": "markdown",
      "metadata": {
        "id": "view-in-github",
        "colab_type": "text"
      },
      "source": [
        "<a href=\"https://colab.research.google.com/github/alixintong/btt-ai-know-your-customer/blob/alice/bounding_box.ipynb\" target=\"_parent\"><img src=\"https://colab.research.google.com/assets/colab-badge.svg\" alt=\"Open In Colab\"/></a>"
      ]
    },
    {
      "cell_type": "code",
      "execution_count": 1,
      "metadata": {
        "colab": {
          "base_uri": "https://localhost:8080/"
        },
        "id": "nfTK0SJKP453",
        "outputId": "327befee-6d45-4e6e-8442-3e8dc77987f1"
      },
      "outputs": [
        {
          "output_type": "stream",
          "name": "stdout",
          "text": [
            "Mounted at /content/drive\n"
          ]
        }
      ],
      "source": [
        "# this cell allows access to our folder\n",
        "\n",
        "from google.colab import drive\n",
        "drive.mount('/content/drive', force_remount=True)\n",
        "root_path = '/content/gdrive/MyDrive/BTTAI_AmericanExpress1'"
      ]
    },
    {
      "cell_type": "code",
      "source": [
        "# cell for imports - add as needed\n",
        "import torch \n",
        "import cv2\n",
        "import numpy as np \n",
        "import pandas as pd\n",
        "import os, os.path\n",
        "import re\n",
        "from fastai.vision.all import *"
      ],
      "metadata": {
        "id": "rzhF26QIP-1N"
      },
      "execution_count": 2,
      "outputs": []
    },
    {
      "cell_type": "code",
      "source": [
        "# for reference\n",
        "#   - fastai segmentation: https://walkwithfastai.com/Segmentation\n",
        "#   - fastai object detection: https://walkwithfastai.com/Object_Detection"
      ],
      "metadata": {
        "id": "Z5SW5aXtQIdT"
      },
      "execution_count": 3,
      "outputs": []
    },
    {
      "cell_type": "code",
      "source": [
        "path = '/content/drive/MyDrive/BTTAI_AmericanExpress1/datasets/sampleDataset/frames'\n",
        "\n",
        "files = get_image_files(path + \"/datasheet001_frames\")\n",
        "len(files)"
      ],
      "metadata": {
        "id": "EmndRe_0Rrs5",
        "outputId": "50a03ea3-0c27-490e-ea72-727047bf7425",
        "colab": {
          "base_uri": "https://localhost:8080/"
        }
      },
      "execution_count": 4,
      "outputs": [
        {
          "output_type": "execute_result",
          "data": {
            "text/plain": [
              "214"
            ]
          },
          "metadata": {},
          "execution_count": 4
        }
      ]
    },
    {
      "cell_type": "code",
      "source": [
        "# import bounding box datasheet csv\n",
        "# use datasheet001 as csv instead of xml\n",
        "url='https://drive.google.com/file/d/1lUoBf1rwPXPlI9Zg2lDzwV4ODtsGJ4u2/view?usp=sharing'\n",
        "url='https://drive.google.com/uc?id=' + url.split('/')[-2]\n",
        "df = pd.read_csv(url)\n",
        "df.head()"
      ],
      "metadata": {
        "id": "RC-dWi8ORszo",
        "colab": {
          "base_uri": "https://localhost:8080/",
          "height": 270
        },
        "outputId": "e571aaca-0375-44ae-d42f-c9dc6ffba17f"
      },
      "execution_count": 5,
      "outputs": [
        {
          "output_type": "execute_result",
          "data": {
            "text/plain": [
              "  point/0/_name  point/0/_x  point/0/_y point/1/_name  point/1/_x  point/1/_y  \\\n",
              "0            bl     716.625     805.609            tl     737.377     201.383   \n",
              "1            bl     714.326     806.309            tl     736.330     202.300   \n",
              "2            bl     713.031     804.811            tl     734.431     201.449   \n",
              "3            bl     713.845     802.659            tl     734.423     198.474   \n",
              "4            bl     713.088     802.830            tl     734.675     195.678   \n",
              "\n",
              "  point/2/_name  point/2/_x  point/2/_y point/3/_name  point/3/_x  point/3/_y  \\\n",
              "0            tr     1180.71     199.127            br     1259.02     791.942   \n",
              "1            tr     1179.74     200.028            br     1257.21     792.161   \n",
              "2            tr     1177.81     199.795            br     1255.42     791.291   \n",
              "3            tr     1177.79     196.852            br     1256.72     789.631   \n",
              "4            tr     1179.99     194.057            br     1259.35     790.289   \n",
              "\n",
              "   _index  _rejected  \n",
              "0       1      False  \n",
              "1       2      False  \n",
              "2       3      False  \n",
              "3       4      False  \n",
              "4       5      False  "
            ],
            "text/html": [
              "\n",
              "  <div id=\"df-ee50c3f5-3264-4b95-b5bd-39f90bc8456e\">\n",
              "    <div class=\"colab-df-container\">\n",
              "      <div>\n",
              "<style scoped>\n",
              "    .dataframe tbody tr th:only-of-type {\n",
              "        vertical-align: middle;\n",
              "    }\n",
              "\n",
              "    .dataframe tbody tr th {\n",
              "        vertical-align: top;\n",
              "    }\n",
              "\n",
              "    .dataframe thead th {\n",
              "        text-align: right;\n",
              "    }\n",
              "</style>\n",
              "<table border=\"1\" class=\"dataframe\">\n",
              "  <thead>\n",
              "    <tr style=\"text-align: right;\">\n",
              "      <th></th>\n",
              "      <th>point/0/_name</th>\n",
              "      <th>point/0/_x</th>\n",
              "      <th>point/0/_y</th>\n",
              "      <th>point/1/_name</th>\n",
              "      <th>point/1/_x</th>\n",
              "      <th>point/1/_y</th>\n",
              "      <th>point/2/_name</th>\n",
              "      <th>point/2/_x</th>\n",
              "      <th>point/2/_y</th>\n",
              "      <th>point/3/_name</th>\n",
              "      <th>point/3/_x</th>\n",
              "      <th>point/3/_y</th>\n",
              "      <th>_index</th>\n",
              "      <th>_rejected</th>\n",
              "    </tr>\n",
              "  </thead>\n",
              "  <tbody>\n",
              "    <tr>\n",
              "      <th>0</th>\n",
              "      <td>bl</td>\n",
              "      <td>716.625</td>\n",
              "      <td>805.609</td>\n",
              "      <td>tl</td>\n",
              "      <td>737.377</td>\n",
              "      <td>201.383</td>\n",
              "      <td>tr</td>\n",
              "      <td>1180.71</td>\n",
              "      <td>199.127</td>\n",
              "      <td>br</td>\n",
              "      <td>1259.02</td>\n",
              "      <td>791.942</td>\n",
              "      <td>1</td>\n",
              "      <td>False</td>\n",
              "    </tr>\n",
              "    <tr>\n",
              "      <th>1</th>\n",
              "      <td>bl</td>\n",
              "      <td>714.326</td>\n",
              "      <td>806.309</td>\n",
              "      <td>tl</td>\n",
              "      <td>736.330</td>\n",
              "      <td>202.300</td>\n",
              "      <td>tr</td>\n",
              "      <td>1179.74</td>\n",
              "      <td>200.028</td>\n",
              "      <td>br</td>\n",
              "      <td>1257.21</td>\n",
              "      <td>792.161</td>\n",
              "      <td>2</td>\n",
              "      <td>False</td>\n",
              "    </tr>\n",
              "    <tr>\n",
              "      <th>2</th>\n",
              "      <td>bl</td>\n",
              "      <td>713.031</td>\n",
              "      <td>804.811</td>\n",
              "      <td>tl</td>\n",
              "      <td>734.431</td>\n",
              "      <td>201.449</td>\n",
              "      <td>tr</td>\n",
              "      <td>1177.81</td>\n",
              "      <td>199.795</td>\n",
              "      <td>br</td>\n",
              "      <td>1255.42</td>\n",
              "      <td>791.291</td>\n",
              "      <td>3</td>\n",
              "      <td>False</td>\n",
              "    </tr>\n",
              "    <tr>\n",
              "      <th>3</th>\n",
              "      <td>bl</td>\n",
              "      <td>713.845</td>\n",
              "      <td>802.659</td>\n",
              "      <td>tl</td>\n",
              "      <td>734.423</td>\n",
              "      <td>198.474</td>\n",
              "      <td>tr</td>\n",
              "      <td>1177.79</td>\n",
              "      <td>196.852</td>\n",
              "      <td>br</td>\n",
              "      <td>1256.72</td>\n",
              "      <td>789.631</td>\n",
              "      <td>4</td>\n",
              "      <td>False</td>\n",
              "    </tr>\n",
              "    <tr>\n",
              "      <th>4</th>\n",
              "      <td>bl</td>\n",
              "      <td>713.088</td>\n",
              "      <td>802.830</td>\n",
              "      <td>tl</td>\n",
              "      <td>734.675</td>\n",
              "      <td>195.678</td>\n",
              "      <td>tr</td>\n",
              "      <td>1179.99</td>\n",
              "      <td>194.057</td>\n",
              "      <td>br</td>\n",
              "      <td>1259.35</td>\n",
              "      <td>790.289</td>\n",
              "      <td>5</td>\n",
              "      <td>False</td>\n",
              "    </tr>\n",
              "  </tbody>\n",
              "</table>\n",
              "</div>\n",
              "      <button class=\"colab-df-convert\" onclick=\"convertToInteractive('df-ee50c3f5-3264-4b95-b5bd-39f90bc8456e')\"\n",
              "              title=\"Convert this dataframe to an interactive table.\"\n",
              "              style=\"display:none;\">\n",
              "        \n",
              "  <svg xmlns=\"http://www.w3.org/2000/svg\" height=\"24px\"viewBox=\"0 0 24 24\"\n",
              "       width=\"24px\">\n",
              "    <path d=\"M0 0h24v24H0V0z\" fill=\"none\"/>\n",
              "    <path d=\"M18.56 5.44l.94 2.06.94-2.06 2.06-.94-2.06-.94-.94-2.06-.94 2.06-2.06.94zm-11 1L8.5 8.5l.94-2.06 2.06-.94-2.06-.94L8.5 2.5l-.94 2.06-2.06.94zm10 10l.94 2.06.94-2.06 2.06-.94-2.06-.94-.94-2.06-.94 2.06-2.06.94z\"/><path d=\"M17.41 7.96l-1.37-1.37c-.4-.4-.92-.59-1.43-.59-.52 0-1.04.2-1.43.59L10.3 9.45l-7.72 7.72c-.78.78-.78 2.05 0 2.83L4 21.41c.39.39.9.59 1.41.59.51 0 1.02-.2 1.41-.59l7.78-7.78 2.81-2.81c.8-.78.8-2.07 0-2.86zM5.41 20L4 18.59l7.72-7.72 1.47 1.35L5.41 20z\"/>\n",
              "  </svg>\n",
              "      </button>\n",
              "      \n",
              "  <style>\n",
              "    .colab-df-container {\n",
              "      display:flex;\n",
              "      flex-wrap:wrap;\n",
              "      gap: 12px;\n",
              "    }\n",
              "\n",
              "    .colab-df-convert {\n",
              "      background-color: #E8F0FE;\n",
              "      border: none;\n",
              "      border-radius: 50%;\n",
              "      cursor: pointer;\n",
              "      display: none;\n",
              "      fill: #1967D2;\n",
              "      height: 32px;\n",
              "      padding: 0 0 0 0;\n",
              "      width: 32px;\n",
              "    }\n",
              "\n",
              "    .colab-df-convert:hover {\n",
              "      background-color: #E2EBFA;\n",
              "      box-shadow: 0px 1px 2px rgba(60, 64, 67, 0.3), 0px 1px 3px 1px rgba(60, 64, 67, 0.15);\n",
              "      fill: #174EA6;\n",
              "    }\n",
              "\n",
              "    [theme=dark] .colab-df-convert {\n",
              "      background-color: #3B4455;\n",
              "      fill: #D2E3FC;\n",
              "    }\n",
              "\n",
              "    [theme=dark] .colab-df-convert:hover {\n",
              "      background-color: #434B5C;\n",
              "      box-shadow: 0px 1px 3px 1px rgba(0, 0, 0, 0.15);\n",
              "      filter: drop-shadow(0px 1px 2px rgba(0, 0, 0, 0.3));\n",
              "      fill: #FFFFFF;\n",
              "    }\n",
              "  </style>\n",
              "\n",
              "      <script>\n",
              "        const buttonEl =\n",
              "          document.querySelector('#df-ee50c3f5-3264-4b95-b5bd-39f90bc8456e button.colab-df-convert');\n",
              "        buttonEl.style.display =\n",
              "          google.colab.kernel.accessAllowed ? 'block' : 'none';\n",
              "\n",
              "        async function convertToInteractive(key) {\n",
              "          const element = document.querySelector('#df-ee50c3f5-3264-4b95-b5bd-39f90bc8456e');\n",
              "          const dataTable =\n",
              "            await google.colab.kernel.invokeFunction('convertToInteractive',\n",
              "                                                     [key], {});\n",
              "          if (!dataTable) return;\n",
              "\n",
              "          const docLinkHtml = 'Like what you see? Visit the ' +\n",
              "            '<a target=\"_blank\" href=https://colab.research.google.com/notebooks/data_table.ipynb>data table notebook</a>'\n",
              "            + ' to learn more about interactive tables.';\n",
              "          element.innerHTML = '';\n",
              "          dataTable['output_type'] = 'display_data';\n",
              "          await google.colab.output.renderOutput(dataTable, element);\n",
              "          const docLink = document.createElement('div');\n",
              "          docLink.innerHTML = docLinkHtml;\n",
              "          element.appendChild(docLink);\n",
              "        }\n",
              "      </script>\n",
              "    </div>\n",
              "  </div>\n",
              "  "
            ]
          },
          "metadata": {},
          "execution_count": 5
        }
      ]
    },
    {
      "cell_type": "code",
      "source": [
        "df[\"document\"] = df[\"_rejected\"].apply(lambda x: not x)"
      ],
      "metadata": {
        "id": "0YYBZMwcyEcb"
      },
      "execution_count": 6,
      "outputs": []
    },
    {
      "cell_type": "code",
      "source": [
        "df = df.drop('_rejected', axis = 1)\n",
        "df.head()"
      ],
      "metadata": {
        "colab": {
          "base_uri": "https://localhost:8080/",
          "height": 270
        },
        "id": "vQfUZ7O7dWXx",
        "outputId": "8d343250-f87d-4a8f-d13e-7f3749aed7d9"
      },
      "execution_count": 7,
      "outputs": [
        {
          "output_type": "execute_result",
          "data": {
            "text/plain": [
              "  point/0/_name  point/0/_x  point/0/_y point/1/_name  point/1/_x  point/1/_y  \\\n",
              "0            bl     716.625     805.609            tl     737.377     201.383   \n",
              "1            bl     714.326     806.309            tl     736.330     202.300   \n",
              "2            bl     713.031     804.811            tl     734.431     201.449   \n",
              "3            bl     713.845     802.659            tl     734.423     198.474   \n",
              "4            bl     713.088     802.830            tl     734.675     195.678   \n",
              "\n",
              "  point/2/_name  point/2/_x  point/2/_y point/3/_name  point/3/_x  point/3/_y  \\\n",
              "0            tr     1180.71     199.127            br     1259.02     791.942   \n",
              "1            tr     1179.74     200.028            br     1257.21     792.161   \n",
              "2            tr     1177.81     199.795            br     1255.42     791.291   \n",
              "3            tr     1177.79     196.852            br     1256.72     789.631   \n",
              "4            tr     1179.99     194.057            br     1259.35     790.289   \n",
              "\n",
              "   _index  document  \n",
              "0       1      True  \n",
              "1       2      True  \n",
              "2       3      True  \n",
              "3       4      True  \n",
              "4       5      True  "
            ],
            "text/html": [
              "\n",
              "  <div id=\"df-c8cca856-2fdb-4e3d-af0b-25838ef1bab5\">\n",
              "    <div class=\"colab-df-container\">\n",
              "      <div>\n",
              "<style scoped>\n",
              "    .dataframe tbody tr th:only-of-type {\n",
              "        vertical-align: middle;\n",
              "    }\n",
              "\n",
              "    .dataframe tbody tr th {\n",
              "        vertical-align: top;\n",
              "    }\n",
              "\n",
              "    .dataframe thead th {\n",
              "        text-align: right;\n",
              "    }\n",
              "</style>\n",
              "<table border=\"1\" class=\"dataframe\">\n",
              "  <thead>\n",
              "    <tr style=\"text-align: right;\">\n",
              "      <th></th>\n",
              "      <th>point/0/_name</th>\n",
              "      <th>point/0/_x</th>\n",
              "      <th>point/0/_y</th>\n",
              "      <th>point/1/_name</th>\n",
              "      <th>point/1/_x</th>\n",
              "      <th>point/1/_y</th>\n",
              "      <th>point/2/_name</th>\n",
              "      <th>point/2/_x</th>\n",
              "      <th>point/2/_y</th>\n",
              "      <th>point/3/_name</th>\n",
              "      <th>point/3/_x</th>\n",
              "      <th>point/3/_y</th>\n",
              "      <th>_index</th>\n",
              "      <th>document</th>\n",
              "    </tr>\n",
              "  </thead>\n",
              "  <tbody>\n",
              "    <tr>\n",
              "      <th>0</th>\n",
              "      <td>bl</td>\n",
              "      <td>716.625</td>\n",
              "      <td>805.609</td>\n",
              "      <td>tl</td>\n",
              "      <td>737.377</td>\n",
              "      <td>201.383</td>\n",
              "      <td>tr</td>\n",
              "      <td>1180.71</td>\n",
              "      <td>199.127</td>\n",
              "      <td>br</td>\n",
              "      <td>1259.02</td>\n",
              "      <td>791.942</td>\n",
              "      <td>1</td>\n",
              "      <td>True</td>\n",
              "    </tr>\n",
              "    <tr>\n",
              "      <th>1</th>\n",
              "      <td>bl</td>\n",
              "      <td>714.326</td>\n",
              "      <td>806.309</td>\n",
              "      <td>tl</td>\n",
              "      <td>736.330</td>\n",
              "      <td>202.300</td>\n",
              "      <td>tr</td>\n",
              "      <td>1179.74</td>\n",
              "      <td>200.028</td>\n",
              "      <td>br</td>\n",
              "      <td>1257.21</td>\n",
              "      <td>792.161</td>\n",
              "      <td>2</td>\n",
              "      <td>True</td>\n",
              "    </tr>\n",
              "    <tr>\n",
              "      <th>2</th>\n",
              "      <td>bl</td>\n",
              "      <td>713.031</td>\n",
              "      <td>804.811</td>\n",
              "      <td>tl</td>\n",
              "      <td>734.431</td>\n",
              "      <td>201.449</td>\n",
              "      <td>tr</td>\n",
              "      <td>1177.81</td>\n",
              "      <td>199.795</td>\n",
              "      <td>br</td>\n",
              "      <td>1255.42</td>\n",
              "      <td>791.291</td>\n",
              "      <td>3</td>\n",
              "      <td>True</td>\n",
              "    </tr>\n",
              "    <tr>\n",
              "      <th>3</th>\n",
              "      <td>bl</td>\n",
              "      <td>713.845</td>\n",
              "      <td>802.659</td>\n",
              "      <td>tl</td>\n",
              "      <td>734.423</td>\n",
              "      <td>198.474</td>\n",
              "      <td>tr</td>\n",
              "      <td>1177.79</td>\n",
              "      <td>196.852</td>\n",
              "      <td>br</td>\n",
              "      <td>1256.72</td>\n",
              "      <td>789.631</td>\n",
              "      <td>4</td>\n",
              "      <td>True</td>\n",
              "    </tr>\n",
              "    <tr>\n",
              "      <th>4</th>\n",
              "      <td>bl</td>\n",
              "      <td>713.088</td>\n",
              "      <td>802.830</td>\n",
              "      <td>tl</td>\n",
              "      <td>734.675</td>\n",
              "      <td>195.678</td>\n",
              "      <td>tr</td>\n",
              "      <td>1179.99</td>\n",
              "      <td>194.057</td>\n",
              "      <td>br</td>\n",
              "      <td>1259.35</td>\n",
              "      <td>790.289</td>\n",
              "      <td>5</td>\n",
              "      <td>True</td>\n",
              "    </tr>\n",
              "  </tbody>\n",
              "</table>\n",
              "</div>\n",
              "      <button class=\"colab-df-convert\" onclick=\"convertToInteractive('df-c8cca856-2fdb-4e3d-af0b-25838ef1bab5')\"\n",
              "              title=\"Convert this dataframe to an interactive table.\"\n",
              "              style=\"display:none;\">\n",
              "        \n",
              "  <svg xmlns=\"http://www.w3.org/2000/svg\" height=\"24px\"viewBox=\"0 0 24 24\"\n",
              "       width=\"24px\">\n",
              "    <path d=\"M0 0h24v24H0V0z\" fill=\"none\"/>\n",
              "    <path d=\"M18.56 5.44l.94 2.06.94-2.06 2.06-.94-2.06-.94-.94-2.06-.94 2.06-2.06.94zm-11 1L8.5 8.5l.94-2.06 2.06-.94-2.06-.94L8.5 2.5l-.94 2.06-2.06.94zm10 10l.94 2.06.94-2.06 2.06-.94-2.06-.94-.94-2.06-.94 2.06-2.06.94z\"/><path d=\"M17.41 7.96l-1.37-1.37c-.4-.4-.92-.59-1.43-.59-.52 0-1.04.2-1.43.59L10.3 9.45l-7.72 7.72c-.78.78-.78 2.05 0 2.83L4 21.41c.39.39.9.59 1.41.59.51 0 1.02-.2 1.41-.59l7.78-7.78 2.81-2.81c.8-.78.8-2.07 0-2.86zM5.41 20L4 18.59l7.72-7.72 1.47 1.35L5.41 20z\"/>\n",
              "  </svg>\n",
              "      </button>\n",
              "      \n",
              "  <style>\n",
              "    .colab-df-container {\n",
              "      display:flex;\n",
              "      flex-wrap:wrap;\n",
              "      gap: 12px;\n",
              "    }\n",
              "\n",
              "    .colab-df-convert {\n",
              "      background-color: #E8F0FE;\n",
              "      border: none;\n",
              "      border-radius: 50%;\n",
              "      cursor: pointer;\n",
              "      display: none;\n",
              "      fill: #1967D2;\n",
              "      height: 32px;\n",
              "      padding: 0 0 0 0;\n",
              "      width: 32px;\n",
              "    }\n",
              "\n",
              "    .colab-df-convert:hover {\n",
              "      background-color: #E2EBFA;\n",
              "      box-shadow: 0px 1px 2px rgba(60, 64, 67, 0.3), 0px 1px 3px 1px rgba(60, 64, 67, 0.15);\n",
              "      fill: #174EA6;\n",
              "    }\n",
              "\n",
              "    [theme=dark] .colab-df-convert {\n",
              "      background-color: #3B4455;\n",
              "      fill: #D2E3FC;\n",
              "    }\n",
              "\n",
              "    [theme=dark] .colab-df-convert:hover {\n",
              "      background-color: #434B5C;\n",
              "      box-shadow: 0px 1px 3px 1px rgba(0, 0, 0, 0.15);\n",
              "      filter: drop-shadow(0px 1px 2px rgba(0, 0, 0, 0.3));\n",
              "      fill: #FFFFFF;\n",
              "    }\n",
              "  </style>\n",
              "\n",
              "      <script>\n",
              "        const buttonEl =\n",
              "          document.querySelector('#df-c8cca856-2fdb-4e3d-af0b-25838ef1bab5 button.colab-df-convert');\n",
              "        buttonEl.style.display =\n",
              "          google.colab.kernel.accessAllowed ? 'block' : 'none';\n",
              "\n",
              "        async function convertToInteractive(key) {\n",
              "          const element = document.querySelector('#df-c8cca856-2fdb-4e3d-af0b-25838ef1bab5');\n",
              "          const dataTable =\n",
              "            await google.colab.kernel.invokeFunction('convertToInteractive',\n",
              "                                                     [key], {});\n",
              "          if (!dataTable) return;\n",
              "\n",
              "          const docLinkHtml = 'Like what you see? Visit the ' +\n",
              "            '<a target=\"_blank\" href=https://colab.research.google.com/notebooks/data_table.ipynb>data table notebook</a>'\n",
              "            + ' to learn more about interactive tables.';\n",
              "          element.innerHTML = '';\n",
              "          dataTable['output_type'] = 'display_data';\n",
              "          await google.colab.output.renderOutput(dataTable, element);\n",
              "          const docLink = document.createElement('div');\n",
              "          docLink.innerHTML = docLinkHtml;\n",
              "          element.appendChild(docLink);\n",
              "        }\n",
              "      </script>\n",
              "    </div>\n",
              "  </div>\n",
              "  "
            ]
          },
          "metadata": {},
          "execution_count": 7
        }
      ]
    },
    {
      "cell_type": "code",
      "source": [
        "def get_coordinates(row_data):\n",
        "  x1 = min(row_data[1], row_data[4], row_data[7], row_data[10])\n",
        "  y1 = min(row_data[2], row_data[5], row_data[8], row_data[11])\n",
        "  x2 = max(row_data[1], row_data[4], row_data[7], row_data[10])\n",
        "  y2 = max(row_data[2], row_data[5], row_data[8], row_data[11])\n",
        "  bb_cd = [x1, y1, x2, y2] \n",
        "  return bb_cd"
      ],
      "metadata": {
        "id": "IyZmt249dXu-"
      },
      "execution_count": 8,
      "outputs": []
    },
    {
      "cell_type": "code",
      "source": [
        "bb = []\n",
        "bb.append(df.apply(lambda row: get_coordinates(row), axis = 1))"
      ],
      "metadata": {
        "id": "7my-XOsodZm5"
      },
      "execution_count": 9,
      "outputs": []
    },
    {
      "cell_type": "code",
      "source": [
        "bb = np.array(bb)\n",
        "bb = bb.flatten()\n",
        "bb = list(bb)"
      ],
      "metadata": {
        "id": "it5k3nSxdbYh"
      },
      "execution_count": 11,
      "outputs": []
    },
    {
      "cell_type": "code",
      "source": [
        "df_bb = pd.DataFrame(data=bb, columns=['x1', 'y1', 'x2', 'y2'])\n",
        "df_bb.head()"
      ],
      "metadata": {
        "colab": {
          "base_uri": "https://localhost:8080/",
          "height": 206
        },
        "id": "gx1lZH3nddBX",
        "outputId": "6cb7d790-5479-4fc9-a9f1-7341a4b195e4"
      },
      "execution_count": 12,
      "outputs": [
        {
          "output_type": "execute_result",
          "data": {
            "text/plain": [
              "        x1       y1       x2       y2\n",
              "0  716.625  199.127  1259.02  805.609\n",
              "1  714.326  200.028  1257.21  806.309\n",
              "2  713.031  199.795  1255.42  804.811\n",
              "3  713.845  196.852  1256.72  802.659\n",
              "4  713.088  194.057  1259.35  802.830"
            ],
            "text/html": [
              "\n",
              "  <div id=\"df-75ebf8d8-d9e6-4959-9354-683f2ee55bf5\">\n",
              "    <div class=\"colab-df-container\">\n",
              "      <div>\n",
              "<style scoped>\n",
              "    .dataframe tbody tr th:only-of-type {\n",
              "        vertical-align: middle;\n",
              "    }\n",
              "\n",
              "    .dataframe tbody tr th {\n",
              "        vertical-align: top;\n",
              "    }\n",
              "\n",
              "    .dataframe thead th {\n",
              "        text-align: right;\n",
              "    }\n",
              "</style>\n",
              "<table border=\"1\" class=\"dataframe\">\n",
              "  <thead>\n",
              "    <tr style=\"text-align: right;\">\n",
              "      <th></th>\n",
              "      <th>x1</th>\n",
              "      <th>y1</th>\n",
              "      <th>x2</th>\n",
              "      <th>y2</th>\n",
              "    </tr>\n",
              "  </thead>\n",
              "  <tbody>\n",
              "    <tr>\n",
              "      <th>0</th>\n",
              "      <td>716.625</td>\n",
              "      <td>199.127</td>\n",
              "      <td>1259.02</td>\n",
              "      <td>805.609</td>\n",
              "    </tr>\n",
              "    <tr>\n",
              "      <th>1</th>\n",
              "      <td>714.326</td>\n",
              "      <td>200.028</td>\n",
              "      <td>1257.21</td>\n",
              "      <td>806.309</td>\n",
              "    </tr>\n",
              "    <tr>\n",
              "      <th>2</th>\n",
              "      <td>713.031</td>\n",
              "      <td>199.795</td>\n",
              "      <td>1255.42</td>\n",
              "      <td>804.811</td>\n",
              "    </tr>\n",
              "    <tr>\n",
              "      <th>3</th>\n",
              "      <td>713.845</td>\n",
              "      <td>196.852</td>\n",
              "      <td>1256.72</td>\n",
              "      <td>802.659</td>\n",
              "    </tr>\n",
              "    <tr>\n",
              "      <th>4</th>\n",
              "      <td>713.088</td>\n",
              "      <td>194.057</td>\n",
              "      <td>1259.35</td>\n",
              "      <td>802.830</td>\n",
              "    </tr>\n",
              "  </tbody>\n",
              "</table>\n",
              "</div>\n",
              "      <button class=\"colab-df-convert\" onclick=\"convertToInteractive('df-75ebf8d8-d9e6-4959-9354-683f2ee55bf5')\"\n",
              "              title=\"Convert this dataframe to an interactive table.\"\n",
              "              style=\"display:none;\">\n",
              "        \n",
              "  <svg xmlns=\"http://www.w3.org/2000/svg\" height=\"24px\"viewBox=\"0 0 24 24\"\n",
              "       width=\"24px\">\n",
              "    <path d=\"M0 0h24v24H0V0z\" fill=\"none\"/>\n",
              "    <path d=\"M18.56 5.44l.94 2.06.94-2.06 2.06-.94-2.06-.94-.94-2.06-.94 2.06-2.06.94zm-11 1L8.5 8.5l.94-2.06 2.06-.94-2.06-.94L8.5 2.5l-.94 2.06-2.06.94zm10 10l.94 2.06.94-2.06 2.06-.94-2.06-.94-.94-2.06-.94 2.06-2.06.94z\"/><path d=\"M17.41 7.96l-1.37-1.37c-.4-.4-.92-.59-1.43-.59-.52 0-1.04.2-1.43.59L10.3 9.45l-7.72 7.72c-.78.78-.78 2.05 0 2.83L4 21.41c.39.39.9.59 1.41.59.51 0 1.02-.2 1.41-.59l7.78-7.78 2.81-2.81c.8-.78.8-2.07 0-2.86zM5.41 20L4 18.59l7.72-7.72 1.47 1.35L5.41 20z\"/>\n",
              "  </svg>\n",
              "      </button>\n",
              "      \n",
              "  <style>\n",
              "    .colab-df-container {\n",
              "      display:flex;\n",
              "      flex-wrap:wrap;\n",
              "      gap: 12px;\n",
              "    }\n",
              "\n",
              "    .colab-df-convert {\n",
              "      background-color: #E8F0FE;\n",
              "      border: none;\n",
              "      border-radius: 50%;\n",
              "      cursor: pointer;\n",
              "      display: none;\n",
              "      fill: #1967D2;\n",
              "      height: 32px;\n",
              "      padding: 0 0 0 0;\n",
              "      width: 32px;\n",
              "    }\n",
              "\n",
              "    .colab-df-convert:hover {\n",
              "      background-color: #E2EBFA;\n",
              "      box-shadow: 0px 1px 2px rgba(60, 64, 67, 0.3), 0px 1px 3px 1px rgba(60, 64, 67, 0.15);\n",
              "      fill: #174EA6;\n",
              "    }\n",
              "\n",
              "    [theme=dark] .colab-df-convert {\n",
              "      background-color: #3B4455;\n",
              "      fill: #D2E3FC;\n",
              "    }\n",
              "\n",
              "    [theme=dark] .colab-df-convert:hover {\n",
              "      background-color: #434B5C;\n",
              "      box-shadow: 0px 1px 3px 1px rgba(0, 0, 0, 0.15);\n",
              "      filter: drop-shadow(0px 1px 2px rgba(0, 0, 0, 0.3));\n",
              "      fill: #FFFFFF;\n",
              "    }\n",
              "  </style>\n",
              "\n",
              "      <script>\n",
              "        const buttonEl =\n",
              "          document.querySelector('#df-75ebf8d8-d9e6-4959-9354-683f2ee55bf5 button.colab-df-convert');\n",
              "        buttonEl.style.display =\n",
              "          google.colab.kernel.accessAllowed ? 'block' : 'none';\n",
              "\n",
              "        async function convertToInteractive(key) {\n",
              "          const element = document.querySelector('#df-75ebf8d8-d9e6-4959-9354-683f2ee55bf5');\n",
              "          const dataTable =\n",
              "            await google.colab.kernel.invokeFunction('convertToInteractive',\n",
              "                                                     [key], {});\n",
              "          if (!dataTable) return;\n",
              "\n",
              "          const docLinkHtml = 'Like what you see? Visit the ' +\n",
              "            '<a target=\"_blank\" href=https://colab.research.google.com/notebooks/data_table.ipynb>data table notebook</a>'\n",
              "            + ' to learn more about interactive tables.';\n",
              "          element.innerHTML = '';\n",
              "          dataTable['output_type'] = 'display_data';\n",
              "          await google.colab.output.renderOutput(dataTable, element);\n",
              "          const docLink = document.createElement('div');\n",
              "          docLink.innerHTML = docLinkHtml;\n",
              "          element.appendChild(docLink);\n",
              "        }\n",
              "      </script>\n",
              "    </div>\n",
              "  </div>\n",
              "  "
            ]
          },
          "metadata": {},
          "execution_count": 12
        }
      ]
    },
    {
      "cell_type": "code",
      "source": [
        "df_bb['document'] = df['document']\n",
        "df_bb.head() # df_bb would be the labels of bounding boxes"
      ],
      "metadata": {
        "colab": {
          "base_uri": "https://localhost:8080/",
          "height": 206
        },
        "id": "K2-iA8HPdiEb",
        "outputId": "0bc4c2b5-4ac2-4d68-e0ee-9a3ab8858c18"
      },
      "execution_count": 13,
      "outputs": [
        {
          "output_type": "execute_result",
          "data": {
            "text/plain": [
              "        x1       y1       x2       y2  document\n",
              "0  716.625  199.127  1259.02  805.609      True\n",
              "1  714.326  200.028  1257.21  806.309      True\n",
              "2  713.031  199.795  1255.42  804.811      True\n",
              "3  713.845  196.852  1256.72  802.659      True\n",
              "4  713.088  194.057  1259.35  802.830      True"
            ],
            "text/html": [
              "\n",
              "  <div id=\"df-2bbf872a-8c67-49ab-a198-9edffb3665f1\">\n",
              "    <div class=\"colab-df-container\">\n",
              "      <div>\n",
              "<style scoped>\n",
              "    .dataframe tbody tr th:only-of-type {\n",
              "        vertical-align: middle;\n",
              "    }\n",
              "\n",
              "    .dataframe tbody tr th {\n",
              "        vertical-align: top;\n",
              "    }\n",
              "\n",
              "    .dataframe thead th {\n",
              "        text-align: right;\n",
              "    }\n",
              "</style>\n",
              "<table border=\"1\" class=\"dataframe\">\n",
              "  <thead>\n",
              "    <tr style=\"text-align: right;\">\n",
              "      <th></th>\n",
              "      <th>x1</th>\n",
              "      <th>y1</th>\n",
              "      <th>x2</th>\n",
              "      <th>y2</th>\n",
              "      <th>document</th>\n",
              "    </tr>\n",
              "  </thead>\n",
              "  <tbody>\n",
              "    <tr>\n",
              "      <th>0</th>\n",
              "      <td>716.625</td>\n",
              "      <td>199.127</td>\n",
              "      <td>1259.02</td>\n",
              "      <td>805.609</td>\n",
              "      <td>True</td>\n",
              "    </tr>\n",
              "    <tr>\n",
              "      <th>1</th>\n",
              "      <td>714.326</td>\n",
              "      <td>200.028</td>\n",
              "      <td>1257.21</td>\n",
              "      <td>806.309</td>\n",
              "      <td>True</td>\n",
              "    </tr>\n",
              "    <tr>\n",
              "      <th>2</th>\n",
              "      <td>713.031</td>\n",
              "      <td>199.795</td>\n",
              "      <td>1255.42</td>\n",
              "      <td>804.811</td>\n",
              "      <td>True</td>\n",
              "    </tr>\n",
              "    <tr>\n",
              "      <th>3</th>\n",
              "      <td>713.845</td>\n",
              "      <td>196.852</td>\n",
              "      <td>1256.72</td>\n",
              "      <td>802.659</td>\n",
              "      <td>True</td>\n",
              "    </tr>\n",
              "    <tr>\n",
              "      <th>4</th>\n",
              "      <td>713.088</td>\n",
              "      <td>194.057</td>\n",
              "      <td>1259.35</td>\n",
              "      <td>802.830</td>\n",
              "      <td>True</td>\n",
              "    </tr>\n",
              "  </tbody>\n",
              "</table>\n",
              "</div>\n",
              "      <button class=\"colab-df-convert\" onclick=\"convertToInteractive('df-2bbf872a-8c67-49ab-a198-9edffb3665f1')\"\n",
              "              title=\"Convert this dataframe to an interactive table.\"\n",
              "              style=\"display:none;\">\n",
              "        \n",
              "  <svg xmlns=\"http://www.w3.org/2000/svg\" height=\"24px\"viewBox=\"0 0 24 24\"\n",
              "       width=\"24px\">\n",
              "    <path d=\"M0 0h24v24H0V0z\" fill=\"none\"/>\n",
              "    <path d=\"M18.56 5.44l.94 2.06.94-2.06 2.06-.94-2.06-.94-.94-2.06-.94 2.06-2.06.94zm-11 1L8.5 8.5l.94-2.06 2.06-.94-2.06-.94L8.5 2.5l-.94 2.06-2.06.94zm10 10l.94 2.06.94-2.06 2.06-.94-2.06-.94-.94-2.06-.94 2.06-2.06.94z\"/><path d=\"M17.41 7.96l-1.37-1.37c-.4-.4-.92-.59-1.43-.59-.52 0-1.04.2-1.43.59L10.3 9.45l-7.72 7.72c-.78.78-.78 2.05 0 2.83L4 21.41c.39.39.9.59 1.41.59.51 0 1.02-.2 1.41-.59l7.78-7.78 2.81-2.81c.8-.78.8-2.07 0-2.86zM5.41 20L4 18.59l7.72-7.72 1.47 1.35L5.41 20z\"/>\n",
              "  </svg>\n",
              "      </button>\n",
              "      \n",
              "  <style>\n",
              "    .colab-df-container {\n",
              "      display:flex;\n",
              "      flex-wrap:wrap;\n",
              "      gap: 12px;\n",
              "    }\n",
              "\n",
              "    .colab-df-convert {\n",
              "      background-color: #E8F0FE;\n",
              "      border: none;\n",
              "      border-radius: 50%;\n",
              "      cursor: pointer;\n",
              "      display: none;\n",
              "      fill: #1967D2;\n",
              "      height: 32px;\n",
              "      padding: 0 0 0 0;\n",
              "      width: 32px;\n",
              "    }\n",
              "\n",
              "    .colab-df-convert:hover {\n",
              "      background-color: #E2EBFA;\n",
              "      box-shadow: 0px 1px 2px rgba(60, 64, 67, 0.3), 0px 1px 3px 1px rgba(60, 64, 67, 0.15);\n",
              "      fill: #174EA6;\n",
              "    }\n",
              "\n",
              "    [theme=dark] .colab-df-convert {\n",
              "      background-color: #3B4455;\n",
              "      fill: #D2E3FC;\n",
              "    }\n",
              "\n",
              "    [theme=dark] .colab-df-convert:hover {\n",
              "      background-color: #434B5C;\n",
              "      box-shadow: 0px 1px 3px 1px rgba(0, 0, 0, 0.15);\n",
              "      filter: drop-shadow(0px 1px 2px rgba(0, 0, 0, 0.3));\n",
              "      fill: #FFFFFF;\n",
              "    }\n",
              "  </style>\n",
              "\n",
              "      <script>\n",
              "        const buttonEl =\n",
              "          document.querySelector('#df-2bbf872a-8c67-49ab-a198-9edffb3665f1 button.colab-df-convert');\n",
              "        buttonEl.style.display =\n",
              "          google.colab.kernel.accessAllowed ? 'block' : 'none';\n",
              "\n",
              "        async function convertToInteractive(key) {\n",
              "          const element = document.querySelector('#df-2bbf872a-8c67-49ab-a198-9edffb3665f1');\n",
              "          const dataTable =\n",
              "            await google.colab.kernel.invokeFunction('convertToInteractive',\n",
              "                                                     [key], {});\n",
              "          if (!dataTable) return;\n",
              "\n",
              "          const docLinkHtml = 'Like what you see? Visit the ' +\n",
              "            '<a target=\"_blank\" href=https://colab.research.google.com/notebooks/data_table.ipynb>data table notebook</a>'\n",
              "            + ' to learn more about interactive tables.';\n",
              "          element.innerHTML = '';\n",
              "          dataTable['output_type'] = 'display_data';\n",
              "          await google.colab.output.renderOutput(dataTable, element);\n",
              "          const docLink = document.createElement('div');\n",
              "          docLink.innerHTML = docLinkHtml;\n",
              "          element.appendChild(docLink);\n",
              "        }\n",
              "      </script>\n",
              "    </div>\n",
              "  </div>\n",
              "  "
            ]
          },
          "metadata": {},
          "execution_count": 13
        }
      ]
    },
    {
      "cell_type": "code",
      "source": [
        "# get image names\n",
        "os.chdir('/content/drive/MyDrive/BTTAI_AmericanExpress1/datasets/sampleDataset/frames/datasheet001_frames')\n",
        "imgs = os.listdir()"
      ],
      "metadata": {
        "id": "BvR7NRCFdjrX"
      },
      "execution_count": 14,
      "outputs": []
    },
    {
      "cell_type": "code",
      "source": [
        "bbox = []\n",
        "for i in range(0,214):\n",
        "  e = [list(df_bb.iloc[i,0:4]), [df_bb.iloc[i,4]]]\n",
        "  bbox.append(e)"
      ],
      "metadata": {
        "id": "B9qiFpwWdqno"
      },
      "execution_count": 15,
      "outputs": []
    },
    {
      "cell_type": "code",
      "source": [
        "# use a dictionary to quickly look up a corresponding image to it's label\n",
        "img2bbox = dict(zip(imgs, bbox))"
      ],
      "metadata": {
        "id": "R_Cv_HUAdt5X"
      },
      "execution_count": 16,
      "outputs": []
    },
    {
      "cell_type": "code",
      "source": [
        "# a getter function\n",
        "getters = [lambda o: o, lambda o: img2bbox[o][0], lambda o: img2bbox[o][1]] # o is the input image name"
      ],
      "metadata": {
        "id": "zbZitWcIdv3V"
      },
      "execution_count": 17,
      "outputs": []
    },
    {
      "cell_type": "code",
      "source": [
        "# for transforms later\n",
        "item_tfms = [Resize(128, method='pad'),] \n",
        "batch_tfms = [Rotate(), Flip(), Dihedral(), Normalize.from_stats(*imagenet_stats)]"
      ],
      "metadata": {
        "id": "bfF0iDzTdyHH"
      },
      "execution_count": 18,
      "outputs": []
    },
    {
      "cell_type": "code",
      "source": [
        "def get_train_imgs(noop): return imgs # simply return the images"
      ],
      "metadata": {
        "id": "VkTLRthtd0Hg"
      },
      "execution_count": 19,
      "outputs": []
    },
    {
      "cell_type": "code",
      "source": [
        "frames = DataBlock(blocks=(ImageBlock, BBoxBlock, BBoxLblBlock), # define pre-defined problem domains: images, bb, label bb\n",
        "                 splitter=RandomSplitter(), \n",
        "                 get_items=get_train_imgs, \n",
        "                 getters=getters, # getters applied to results of get_items\n",
        "                 item_tfms=item_tfms,\n",
        "                 batch_tfms=batch_tfms,\n",
        "                 n_inp=1)"
      ],
      "metadata": {
        "id": "xwWGQ-y7d1nu"
      },
      "execution_count": 20,
      "outputs": []
    },
    {
      "cell_type": "code",
      "source": [
        "frames.summary(os.getcwd())\n",
        "files = get_image_files(os.getcwd())\n",
        "files[:5]"
      ],
      "metadata": {
        "colab": {
          "base_uri": "https://localhost:8080/"
        },
        "id": "tMH2f_1pd3oX",
        "outputId": "b610c180-1c46-421f-bc32-fbed0bd9022a"
      },
      "execution_count": 21,
      "outputs": [
        {
          "output_type": "stream",
          "name": "stdout",
          "text": [
            "Setting-up type transforms pipelines\n",
            "Collecting items from /content/drive/MyDrive/BTTAI_AmericanExpress1/datasets/sampleDataset/frames/datasheet001_frames\n",
            "Found 214 items\n",
            "2 datasets of sizes 172,42\n",
            "Setting up Pipeline: <lambda> -> PILBase.create\n",
            "Setting up Pipeline: <lambda> -> TensorBBox.create\n",
            "Setting up Pipeline: <lambda> -> MultiCategorize -- {'vocab': None, 'sort': True, 'add_na': True}\n",
            "\n",
            "Building one sample\n",
            "  Pipeline: <lambda> -> PILBase.create\n",
            "    starting from\n",
            "      datasheet001_frames_00073.jpg\n",
            "    applying <lambda> gives\n",
            "      datasheet001_frames_00073.jpg\n",
            "    applying PILBase.create gives\n",
            "      PILImage mode=RGB size=1920x1080\n",
            "  Pipeline: <lambda> -> TensorBBox.create\n",
            "    starting from\n",
            "      datasheet001_frames_00073.jpg\n",
            "    applying <lambda> gives\n",
            "      [535.046, 201.203, 1054.09, 753.171]\n",
            "    applying TensorBBox.create gives\n",
            "      TensorBBox of size 1x4\n",
            "  Pipeline: <lambda> -> MultiCategorize -- {'vocab': None, 'sort': True, 'add_na': True}\n",
            "    starting from\n",
            "      datasheet001_frames_00073.jpg\n",
            "    applying <lambda> gives\n",
            "      [True]\n",
            "    applying MultiCategorize -- {'vocab': None, 'sort': True, 'add_na': True} gives\n",
            "      TensorMultiCategory([1])\n",
            "\n",
            "Final sample: (PILImage mode=RGB size=1920x1080, TensorBBox([[ 535.0460,  201.2030, 1054.0900,  753.1710]]), TensorMultiCategory([1]))\n",
            "\n",
            "\n",
            "Collecting items from /content/drive/MyDrive/BTTAI_AmericanExpress1/datasets/sampleDataset/frames/datasheet001_frames\n",
            "Found 214 items\n",
            "2 datasets of sizes 172,42\n",
            "Setting up Pipeline: <lambda> -> PILBase.create\n",
            "Setting up Pipeline: <lambda> -> TensorBBox.create\n",
            "Setting up Pipeline: <lambda> -> MultiCategorize -- {'vocab': None, 'sort': True, 'add_na': True}\n",
            "Setting up after_item: Pipeline: BBoxLabeler -> PointScaler -> Resize -- {'size': (128, 128), 'method': 'pad', 'pad_mode': 'reflection', 'resamples': (2, 0), 'p': 1.0} -> ToTensor\n",
            "Setting up before_batch: Pipeline: bb_pad\n",
            "Setting up after_batch: Pipeline: IntToFloatTensor -- {'div': 255.0, 'div_mask': 1} -> Rotate -- {'size': None, 'mode': 'bilinear', 'pad_mode': 'reflection', 'mode_mask': 'nearest', 'align_corners': True, 'p': 1.0} -> Flip -- {'size': None, 'mode': 'bilinear', 'pad_mode': 'reflection', 'mode_mask': 'nearest', 'align_corners': True, 'p': 0.5} -> Dihedral -- {'size': None, 'mode': 'bilinear', 'pad_mode': 'reflection', 'mode_mask': 'nearest', 'align_corners': True, 'p': 1.0} -> Normalize -- {'mean': tensor([[[[0.4850]],\n",
            "\n",
            "         [[0.4560]],\n",
            "\n",
            "         [[0.4060]]]]), 'std': tensor([[[[0.2290]],\n",
            "\n",
            "         [[0.2240]],\n",
            "\n",
            "         [[0.2250]]]]), 'axes': (0, 2, 3)}\n",
            "\n",
            "Building one batch\n",
            "Applying item_tfms to the first sample:\n",
            "  Pipeline: BBoxLabeler -> PointScaler -> Resize -- {'size': (128, 128), 'method': 'pad', 'pad_mode': 'reflection', 'resamples': (2, 0), 'p': 1.0} -> ToTensor\n",
            "    starting from\n",
            "      (PILImage mode=RGB size=1920x1080, TensorBBox of size 1x4, TensorMultiCategory([1]))\n",
            "    applying BBoxLabeler gives\n",
            "      (PILImage mode=RGB size=1920x1080, TensorBBox of size 1x4, TensorMultiCategory([1]))\n",
            "    applying PointScaler gives\n",
            "      (PILImage mode=RGB size=1920x1080, TensorBBox of size 1x4, TensorMultiCategory([1]))\n",
            "    applying Resize -- {'size': (128, 128), 'method': 'pad', 'pad_mode': 'reflection', 'resamples': (2, 0), 'p': 1.0} gives\n",
            "      (PILImage mode=RGB size=128x128, TensorBBox of size 1x4, TensorMultiCategory([1]))\n",
            "    applying ToTensor gives\n",
            "      (TensorImage of size 3x128x128, TensorBBox of size 1x4, TensorMultiCategory([1]))\n",
            "\n",
            "Adding the next 3 samples\n",
            "\n",
            "Applying before_batch to the list of samples\n",
            "  Pipeline: bb_pad\n",
            "    starting from\n",
            "      [(TensorImage of size 3x128x128, TensorBBox of size 1x4, TensorMultiCategory([1])), (TensorImage of size 3x128x128, TensorBBox of size 1x4, TensorMultiCategory([1])), (TensorImage of size 3x128x128, TensorBBox of size 1x4, TensorMultiCategory([1])), (TensorImage of size 3x128x128, TensorBBox of size 1x4, TensorMultiCategory([1]))]\n",
            "    applying bb_pad gives\n",
            "      [(TensorImage of size 3x128x128, TensorBBox of size 1x4, TensorMultiCategory([1])), (TensorImage of size 3x128x128, TensorBBox of size 1x4, TensorMultiCategory([1])), (TensorImage of size 3x128x128, TensorBBox of size 1x4, TensorMultiCategory([1])), (TensorImage of size 3x128x128, TensorBBox of size 1x4, TensorMultiCategory([1]))]\n",
            "\n",
            "Collating items in a batch\n",
            "\n",
            "Applying batch_tfms to the batch built\n",
            "  Pipeline: IntToFloatTensor -- {'div': 255.0, 'div_mask': 1} -> Rotate -- {'size': None, 'mode': 'bilinear', 'pad_mode': 'reflection', 'mode_mask': 'nearest', 'align_corners': True, 'p': 1.0} -> Flip -- {'size': None, 'mode': 'bilinear', 'pad_mode': 'reflection', 'mode_mask': 'nearest', 'align_corners': True, 'p': 0.5} -> Dihedral -- {'size': None, 'mode': 'bilinear', 'pad_mode': 'reflection', 'mode_mask': 'nearest', 'align_corners': True, 'p': 1.0} -> Normalize -- {'mean': tensor([[[[0.4850]],\n",
            "\n",
            "         [[0.4560]],\n",
            "\n",
            "         [[0.4060]]]]), 'std': tensor([[[[0.2290]],\n",
            "\n",
            "         [[0.2240]],\n",
            "\n",
            "         [[0.2250]]]]), 'axes': (0, 2, 3)}\n",
            "    starting from\n",
            "      (TensorImage of size 4x3x128x128, TensorBBox of size 4x1x4, TensorMultiCategory of size 4x1)\n",
            "    applying IntToFloatTensor -- {'div': 255.0, 'div_mask': 1} gives\n",
            "      (TensorImage of size 4x3x128x128, TensorBBox of size 4x1x4, TensorMultiCategory of size 4x1)\n",
            "    applying Rotate -- {'size': None, 'mode': 'bilinear', 'pad_mode': 'reflection', 'mode_mask': 'nearest', 'align_corners': True, 'p': 1.0} gives\n",
            "      (TensorImage of size 4x3x128x128, TensorBBox of size 4x1x4, TensorMultiCategory of size 4x1)\n",
            "    applying Flip -- {'size': None, 'mode': 'bilinear', 'pad_mode': 'reflection', 'mode_mask': 'nearest', 'align_corners': True, 'p': 0.5} gives\n",
            "      (TensorImage of size 4x3x128x128, TensorBBox of size 4x1x4, TensorMultiCategory of size 4x1)\n",
            "    applying Dihedral -- {'size': None, 'mode': 'bilinear', 'pad_mode': 'reflection', 'mode_mask': 'nearest', 'align_corners': True, 'p': 1.0} gives\n",
            "      (TensorImage of size 4x3x128x128, TensorBBox of size 4x1x4, TensorMultiCategory of size 4x1)\n",
            "    applying Normalize -- {'mean': tensor([[[[0.4850]],\n",
            "\n",
            "         [[0.4560]],\n",
            "\n",
            "         [[0.4060]]]]), 'std': tensor([[[[0.2290]],\n",
            "\n",
            "         [[0.2240]],\n",
            "\n",
            "         [[0.2250]]]]), 'axes': (0, 2, 3)} gives\n",
            "      (TensorImage of size 4x3x128x128, TensorBBox of size 4x1x4, TensorMultiCategory of size 4x1)\n"
          ]
        },
        {
          "output_type": "execute_result",
          "data": {
            "text/plain": [
              "(#5) [Path('/content/drive/MyDrive/BTTAI_AmericanExpress1/datasets/sampleDataset/frames/datasheet001_frames/datasheet001_frames_00001.jpg'),Path('/content/drive/MyDrive/BTTAI_AmericanExpress1/datasets/sampleDataset/frames/datasheet001_frames/datasheet001_frames_00002.jpg'),Path('/content/drive/MyDrive/BTTAI_AmericanExpress1/datasets/sampleDataset/frames/datasheet001_frames/datasheet001_frames_00003.jpg'),Path('/content/drive/MyDrive/BTTAI_AmericanExpress1/datasets/sampleDataset/frames/datasheet001_frames/datasheet001_frames_00004.jpg'),Path('/content/drive/MyDrive/BTTAI_AmericanExpress1/datasets/sampleDataset/frames/datasheet001_frames/datasheet001_frames_00005.jpg')]"
            ]
          },
          "metadata": {},
          "execution_count": 21
        }
      ]
    },
    {
      "cell_type": "code",
      "source": [
        "dls = frames.dataloaders(files)"
      ],
      "metadata": {
        "id": "HugyyLMRd8Jo"
      },
      "execution_count": 22,
      "outputs": []
    },
    {
      "cell_type": "code",
      "source": [
        "dls.c = 1"
      ],
      "metadata": {
        "id": "82EKC_D4eBKW"
      },
      "execution_count": 23,
      "outputs": []
    },
    {
      "cell_type": "code",
      "source": [
        "dls.show_batch()"
      ],
      "metadata": {
        "colab": {
          "base_uri": "https://localhost:8080/",
          "height": 520
        },
        "id": "sV0Cn7GZeCjk",
        "outputId": "fc62b25e-5752-441b-df12-154c05985f6e"
      },
      "execution_count": 24,
      "outputs": [
        {
          "output_type": "display_data",
          "data": {
            "text/plain": [
              "<Figure size 648x648 with 9 Axes>"
            ],
            "image/png": "[encoded data removed]"
          },
          "metadata": {
            "needs_background": "light"
          }
        }
      ]
    },
    {
      "cell_type": "code",
      "source": [
        "#!pip install wwf\n",
        "from wwf.vision.object_detection import *"
      ],
      "metadata": {
        "id": "THsgndKyeE8C"
      },
      "execution_count": 27,
      "outputs": []
    },
    {
      "cell_type": "code",
      "source": [
        "encoder = create_body(resnet34(), pretrained=True)"
      ],
      "metadata": {
        "id": "naVZX4GfeWWt"
      },
      "execution_count": 29,
      "outputs": []
    },
    {
      "cell_type": "code",
      "source": [
        "# call RetinaNet architecture - pass in encoder, number of classes, and final bias on last convolutional layer\n",
        "get_c(dls)"
      ],
      "metadata": {
        "colab": {
          "base_uri": "https://localhost:8080/"
        },
        "id": "pPiMLnPweiBC",
        "outputId": "3696442d-78d8-45c5-e78d-fd6636b64a89"
      },
      "execution_count": 30,
      "outputs": [
        {
          "output_type": "execute_result",
          "data": {
            "text/plain": [
              "1"
            ]
          },
          "metadata": {},
          "execution_count": 30
        }
      ]
    },
    {
      "cell_type": "code",
      "source": [
        "arch = RetinaNet(encoder, get_c(dls), final_bias=-4)"
      ],
      "metadata": {
        "id": "LoZGBDmze0BG"
      },
      "execution_count": 31,
      "outputs": []
    },
    {
      "cell_type": "code",
      "source": [
        "create_head(124, 4)"
      ],
      "metadata": {
        "colab": {
          "base_uri": "https://localhost:8080/"
        },
        "id": "PDNQC_R3e36M",
        "outputId": "f5417a90-f1a1-49c8-caa5-1591dd782df6"
      },
      "execution_count": 32,
      "outputs": [
        {
          "output_type": "execute_result",
          "data": {
            "text/plain": [
              "Sequential(\n",
              "  (0): AdaptiveConcatPool2d(\n",
              "    (ap): AdaptiveAvgPool2d(output_size=1)\n",
              "    (mp): AdaptiveMaxPool2d(output_size=1)\n",
              "  )\n",
              "  (1): fastai.layers.Flatten(full=False)\n",
              "  (2): BatchNorm1d(248, eps=1e-05, momentum=0.1, affine=True, track_running_stats=True)\n",
              "  (3): Dropout(p=0.25, inplace=False)\n",
              "  (4): Linear(in_features=248, out_features=512, bias=False)\n",
              "  (5): ReLU(inplace=True)\n",
              "  (6): BatchNorm1d(512, eps=1e-05, momentum=0.1, affine=True, track_running_stats=True)\n",
              "  (7): Dropout(p=0.5, inplace=False)\n",
              "  (8): Linear(in_features=512, out_features=4, bias=False)\n",
              ")"
            ]
          },
          "metadata": {},
          "execution_count": 32
        }
      ]
    },
    {
      "cell_type": "code",
      "source": [
        "arch.smoothers"
      ],
      "metadata": {
        "colab": {
          "base_uri": "https://localhost:8080/"
        },
        "id": "IZU0Xg85e8pM",
        "outputId": "10f3f878-4d41-4183-9292-5778de3a38c2"
      },
      "execution_count": 33,
      "outputs": [
        {
          "output_type": "execute_result",
          "data": {
            "text/plain": [
              "ModuleList(\n",
              "  (0): Conv2d(256, 256, kernel_size=(3, 3), stride=(1, 1), padding=(1, 1))\n",
              "  (1): Conv2d(256, 256, kernel_size=(3, 3), stride=(1, 1), padding=(1, 1))\n",
              "  (2): Conv2d(256, 256, kernel_size=(3, 3), stride=(1, 1), padding=(1, 1))\n",
              ")"
            ]
          },
          "metadata": {},
          "execution_count": 33
        }
      ]
    },
    {
      "cell_type": "code",
      "source": [
        "arch.classifier"
      ],
      "metadata": {
        "colab": {
          "base_uri": "https://localhost:8080/"
        },
        "id": "gyh4Dk8Ee_7j",
        "outputId": "ecce20f7-89cf-4d8b-e47e-a08e5f6c2098"
      },
      "execution_count": 34,
      "outputs": [
        {
          "output_type": "execute_result",
          "data": {
            "text/plain": [
              "Sequential(\n",
              "  (0): ConvLayer(\n",
              "    (0): Conv2d(256, 256, kernel_size=(3, 3), stride=(1, 1), padding=(1, 1))\n",
              "    (1): ReLU()\n",
              "  )\n",
              "  (1): ConvLayer(\n",
              "    (0): Conv2d(256, 256, kernel_size=(3, 3), stride=(1, 1), padding=(1, 1))\n",
              "    (1): ReLU()\n",
              "  )\n",
              "  (2): ConvLayer(\n",
              "    (0): Conv2d(256, 256, kernel_size=(3, 3), stride=(1, 1), padding=(1, 1))\n",
              "    (1): ReLU()\n",
              "  )\n",
              "  (3): ConvLayer(\n",
              "    (0): Conv2d(256, 256, kernel_size=(3, 3), stride=(1, 1), padding=(1, 1))\n",
              "    (1): ReLU()\n",
              "  )\n",
              "  (4): Conv2d(256, 9, kernel_size=(3, 3), stride=(1, 1), padding=(1, 1))\n",
              ")"
            ]
          },
          "metadata": {},
          "execution_count": 34
        }
      ]
    },
    {
      "cell_type": "code",
      "source": [
        "arch.box_regressor"
      ],
      "metadata": {
        "colab": {
          "base_uri": "https://localhost:8080/"
        },
        "id": "KhoJAiAOfBT9",
        "outputId": "abfbc12f-ac0a-48bc-f873-9778d74832f2"
      },
      "execution_count": 35,
      "outputs": [
        {
          "output_type": "execute_result",
          "data": {
            "text/plain": [
              "Sequential(\n",
              "  (0): ConvLayer(\n",
              "    (0): Conv2d(256, 256, kernel_size=(3, 3), stride=(1, 1), padding=(1, 1))\n",
              "    (1): ReLU()\n",
              "  )\n",
              "  (1): ConvLayer(\n",
              "    (0): Conv2d(256, 256, kernel_size=(3, 3), stride=(1, 1), padding=(1, 1))\n",
              "    (1): ReLU()\n",
              "  )\n",
              "  (2): ConvLayer(\n",
              "    (0): Conv2d(256, 256, kernel_size=(3, 3), stride=(1, 1), padding=(1, 1))\n",
              "    (1): ReLU()\n",
              "  )\n",
              "  (3): ConvLayer(\n",
              "    (0): Conv2d(256, 256, kernel_size=(3, 3), stride=(1, 1), padding=(1, 1))\n",
              "    (1): ReLU()\n",
              "  )\n",
              "  (4): Conv2d(256, 36, kernel_size=(3, 3), stride=(1, 1), padding=(1, 1))\n",
              ")"
            ]
          },
          "metadata": {},
          "execution_count": 35
        }
      ]
    },
    {
      "cell_type": "code",
      "source": [
        "# loss function\n",
        "ratios = [1/2,1,2]\n",
        "scales = [1,2**(-1/3), 2**(-2/3)]"
      ],
      "metadata": {
        "id": "SwsSrSwkfMjH"
      },
      "execution_count": 36,
      "outputs": []
    },
    {
      "cell_type": "code",
      "source": [
        "crit = RetinaNetFocalLoss(scales=scales, ratios=ratios)"
      ],
      "metadata": {
        "id": "GIOlqEOjfT-1"
      },
      "execution_count": 37,
      "outputs": []
    },
    {
      "cell_type": "code",
      "source": [
        "# learner\n",
        "def _retinanet_split(m): return L(m.encoder,nn.Sequential(m.c5top6, m.p6top7, m.merges, m.smoothers, m.classifier, m.box_regressor)).map(params)"
      ],
      "metadata": {
        "id": "PZJ52CIJfV3G"
      },
      "execution_count": 38,
      "outputs": []
    },
    {
      "cell_type": "code",
      "source": [
        "learn = Learner(dls, arch, loss_func=crit, splitter=_retinanet_split)"
      ],
      "metadata": {
        "id": "xRfLbzuWfgSv"
      },
      "execution_count": 39,
      "outputs": []
    },
    {
      "cell_type": "code",
      "source": [
        "learn.freeze()"
      ],
      "metadata": {
        "id": "SWUDCRmDfiWI"
      },
      "execution_count": 40,
      "outputs": []
    },
    {
      "cell_type": "code",
      "source": [
        "# Training\n",
        "learn.fit_one_cycle(10, slice(1e-5, 1e-4))"
      ],
      "metadata": {
        "colab": {
          "base_uri": "https://localhost:8080/",
          "height": 363
        },
        "id": "X0bU_ftEfjzH",
        "outputId": "62f3590c-2acc-47df-eb8e-e4006c4757fc"
      },
      "execution_count": 41,
      "outputs": [
        {
          "output_type": "display_data",
          "data": {
            "text/plain": [
              "<IPython.core.display.HTML object>"
            ],
            "text/html": [
              "\n",
              "<style>\n",
              "    /* Turns off some styling */\n",
              "    progress {\n",
              "        /* gets rid of default border in Firefox and Opera. */\n",
              "        border: none;\n",
              "        /* Needs to be in here for Safari polyfill so background images work as expected. */\n",
              "        background-size: auto;\n",
              "    }\n",
              "    progress:not([value]), progress:not([value])::-webkit-progress-bar {\n",
              "        background: repeating-linear-gradient(45deg, #7e7e7e, #7e7e7e 10px, #5c5c5c 10px, #5c5c5c 20px);\n",
              "    }\n",
              "    .progress-bar-interrupted, .progress-bar-interrupted::-webkit-progress-bar {\n",
              "        background: #F44336;\n",
              "    }\n",
              "</style>\n"
            ]
          },
          "metadata": {}
        },
        {
          "output_type": "display_data",
          "data": {
            "text/plain": [
              "<IPython.core.display.HTML object>"
            ],
            "text/html": [
              "<table border=\"1\" class=\"dataframe\">\n",
              "  <thead>\n",
              "    <tr style=\"text-align: left;\">\n",
              "      <th>epoch</th>\n",
              "      <th>train_loss</th>\n",
              "      <th>valid_loss</th>\n",
              "      <th>time</th>\n",
              "    </tr>\n",
              "  </thead>\n",
              "  <tbody>\n",
              "    <tr>\n",
              "      <td>0</td>\n",
              "      <td>3.680068</td>\n",
              "      <td>3.457086</td>\n",
              "      <td>01:43</td>\n",
              "    </tr>\n",
              "    <tr>\n",
              "      <td>1</td>\n",
              "      <td>3.499872</td>\n",
              "      <td>3.165926</td>\n",
              "      <td>01:40</td>\n",
              "    </tr>\n",
              "    <tr>\n",
              "      <td>2</td>\n",
              "      <td>2.977562</td>\n",
              "      <td>2.248234</td>\n",
              "      <td>01:39</td>\n",
              "    </tr>\n",
              "    <tr>\n",
              "      <td>3</td>\n",
              "      <td>2.687737</td>\n",
              "      <td>2.838647</td>\n",
              "      <td>01:37</td>\n",
              "    </tr>\n",
              "    <tr>\n",
              "      <td>4</td>\n",
              "      <td>2.472650</td>\n",
              "      <td>2.793158</td>\n",
              "      <td>01:38</td>\n",
              "    </tr>\n",
              "    <tr>\n",
              "      <td>5</td>\n",
              "      <td>2.319677</td>\n",
              "      <td>2.391312</td>\n",
              "      <td>01:38</td>\n",
              "    </tr>\n",
              "    <tr>\n",
              "      <td>6</td>\n",
              "      <td>2.149541</td>\n",
              "      <td>1.903899</td>\n",
              "      <td>01:40</td>\n",
              "    </tr>\n",
              "    <tr>\n",
              "      <td>7</td>\n",
              "      <td>2.044715</td>\n",
              "      <td>1.705064</td>\n",
              "      <td>01:40</td>\n",
              "    </tr>\n",
              "    <tr>\n",
              "      <td>8</td>\n",
              "      <td>1.962769</td>\n",
              "      <td>1.647363</td>\n",
              "      <td>01:39</td>\n",
              "    </tr>\n",
              "    <tr>\n",
              "      <td>9</td>\n",
              "      <td>1.885270</td>\n",
              "      <td>1.575182</td>\n",
              "      <td>01:38</td>\n",
              "    </tr>\n",
              "  </tbody>\n",
              "</table>"
            ]
          },
          "metadata": {}
        }
      ]
    },
    {
      "cell_type": "code",
      "source": [],
      "metadata": {
        "id": "c-_f2r20fnuY"
      },
      "execution_count": null,
      "outputs": []
    }
  ]
}
