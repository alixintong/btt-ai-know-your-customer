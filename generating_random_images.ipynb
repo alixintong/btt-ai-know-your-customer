{
  "nbformat": 4,
  "nbformat_minor": 0,
  "metadata": {
    "colab": {
      "provenance": [],
      "authorship_tag": "ABX9TyP8ozlTNxKOGkwCTXd8xhYL",
      "include_colab_link": true
    },
    "kernelspec": {
      "name": "python3",
      "display_name": "Python 3"
    },
    "language_info": {
      "name": "python"
    }
  },
  "cells": [
    {
      "cell_type": "markdown",
      "metadata": {
        "id": "view-in-github",
        "colab_type": "text"
      },
      "source": [
        "<a href=\"https://colab.research.google.com/github/alixintong/btt-ai-know-your-customer/blob/han/generating_random_images.ipynb\" target=\"_parent\"><img src=\"https://colab.research.google.com/assets/colab-badge.svg\" alt=\"Open In Colab\"/></a>"
      ]
    },
    {
      "cell_type": "code",
      "source": [
        "# this cell allows access to our folder\n",
        "\n",
        "from google.colab import drive\n",
        "drive.mount('/content/drive', force_remount=True)"
      ],
      "metadata": {
        "colab": {
          "base_uri": "https://localhost:8080/"
        },
        "id": "70ZYGUaun7Mx",
        "outputId": "0b59764c-854e-42d0-ec2b-90b7ad1b24f1"
      },
      "execution_count": 1,
      "outputs": [
        {
          "output_type": "stream",
          "name": "stdout",
          "text": [
            "Mounted at /content/drive\n"
          ]
        }
      ]
    },
    {
      "cell_type": "markdown",
      "source": [
        "Referencing this link: https://python.plainenglish.io/generating-text-on-image-with-python-eefe4430fe77"
      ],
      "metadata": {
        "id": "zvsUzC2FZK0U"
      }
    },
    {
      "cell_type": "code",
      "source": [
        "!pip install Pillow"
      ],
      "metadata": {
        "colab": {
          "base_uri": "https://localhost:8080/"
        },
        "id": "1uknHxD-wnTh",
        "outputId": "5e47d0cb-fbff-4b01-90a6-bf8d3223981f"
      },
      "execution_count": 6,
      "outputs": [
        {
          "output_type": "stream",
          "name": "stdout",
          "text": [
            "Looking in indexes: https://pypi.org/simple, https://us-python.pkg.dev/colab-wheels/public/simple/\n",
            "Requirement already satisfied: Pillow in /usr/local/lib/python3.7/dist-packages (7.1.2)\n"
          ]
        }
      ]
    },
    {
      "cell_type": "code",
      "execution_count": 13,
      "metadata": {
        "id": "y7EwSJ8ZZF0x"
      },
      "outputs": [],
      "source": [
        "from PIL import Image, ImageFont, ImageDraw\n",
        "\n",
        "width = 512\n",
        "height = 512\n",
        "number = 1\n",
        "num_of_img = 10\n",
        "\n",
        "\n",
        "message = \"Hello boss!\"\n",
        "\n",
        "img = Image.new('RGB', (width, height), color='blue')\n",
        "\n",
        "imgDraw = ImageDraw.Draw(img)\n",
        "\n",
        "textWidth, textHeight = imgDraw.textsize(message)\n",
        "xText = (width - textWidth) / 2\n",
        "yText = (height - textHeight) / 2\n",
        "\n",
        "imgDraw.text((xText, yText), message, fill=(255, 255, 0))\n",
        "\n",
        "img.save(('/content/drive/MyDrive/BTTAI_AmericanExpress1/datasets/generatedDataset/generatedImages/result_%s.jpg')%(number))\n"
      ]
    }
  ]
}