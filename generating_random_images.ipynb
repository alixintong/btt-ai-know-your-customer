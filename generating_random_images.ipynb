{
  "nbformat": 4,
  "nbformat_minor": 0,
  "metadata": {
    "colab": {
      "provenance": [],
      "authorship_tag": "ABX9TyNG5JeLLDLqSK2By84y+KbL",
      "include_colab_link": true
    },
    "kernelspec": {
      "name": "python3",
      "display_name": "Python 3"
    },
    "language_info": {
      "name": "python"
    },
    "accelerator": "GPU",
    "gpuClass": "standard"
  },
  "cells": [
    {
      "cell_type": "markdown",
      "metadata": {
        "id": "view-in-github",
        "colab_type": "text"
      },
      "source": [
        "<a href=\"https://colab.research.google.com/github/alixintong/btt-ai-know-your-customer/blob/han/generating_random_images.ipynb\" target=\"_parent\"><img src=\"https://colab.research.google.com/assets/colab-badge.svg\" alt=\"Open In Colab\"/></a>"
      ]
    },
    {
      "cell_type": "code",
      "source": [
        "# this cell allows access to our folder\n",
        "\n",
        "from google.colab import drive\n",
        "drive.mount('/content/drive', force_remount=True)"
      ],
      "metadata": {
        "colab": {
          "base_uri": "https://localhost:8080/"
        },
        "id": "70ZYGUaun7Mx",
        "outputId": "df4565ec-0219-46ab-a00e-851f770fe5a8"
      },
      "execution_count": 2,
      "outputs": [
        {
          "output_type": "stream",
          "name": "stdout",
          "text": [
            "Mounted at /content/drive\n"
          ]
        }
      ]
    },
    {
      "cell_type": "markdown",
      "source": [
        "Referencing this link: https://python.plainenglish.io/generating-text-on-image-with-python-eefe4430fe77"
      ],
      "metadata": {
        "id": "zvsUzC2FZK0U"
      }
    },
    {
      "cell_type": "code",
      "source": [
        "!pip install Pillow"
      ],
      "metadata": {
        "colab": {
          "base_uri": "https://localhost:8080/"
        },
        "id": "1uknHxD-wnTh",
        "outputId": "4c02b1cf-c707-44ff-d785-101e669ac09c"
      },
      "execution_count": 3,
      "outputs": [
        {
          "output_type": "stream",
          "name": "stdout",
          "text": [
            "Looking in indexes: https://pypi.org/simple, https://us-python.pkg.dev/colab-wheels/public/simple/\n",
            "Requirement already satisfied: Pillow in /usr/local/lib/python3.7/dist-packages (7.1.2)\n"
          ]
        }
      ]
    },
    {
      "cell_type": "code",
      "execution_count": 14,
      "metadata": {
        "id": "y7EwSJ8ZZF0x",
        "outputId": "a6abe176-921f-470f-85f8-892152941e53",
        "colab": {
          "base_uri": "https://localhost:8080/",
          "height": 529
        }
      },
      "outputs": [
        {
          "output_type": "execute_result",
          "data": {
            "text/plain": [
              "<PIL.Image.Image image mode=RGB size=512x512 at 0x7F6A4839BA10>"
            ],
            "image/png": "[encoded data removed]"
          },
          "metadata": {},
          "execution_count": 14
        }
      ],
      "source": [
        "from PIL import Image, ImageFont, ImageDraw\n",
        "\n",
        "width = 512\n",
        "height = 512\n",
        "number = 1\n",
        "num_of_img = 10\n",
        "\n",
        "message = \"Hello boss!\"\n",
        "\n",
        "img = Image.new('RGB', (width, height), color='blue')\n",
        "\n",
        "imgDraw = ImageDraw.Draw(img)\n",
        "\n",
        "draw = ImageDraw.Draw(img)\n",
        "draw.rectangle(((100,100), (400, 400)), fill=\"green\")\n",
        "\n",
        "textWidth, textHeight = imgDraw.textsize(message)\n",
        "xText = (width - textWidth) / 2\n",
        "yText = (height - textHeight) / 2\n",
        "\n",
        "imgDraw.text((xText, yText), message, fill=(255, 255, 0))\n",
        "\n",
        "img\n",
        "# img.save(('/content/drive/MyDrive/BTTAI_AmericanExpress1/datasets/generatedDataset/generatedImages/result_%s.jpg')%(number))\n"
      ]
    },
    {
      "cell_type": "code",
      "source": [
        "import math\n",
        "from PIL import Image, ImageDraw\n",
        "\n",
        "#finds the straight-line distance between two points\n",
        "def distance(ax, ay, bx, by):\n",
        "    return math.sqrt((by - ay)**2 + (bx - ax)**2)\n",
        "\n",
        "#rotates point `A` about point `B` by `angle` radians clockwise.\n",
        "def rotated_about(ax, ay, bx, by, angle):\n",
        "    radius = distance(ax,ay,bx,by)\n",
        "    angle += math.atan2(ay-by, ax-bx)\n",
        "    return (\n",
        "        round(bx + radius * math.cos(angle)),\n",
        "        round(by + radius * math.sin(angle))\n",
        "    )\n",
        "\n",
        "image = Image.new('RGB', (500, 500), color=\"blue\")\n",
        "draw = ImageDraw.Draw(image)\n",
        "\n",
        "square_center = (250,250)\n",
        "square_length = 200\n",
        "\n",
        "square_vertices = (\n",
        "    (square_center[0] + square_length / 2, square_center[1] + square_length / 2),\n",
        "    (square_center[0] + square_length / 2, square_center[1] - square_length / 2),\n",
        "    (square_center[0] - square_length / 2, square_center[1] - square_length / 2),\n",
        "    (square_center[0] - square_length / 2, square_center[1] + square_length / 2)\n",
        ")\n",
        "\n",
        "square_vertices = [rotated_about(x,y, square_center[0], square_center[1], math.radians(45)) for x,y in square_vertices]\n",
        "\n",
        "# font = ImageFont.load_default()\n",
        "# draw.text((120,120), \"Name: Chris Genrich\", (0,0,0),font=font)\n",
        "# draw.text((260,120), \"Date: 11/17/2022\", (0,0,0),font=font)\n",
        "\n",
        "draw.polygon(square_vertices, fill=255)\n",
        "\n",
        "\n",
        "\n",
        "\n",
        "image"
      ],
      "metadata": {
        "id": "3vZA1nV2oFPH",
        "outputId": "5fc1f00a-dc15-4d7e-bd57-b210c8db17b3",
        "colab": {
          "base_uri": "https://localhost:8080/",
          "height": 517
        }
      },
      "execution_count": 27,
      "outputs": [
        {
          "output_type": "execute_result",
          "data": {
            "text/plain": [
              "<PIL.Image.Image image mode=RGB size=500x500 at 0x7F6A3F2B48D0>"
            ],
            "image/png": "[encoded data removed]"
          },
          "metadata": {},
          "execution_count": 27
        }
      ]
    },
    {
      "cell_type": "code",
      "source": [],
      "metadata": {
        "id": "RgxThmrwpzrz"
      },
      "execution_count": 23,
      "outputs": []
    }
  ]
}