{
  "nbformat": 4,
  "nbformat_minor": 0,
  "metadata": {
    "colab": {
      "provenance": [],
      "collapsed_sections": [],
      "include_colab_link": true
    },
    "kernelspec": {
      "name": "python3",
      "display_name": "Python 3"
    },
    "language_info": {
      "name": "python"
    },
    "accelerator": "GPU",
    "gpuClass": "standard"
  },
  "cells": [
    {
      "cell_type": "markdown",
      "metadata": {
        "id": "view-in-github",
        "colab_type": "text"
      },
      "source": [
        "<a href=\"https://colab.research.google.com/github/alixintong/btt-ai-know-your-customer/blob/jess/know_your_customer.ipynb\" target=\"_parent\"><img src=\"https://colab.research.google.com/assets/colab-badge.svg\" alt=\"Open In Colab\"/></a>"
      ]
    },
    {
      "cell_type": "code",
      "execution_count": 4,
      "metadata": {
        "colab": {
          "base_uri": "https://localhost:8080/"
        },
        "id": "TE_xYiXJsG8e",
        "outputId": "7aea6995-3d4c-405b-faea-5c96939b80bb"
      },
      "outputs": [
        {
          "output_type": "stream",
          "name": "stdout",
          "text": [
            "Mounted at /content/drive\n"
          ]
        }
      ],
      "source": [
        "# this cell allows access to our folder\n",
        "\n",
        "from google.colab import drive\n",
        "drive.mount('/content/drive', force_remount=True)"
      ]
    },
    {
      "cell_type": "code",
      "source": [
        "# cell for imports - add as needed\n",
        "import torch \n",
        "import cv2\n",
        "import numpy as np \n",
        "import pandas as pd\n",
        "import os, os.path\n",
        "# from fastai.vision.all import *"
      ],
      "metadata": {
        "id": "G39BpcoW6_ql"
      },
      "execution_count": 5,
      "outputs": []
    },
    {
      "cell_type": "markdown",
      "source": [
        "### Extract frames from the 3 videos in Smart Doc 2015 challenge 1 smaple dataset."
      ],
      "metadata": {
        "id": "PgIb541AZngL"
      }
    },
    {
      "cell_type": "code",
      "source": [
        "# # first capture the frames as images\n",
        "# # refer to https://stackoverflow.com/questions/33311153/python-extracting-and-saving-video-frames\n",
        "\n",
        "# \"\"\"\n",
        "# sampleDataset\n",
        "# - frames\n",
        "#   - datasheet001_frames\n",
        "#   - letter001_frames\n",
        "#   - magazine001_frames\n",
        "\n",
        "# \"\"\"\n",
        "\n",
        "# # set-up: create folders\n",
        "# directory = 'frames'\n",
        "# path = os.path.join(root_path, 'datasets/sampleDataset') \n",
        "# #print(os.getcwd())\n",
        "# os.chdir(path)\n",
        "# os.mkdir(directory)\n",
        "# path = os.path.join(path, directory) # go into the frames folder\n",
        "# path1 = os.path.join(path, 'datasheet001_frames')\n",
        "# os.mkdir(path1)\n",
        "# path2 = os.path.join(path, 'letter001_frames')\n",
        "# os.mkdir(path2)\n",
        "# path3 = os.path.join(path, 'magazine001_frames')\n",
        "# os.mkdir(path3)\n",
        "\n",
        "# # create path to get videos and path to put output\n",
        "# vid_path = root_path + '/datasets/sampleDataset/input_sample/background00'\n",
        "# frame_path = path"
      ],
      "metadata": {
        "id": "JSDd3HwwyggO"
      },
      "execution_count": null,
      "outputs": []
    },
    {
      "cell_type": "code",
      "source": [
        "\"\"\"\n",
        "# create frames for datasheet001_frames first\n",
        "#directory1 = os.path.join(root_path, 'datasets', 'sampleDataset', 'input_sample', 'background00')\n",
        "os.chdir('/content/drive/MyDrive/AI_studio_Fall22/BTTAI_AmericanExpress1/datasets/sampleDataset/input_sample/background00')\n",
        "print(os.getcwd())\n",
        "vidcap = cv2.VideoCapture('datasheet001.avi')\n",
        "success,image = vidcap.read()\n",
        "\n",
        "# change the directory to 'datasheet001_frames' folder\n",
        "#os.chdir(root_path)\n",
        "#directory2 = os.path.join(root_path, 'datasets', 'sampleDataset', 'frames', 'datasheet001_frames')\n",
        "os.chdir('/content/drive/MyDrive/AI_studio_Fall22/BTTAI_AmericanExpress1/datasets/sampleDataset/frames/datasheet001_frames')\n",
        "print(os.getcwd())\n",
        "\n",
        "# create frames\n",
        "count = 1\n",
        "while success:\n",
        " cv2.imwrite('datasheet001_frames_' + '{:05d}'.format(count) + '.jpg', image)     # save frame as JPEG file      \n",
        " success,image = vidcap.read()\n",
        " print('Read a new frame: ', success)\n",
        " count += 1\n",
        "\"\"\""
      ],
      "metadata": {
        "id": "-UvmhpDRjH9H",
        "colab": {
          "base_uri": "https://localhost:8080/",
          "height": 160
        },
        "outputId": "71b58037-2eaa-488a-c0eb-5539e2a5aea1"
      },
      "execution_count": null,
      "outputs": [
        {
          "output_type": "execute_result",
          "data": {
            "text/plain": [
              "\"\\n# create frames for datasheet001_frames first\\n#directory1 = os.path.join(root_path, 'datasets', 'sampleDataset', 'input_sample', 'background00')\\nos.chdir('/content/drive/MyDrive/AI_studio_Fall22/BTTAI_AmericanExpress1/datasets/sampleDataset/input_sample/background00')\\nprint(os.getcwd())\\nvidcap = cv2.VideoCapture('datasheet001.avi')\\nsuccess,image = vidcap.read()\\n\\n# change the directory to 'datasheet001_frames' folder\\n#os.chdir(root_path)\\n#directory2 = os.path.join(root_path, 'datasets', 'sampleDataset', 'frames', 'datasheet001_frames')\\nos.chdir('/content/drive/MyDrive/AI_studio_Fall22/BTTAI_AmericanExpress1/datasets/sampleDataset/frames/datasheet001_frames')\\nprint(os.getcwd())\\n\\n# create frames\\ncount = 1\\nwhile success:\\n cv2.imwrite('datasheet001_frames_' + '{:05d}'.format(count) + '.jpg', image)     # save frame as JPEG file      \\n success,image = vidcap.read()\\n print('Read a new frame: ', success)\\n count += 1\\n\""
            ],
            "application/vnd.google.colaboratory.intrinsic+json": {
              "type": "string"
            }
          },
          "metadata": {},
          "execution_count": 4
        }
      ]
    },
    {
      "cell_type": "code",
      "source": [
        "\"\"\"\n",
        "# create frames for letter001_frames\n",
        "os.chdir('/content/drive/MyDrive/AI_studio_Fall22/BTTAI_AmericanExpress1/datasets/sampleDataset/input_sample/background00')\n",
        "print(os.getcwd())\n",
        "vidcap = cv2.VideoCapture('letter001.avi')\n",
        "success,image = vidcap.read()\n",
        "\n",
        "# change the directory to 'letter001_frames' folder\n",
        "os.chdir('/content/drive/MyDrive/AI_studio_Fall22/BTTAI_AmericanExpress1/datasets/sampleDataset/frames/letter001_frames')\n",
        "print(os.getcwd())\n",
        "\n",
        "# create frames\n",
        "count = 1\n",
        "while success:\n",
        " cv2.imwrite('letter001_frames_' + '{:05d}'.format(count) + '.jpg', image)     # save frame as JPEG file      \n",
        " success,image = vidcap.read()\n",
        " print('Read a new frame: ', success)\n",
        " count += 1\n",
        "\"\"\""
      ],
      "metadata": {
        "colab": {
          "base_uri": "https://localhost:8080/",
          "height": 125
        },
        "id": "ZCSQceZyyY1S",
        "outputId": "a48e7aad-2688-4019-beb6-ead1af334870"
      },
      "execution_count": null,
      "outputs": [
        {
          "output_type": "execute_result",
          "data": {
            "text/plain": [
              "\"\\n# create frames for letter001_frames\\nos.chdir('/content/drive/MyDrive/AI_studio_Fall22/BTTAI_AmericanExpress1/datasets/sampleDataset/input_sample/background00')\\nprint(os.getcwd())\\nvidcap = cv2.VideoCapture('letter001.avi')\\nsuccess,image = vidcap.read()\\n\\n# change the directory to 'letter001_frames' folder\\nos.chdir('/content/drive/MyDrive/AI_studio_Fall22/BTTAI_AmericanExpress1/datasets/sampleDataset/frames/letter001_frames')\\nprint(os.getcwd())\\n\\n# create frames\\ncount = 1\\nwhile success:\\n cv2.imwrite('letter001_frames_' + '{:05d}'.format(count) + '.jpg', image)     # save frame as JPEG file      \\n success,image = vidcap.read()\\n print('Read a new frame: ', success)\\n count += 1\\n\""
            ],
            "application/vnd.google.colaboratory.intrinsic+json": {
              "type": "string"
            }
          },
          "metadata": {},
          "execution_count": 5
        }
      ]
    },
    {
      "cell_type": "code",
      "source": [
        "\"\"\"\n",
        "# create frames for magazine001_frames\n",
        "os.chdir('/content/drive/MyDrive/BTTAI_AmericanExpress1/datasets/sampleDataset/input_sample/background00')\n",
        "print(os.getcwd())\n",
        "vidcap = cv2.VideoCapture('magazine001.avi')\n",
        "success,image = vidcap.read()\n",
        "# change the directory to 'magazine001_frames' folder\n",
        "os.chdir('/content/drive/MyDrive/BTTAI_AmericanExpress1/datasets/sampleDataset/frames/magazine001_frames')\n",
        "print(os.getcwd())\n",
        "\n",
        "# create frames\n",
        "count = 1\n",
        "success = True\n",
        "while success:\n",
        "  cv2.imwrite('magazine001_frames_' + '{:05d}'.format(count) + '.jpg', image)     # save frame as JPEG file      \n",
        "  success,image = vidcap.read()\n",
        "  print('Read a new frame: ', success)\n",
        "  count += 1\n",
        "\"\"\""
      ],
      "metadata": {
        "colab": {
          "base_uri": "https://localhost:8080/",
          "height": 125
        },
        "id": "G0A82ZpAyhCT",
        "outputId": "74381f81-4f63-41a3-c536-db83ee1ec4fb"
      },
      "execution_count": null,
      "outputs": [
        {
          "output_type": "execute_result",
          "data": {
            "text/plain": [
              "\"\\n# create frames for magazine001_frames\\nos.chdir('/content/drive/MyDrive/BTTAI_AmericanExpress1/datasets/sampleDataset/input_sample/background00')\\nprint(os.getcwd())\\nvidcap = cv2.VideoCapture('magazine001.avi')\\nsuccess,image = vidcap.read()\\n# change the directory to 'magazine001_frames' folder\\nos.chdir('/content/drive/MyDrive/BTTAI_AmericanExpress1/datasets/sampleDataset/frames/magazine001_frames')\\nprint(os.getcwd())\\n\\n# create frames\\ncount = 1\\nsuccess = True\\nwhile success:\\n  cv2.imwrite('magazine001_frames_' + '{:05d}'.format(count) + '.jpg', image)     # save frame as JPEG file      \\n  success,image = vidcap.read()\\n  print('Read a new frame: ', success)\\n  count += 1\\n\""
            ],
            "application/vnd.google.colaboratory.intrinsic+json": {
              "type": "string"
            }
          },
          "metadata": {},
          "execution_count": 6
        }
      ]
    },
    {
      "cell_type": "code",
      "source": [
        "# reference tutorial for classification: https://docs.fast.ai/23_tutorial.vision.html"
      ],
      "metadata": {
        "id": "DpYwHlCMS42S"
      },
      "execution_count": null,
      "outputs": []
    },
    {
      "cell_type": "markdown",
      "source": [
        "### EDA"
      ],
      "metadata": {
        "id": "EC0PX3McSR8h"
      }
    },
    {
      "cell_type": "markdown",
      "source": [
        "#### Git commands"
      ],
      "metadata": {
        "id": "wxOev33iTLKL"
      }
    },
    {
      "cell_type": "code",
      "source": [
        "%cd /content/drive/MyDrive/AI_studio_Fall22/btt-ai-know-your-customer/"
      ],
      "metadata": {
        "colab": {
          "base_uri": "https://localhost:8080/"
        },
        "id": "4sNoY5WPSreZ",
        "outputId": "1fa26094-0f93-47d8-ed45-58f70b24811f"
      },
      "execution_count": 6,
      "outputs": [
        {
          "output_type": "stream",
          "name": "stdout",
          "text": [
            "/content/drive/MyDrive/AI_studio_Fall22/btt-ai-know-your-customer\n"
          ]
        }
      ]
    },
    {
      "cell_type": "code",
      "source": [
        "%ls -a"
      ],
      "metadata": {
        "colab": {
          "base_uri": "https://localhost:8080/"
        },
        "id": "15ajizM2S1RD",
        "outputId": "49fc5436-ceec-418f-a4f9-9243d77d48e2"
      },
      "execution_count": 7,
      "outputs": [
        {
          "output_type": "stream",
          "name": "stdout",
          "text": [
            "\u001b[0m\u001b[01;34m.git\u001b[0m/  know_your_customer.ipynb  README.md\n"
          ]
        }
      ]
    },
    {
      "cell_type": "code",
      "source": [
        "!git status"
      ],
      "metadata": {
        "colab": {
          "base_uri": "https://localhost:8080/"
        },
        "id": "19KXckuOTDDG",
        "outputId": "416e9860-ebb1-4a9b-98d1-409f7c01043a"
      },
      "execution_count": 8,
      "outputs": [
        {
          "output_type": "stream",
          "name": "stdout",
          "text": [
            "On branch main\n",
            "Your branch is up to date with 'origin/main'.\n",
            "\n",
            "Changes not staged for commit:\n",
            "  (use \"git add <file>...\" to update what will be committed)\n",
            "  (use \"git checkout -- <file>...\" to discard changes in working directory)\n",
            "\n",
            "\t\u001b[31mmodified:   know_your_customer.ipynb\u001b[m\n",
            "\n",
            "no changes added to commit (use \"git add\" and/or \"git commit -a\")\n"
          ]
        }
      ]
    },
    {
      "cell_type": "code",
      "source": [],
      "metadata": {
        "id": "avzxpqFnZyk8"
      },
      "execution_count": null,
      "outputs": []
    }
  ]
}