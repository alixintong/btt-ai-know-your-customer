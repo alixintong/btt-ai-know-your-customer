{
  "cells": [
    {
      "cell_type": "markdown",
      "metadata": {
        "id": "view-in-github",
        "colab_type": "text"
      },
      "source": [
        "<a href=\"https://colab.research.google.com/github/alixintong/btt-ai-know-your-customer/blob/bless/Generating_Document_Images_(Medium).ipynb\" target=\"_parent\"><img src=\"https://colab.research.google.com/assets/colab-badge.svg\" alt=\"Open In Colab\"/></a>"
      ]
    },
    {
      "cell_type": "code",
      "execution_count": 1,
      "metadata": {
        "colab": {
          "base_uri": "https://localhost:8080/"
        },
        "id": "TE_xYiXJsG8e",
        "outputId": "e9e03e44-46b2-4e7f-d9db-00f0e144f567"
      },
      "outputs": [
        {
          "output_type": "stream",
          "name": "stdout",
          "text": [
            "Mounted at /content/drive\n"
          ]
        }
      ],
      "source": [
        "# this cell allows access to our folder\n",
        "\n",
        "from google.colab import drive\n",
        "drive.mount('/content/drive', force_remount=True)\n",
        "root_path = '/content/gdrive/MyDrive/BTTAI_AmericanExpress1'"
      ]
    },
    {
      "cell_type": "code",
      "execution_count": 2,
      "metadata": {
        "id": "G39BpcoW6_ql"
      },
      "outputs": [],
      "source": [
        "# cell for imports - add as needed\n",
        "import torch \n",
        "import cv2\n",
        "import numpy as np \n",
        "import pandas as pd\n",
        "import os, os.path\n",
        "import re\n",
        "from fastai.vision.all import *"
      ]
    },
    {
      "cell_type": "code",
      "execution_count": null,
      "metadata": {
        "id": "DpYwHlCMS42S"
      },
      "outputs": [],
      "source": [
        "# reference tutorial for classification: https://docs.fast.ai/23_tutorial.vision.html"
      ]
    },
    {
      "cell_type": "markdown",
      "source": [
        "# Generating Document Images"
      ],
      "metadata": {
        "id": "TbddJ5uoZWJq"
      }
    },
    {
      "cell_type": "code",
      "source": [
        "# importing the module\n",
        "import csv\n",
        "\n",
        "# open the file in read mode\n",
        "filename = open('/content/drive/MyDrive/BTTAI_AmericanExpress1/datasets/generatedDataset/randomNames.csv', 'r')\n",
        "\n",
        "# creating dictreader object\n",
        "file = csv.DictReader(filename) \n",
        "\n",
        "# creating empty lists\n",
        "FirstName = []\n",
        "LastName = []\n",
        "Gender = []\n",
        "Age = []\n",
        "Phone_No = []\n",
        "\n",
        "# iterating over each row and append\n",
        "# values to empty list\n",
        "for col in file:\n",
        "  #name of empty list . append  with column name in csv\n",
        "  FirstName.append(col['FirstName']) \n",
        "  LastName.append(col['LastName'])\n",
        "  Gender.append(col['Gender'])\n",
        "  Age.append(col['Age'])\n",
        "  Phone_No.append(col['Phone'])\n",
        "\n",
        "# printing lists\n",
        "print('FirstName:', FirstName)\n",
        "print('LastName:', LastName)\n",
        "print('Gender:', Gender)\n",
        "print('Age:', Age)\n",
        "print('Phone_No:', Phone_No)\n",
        "print(FirstName[2] + ' ' + LastName[2])\n"
      ],
      "metadata": {
        "colab": {
          "base_uri": "https://localhost:8080/"
        },
        "id": "iLLrErQk-Ner",
        "outputId": "79ebed84-445f-4e7d-ed14-4677c07c60d1"
      },
      "execution_count": 3,
      "outputs": [
        {
          "output_type": "stream",
          "name": "stdout",
          "text": [
            "FirstName: ['Ada', 'Aida', 'Sam', 'Alan', 'William', 'Michael', 'Elian', 'Walter', 'Evelyn', 'Jared', 'Tess', 'Kevin', 'Grace', 'Byron', 'Dale', 'Kelsey', 'Violet', 'Aiden', 'Richard', 'Lily', 'Ted', 'Eddy', 'Kellan', 'Kirsten', 'Annabella', 'Sophia', 'Abraham', 'Brianna', 'Lucia', 'Agata', 'Vivian', 'Andrew', 'Madaline', 'Max', 'Arnold', 'Jessica', 'Sydney', 'Joyce', 'Tyler', 'Wilson', 'Vincent', 'Anna', 'Amelia', 'Penelope', 'Samantha', 'Melissa', 'Gianna', 'Violet', 'Abraham', 'Samantha', 'Dale', 'Chester', 'Kate', 'Victoria', 'Aston', 'Preston', 'Roland', 'Lyndon', 'Camila', 'Ryan', 'Madaline', 'David', 'Alberta', 'Ned', 'Mary', 'Amber', 'Olivia', 'Adison', 'Patrick', 'Roman', 'Hailey', 'Penelope', 'Jenna', 'Victoria', 'Brianna', 'Roland', 'Reid', 'Miley', 'Daniel', 'Olivia', 'Henry', 'Fiona', 'Patrick', 'Dexter', 'Elise', 'Lucia', 'Miranda', 'John', 'Julia', 'Lyndon', 'Dainton', 'Amy', 'Lyndon', 'George', 'Rafael', 'Sienna', 'Arthur', 'Melissa', 'Eleanor', 'Alan']\n",
            "LastName: ['Alexander', 'Parker', 'Howard', 'Harrison', 'Ryan', 'Montgomery', 'Evans', 'Warren', 'Craig', 'Barnes', 'Parker', 'Stewart', 'Anderson', 'Stewart', 'Holmes', 'Carter', 'Dixon', 'Turner', 'Carroll', 'Morrison', 'Tucker', 'Perry', 'Parker', 'Edwards', 'Phillips', 'Chapman', 'Thompson', 'Barrett', 'Thomas', 'Ellis', 'Casey', 'Richardson', 'Foster', 'Montgomery', 'Henderson', 'Ferguson', 'Hall', 'Williams', 'Baker', 'Edwards', 'Harper', 'Lloyd', 'Spencer', 'Sullivan', 'Baker', 'Brown', 'Tucker', 'Cooper', 'Kelley', 'Mason', 'Owens', 'Myers', 'Tucker', 'Jones', 'Hall', 'Dixon', 'West', 'Russell', 'Cole', 'Warren', 'Scott', 'Mitchell', 'Cameron', 'West', 'Farrell', 'Russell', 'Payne', 'Ross', 'Andrews', 'Gray', 'Andrews', 'Cunningham', 'Smith', 'Elliott', 'Lloyd', 'Armstrong', 'Armstrong', 'Payne', 'Kelley', 'Higgins', 'Smith', 'Robinson', 'Adams', 'Perkins', 'Mitchell', 'Farrell', 'Holmes', 'Davis', 'Harrison', 'Lloyd', 'Payne', 'Rogers', 'Perkins', 'Mason', 'Baker', 'Perry', 'Hamilton', 'Foster', 'Brooks', 'Farrell']\n",
            "Gender: ['Female', 'Female', 'Male', 'Male', 'Male', 'Male', 'Male', 'Male', 'Female', 'Male', 'Female', 'Male', 'Female', 'Male', 'Male', 'Female', 'Female', 'Male', 'Male', 'Female', 'Male', 'Male', 'Male', 'Female', 'Female', 'Female', 'Male', 'Female', 'Female', 'Female', 'Female', 'Male', 'Female', 'Male', 'Male', 'Female', 'Female', 'Female', 'Male', 'Male', 'Male', 'Female', 'Female', 'Female', 'Female', 'Female', 'Female', 'Female', 'Male', 'Female', 'Male', 'Male', 'Female', 'Female', 'Male', 'Male', 'Male', 'Male', 'Female', 'Male', 'Female', 'Male', 'Female', 'Male', 'Female', 'Female', 'Female', 'Male', 'Male', 'Male', 'Female', 'Female', 'Female', 'Female', 'Female', 'Male', 'Male', 'Female', 'Male', 'Female', 'Male', 'Female', 'Male', 'Male', 'Female', 'Female', 'Female', 'Male', 'Female', 'Male', 'Male', 'Female', 'Male', 'Male', 'Male', 'Female', 'Male', 'Female', 'Female', 'Male']\n",
            "Age: ['26', '27', '21', '21', '25', '28', '28', '27', '21', '27', '19', '27', '18', '21', '24', '27', '22', '22', '26', '29', '21', '22', '27', '27', '25', '23', '22', '19', '26', '18', '22', '23', '25', '25', '27', '24', '25', '29', '22', '29', '26', '18', '26', '21', '22', '25', '22', '23', '25', '19', '21', '24', '18', '20', '30', '18', '27', '21', '18', '24', '29', '28', '29', '19', '29', '21', '24', '20', '27', '25', '21', '20', '24', '28', '19', '24', '20', '27', '23', '30', '28', '24', '29', '27', '26', '23', '30', '29', '22', '21', '30', '18', '25', '30', '20', '23', '21', '18', '27', '24']\n",
            "Phone_No: ['661-2586-48', '925-6698-68', '013-1698-49', '869-9013-41', '121-3399-50', '977-4751-30', '903-1443-48', '417-5743-06', '762-5810-86', '020-1309-45', '270-5307-37', '412-8800-45', '459-3432-97', '748-9393-49', '281-1361-20', '393-6996-92', '950-8466-81', '513-5651-18', '188-6513-52', '493-2686-93', '065-7687-60', '621-7375-85', '381-6092-29', '230-1412-36', '004-5365-57', '239-4974-68', '694-5981-91', '360-8407-10', '622-9543-14', '790-5255-22', '728-7453-34', '397-6122-84', '018-7935-87', '554-8003-46', '651-6414-76', '588-9979-24', '133-7223-96', '715-5378-33', '789-4629-28', '587-0236-23', '162-4953-07', '307-3747-81', '207-6254-31', '396-4481-19', '503-4364-64', '592-3271-07', '603-2109-37', '417-3882-32', '177-1139-85', '357-7871-77', '775-4426-70', '658-8289-05', '731-1893-61', '084-1065-35', '392-4475-04', '091-9866-35', '645-0604-30', '648-6451-81', '223-2106-86', '035-5056-39', '848-3379-51', '903-1597-37', '364-0985-30', '408-0354-62', '940-8311-68', '762-2900-99', '142-4049-82', '994-9324-00', '093-6395-45', '911-9048-48', '308-6277-02', '453-1839-26', '702-6808-90', '088-3700-64', '546-0790-39', '209-6295-99', '173-8112-26', '317-8109-76', '355-1392-84', '740-3900-85', '114-3353-53', '704-1560-07', '946-4438-93', '914-9120-73', '621-5955-94', '110-6538-52', '454-7730-30', '077-2643-19', '901-2860-63', '271-3302-27', '450-7435-66', '904-1507-25', '435-9567-46', '355-7116-93', '095-0347-59', '072-0674-05', '760-7067-52', '296-0841-81', '351-6318-37', '449-4381-72']\n",
            "Sam Howard\n"
          ]
        }
      ]
    },
    {
      "cell_type": "code",
      "source": [
        "from PIL import Image, ImageDraw, ImageFont\n",
        "import random\n",
        "\n",
        "index = 0\n",
        "width = 210\n",
        "height = 297\n",
        "\n",
        "\n",
        "#white background images\n",
        "while index <=50:\n",
        "  font = ImageFont.truetype(\"Humor-Sans.ttf\", random.randint(8, 17))\n",
        "  img_index = (\"%01d\" % index)\n",
        "  message1 = FirstName[index] + ' ' + LastName[index]\n",
        "  message2 = Gender[index]\n",
        "  message3 = Phone_No[index]\n",
        "  message4 = Age[index]\n",
        "  img_gen = Image.new('RGB', (width, height), color='white')\n",
        "\n",
        "  #add text, font style, font color\n",
        "  imgDraw = ImageDraw.Draw(img_gen)\n",
        "  imgDraw.text((100, 100), message2, font=font,fill=(random.randint(0, 255), random.randint(0, 255), random.randint(0, 255)))\n",
        "  imgDraw.text((10, 10), message1, font=font,fill=(random.randint(0, 255), random.randint(0, 255), random.randint(0, 255)))\n",
        "  imgDraw.text((15, 150), message3, font=font,fill=(random.randint(0, 255), random.randint(0, 255), random.randint(0, 255)))\n",
        "  imgDraw.text((10, 200), message4, font=font,fill=(random.randint(0, 255), random.randint(0, 255), random.randint(0, 255)))\n",
        "  \n",
        "   #save image to google drive\n",
        "  img_gen.save(('/content/drive/MyDrive/BTTAI_AmericanExpress1/datasets/generatedDataset/generatedImages/result_medium_white%s.jpg')% (img_index))\n",
        "  index +=1\n",
        "\n"
      ],
      "metadata": {
        "id": "PnS3Bqj1C5uH"
      },
      "execution_count": 8,
      "outputs": []
    },
    {
      "cell_type": "code",
      "source": [
        "index = 51\n",
        "width = 210\n",
        "height = 297\n",
        "\n",
        "\n",
        "#grey background images\n",
        "while index <=99:\n",
        "  font = ImageFont.truetype(\"Humor-Sans.ttf\", random.randint(8, 17))\n",
        "  img_index = (\"%01d\" % index)\n",
        "  message1 = FirstName[index] + ' ' + LastName[index]\n",
        "  message2 = Gender[index]\n",
        "  message3 = Phone_No[index]\n",
        "  message4 = Age[index]\n",
        "  img_gen = Image.new('RGB', (width, height), color='grey') #generate the background color and dimension\n",
        "\n",
        "  #add text, font style, font color\n",
        "  imgDraw = ImageDraw.Draw(img_gen)\n",
        "  imgDraw.text((100, 100), message2, font=font,fill=(random.randint(0, 255), random.randint(0, 255), random.randint(0, 255)))\n",
        "  imgDraw.text((10, 10), message1, font=font,fill=(random.randint(0, 255), random.randint(0, 255), random.randint(0, 255)))\n",
        "  imgDraw.text((15, 150), message3, font=font,fill=(random.randint(0, 255), random.randint(0, 255), random.randint(0, 255)))\n",
        "  imgDraw.text((10, 200), message4, font=font,fill=(random.randint(0, 255), random.randint(0, 255), random.randint(0, 255)))\n",
        "  \n",
        "  #save image to google drive\n",
        "  img_gen.save(('/content/drive/MyDrive/BTTAI_AmericanExpress1/datasets/generatedDataset/generatedImages/result_medium_grey%s.jpg')% (img_index))\n",
        "  index +=1"
      ],
      "metadata": {
        "id": "YiWpLH7yjZvG"
      },
      "execution_count": 7,
      "outputs": []
    }
  ],
  "metadata": {
    "accelerator": "GPU",
    "colab": {
      "collapsed_sections": [],
      "provenance": [],
      "include_colab_link": true
    },
    "gpuClass": "standard",
    "kernelspec": {
      "display_name": "Python 3",
      "name": "python3"
    },
    "language_info": {
      "name": "python"
    }
  },
  "nbformat": 4,
  "nbformat_minor": 0
}